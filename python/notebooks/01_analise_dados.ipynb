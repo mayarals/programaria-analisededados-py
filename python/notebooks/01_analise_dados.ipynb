{
  "cells": [
    {
      "cell_type": "markdown",
      "metadata": {
        "id": "v2K11CJvplxu"
      },
      "source": [
        "# Introdução"
      ]
    },
    {
      "cell_type": "markdown",
      "metadata": {
        "id": "fnhlU-pYqC_M"
      },
      "source": [
        "# Importações"
      ]
    },
    {
      "cell_type": "code",
      "execution_count": 4,
      "metadata": {
        "id": "fuqeYSkRqG_y"
      },
      "outputs": [],
      "source": [
        "# Importações:\n",
        "import pandas as pd\n",
        "import numpy as np\n",
        "import matplotlib.pyplot as plt\n",
        "from scipy.stats import chi2_contingency"
      ]
    },
    {
      "cell_type": "markdown",
      "metadata": {
        "id": "6gja91DnqVM5"
      },
      "source": [
        "# Uso da biblioteca Pandas"
      ]
    },
    {
      "cell_type": "code",
      "execution_count": 5,
      "metadata": {
        "id": "-PA9JnbWriYF"
      },
      "outputs": [],
      "source": [
        "# Lendo bases de dados\n",
        "dados = pd.read_excel('../data/raw/planilha_modulo3.xlsx')\n",
        "dados2 = pd.read_excel('../data/raw/Planilha_Aula_parte2.xlsx')"
      ]
    },
    {
      "cell_type": "code",
      "execution_count": 6,
      "metadata": {
        "colab": {
          "base_uri": "https://localhost:8080/",
          "height": 1000
        },
        "id": "Y3yz0U2er5KK",
        "outputId": "943316e1-cd1d-47dc-d1f1-3a94cbd2ed88"
      },
      "outputs": [
        {
          "data": {
            "text/html": [
              "<div>\n",
              "<style scoped>\n",
              "    .dataframe tbody tr th:only-of-type {\n",
              "        vertical-align: middle;\n",
              "    }\n",
              "\n",
              "    .dataframe tbody tr th {\n",
              "        vertical-align: top;\n",
              "    }\n",
              "\n",
              "    .dataframe thead th {\n",
              "        text-align: right;\n",
              "    }\n",
              "</style>\n",
              "<table border=\"1\" class=\"dataframe\">\n",
              "  <thead>\n",
              "    <tr style=\"text-align: right;\">\n",
              "      <th></th>\n",
              "      <th>Unnamed: 0</th>\n",
              "      <th>ID</th>\n",
              "      <th>IDADE</th>\n",
              "      <th>FAIXA IDADE</th>\n",
              "      <th>GENERO</th>\n",
              "      <th>COR/RACA/ETNIA</th>\n",
              "      <th>PCD</th>\n",
              "      <th>EXPERIENCIA_PROFISSIONAL_PREJUDICADA</th>\n",
              "      <th>ASPECTOS_PREJUDICADOS</th>\n",
              "      <th>VIVE_NO_BRASIL</th>\n",
              "      <th>...</th>\n",
              "      <th>SETOR</th>\n",
              "      <th>NUMERO DE FUNCIONARIOS</th>\n",
              "      <th>GESTOR?</th>\n",
              "      <th>CARGO COMO GESTOR</th>\n",
              "      <th>CARGO ATUAL</th>\n",
              "      <th>NIVEL</th>\n",
              "      <th>FAIXA SALARIAL</th>\n",
              "      <th>QUANTO TEMPO DE EXPERIÊNCIA NA ÁREA DE DADOS VOCÊ TEM?</th>\n",
              "      <th>QUANTO TEMPO DE EXPERIÊNCIA NA ÁREA DE TI/ENGENHARIA DE SOFTWARE VOCÊ TEVE ANTES DE COMEÇAR A TRABALHAR NA ÁREA DE DADOS?</th>\n",
              "      <th>SALARIO</th>\n",
              "    </tr>\n",
              "  </thead>\n",
              "  <tbody>\n",
              "    <tr>\n",
              "      <th>0</th>\n",
              "      <td>0</td>\n",
              "      <td>zzqzz3l9ily8nuo2m7wyzzqzz3w48o96</td>\n",
              "      <td>39.0</td>\n",
              "      <td>35-39</td>\n",
              "      <td>Masculino</td>\n",
              "      <td>Parda</td>\n",
              "      <td>Não</td>\n",
              "      <td>Não acredito que minha experiência profissiona...</td>\n",
              "      <td>NaN</td>\n",
              "      <td>True</td>\n",
              "      <td>...</td>\n",
              "      <td>Setor Público</td>\n",
              "      <td>Acima de 3.000</td>\n",
              "      <td>0.0</td>\n",
              "      <td>NaN</td>\n",
              "      <td>DBA/Administrador de Banco de Dados</td>\n",
              "      <td>Júnior</td>\n",
              "      <td>de R$ 8.001/mês a R$ 12.000/mês</td>\n",
              "      <td>de 1 a 2 anos</td>\n",
              "      <td>de 7 a 10 anos</td>\n",
              "      <td>11194.0</td>\n",
              "    </tr>\n",
              "    <tr>\n",
              "      <th>1</th>\n",
              "      <td>1</td>\n",
              "      <td>zzls2oftfn9law393oezzls2ofhvfpzd</td>\n",
              "      <td>32.0</td>\n",
              "      <td>30-34</td>\n",
              "      <td>Masculino</td>\n",
              "      <td>Parda</td>\n",
              "      <td>Não</td>\n",
              "      <td>Sim, acredito que a minha a experiência profis...</td>\n",
              "      <td>Aprovação em processos seletivos/entrevistas</td>\n",
              "      <td>True</td>\n",
              "      <td>...</td>\n",
              "      <td>Outra Opção</td>\n",
              "      <td>Acima de 3.000</td>\n",
              "      <td>1.0</td>\n",
              "      <td>Supervisor/Coordenador</td>\n",
              "      <td>NaN</td>\n",
              "      <td>NaN</td>\n",
              "      <td>de R$ 4.001/mês a R$ 6.000/mês</td>\n",
              "      <td>de 3 a 4 anos</td>\n",
              "      <td>Menos de 1 ano</td>\n",
              "      <td>4695.0</td>\n",
              "    </tr>\n",
              "    <tr>\n",
              "      <th>2</th>\n",
              "      <td>2</td>\n",
              "      <td>zzdwqzfqqp1ypc7ps6m0hzzdwqz292yi</td>\n",
              "      <td>53.0</td>\n",
              "      <td>50-54</td>\n",
              "      <td>Masculino</td>\n",
              "      <td>Branca</td>\n",
              "      <td>Não</td>\n",
              "      <td>NaN</td>\n",
              "      <td>NaN</td>\n",
              "      <td>True</td>\n",
              "      <td>...</td>\n",
              "      <td>Finanças ou Bancos</td>\n",
              "      <td>Acima de 3.000</td>\n",
              "      <td>0.0</td>\n",
              "      <td>NaN</td>\n",
              "      <td>Desenvolvedor/ Engenheiro de Software/ Analist...</td>\n",
              "      <td>Pleno</td>\n",
              "      <td>de R$ 12.001/mês a R$ 16.000/mês</td>\n",
              "      <td>de 3 a 4 anos</td>\n",
              "      <td>Mais de 10 anos</td>\n",
              "      <td>14202.0</td>\n",
              "    </tr>\n",
              "    <tr>\n",
              "      <th>3</th>\n",
              "      <td>3</td>\n",
              "      <td>zzbqh3uy7yk7k9qmkzzbqtb4s9faqspl</td>\n",
              "      <td>27.0</td>\n",
              "      <td>25-29</td>\n",
              "      <td>Masculino</td>\n",
              "      <td>Branca</td>\n",
              "      <td>Não</td>\n",
              "      <td>NaN</td>\n",
              "      <td>NaN</td>\n",
              "      <td>True</td>\n",
              "      <td>...</td>\n",
              "      <td>Setor Automotivo</td>\n",
              "      <td>Acima de 3.000</td>\n",
              "      <td>0.0</td>\n",
              "      <td>NaN</td>\n",
              "      <td>Cientista de Dados/Data Scientist</td>\n",
              "      <td>Sênior</td>\n",
              "      <td>de R$ 12.001/mês a R$ 16.000/mês</td>\n",
              "      <td>de 4 a 6 anos</td>\n",
              "      <td>Não tive experiência na área de TI/Engenharia ...</td>\n",
              "      <td>15463.0</td>\n",
              "    </tr>\n",
              "    <tr>\n",
              "      <th>4</th>\n",
              "      <td>4</td>\n",
              "      <td>zzaf1m95yan929rb94wzzaf1mekhvhpg</td>\n",
              "      <td>46.0</td>\n",
              "      <td>45-49</td>\n",
              "      <td>Feminino</td>\n",
              "      <td>Branca</td>\n",
              "      <td>Não</td>\n",
              "      <td>Não acredito que minha experiência profissiona...</td>\n",
              "      <td>NaN</td>\n",
              "      <td>True</td>\n",
              "      <td>...</td>\n",
              "      <td>Setor Público</td>\n",
              "      <td>de 101 a 500</td>\n",
              "      <td>0.0</td>\n",
              "      <td>NaN</td>\n",
              "      <td>Desenvolvedor/ Engenheiro de Software/ Analist...</td>\n",
              "      <td>Pleno</td>\n",
              "      <td>de R$ 6.001/mês a R$ 8.000/mês</td>\n",
              "      <td>Não tenho experiência na área de dados</td>\n",
              "      <td>Mais de 10 anos</td>\n",
              "      <td>7733.0</td>\n",
              "    </tr>\n",
              "    <tr>\n",
              "      <th>5</th>\n",
              "      <td>5</td>\n",
              "      <td>zz0nlhbd8oxyiyxzz0nlh7g4xkiaza5v</td>\n",
              "      <td>32.0</td>\n",
              "      <td>30-34</td>\n",
              "      <td>Feminino</td>\n",
              "      <td>Parda</td>\n",
              "      <td>Não</td>\n",
              "      <td>Não acredito que minha experiência profissiona...</td>\n",
              "      <td>NaN</td>\n",
              "      <td>True</td>\n",
              "      <td>...</td>\n",
              "      <td>Educação</td>\n",
              "      <td>Acima de 3.000</td>\n",
              "      <td>0.0</td>\n",
              "      <td>NaN</td>\n",
              "      <td>Professor</td>\n",
              "      <td>Pleno</td>\n",
              "      <td>de R$ 2.001/mês a R$ 3.000/mês</td>\n",
              "      <td>Não tenho experiência na área de dados</td>\n",
              "      <td>Não tive experiência na área de TI/Engenharia ...</td>\n",
              "      <td>2336.0</td>\n",
              "    </tr>\n",
              "    <tr>\n",
              "      <th>6</th>\n",
              "      <td>6</td>\n",
              "      <td>zytlxsdgalh22cgrijvzytlxa49i8yzx</td>\n",
              "      <td>21.0</td>\n",
              "      <td>17-21</td>\n",
              "      <td>Masculino</td>\n",
              "      <td>Parda</td>\n",
              "      <td>Não</td>\n",
              "      <td>Não acredito que minha experiência profissiona...</td>\n",
              "      <td>NaN</td>\n",
              "      <td>True</td>\n",
              "      <td>...</td>\n",
              "      <td>Finanças ou Bancos</td>\n",
              "      <td>Acima de 3.000</td>\n",
              "      <td>0.0</td>\n",
              "      <td>NaN</td>\n",
              "      <td>Analista de BI/BI Analyst</td>\n",
              "      <td>Júnior</td>\n",
              "      <td>de R$ 4.001/mês a R$ 6.000/mês</td>\n",
              "      <td>de 1 a 2 anos</td>\n",
              "      <td>Menos de 1 ano</td>\n",
              "      <td>4491.0</td>\n",
              "    </tr>\n",
              "    <tr>\n",
              "      <th>7</th>\n",
              "      <td>7</td>\n",
              "      <td>zyc0twzno2sm5or5ovoxzyc0twz0300d</td>\n",
              "      <td>31.0</td>\n",
              "      <td>30-34</td>\n",
              "      <td>Feminino</td>\n",
              "      <td>Branca</td>\n",
              "      <td>Não</td>\n",
              "      <td>Não acredito que minha experiência profissiona...</td>\n",
              "      <td>NaN</td>\n",
              "      <td>True</td>\n",
              "      <td>...</td>\n",
              "      <td>Tecnologia/Fábrica de Software</td>\n",
              "      <td>de 6 a 10</td>\n",
              "      <td>0.0</td>\n",
              "      <td>NaN</td>\n",
              "      <td>Desenvolvedor/ Engenheiro de Software/ Analist...</td>\n",
              "      <td>Júnior</td>\n",
              "      <td>de R$ 2.001/mês a R$ 3.000/mês</td>\n",
              "      <td>Menos de 1 ano</td>\n",
              "      <td>Menos de 1 ano</td>\n",
              "      <td>2704.0</td>\n",
              "    </tr>\n",
              "    <tr>\n",
              "      <th>8</th>\n",
              "      <td>8</td>\n",
              "      <td>zy4o5dk6iuxpdwgzy4o58xvd6ykwohrj</td>\n",
              "      <td>33.0</td>\n",
              "      <td>30-34</td>\n",
              "      <td>Masculino</td>\n",
              "      <td>Branca</td>\n",
              "      <td>Não</td>\n",
              "      <td>NaN</td>\n",
              "      <td>NaN</td>\n",
              "      <td>True</td>\n",
              "      <td>...</td>\n",
              "      <td>Tecnologia/Fábrica de Software</td>\n",
              "      <td>Acima de 3.000</td>\n",
              "      <td>0.0</td>\n",
              "      <td>NaN</td>\n",
              "      <td>Analista de BI/BI Analyst</td>\n",
              "      <td>Sênior</td>\n",
              "      <td>de R$ 6.001/mês a R$ 8.000/mês</td>\n",
              "      <td>Menos de 1 ano</td>\n",
              "      <td>Não tive experiência na área de TI/Engenharia ...</td>\n",
              "      <td>7112.0</td>\n",
              "    </tr>\n",
              "    <tr>\n",
              "      <th>9</th>\n",
              "      <td>9</td>\n",
              "      <td>zxc3d314cn1c2ovmzxc34ha7nkw1na3j</td>\n",
              "      <td>NaN</td>\n",
              "      <td>55+</td>\n",
              "      <td>Feminino</td>\n",
              "      <td>Parda</td>\n",
              "      <td>Não</td>\n",
              "      <td>Não acredito que minha experiência profissiona...</td>\n",
              "      <td>NaN</td>\n",
              "      <td>True</td>\n",
              "      <td>...</td>\n",
              "      <td>Educação</td>\n",
              "      <td>Acima de 3.000</td>\n",
              "      <td>0.0</td>\n",
              "      <td>NaN</td>\n",
              "      <td>Professor</td>\n",
              "      <td>Pleno</td>\n",
              "      <td>de R$ 8.001/mês a R$ 12.000/mês</td>\n",
              "      <td>Mais de 10 anos</td>\n",
              "      <td>Não tive experiência na área de TI/Engenharia ...</td>\n",
              "      <td>10822.0</td>\n",
              "    </tr>\n",
              "  </tbody>\n",
              "</table>\n",
              "<p>10 rows × 28 columns</p>\n",
              "</div>"
            ],
            "text/plain": [
              "   Unnamed: 0                                ID  IDADE FAIXA IDADE     GENERO  \\\n",
              "0           0  zzqzz3l9ily8nuo2m7wyzzqzz3w48o96   39.0       35-39  Masculino   \n",
              "1           1  zzls2oftfn9law393oezzls2ofhvfpzd   32.0       30-34  Masculino   \n",
              "2           2  zzdwqzfqqp1ypc7ps6m0hzzdwqz292yi   53.0       50-54  Masculino   \n",
              "3           3  zzbqh3uy7yk7k9qmkzzbqtb4s9faqspl   27.0       25-29  Masculino   \n",
              "4           4  zzaf1m95yan929rb94wzzaf1mekhvhpg   46.0       45-49   Feminino   \n",
              "5           5  zz0nlhbd8oxyiyxzz0nlh7g4xkiaza5v   32.0       30-34   Feminino   \n",
              "6           6  zytlxsdgalh22cgrijvzytlxa49i8yzx   21.0       17-21  Masculino   \n",
              "7           7  zyc0twzno2sm5or5ovoxzyc0twz0300d   31.0       30-34   Feminino   \n",
              "8           8  zy4o5dk6iuxpdwgzy4o58xvd6ykwohrj   33.0       30-34  Masculino   \n",
              "9           9  zxc3d314cn1c2ovmzxc34ha7nkw1na3j    NaN         55+   Feminino   \n",
              "\n",
              "  COR/RACA/ETNIA  PCD               EXPERIENCIA_PROFISSIONAL_PREJUDICADA  \\\n",
              "0          Parda  Não  Não acredito que minha experiência profissiona...   \n",
              "1          Parda  Não  Sim, acredito que a minha a experiência profis...   \n",
              "2         Branca  Não                                                NaN   \n",
              "3         Branca  Não                                                NaN   \n",
              "4         Branca  Não  Não acredito que minha experiência profissiona...   \n",
              "5          Parda  Não  Não acredito que minha experiência profissiona...   \n",
              "6          Parda  Não  Não acredito que minha experiência profissiona...   \n",
              "7         Branca  Não  Não acredito que minha experiência profissiona...   \n",
              "8         Branca  Não                                                NaN   \n",
              "9          Parda  Não  Não acredito que minha experiência profissiona...   \n",
              "\n",
              "                          ASPECTOS_PREJUDICADOS  VIVE_NO_BRASIL  ...  \\\n",
              "0                                           NaN            True  ...   \n",
              "1  Aprovação em processos seletivos/entrevistas            True  ...   \n",
              "2                                           NaN            True  ...   \n",
              "3                                           NaN            True  ...   \n",
              "4                                           NaN            True  ...   \n",
              "5                                           NaN            True  ...   \n",
              "6                                           NaN            True  ...   \n",
              "7                                           NaN            True  ...   \n",
              "8                                           NaN            True  ...   \n",
              "9                                           NaN            True  ...   \n",
              "\n",
              "                            SETOR NUMERO DE FUNCIONARIOS GESTOR?  \\\n",
              "0                   Setor Público         Acima de 3.000     0.0   \n",
              "1                     Outra Opção         Acima de 3.000     1.0   \n",
              "2              Finanças ou Bancos         Acima de 3.000     0.0   \n",
              "3                Setor Automotivo         Acima de 3.000     0.0   \n",
              "4                   Setor Público           de 101 a 500     0.0   \n",
              "5                        Educação         Acima de 3.000     0.0   \n",
              "6              Finanças ou Bancos         Acima de 3.000     0.0   \n",
              "7  Tecnologia/Fábrica de Software              de 6 a 10     0.0   \n",
              "8  Tecnologia/Fábrica de Software         Acima de 3.000     0.0   \n",
              "9                        Educação         Acima de 3.000     0.0   \n",
              "\n",
              "        CARGO COMO GESTOR                                        CARGO ATUAL  \\\n",
              "0                     NaN                DBA/Administrador de Banco de Dados   \n",
              "1  Supervisor/Coordenador                                                NaN   \n",
              "2                     NaN  Desenvolvedor/ Engenheiro de Software/ Analist...   \n",
              "3                     NaN                  Cientista de Dados/Data Scientist   \n",
              "4                     NaN  Desenvolvedor/ Engenheiro de Software/ Analist...   \n",
              "5                     NaN                                          Professor   \n",
              "6                     NaN                          Analista de BI/BI Analyst   \n",
              "7                     NaN  Desenvolvedor/ Engenheiro de Software/ Analist...   \n",
              "8                     NaN                          Analista de BI/BI Analyst   \n",
              "9                     NaN                                          Professor   \n",
              "\n",
              "    NIVEL                    FAIXA SALARIAL  \\\n",
              "0  Júnior   de R$ 8.001/mês a R$ 12.000/mês   \n",
              "1     NaN    de R$ 4.001/mês a R$ 6.000/mês   \n",
              "2   Pleno  de R$ 12.001/mês a R$ 16.000/mês   \n",
              "3  Sênior  de R$ 12.001/mês a R$ 16.000/mês   \n",
              "4   Pleno    de R$ 6.001/mês a R$ 8.000/mês   \n",
              "5   Pleno    de R$ 2.001/mês a R$ 3.000/mês   \n",
              "6  Júnior    de R$ 4.001/mês a R$ 6.000/mês   \n",
              "7  Júnior    de R$ 2.001/mês a R$ 3.000/mês   \n",
              "8  Sênior    de R$ 6.001/mês a R$ 8.000/mês   \n",
              "9   Pleno   de R$ 8.001/mês a R$ 12.000/mês   \n",
              "\n",
              "  QUANTO TEMPO DE EXPERIÊNCIA NA ÁREA DE DADOS VOCÊ TEM?  \\\n",
              "0                                      de 1 a 2 anos       \n",
              "1                                      de 3 a 4 anos       \n",
              "2                                      de 3 a 4 anos       \n",
              "3                                      de 4 a 6 anos       \n",
              "4             Não tenho experiência na área de dados       \n",
              "5             Não tenho experiência na área de dados       \n",
              "6                                      de 1 a 2 anos       \n",
              "7                                     Menos de 1 ano       \n",
              "8                                     Menos de 1 ano       \n",
              "9                                    Mais de 10 anos       \n",
              "\n",
              "  QUANTO TEMPO DE EXPERIÊNCIA NA ÁREA DE TI/ENGENHARIA DE SOFTWARE VOCÊ TEVE ANTES DE COMEÇAR A TRABALHAR NA ÁREA DE DADOS?  \\\n",
              "0                                     de 7 a 10 anos                                                                          \n",
              "1                                     Menos de 1 ano                                                                          \n",
              "2                                    Mais de 10 anos                                                                          \n",
              "3  Não tive experiência na área de TI/Engenharia ...                                                                          \n",
              "4                                    Mais de 10 anos                                                                          \n",
              "5  Não tive experiência na área de TI/Engenharia ...                                                                          \n",
              "6                                     Menos de 1 ano                                                                          \n",
              "7                                     Menos de 1 ano                                                                          \n",
              "8  Não tive experiência na área de TI/Engenharia ...                                                                          \n",
              "9  Não tive experiência na área de TI/Engenharia ...                                                                          \n",
              "\n",
              "   SALARIO  \n",
              "0  11194.0  \n",
              "1   4695.0  \n",
              "2  14202.0  \n",
              "3  15463.0  \n",
              "4   7733.0  \n",
              "5   2336.0  \n",
              "6   4491.0  \n",
              "7   2704.0  \n",
              "8   7112.0  \n",
              "9  10822.0  \n",
              "\n",
              "[10 rows x 28 columns]"
            ]
          },
          "execution_count": 6,
          "metadata": {},
          "output_type": "execute_result"
        }
      ],
      "source": [
        "dados.head(10)"
      ]
    },
    {
      "cell_type": "code",
      "execution_count": 7,
      "metadata": {
        "colab": {
          "base_uri": "https://localhost:8080/",
          "height": 776
        },
        "id": "kDxo0pqzs42k",
        "outputId": "7cbeae39-6c85-464c-cf1c-51687bfb1b30"
      },
      "outputs": [
        {
          "data": {
            "text/html": [
              "<div>\n",
              "<style scoped>\n",
              "    .dataframe tbody tr th:only-of-type {\n",
              "        vertical-align: middle;\n",
              "    }\n",
              "\n",
              "    .dataframe tbody tr th {\n",
              "        vertical-align: top;\n",
              "    }\n",
              "\n",
              "    .dataframe thead th {\n",
              "        text-align: right;\n",
              "    }\n",
              "</style>\n",
              "<table border=\"1\" class=\"dataframe\">\n",
              "  <thead>\n",
              "    <tr style=\"text-align: right;\">\n",
              "      <th></th>\n",
              "      <th>Unnamed: 0</th>\n",
              "      <th>ID</th>\n",
              "      <th>IDADE</th>\n",
              "      <th>FAIXA IDADE</th>\n",
              "      <th>GENERO</th>\n",
              "      <th>COR/RACA/ETNIA</th>\n",
              "      <th>PCD</th>\n",
              "      <th>EXPERIENCIA_PROFISSIONAL_PREJUDICADA</th>\n",
              "      <th>ASPECTOS_PREJUDICADOS</th>\n",
              "      <th>VIVE_NO_BRASIL</th>\n",
              "      <th>...</th>\n",
              "      <th>SETOR</th>\n",
              "      <th>NUMERO DE FUNCIONARIOS</th>\n",
              "      <th>GESTOR?</th>\n",
              "      <th>CARGO COMO GESTOR</th>\n",
              "      <th>CARGO ATUAL</th>\n",
              "      <th>NIVEL</th>\n",
              "      <th>FAIXA SALARIAL</th>\n",
              "      <th>QUANTO TEMPO DE EXPERIÊNCIA NA ÁREA DE DADOS VOCÊ TEM?</th>\n",
              "      <th>QUANTO TEMPO DE EXPERIÊNCIA NA ÁREA DE TI/ENGENHARIA DE SOFTWARE VOCÊ TEVE ANTES DE COMEÇAR A TRABALHAR NA ÁREA DE DADOS?</th>\n",
              "      <th>SALARIO</th>\n",
              "    </tr>\n",
              "  </thead>\n",
              "  <tbody>\n",
              "    <tr>\n",
              "      <th>4266</th>\n",
              "      <td>4266</td>\n",
              "      <td>01jnrn9f6va0menfhk2ztm01jnrn96bp</td>\n",
              "      <td>26.0</td>\n",
              "      <td>25-29</td>\n",
              "      <td>Masculino</td>\n",
              "      <td>Branca</td>\n",
              "      <td>Não</td>\n",
              "      <td>NaN</td>\n",
              "      <td>NaN</td>\n",
              "      <td>True</td>\n",
              "      <td>...</td>\n",
              "      <td>Tecnologia/Fábrica de Software</td>\n",
              "      <td>Acima de 3.000</td>\n",
              "      <td>0.0</td>\n",
              "      <td>NaN</td>\n",
              "      <td>Analista de Dados/Data Analyst</td>\n",
              "      <td>Pleno</td>\n",
              "      <td>de R$ 4.001/mês a R$ 6.000/mês</td>\n",
              "      <td>de 3 a 4 anos</td>\n",
              "      <td>de 7 a 10 anos</td>\n",
              "      <td>4329.0</td>\n",
              "    </tr>\n",
              "    <tr>\n",
              "      <th>4267</th>\n",
              "      <td>4267</td>\n",
              "      <td>01dyfxam4u4bi29fem01dyfxaq9akvqp</td>\n",
              "      <td>30.0</td>\n",
              "      <td>30-34</td>\n",
              "      <td>Feminino</td>\n",
              "      <td>Branca</td>\n",
              "      <td>Não</td>\n",
              "      <td>Não acredito que minha experiência profissiona...</td>\n",
              "      <td>NaN</td>\n",
              "      <td>True</td>\n",
              "      <td>...</td>\n",
              "      <td>Área de Consultoria</td>\n",
              "      <td>de 51 a 100</td>\n",
              "      <td>0.0</td>\n",
              "      <td>NaN</td>\n",
              "      <td>Engenheiro de Dados/Arquiteto de Dados/Data En...</td>\n",
              "      <td>Pleno</td>\n",
              "      <td>de R$ 3.001/mês a R$ 4.000/mês</td>\n",
              "      <td>de 1 a 2 anos</td>\n",
              "      <td>Não tive experiência na área de TI/Engenharia ...</td>\n",
              "      <td>3758.0</td>\n",
              "    </tr>\n",
              "    <tr>\n",
              "      <th>4268</th>\n",
              "      <td>4268</td>\n",
              "      <td>00zw9ks9d40z4u00zz3d20iix65qpli3</td>\n",
              "      <td>29.0</td>\n",
              "      <td>25-29</td>\n",
              "      <td>Masculino</td>\n",
              "      <td>Branca</td>\n",
              "      <td>Não</td>\n",
              "      <td>NaN</td>\n",
              "      <td>NaN</td>\n",
              "      <td>True</td>\n",
              "      <td>...</td>\n",
              "      <td>Setor Imobiliário/ Construção Civil</td>\n",
              "      <td>de 101 a 500</td>\n",
              "      <td>1.0</td>\n",
              "      <td>Gerente/Head</td>\n",
              "      <td>NaN</td>\n",
              "      <td>NaN</td>\n",
              "      <td>de R$ 16.001/mês a R$ 20.000/mês</td>\n",
              "      <td>de 4 a 6 anos</td>\n",
              "      <td>Não tive experiência na área de TI/Engenharia ...</td>\n",
              "      <td>19607.0</td>\n",
              "    </tr>\n",
              "    <tr>\n",
              "      <th>4269</th>\n",
              "      <td>4269</td>\n",
              "      <td>00xu7yujd7s57emj00xu7y0c3njix3de</td>\n",
              "      <td>NaN</td>\n",
              "      <td>17-21</td>\n",
              "      <td>Masculino</td>\n",
              "      <td>Branca</td>\n",
              "      <td>Não</td>\n",
              "      <td>NaN</td>\n",
              "      <td>NaN</td>\n",
              "      <td>True</td>\n",
              "      <td>...</td>\n",
              "      <td>Indústria</td>\n",
              "      <td>de 1.001 a 3.000</td>\n",
              "      <td>0.0</td>\n",
              "      <td>NaN</td>\n",
              "      <td>Outra Opção</td>\n",
              "      <td>Júnior</td>\n",
              "      <td>Menos de R$ 1.000/mês</td>\n",
              "      <td>Menos de 1 ano</td>\n",
              "      <td>Não tive experiência na área de TI/Engenharia ...</td>\n",
              "      <td>989.0</td>\n",
              "    </tr>\n",
              "    <tr>\n",
              "      <th>4270</th>\n",
              "      <td>4270</td>\n",
              "      <td>00lb35llmdsidpa00lb35qcdysnzvhv7</td>\n",
              "      <td>24.0</td>\n",
              "      <td>22-24</td>\n",
              "      <td>Masculino</td>\n",
              "      <td>Branca</td>\n",
              "      <td>Não</td>\n",
              "      <td>NaN</td>\n",
              "      <td>NaN</td>\n",
              "      <td>True</td>\n",
              "      <td>...</td>\n",
              "      <td>Agronegócios</td>\n",
              "      <td>de 501 a 1.000</td>\n",
              "      <td>0.0</td>\n",
              "      <td>NaN</td>\n",
              "      <td>Analista de Dados/Data Analyst</td>\n",
              "      <td>Júnior</td>\n",
              "      <td>de R$ 3.001/mês a R$ 4.000/mês</td>\n",
              "      <td>de 1 a 2 anos</td>\n",
              "      <td>Não tive experiência na área de TI/Engenharia ...</td>\n",
              "      <td>3079.0</td>\n",
              "    </tr>\n",
              "  </tbody>\n",
              "</table>\n",
              "<p>5 rows × 28 columns</p>\n",
              "</div>"
            ],
            "text/plain": [
              "      Unnamed: 0                                ID  IDADE FAIXA IDADE  \\\n",
              "4266        4266  01jnrn9f6va0menfhk2ztm01jnrn96bp   26.0       25-29   \n",
              "4267        4267  01dyfxam4u4bi29fem01dyfxaq9akvqp   30.0       30-34   \n",
              "4268        4268  00zw9ks9d40z4u00zz3d20iix65qpli3   29.0       25-29   \n",
              "4269        4269  00xu7yujd7s57emj00xu7y0c3njix3de    NaN       17-21   \n",
              "4270        4270  00lb35llmdsidpa00lb35qcdysnzvhv7   24.0       22-24   \n",
              "\n",
              "         GENERO COR/RACA/ETNIA  PCD  \\\n",
              "4266  Masculino         Branca  Não   \n",
              "4267   Feminino         Branca  Não   \n",
              "4268  Masculino         Branca  Não   \n",
              "4269  Masculino         Branca  Não   \n",
              "4270  Masculino         Branca  Não   \n",
              "\n",
              "                   EXPERIENCIA_PROFISSIONAL_PREJUDICADA ASPECTOS_PREJUDICADOS  \\\n",
              "4266                                                NaN                   NaN   \n",
              "4267  Não acredito que minha experiência profissiona...                   NaN   \n",
              "4268                                                NaN                   NaN   \n",
              "4269                                                NaN                   NaN   \n",
              "4270                                                NaN                   NaN   \n",
              "\n",
              "      VIVE_NO_BRASIL  ...                                SETOR  \\\n",
              "4266            True  ...       Tecnologia/Fábrica de Software   \n",
              "4267            True  ...                  Área de Consultoria   \n",
              "4268            True  ...  Setor Imobiliário/ Construção Civil   \n",
              "4269            True  ...                            Indústria   \n",
              "4270            True  ...                         Agronegócios   \n",
              "\n",
              "     NUMERO DE FUNCIONARIOS GESTOR?  CARGO COMO GESTOR  \\\n",
              "4266         Acima de 3.000     0.0                NaN   \n",
              "4267            de 51 a 100     0.0                NaN   \n",
              "4268           de 101 a 500     1.0       Gerente/Head   \n",
              "4269       de 1.001 a 3.000     0.0                NaN   \n",
              "4270         de 501 a 1.000     0.0                NaN   \n",
              "\n",
              "                                            CARGO ATUAL   NIVEL  \\\n",
              "4266                     Analista de Dados/Data Analyst   Pleno   \n",
              "4267  Engenheiro de Dados/Arquiteto de Dados/Data En...   Pleno   \n",
              "4268                                                NaN     NaN   \n",
              "4269                                        Outra Opção  Júnior   \n",
              "4270                     Analista de Dados/Data Analyst  Júnior   \n",
              "\n",
              "                        FAIXA SALARIAL  \\\n",
              "4266    de R$ 4.001/mês a R$ 6.000/mês   \n",
              "4267    de R$ 3.001/mês a R$ 4.000/mês   \n",
              "4268  de R$ 16.001/mês a R$ 20.000/mês   \n",
              "4269             Menos de R$ 1.000/mês   \n",
              "4270    de R$ 3.001/mês a R$ 4.000/mês   \n",
              "\n",
              "     QUANTO TEMPO DE EXPERIÊNCIA NA ÁREA DE DADOS VOCÊ TEM?  \\\n",
              "4266                                      de 3 a 4 anos       \n",
              "4267                                      de 1 a 2 anos       \n",
              "4268                                      de 4 a 6 anos       \n",
              "4269                                     Menos de 1 ano       \n",
              "4270                                      de 1 a 2 anos       \n",
              "\n",
              "     QUANTO TEMPO DE EXPERIÊNCIA NA ÁREA DE TI/ENGENHARIA DE SOFTWARE VOCÊ TEVE ANTES DE COMEÇAR A TRABALHAR NA ÁREA DE DADOS?  \\\n",
              "4266                                     de 7 a 10 anos                                                                          \n",
              "4267  Não tive experiência na área de TI/Engenharia ...                                                                          \n",
              "4268  Não tive experiência na área de TI/Engenharia ...                                                                          \n",
              "4269  Não tive experiência na área de TI/Engenharia ...                                                                          \n",
              "4270  Não tive experiência na área de TI/Engenharia ...                                                                          \n",
              "\n",
              "      SALARIO  \n",
              "4266   4329.0  \n",
              "4267   3758.0  \n",
              "4268  19607.0  \n",
              "4269    989.0  \n",
              "4270   3079.0  \n",
              "\n",
              "[5 rows x 28 columns]"
            ]
          },
          "execution_count": 7,
          "metadata": {},
          "output_type": "execute_result"
        }
      ],
      "source": [
        "dados.tail()"
      ]
    },
    {
      "cell_type": "code",
      "execution_count": 8,
      "metadata": {
        "colab": {
          "base_uri": "https://localhost:8080/"
        },
        "id": "Yoh2_naVs7wC",
        "outputId": "ba464917-5ff6-4145-e623-c2434416079f"
      },
      "outputs": [
        {
          "data": {
            "text/plain": [
              "(4271, 28)"
            ]
          },
          "execution_count": 8,
          "metadata": {},
          "output_type": "execute_result"
        }
      ],
      "source": [
        "dados.shape"
      ]
    },
    {
      "cell_type": "code",
      "execution_count": 9,
      "metadata": {
        "colab": {
          "base_uri": "https://localhost:8080/"
        },
        "id": "vWhTTDBTtKiD",
        "outputId": "2c2e40a1-8049-444c-8a67-c9abc62aeb32"
      },
      "outputs": [
        {
          "data": {
            "text/plain": [
              "4271"
            ]
          },
          "execution_count": 9,
          "metadata": {},
          "output_type": "execute_result"
        }
      ],
      "source": [
        "len(dados)"
      ]
    },
    {
      "cell_type": "code",
      "execution_count": 10,
      "metadata": {
        "colab": {
          "base_uri": "https://localhost:8080/"
        },
        "id": "od9NYO8KtTa3",
        "outputId": "087fe7fa-74d3-4406-dacd-c3263d08951a"
      },
      "outputs": [
        {
          "data": {
            "text/plain": [
              "Index(['Unnamed: 0', 'ID', 'IDADE', 'FAIXA IDADE', 'GENERO', 'COR/RACA/ETNIA',\n",
              "       'PCD', 'EXPERIENCIA_PROFISSIONAL_PREJUDICADA', 'ASPECTOS_PREJUDICADOS',\n",
              "       'VIVE_NO_BRASIL', 'ESTADO ONDE MORA', 'UF ONDE MORA',\n",
              "       'REGIAO ONDE MORA', 'MUDOU DE ESTADO?', 'REGIAO DE ORIGEM',\n",
              "       'NIVEL DE ENSINO', 'ÁREA DE FORMAÇÃO',\n",
              "       'QUAL SUA SITUAÇÃO ATUAL DE TRABALHO?', 'SETOR',\n",
              "       'NUMERO DE FUNCIONARIOS', 'GESTOR?', 'CARGO COMO GESTOR', 'CARGO ATUAL',\n",
              "       'NIVEL', 'FAIXA SALARIAL',\n",
              "       'QUANTO TEMPO DE EXPERIÊNCIA NA ÁREA DE DADOS VOCÊ TEM?',\n",
              "       'QUANTO TEMPO DE EXPERIÊNCIA NA ÁREA DE TI/ENGENHARIA DE SOFTWARE VOCÊ TEVE ANTES DE COMEÇAR A TRABALHAR NA ÁREA DE DADOS?',\n",
              "       'SALARIO'],\n",
              "      dtype='object')"
            ]
          },
          "execution_count": 10,
          "metadata": {},
          "output_type": "execute_result"
        }
      ],
      "source": [
        "dados.columns"
      ]
    },
    {
      "cell_type": "code",
      "execution_count": 11,
      "metadata": {
        "colab": {
          "base_uri": "https://localhost:8080/"
        },
        "id": "orCf5-AQtYcC",
        "outputId": "7ecc8c6c-e465-4604-975e-08aa4f0b7d00"
      },
      "outputs": [
        {
          "name": "stdout",
          "output_type": "stream",
          "text": [
            "<class 'pandas.core.frame.DataFrame'>\n",
            "RangeIndex: 4271 entries, 0 to 4270\n",
            "Data columns (total 28 columns):\n",
            " #   Column                                                                                                                     Non-Null Count  Dtype  \n",
            "---  ------                                                                                                                     --------------  -----  \n",
            " 0   Unnamed: 0                                                                                                                 4271 non-null   int64  \n",
            " 1   ID                                                                                                                         4271 non-null   object \n",
            " 2   IDADE                                                                                                                      4197 non-null   float64\n",
            " 3   FAIXA IDADE                                                                                                                4271 non-null   object \n",
            " 4   GENERO                                                                                                                     4262 non-null   object \n",
            " 5   COR/RACA/ETNIA                                                                                                             4271 non-null   object \n",
            " 6   PCD                                                                                                                        4271 non-null   object \n",
            " 7   EXPERIENCIA_PROFISSIONAL_PREJUDICADA                                                                                       2190 non-null   object \n",
            " 8   ASPECTOS_PREJUDICADOS                                                                                                      837 non-null    object \n",
            " 9   VIVE_NO_BRASIL                                                                                                             4271 non-null   bool   \n",
            " 10  ESTADO ONDE MORA                                                                                                           4156 non-null   object \n",
            " 11  UF ONDE MORA                                                                                                               4156 non-null   object \n",
            " 12  REGIAO ONDE MORA                                                                                                           4171 non-null   object \n",
            " 13  MUDOU DE ESTADO?                                                                                                           4171 non-null   float64\n",
            " 14  REGIAO DE ORIGEM                                                                                                           772 non-null    object \n",
            " 15  NIVEL DE ENSINO                                                                                                            4271 non-null   object \n",
            " 16  ÁREA DE FORMAÇÃO                                                                                                           4149 non-null   object \n",
            " 17  QUAL SUA SITUAÇÃO ATUAL DE TRABALHO?                                                                                       4271 non-null   object \n",
            " 18  SETOR                                                                                                                      3694 non-null   object \n",
            " 19  NUMERO DE FUNCIONARIOS                                                                                                     3694 non-null   object \n",
            " 20  GESTOR?                                                                                                                    3694 non-null   float64\n",
            " 21  CARGO COMO GESTOR                                                                                                          713 non-null    object \n",
            " 22  CARGO ATUAL                                                                                                                2981 non-null   object \n",
            " 23  NIVEL                                                                                                                      2981 non-null   object \n",
            " 24  FAIXA SALARIAL                                                                                                             3694 non-null   object \n",
            " 25  QUANTO TEMPO DE EXPERIÊNCIA NA ÁREA DE DADOS VOCÊ TEM?                                                                     3694 non-null   object \n",
            " 26  QUANTO TEMPO DE EXPERIÊNCIA NA ÁREA DE TI/ENGENHARIA DE SOFTWARE VOCÊ TEVE ANTES DE COMEÇAR A TRABALHAR NA ÁREA DE DADOS?  3694 non-null   object \n",
            " 27  SALARIO                                                                                                                    3694 non-null   float64\n",
            "dtypes: bool(1), float64(4), int64(1), object(22)\n",
            "memory usage: 905.2+ KB\n"
          ]
        }
      ],
      "source": [
        "dados.info()"
      ]
    },
    {
      "cell_type": "code",
      "execution_count": 12,
      "metadata": {
        "colab": {
          "base_uri": "https://localhost:8080/",
          "height": 300
        },
        "id": "nsd2UnVLta3z",
        "outputId": "1a005b79-5cc2-475f-a70b-a0209a5d6773"
      },
      "outputs": [
        {
          "data": {
            "text/html": [
              "<div>\n",
              "<style scoped>\n",
              "    .dataframe tbody tr th:only-of-type {\n",
              "        vertical-align: middle;\n",
              "    }\n",
              "\n",
              "    .dataframe tbody tr th {\n",
              "        vertical-align: top;\n",
              "    }\n",
              "\n",
              "    .dataframe thead th {\n",
              "        text-align: right;\n",
              "    }\n",
              "</style>\n",
              "<table border=\"1\" class=\"dataframe\">\n",
              "  <thead>\n",
              "    <tr style=\"text-align: right;\">\n",
              "      <th></th>\n",
              "      <th>Unnamed: 0</th>\n",
              "      <th>IDADE</th>\n",
              "      <th>MUDOU DE ESTADO?</th>\n",
              "      <th>GESTOR?</th>\n",
              "      <th>SALARIO</th>\n",
              "    </tr>\n",
              "  </thead>\n",
              "  <tbody>\n",
              "    <tr>\n",
              "      <th>count</th>\n",
              "      <td>4271.000000</td>\n",
              "      <td>4197.000000</td>\n",
              "      <td>4171.000000</td>\n",
              "      <td>3694.000000</td>\n",
              "      <td>3694.000000</td>\n",
              "    </tr>\n",
              "    <tr>\n",
              "      <th>mean</th>\n",
              "      <td>2135.000000</td>\n",
              "      <td>31.169168</td>\n",
              "      <td>0.806281</td>\n",
              "      <td>0.193016</td>\n",
              "      <td>10969.266919</td>\n",
              "    </tr>\n",
              "    <tr>\n",
              "      <th>std</th>\n",
              "      <td>1233.075829</td>\n",
              "      <td>6.902803</td>\n",
              "      <td>0.395258</td>\n",
              "      <td>0.394719</td>\n",
              "      <td>19419.753189</td>\n",
              "    </tr>\n",
              "    <tr>\n",
              "      <th>min</th>\n",
              "      <td>0.000000</td>\n",
              "      <td>18.000000</td>\n",
              "      <td>0.000000</td>\n",
              "      <td>0.000000</td>\n",
              "      <td>35.000000</td>\n",
              "    </tr>\n",
              "    <tr>\n",
              "      <th>25%</th>\n",
              "      <td>1067.500000</td>\n",
              "      <td>26.000000</td>\n",
              "      <td>1.000000</td>\n",
              "      <td>0.000000</td>\n",
              "      <td>4269.500000</td>\n",
              "    </tr>\n",
              "    <tr>\n",
              "      <th>50%</th>\n",
              "      <td>2135.000000</td>\n",
              "      <td>30.000000</td>\n",
              "      <td>1.000000</td>\n",
              "      <td>0.000000</td>\n",
              "      <td>7625.500000</td>\n",
              "    </tr>\n",
              "    <tr>\n",
              "      <th>75%</th>\n",
              "      <td>3202.500000</td>\n",
              "      <td>35.000000</td>\n",
              "      <td>1.000000</td>\n",
              "      <td>0.000000</td>\n",
              "      <td>12778.500000</td>\n",
              "    </tr>\n",
              "    <tr>\n",
              "      <th>max</th>\n",
              "      <td>4270.000000</td>\n",
              "      <td>54.000000</td>\n",
              "      <td>1.000000</td>\n",
              "      <td>1.000000</td>\n",
              "      <td>485191.000000</td>\n",
              "    </tr>\n",
              "  </tbody>\n",
              "</table>\n",
              "</div>"
            ],
            "text/plain": [
              "        Unnamed: 0        IDADE  MUDOU DE ESTADO?      GESTOR?        SALARIO\n",
              "count  4271.000000  4197.000000       4171.000000  3694.000000    3694.000000\n",
              "mean   2135.000000    31.169168          0.806281     0.193016   10969.266919\n",
              "std    1233.075829     6.902803          0.395258     0.394719   19419.753189\n",
              "min       0.000000    18.000000          0.000000     0.000000      35.000000\n",
              "25%    1067.500000    26.000000          1.000000     0.000000    4269.500000\n",
              "50%    2135.000000    30.000000          1.000000     0.000000    7625.500000\n",
              "75%    3202.500000    35.000000          1.000000     0.000000   12778.500000\n",
              "max    4270.000000    54.000000          1.000000     1.000000  485191.000000"
            ]
          },
          "execution_count": 12,
          "metadata": {},
          "output_type": "execute_result"
        }
      ],
      "source": [
        "dados.describe()"
      ]
    },
    {
      "cell_type": "markdown",
      "metadata": {
        "id": "bVQ0Ws-1vHwO"
      },
      "source": [
        "# Repetindo análise do excel\n"
      ]
    },
    {
      "cell_type": "code",
      "execution_count": 13,
      "metadata": {
        "colab": {
          "base_uri": "https://localhost:8080/",
          "height": 458
        },
        "id": "q7tzpOrnwQ4i",
        "outputId": "d30845fc-c3fe-4df8-f78b-f0449b156d8a"
      },
      "outputs": [
        {
          "data": {
            "text/plain": [
              "0       Masculino\n",
              "1       Masculino\n",
              "2       Masculino\n",
              "3       Masculino\n",
              "4        Feminino\n",
              "          ...    \n",
              "4266    Masculino\n",
              "4267     Feminino\n",
              "4268    Masculino\n",
              "4269    Masculino\n",
              "4270    Masculino\n",
              "Name: GENERO, Length: 4271, dtype: object"
            ]
          },
          "execution_count": 13,
          "metadata": {},
          "output_type": "execute_result"
        }
      ],
      "source": [
        "dados['GENERO']"
      ]
    },
    {
      "cell_type": "code",
      "execution_count": 14,
      "metadata": {
        "colab": {
          "base_uri": "https://localhost:8080/",
          "height": 1000
        },
        "id": "kjW47VVNvMhe",
        "outputId": "d751bf6f-cb1f-4658-e28c-a9b22cfebfb3"
      },
      "outputs": [
        {
          "data": {
            "text/html": [
              "<div>\n",
              "<style scoped>\n",
              "    .dataframe tbody tr th:only-of-type {\n",
              "        vertical-align: middle;\n",
              "    }\n",
              "\n",
              "    .dataframe tbody tr th {\n",
              "        vertical-align: top;\n",
              "    }\n",
              "\n",
              "    .dataframe thead th {\n",
              "        text-align: right;\n",
              "    }\n",
              "</style>\n",
              "<table border=\"1\" class=\"dataframe\">\n",
              "  <thead>\n",
              "    <tr style=\"text-align: right;\">\n",
              "      <th></th>\n",
              "      <th>Unnamed: 0</th>\n",
              "      <th>ID</th>\n",
              "      <th>IDADE</th>\n",
              "      <th>FAIXA IDADE</th>\n",
              "      <th>GENERO</th>\n",
              "      <th>COR/RACA/ETNIA</th>\n",
              "      <th>PCD</th>\n",
              "      <th>EXPERIENCIA_PROFISSIONAL_PREJUDICADA</th>\n",
              "      <th>ASPECTOS_PREJUDICADOS</th>\n",
              "      <th>VIVE_NO_BRASIL</th>\n",
              "      <th>...</th>\n",
              "      <th>SETOR</th>\n",
              "      <th>NUMERO DE FUNCIONARIOS</th>\n",
              "      <th>GESTOR?</th>\n",
              "      <th>CARGO COMO GESTOR</th>\n",
              "      <th>CARGO ATUAL</th>\n",
              "      <th>NIVEL</th>\n",
              "      <th>FAIXA SALARIAL</th>\n",
              "      <th>QUANTO TEMPO DE EXPERIÊNCIA NA ÁREA DE DADOS VOCÊ TEM?</th>\n",
              "      <th>QUANTO TEMPO DE EXPERIÊNCIA NA ÁREA DE TI/ENGENHARIA DE SOFTWARE VOCÊ TEVE ANTES DE COMEÇAR A TRABALHAR NA ÁREA DE DADOS?</th>\n",
              "      <th>SALARIO</th>\n",
              "    </tr>\n",
              "  </thead>\n",
              "  <tbody>\n",
              "    <tr>\n",
              "      <th>4</th>\n",
              "      <td>4</td>\n",
              "      <td>zzaf1m95yan929rb94wzzaf1mekhvhpg</td>\n",
              "      <td>46.0</td>\n",
              "      <td>45-49</td>\n",
              "      <td>Feminino</td>\n",
              "      <td>Branca</td>\n",
              "      <td>Não</td>\n",
              "      <td>Não acredito que minha experiência profissiona...</td>\n",
              "      <td>NaN</td>\n",
              "      <td>True</td>\n",
              "      <td>...</td>\n",
              "      <td>Setor Público</td>\n",
              "      <td>de 101 a 500</td>\n",
              "      <td>0.0</td>\n",
              "      <td>NaN</td>\n",
              "      <td>Desenvolvedor/ Engenheiro de Software/ Analist...</td>\n",
              "      <td>Pleno</td>\n",
              "      <td>de R$ 6.001/mês a R$ 8.000/mês</td>\n",
              "      <td>Não tenho experiência na área de dados</td>\n",
              "      <td>Mais de 10 anos</td>\n",
              "      <td>7733.0</td>\n",
              "    </tr>\n",
              "    <tr>\n",
              "      <th>5</th>\n",
              "      <td>5</td>\n",
              "      <td>zz0nlhbd8oxyiyxzz0nlh7g4xkiaza5v</td>\n",
              "      <td>32.0</td>\n",
              "      <td>30-34</td>\n",
              "      <td>Feminino</td>\n",
              "      <td>Parda</td>\n",
              "      <td>Não</td>\n",
              "      <td>Não acredito que minha experiência profissiona...</td>\n",
              "      <td>NaN</td>\n",
              "      <td>True</td>\n",
              "      <td>...</td>\n",
              "      <td>Educação</td>\n",
              "      <td>Acima de 3.000</td>\n",
              "      <td>0.0</td>\n",
              "      <td>NaN</td>\n",
              "      <td>Professor</td>\n",
              "      <td>Pleno</td>\n",
              "      <td>de R$ 2.001/mês a R$ 3.000/mês</td>\n",
              "      <td>Não tenho experiência na área de dados</td>\n",
              "      <td>Não tive experiência na área de TI/Engenharia ...</td>\n",
              "      <td>2336.0</td>\n",
              "    </tr>\n",
              "    <tr>\n",
              "      <th>7</th>\n",
              "      <td>7</td>\n",
              "      <td>zyc0twzno2sm5or5ovoxzyc0twz0300d</td>\n",
              "      <td>31.0</td>\n",
              "      <td>30-34</td>\n",
              "      <td>Feminino</td>\n",
              "      <td>Branca</td>\n",
              "      <td>Não</td>\n",
              "      <td>Não acredito que minha experiência profissiona...</td>\n",
              "      <td>NaN</td>\n",
              "      <td>True</td>\n",
              "      <td>...</td>\n",
              "      <td>Tecnologia/Fábrica de Software</td>\n",
              "      <td>de 6 a 10</td>\n",
              "      <td>0.0</td>\n",
              "      <td>NaN</td>\n",
              "      <td>Desenvolvedor/ Engenheiro de Software/ Analist...</td>\n",
              "      <td>Júnior</td>\n",
              "      <td>de R$ 2.001/mês a R$ 3.000/mês</td>\n",
              "      <td>Menos de 1 ano</td>\n",
              "      <td>Menos de 1 ano</td>\n",
              "      <td>2704.0</td>\n",
              "    </tr>\n",
              "    <tr>\n",
              "      <th>9</th>\n",
              "      <td>9</td>\n",
              "      <td>zxc3d314cn1c2ovmzxc34ha7nkw1na3j</td>\n",
              "      <td>NaN</td>\n",
              "      <td>55+</td>\n",
              "      <td>Feminino</td>\n",
              "      <td>Parda</td>\n",
              "      <td>Não</td>\n",
              "      <td>Não acredito que minha experiência profissiona...</td>\n",
              "      <td>NaN</td>\n",
              "      <td>True</td>\n",
              "      <td>...</td>\n",
              "      <td>Educação</td>\n",
              "      <td>Acima de 3.000</td>\n",
              "      <td>0.0</td>\n",
              "      <td>NaN</td>\n",
              "      <td>Professor</td>\n",
              "      <td>Pleno</td>\n",
              "      <td>de R$ 8.001/mês a R$ 12.000/mês</td>\n",
              "      <td>Mais de 10 anos</td>\n",
              "      <td>Não tive experiência na área de TI/Engenharia ...</td>\n",
              "      <td>10822.0</td>\n",
              "    </tr>\n",
              "    <tr>\n",
              "      <th>10</th>\n",
              "      <td>10</td>\n",
              "      <td>zwy34gktg0tfjq2ttjvazwy34gg3g49i</td>\n",
              "      <td>25.0</td>\n",
              "      <td>25-29</td>\n",
              "      <td>Feminino</td>\n",
              "      <td>Parda</td>\n",
              "      <td>Não</td>\n",
              "      <td>Não acredito que minha experiência profissiona...</td>\n",
              "      <td>NaN</td>\n",
              "      <td>True</td>\n",
              "      <td>...</td>\n",
              "      <td>Varejo</td>\n",
              "      <td>de 101 a 500</td>\n",
              "      <td>0.0</td>\n",
              "      <td>NaN</td>\n",
              "      <td>Analista de BI/BI Analyst</td>\n",
              "      <td>Júnior</td>\n",
              "      <td>de R$ 3.001/mês a R$ 4.000/mês</td>\n",
              "      <td>Menos de 1 ano</td>\n",
              "      <td>Não tive experiência na área de TI/Engenharia ...</td>\n",
              "      <td>3450.0</td>\n",
              "    </tr>\n",
              "    <tr>\n",
              "      <th>...</th>\n",
              "      <td>...</td>\n",
              "      <td>...</td>\n",
              "      <td>...</td>\n",
              "      <td>...</td>\n",
              "      <td>...</td>\n",
              "      <td>...</td>\n",
              "      <td>...</td>\n",
              "      <td>...</td>\n",
              "      <td>...</td>\n",
              "      <td>...</td>\n",
              "      <td>...</td>\n",
              "      <td>...</td>\n",
              "      <td>...</td>\n",
              "      <td>...</td>\n",
              "      <td>...</td>\n",
              "      <td>...</td>\n",
              "      <td>...</td>\n",
              "      <td>...</td>\n",
              "      <td>...</td>\n",
              "      <td>...</td>\n",
              "      <td>...</td>\n",
              "    </tr>\n",
              "    <tr>\n",
              "      <th>4248</th>\n",
              "      <td>4248</td>\n",
              "      <td>070o4zayoboztox764qu070o4zafbqrd</td>\n",
              "      <td>27.0</td>\n",
              "      <td>25-29</td>\n",
              "      <td>Feminino</td>\n",
              "      <td>Branca</td>\n",
              "      <td>Não</td>\n",
              "      <td>Não acredito que minha experiência profissiona...</td>\n",
              "      <td>NaN</td>\n",
              "      <td>True</td>\n",
              "      <td>...</td>\n",
              "      <td>Finanças ou Bancos</td>\n",
              "      <td>de 101 a 500</td>\n",
              "      <td>0.0</td>\n",
              "      <td>NaN</td>\n",
              "      <td>Cientista de Dados/Data Scientist</td>\n",
              "      <td>Pleno</td>\n",
              "      <td>de R$ 4.001/mês a R$ 6.000/mês</td>\n",
              "      <td>de 1 a 2 anos</td>\n",
              "      <td>Não tive experiência na área de TI/Engenharia ...</td>\n",
              "      <td>4781.0</td>\n",
              "    </tr>\n",
              "    <tr>\n",
              "      <th>4251</th>\n",
              "      <td>4251</td>\n",
              "      <td>068hhicrqggu068huq0l2ab3g7liagy8</td>\n",
              "      <td>34.0</td>\n",
              "      <td>30-34</td>\n",
              "      <td>Feminino</td>\n",
              "      <td>Preta</td>\n",
              "      <td>Não</td>\n",
              "      <td>Não acredito que minha experiência profissiona...</td>\n",
              "      <td>NaN</td>\n",
              "      <td>True</td>\n",
              "      <td>...</td>\n",
              "      <td>Finanças ou Bancos</td>\n",
              "      <td>de 1.001 a 3.000</td>\n",
              "      <td>0.0</td>\n",
              "      <td>NaN</td>\n",
              "      <td>Engenheiro de Dados/Arquiteto de Dados/Data En...</td>\n",
              "      <td>Pleno</td>\n",
              "      <td>de R$ 4.001/mês a R$ 6.000/mês</td>\n",
              "      <td>Menos de 1 ano</td>\n",
              "      <td>Menos de 1 ano</td>\n",
              "      <td>5673.0</td>\n",
              "    </tr>\n",
              "    <tr>\n",
              "      <th>4258</th>\n",
              "      <td>4258</td>\n",
              "      <td>03zjgijmnwv9qrlzbr03zjgij1eae1hw</td>\n",
              "      <td>25.0</td>\n",
              "      <td>25-29</td>\n",
              "      <td>Feminino</td>\n",
              "      <td>Branca</td>\n",
              "      <td>Não</td>\n",
              "      <td>Sim, acredito que a minha a experiência profis...</td>\n",
              "      <td>Senioridade das vagas recebidas em relação à s...</td>\n",
              "      <td>True</td>\n",
              "      <td>...</td>\n",
              "      <td>NaN</td>\n",
              "      <td>NaN</td>\n",
              "      <td>NaN</td>\n",
              "      <td>NaN</td>\n",
              "      <td>NaN</td>\n",
              "      <td>NaN</td>\n",
              "      <td>NaN</td>\n",
              "      <td>NaN</td>\n",
              "      <td>NaN</td>\n",
              "      <td>NaN</td>\n",
              "    </tr>\n",
              "    <tr>\n",
              "      <th>4259</th>\n",
              "      <td>4259</td>\n",
              "      <td>03n2lq8st9zobnowu3w03n2lqi0flz2w</td>\n",
              "      <td>28.0</td>\n",
              "      <td>25-29</td>\n",
              "      <td>Feminino</td>\n",
              "      <td>Branca</td>\n",
              "      <td>Não</td>\n",
              "      <td>Sim, acredito que a minha a experiência profis...</td>\n",
              "      <td>Relação com outros membros da empresa, em mome...</td>\n",
              "      <td>True</td>\n",
              "      <td>...</td>\n",
              "      <td>Finanças ou Bancos</td>\n",
              "      <td>Acima de 3.000</td>\n",
              "      <td>1.0</td>\n",
              "      <td>Supervisor/Coordenador</td>\n",
              "      <td>NaN</td>\n",
              "      <td>NaN</td>\n",
              "      <td>de R$ 20.001/mês a R$ 25.000/mês</td>\n",
              "      <td>de 4 a 6 anos</td>\n",
              "      <td>Não tive experiência na área de TI/Engenharia ...</td>\n",
              "      <td>24963.0</td>\n",
              "    </tr>\n",
              "    <tr>\n",
              "      <th>4267</th>\n",
              "      <td>4267</td>\n",
              "      <td>01dyfxam4u4bi29fem01dyfxaq9akvqp</td>\n",
              "      <td>30.0</td>\n",
              "      <td>30-34</td>\n",
              "      <td>Feminino</td>\n",
              "      <td>Branca</td>\n",
              "      <td>Não</td>\n",
              "      <td>Não acredito que minha experiência profissiona...</td>\n",
              "      <td>NaN</td>\n",
              "      <td>True</td>\n",
              "      <td>...</td>\n",
              "      <td>Área de Consultoria</td>\n",
              "      <td>de 51 a 100</td>\n",
              "      <td>0.0</td>\n",
              "      <td>NaN</td>\n",
              "      <td>Engenheiro de Dados/Arquiteto de Dados/Data En...</td>\n",
              "      <td>Pleno</td>\n",
              "      <td>de R$ 3.001/mês a R$ 4.000/mês</td>\n",
              "      <td>de 1 a 2 anos</td>\n",
              "      <td>Não tive experiência na área de TI/Engenharia ...</td>\n",
              "      <td>3758.0</td>\n",
              "    </tr>\n",
              "  </tbody>\n",
              "</table>\n",
              "<p>1056 rows × 28 columns</p>\n",
              "</div>"
            ],
            "text/plain": [
              "      Unnamed: 0                                ID  IDADE FAIXA IDADE  \\\n",
              "4              4  zzaf1m95yan929rb94wzzaf1mekhvhpg   46.0       45-49   \n",
              "5              5  zz0nlhbd8oxyiyxzz0nlh7g4xkiaza5v   32.0       30-34   \n",
              "7              7  zyc0twzno2sm5or5ovoxzyc0twz0300d   31.0       30-34   \n",
              "9              9  zxc3d314cn1c2ovmzxc34ha7nkw1na3j    NaN         55+   \n",
              "10            10  zwy34gktg0tfjq2ttjvazwy34gg3g49i   25.0       25-29   \n",
              "...          ...                               ...    ...         ...   \n",
              "4248        4248  070o4zayoboztox764qu070o4zafbqrd   27.0       25-29   \n",
              "4251        4251  068hhicrqggu068huq0l2ab3g7liagy8   34.0       30-34   \n",
              "4258        4258  03zjgijmnwv9qrlzbr03zjgij1eae1hw   25.0       25-29   \n",
              "4259        4259  03n2lq8st9zobnowu3w03n2lqi0flz2w   28.0       25-29   \n",
              "4267        4267  01dyfxam4u4bi29fem01dyfxaq9akvqp   30.0       30-34   \n",
              "\n",
              "        GENERO COR/RACA/ETNIA  PCD  \\\n",
              "4     Feminino         Branca  Não   \n",
              "5     Feminino          Parda  Não   \n",
              "7     Feminino         Branca  Não   \n",
              "9     Feminino          Parda  Não   \n",
              "10    Feminino          Parda  Não   \n",
              "...        ...            ...  ...   \n",
              "4248  Feminino         Branca  Não   \n",
              "4251  Feminino          Preta  Não   \n",
              "4258  Feminino         Branca  Não   \n",
              "4259  Feminino         Branca  Não   \n",
              "4267  Feminino         Branca  Não   \n",
              "\n",
              "                   EXPERIENCIA_PROFISSIONAL_PREJUDICADA  \\\n",
              "4     Não acredito que minha experiência profissiona...   \n",
              "5     Não acredito que minha experiência profissiona...   \n",
              "7     Não acredito que minha experiência profissiona...   \n",
              "9     Não acredito que minha experiência profissiona...   \n",
              "10    Não acredito que minha experiência profissiona...   \n",
              "...                                                 ...   \n",
              "4248  Não acredito que minha experiência profissiona...   \n",
              "4251  Não acredito que minha experiência profissiona...   \n",
              "4258  Sim, acredito que a minha a experiência profis...   \n",
              "4259  Sim, acredito que a minha a experiência profis...   \n",
              "4267  Não acredito que minha experiência profissiona...   \n",
              "\n",
              "                                  ASPECTOS_PREJUDICADOS  VIVE_NO_BRASIL  ...  \\\n",
              "4                                                   NaN            True  ...   \n",
              "5                                                   NaN            True  ...   \n",
              "7                                                   NaN            True  ...   \n",
              "9                                                   NaN            True  ...   \n",
              "10                                                  NaN            True  ...   \n",
              "...                                                 ...             ...  ...   \n",
              "4248                                                NaN            True  ...   \n",
              "4251                                                NaN            True  ...   \n",
              "4258  Senioridade das vagas recebidas em relação à s...            True  ...   \n",
              "4259  Relação com outros membros da empresa, em mome...            True  ...   \n",
              "4267                                                NaN            True  ...   \n",
              "\n",
              "                               SETOR NUMERO DE FUNCIONARIOS GESTOR?  \\\n",
              "4                      Setor Público           de 101 a 500     0.0   \n",
              "5                           Educação         Acima de 3.000     0.0   \n",
              "7     Tecnologia/Fábrica de Software              de 6 a 10     0.0   \n",
              "9                           Educação         Acima de 3.000     0.0   \n",
              "10                            Varejo           de 101 a 500     0.0   \n",
              "...                              ...                    ...     ...   \n",
              "4248              Finanças ou Bancos           de 101 a 500     0.0   \n",
              "4251              Finanças ou Bancos       de 1.001 a 3.000     0.0   \n",
              "4258                             NaN                    NaN     NaN   \n",
              "4259              Finanças ou Bancos         Acima de 3.000     1.0   \n",
              "4267             Área de Consultoria            de 51 a 100     0.0   \n",
              "\n",
              "           CARGO COMO GESTOR  \\\n",
              "4                        NaN   \n",
              "5                        NaN   \n",
              "7                        NaN   \n",
              "9                        NaN   \n",
              "10                       NaN   \n",
              "...                      ...   \n",
              "4248                     NaN   \n",
              "4251                     NaN   \n",
              "4258                     NaN   \n",
              "4259  Supervisor/Coordenador   \n",
              "4267                     NaN   \n",
              "\n",
              "                                            CARGO ATUAL   NIVEL  \\\n",
              "4     Desenvolvedor/ Engenheiro de Software/ Analist...   Pleno   \n",
              "5                                             Professor   Pleno   \n",
              "7     Desenvolvedor/ Engenheiro de Software/ Analist...  Júnior   \n",
              "9                                             Professor   Pleno   \n",
              "10                            Analista de BI/BI Analyst  Júnior   \n",
              "...                                                 ...     ...   \n",
              "4248                  Cientista de Dados/Data Scientist   Pleno   \n",
              "4251  Engenheiro de Dados/Arquiteto de Dados/Data En...   Pleno   \n",
              "4258                                                NaN     NaN   \n",
              "4259                                                NaN     NaN   \n",
              "4267  Engenheiro de Dados/Arquiteto de Dados/Data En...   Pleno   \n",
              "\n",
              "                        FAIXA SALARIAL  \\\n",
              "4       de R$ 6.001/mês a R$ 8.000/mês   \n",
              "5       de R$ 2.001/mês a R$ 3.000/mês   \n",
              "7       de R$ 2.001/mês a R$ 3.000/mês   \n",
              "9      de R$ 8.001/mês a R$ 12.000/mês   \n",
              "10      de R$ 3.001/mês a R$ 4.000/mês   \n",
              "...                                ...   \n",
              "4248    de R$ 4.001/mês a R$ 6.000/mês   \n",
              "4251    de R$ 4.001/mês a R$ 6.000/mês   \n",
              "4258                               NaN   \n",
              "4259  de R$ 20.001/mês a R$ 25.000/mês   \n",
              "4267    de R$ 3.001/mês a R$ 4.000/mês   \n",
              "\n",
              "     QUANTO TEMPO DE EXPERIÊNCIA NA ÁREA DE DADOS VOCÊ TEM?  \\\n",
              "4                Não tenho experiência na área de dados       \n",
              "5                Não tenho experiência na área de dados       \n",
              "7                                        Menos de 1 ano       \n",
              "9                                       Mais de 10 anos       \n",
              "10                                       Menos de 1 ano       \n",
              "...                                                 ...       \n",
              "4248                                      de 1 a 2 anos       \n",
              "4251                                     Menos de 1 ano       \n",
              "4258                                                NaN       \n",
              "4259                                      de 4 a 6 anos       \n",
              "4267                                      de 1 a 2 anos       \n",
              "\n",
              "     QUANTO TEMPO DE EXPERIÊNCIA NA ÁREA DE TI/ENGENHARIA DE SOFTWARE VOCÊ TEVE ANTES DE COMEÇAR A TRABALHAR NA ÁREA DE DADOS?  \\\n",
              "4                                       Mais de 10 anos                                                                          \n",
              "5     Não tive experiência na área de TI/Engenharia ...                                                                          \n",
              "7                                        Menos de 1 ano                                                                          \n",
              "9     Não tive experiência na área de TI/Engenharia ...                                                                          \n",
              "10    Não tive experiência na área de TI/Engenharia ...                                                                          \n",
              "...                                                 ...                                                                          \n",
              "4248  Não tive experiência na área de TI/Engenharia ...                                                                          \n",
              "4251                                     Menos de 1 ano                                                                          \n",
              "4258                                                NaN                                                                          \n",
              "4259  Não tive experiência na área de TI/Engenharia ...                                                                          \n",
              "4267  Não tive experiência na área de TI/Engenharia ...                                                                          \n",
              "\n",
              "      SALARIO  \n",
              "4      7733.0  \n",
              "5      2336.0  \n",
              "7      2704.0  \n",
              "9     10822.0  \n",
              "10     3450.0  \n",
              "...       ...  \n",
              "4248   4781.0  \n",
              "4251   5673.0  \n",
              "4258      NaN  \n",
              "4259  24963.0  \n",
              "4267   3758.0  \n",
              "\n",
              "[1056 rows x 28 columns]"
            ]
          },
          "execution_count": 14,
          "metadata": {},
          "output_type": "execute_result"
        }
      ],
      "source": [
        "dados[dados['GENERO']=='Feminino']"
      ]
    },
    {
      "cell_type": "code",
      "execution_count": 15,
      "metadata": {
        "colab": {
          "base_uri": "https://localhost:8080/",
          "height": 1000
        },
        "id": "DdG4HvP4wV59",
        "outputId": "1dd3a4e1-63fb-4f35-f431-bde213c88787"
      },
      "outputs": [
        {
          "data": {
            "text/html": [
              "<div>\n",
              "<style scoped>\n",
              "    .dataframe tbody tr th:only-of-type {\n",
              "        vertical-align: middle;\n",
              "    }\n",
              "\n",
              "    .dataframe tbody tr th {\n",
              "        vertical-align: top;\n",
              "    }\n",
              "\n",
              "    .dataframe thead th {\n",
              "        text-align: right;\n",
              "    }\n",
              "</style>\n",
              "<table border=\"1\" class=\"dataframe\">\n",
              "  <thead>\n",
              "    <tr style=\"text-align: right;\">\n",
              "      <th></th>\n",
              "      <th>Unnamed: 0</th>\n",
              "      <th>ID</th>\n",
              "      <th>IDADE</th>\n",
              "      <th>FAIXA IDADE</th>\n",
              "      <th>GENERO</th>\n",
              "      <th>COR/RACA/ETNIA</th>\n",
              "      <th>PCD</th>\n",
              "      <th>EXPERIENCIA_PROFISSIONAL_PREJUDICADA</th>\n",
              "      <th>ASPECTOS_PREJUDICADOS</th>\n",
              "      <th>VIVE_NO_BRASIL</th>\n",
              "      <th>...</th>\n",
              "      <th>SETOR</th>\n",
              "      <th>NUMERO DE FUNCIONARIOS</th>\n",
              "      <th>GESTOR?</th>\n",
              "      <th>CARGO COMO GESTOR</th>\n",
              "      <th>CARGO ATUAL</th>\n",
              "      <th>NIVEL</th>\n",
              "      <th>FAIXA SALARIAL</th>\n",
              "      <th>QUANTO TEMPO DE EXPERIÊNCIA NA ÁREA DE DADOS VOCÊ TEM?</th>\n",
              "      <th>QUANTO TEMPO DE EXPERIÊNCIA NA ÁREA DE TI/ENGENHARIA DE SOFTWARE VOCÊ TEVE ANTES DE COMEÇAR A TRABALHAR NA ÁREA DE DADOS?</th>\n",
              "      <th>SALARIO</th>\n",
              "    </tr>\n",
              "  </thead>\n",
              "  <tbody>\n",
              "    <tr>\n",
              "      <th>4</th>\n",
              "      <td>4</td>\n",
              "      <td>zzaf1m95yan929rb94wzzaf1mekhvhpg</td>\n",
              "      <td>46.0</td>\n",
              "      <td>45-49</td>\n",
              "      <td>Feminino</td>\n",
              "      <td>Branca</td>\n",
              "      <td>Não</td>\n",
              "      <td>Não acredito que minha experiência profissiona...</td>\n",
              "      <td>NaN</td>\n",
              "      <td>True</td>\n",
              "      <td>...</td>\n",
              "      <td>Setor Público</td>\n",
              "      <td>de 101 a 500</td>\n",
              "      <td>0.0</td>\n",
              "      <td>NaN</td>\n",
              "      <td>Desenvolvedor/ Engenheiro de Software/ Analist...</td>\n",
              "      <td>Pleno</td>\n",
              "      <td>de R$ 6.001/mês a R$ 8.000/mês</td>\n",
              "      <td>Não tenho experiência na área de dados</td>\n",
              "      <td>Mais de 10 anos</td>\n",
              "      <td>7733.0</td>\n",
              "    </tr>\n",
              "    <tr>\n",
              "      <th>5</th>\n",
              "      <td>5</td>\n",
              "      <td>zz0nlhbd8oxyiyxzz0nlh7g4xkiaza5v</td>\n",
              "      <td>32.0</td>\n",
              "      <td>30-34</td>\n",
              "      <td>Feminino</td>\n",
              "      <td>Parda</td>\n",
              "      <td>Não</td>\n",
              "      <td>Não acredito que minha experiência profissiona...</td>\n",
              "      <td>NaN</td>\n",
              "      <td>True</td>\n",
              "      <td>...</td>\n",
              "      <td>Educação</td>\n",
              "      <td>Acima de 3.000</td>\n",
              "      <td>0.0</td>\n",
              "      <td>NaN</td>\n",
              "      <td>Professor</td>\n",
              "      <td>Pleno</td>\n",
              "      <td>de R$ 2.001/mês a R$ 3.000/mês</td>\n",
              "      <td>Não tenho experiência na área de dados</td>\n",
              "      <td>Não tive experiência na área de TI/Engenharia ...</td>\n",
              "      <td>2336.0</td>\n",
              "    </tr>\n",
              "    <tr>\n",
              "      <th>7</th>\n",
              "      <td>7</td>\n",
              "      <td>zyc0twzno2sm5or5ovoxzyc0twz0300d</td>\n",
              "      <td>31.0</td>\n",
              "      <td>30-34</td>\n",
              "      <td>Feminino</td>\n",
              "      <td>Branca</td>\n",
              "      <td>Não</td>\n",
              "      <td>Não acredito que minha experiência profissiona...</td>\n",
              "      <td>NaN</td>\n",
              "      <td>True</td>\n",
              "      <td>...</td>\n",
              "      <td>Tecnologia/Fábrica de Software</td>\n",
              "      <td>de 6 a 10</td>\n",
              "      <td>0.0</td>\n",
              "      <td>NaN</td>\n",
              "      <td>Desenvolvedor/ Engenheiro de Software/ Analist...</td>\n",
              "      <td>Júnior</td>\n",
              "      <td>de R$ 2.001/mês a R$ 3.000/mês</td>\n",
              "      <td>Menos de 1 ano</td>\n",
              "      <td>Menos de 1 ano</td>\n",
              "      <td>2704.0</td>\n",
              "    </tr>\n",
              "    <tr>\n",
              "      <th>9</th>\n",
              "      <td>9</td>\n",
              "      <td>zxc3d314cn1c2ovmzxc34ha7nkw1na3j</td>\n",
              "      <td>NaN</td>\n",
              "      <td>55+</td>\n",
              "      <td>Feminino</td>\n",
              "      <td>Parda</td>\n",
              "      <td>Não</td>\n",
              "      <td>Não acredito que minha experiência profissiona...</td>\n",
              "      <td>NaN</td>\n",
              "      <td>True</td>\n",
              "      <td>...</td>\n",
              "      <td>Educação</td>\n",
              "      <td>Acima de 3.000</td>\n",
              "      <td>0.0</td>\n",
              "      <td>NaN</td>\n",
              "      <td>Professor</td>\n",
              "      <td>Pleno</td>\n",
              "      <td>de R$ 8.001/mês a R$ 12.000/mês</td>\n",
              "      <td>Mais de 10 anos</td>\n",
              "      <td>Não tive experiência na área de TI/Engenharia ...</td>\n",
              "      <td>10822.0</td>\n",
              "    </tr>\n",
              "    <tr>\n",
              "      <th>10</th>\n",
              "      <td>10</td>\n",
              "      <td>zwy34gktg0tfjq2ttjvazwy34gg3g49i</td>\n",
              "      <td>25.0</td>\n",
              "      <td>25-29</td>\n",
              "      <td>Feminino</td>\n",
              "      <td>Parda</td>\n",
              "      <td>Não</td>\n",
              "      <td>Não acredito que minha experiência profissiona...</td>\n",
              "      <td>NaN</td>\n",
              "      <td>True</td>\n",
              "      <td>...</td>\n",
              "      <td>Varejo</td>\n",
              "      <td>de 101 a 500</td>\n",
              "      <td>0.0</td>\n",
              "      <td>NaN</td>\n",
              "      <td>Analista de BI/BI Analyst</td>\n",
              "      <td>Júnior</td>\n",
              "      <td>de R$ 3.001/mês a R$ 4.000/mês</td>\n",
              "      <td>Menos de 1 ano</td>\n",
              "      <td>Não tive experiência na área de TI/Engenharia ...</td>\n",
              "      <td>3450.0</td>\n",
              "    </tr>\n",
              "    <tr>\n",
              "      <th>...</th>\n",
              "      <td>...</td>\n",
              "      <td>...</td>\n",
              "      <td>...</td>\n",
              "      <td>...</td>\n",
              "      <td>...</td>\n",
              "      <td>...</td>\n",
              "      <td>...</td>\n",
              "      <td>...</td>\n",
              "      <td>...</td>\n",
              "      <td>...</td>\n",
              "      <td>...</td>\n",
              "      <td>...</td>\n",
              "      <td>...</td>\n",
              "      <td>...</td>\n",
              "      <td>...</td>\n",
              "      <td>...</td>\n",
              "      <td>...</td>\n",
              "      <td>...</td>\n",
              "      <td>...</td>\n",
              "      <td>...</td>\n",
              "      <td>...</td>\n",
              "    </tr>\n",
              "    <tr>\n",
              "      <th>4248</th>\n",
              "      <td>4248</td>\n",
              "      <td>070o4zayoboztox764qu070o4zafbqrd</td>\n",
              "      <td>27.0</td>\n",
              "      <td>25-29</td>\n",
              "      <td>Feminino</td>\n",
              "      <td>Branca</td>\n",
              "      <td>Não</td>\n",
              "      <td>Não acredito que minha experiência profissiona...</td>\n",
              "      <td>NaN</td>\n",
              "      <td>True</td>\n",
              "      <td>...</td>\n",
              "      <td>Finanças ou Bancos</td>\n",
              "      <td>de 101 a 500</td>\n",
              "      <td>0.0</td>\n",
              "      <td>NaN</td>\n",
              "      <td>Cientista de Dados/Data Scientist</td>\n",
              "      <td>Pleno</td>\n",
              "      <td>de R$ 4.001/mês a R$ 6.000/mês</td>\n",
              "      <td>de 1 a 2 anos</td>\n",
              "      <td>Não tive experiência na área de TI/Engenharia ...</td>\n",
              "      <td>4781.0</td>\n",
              "    </tr>\n",
              "    <tr>\n",
              "      <th>4251</th>\n",
              "      <td>4251</td>\n",
              "      <td>068hhicrqggu068huq0l2ab3g7liagy8</td>\n",
              "      <td>34.0</td>\n",
              "      <td>30-34</td>\n",
              "      <td>Feminino</td>\n",
              "      <td>Preta</td>\n",
              "      <td>Não</td>\n",
              "      <td>Não acredito que minha experiência profissiona...</td>\n",
              "      <td>NaN</td>\n",
              "      <td>True</td>\n",
              "      <td>...</td>\n",
              "      <td>Finanças ou Bancos</td>\n",
              "      <td>de 1.001 a 3.000</td>\n",
              "      <td>0.0</td>\n",
              "      <td>NaN</td>\n",
              "      <td>Engenheiro de Dados/Arquiteto de Dados/Data En...</td>\n",
              "      <td>Pleno</td>\n",
              "      <td>de R$ 4.001/mês a R$ 6.000/mês</td>\n",
              "      <td>Menos de 1 ano</td>\n",
              "      <td>Menos de 1 ano</td>\n",
              "      <td>5673.0</td>\n",
              "    </tr>\n",
              "    <tr>\n",
              "      <th>4258</th>\n",
              "      <td>4258</td>\n",
              "      <td>03zjgijmnwv9qrlzbr03zjgij1eae1hw</td>\n",
              "      <td>25.0</td>\n",
              "      <td>25-29</td>\n",
              "      <td>Feminino</td>\n",
              "      <td>Branca</td>\n",
              "      <td>Não</td>\n",
              "      <td>Sim, acredito que a minha a experiência profis...</td>\n",
              "      <td>Senioridade das vagas recebidas em relação à s...</td>\n",
              "      <td>True</td>\n",
              "      <td>...</td>\n",
              "      <td>NaN</td>\n",
              "      <td>NaN</td>\n",
              "      <td>NaN</td>\n",
              "      <td>NaN</td>\n",
              "      <td>NaN</td>\n",
              "      <td>NaN</td>\n",
              "      <td>NaN</td>\n",
              "      <td>NaN</td>\n",
              "      <td>NaN</td>\n",
              "      <td>NaN</td>\n",
              "    </tr>\n",
              "    <tr>\n",
              "      <th>4259</th>\n",
              "      <td>4259</td>\n",
              "      <td>03n2lq8st9zobnowu3w03n2lqi0flz2w</td>\n",
              "      <td>28.0</td>\n",
              "      <td>25-29</td>\n",
              "      <td>Feminino</td>\n",
              "      <td>Branca</td>\n",
              "      <td>Não</td>\n",
              "      <td>Sim, acredito que a minha a experiência profis...</td>\n",
              "      <td>Relação com outros membros da empresa, em mome...</td>\n",
              "      <td>True</td>\n",
              "      <td>...</td>\n",
              "      <td>Finanças ou Bancos</td>\n",
              "      <td>Acima de 3.000</td>\n",
              "      <td>1.0</td>\n",
              "      <td>Supervisor/Coordenador</td>\n",
              "      <td>NaN</td>\n",
              "      <td>NaN</td>\n",
              "      <td>de R$ 20.001/mês a R$ 25.000/mês</td>\n",
              "      <td>de 4 a 6 anos</td>\n",
              "      <td>Não tive experiência na área de TI/Engenharia ...</td>\n",
              "      <td>24963.0</td>\n",
              "    </tr>\n",
              "    <tr>\n",
              "      <th>4267</th>\n",
              "      <td>4267</td>\n",
              "      <td>01dyfxam4u4bi29fem01dyfxaq9akvqp</td>\n",
              "      <td>30.0</td>\n",
              "      <td>30-34</td>\n",
              "      <td>Feminino</td>\n",
              "      <td>Branca</td>\n",
              "      <td>Não</td>\n",
              "      <td>Não acredito que minha experiência profissiona...</td>\n",
              "      <td>NaN</td>\n",
              "      <td>True</td>\n",
              "      <td>...</td>\n",
              "      <td>Área de Consultoria</td>\n",
              "      <td>de 51 a 100</td>\n",
              "      <td>0.0</td>\n",
              "      <td>NaN</td>\n",
              "      <td>Engenheiro de Dados/Arquiteto de Dados/Data En...</td>\n",
              "      <td>Pleno</td>\n",
              "      <td>de R$ 3.001/mês a R$ 4.000/mês</td>\n",
              "      <td>de 1 a 2 anos</td>\n",
              "      <td>Não tive experiência na área de TI/Engenharia ...</td>\n",
              "      <td>3758.0</td>\n",
              "    </tr>\n",
              "  </tbody>\n",
              "</table>\n",
              "<p>1077 rows × 28 columns</p>\n",
              "</div>"
            ],
            "text/plain": [
              "      Unnamed: 0                                ID  IDADE FAIXA IDADE  \\\n",
              "4              4  zzaf1m95yan929rb94wzzaf1mekhvhpg   46.0       45-49   \n",
              "5              5  zz0nlhbd8oxyiyxzz0nlh7g4xkiaza5v   32.0       30-34   \n",
              "7              7  zyc0twzno2sm5or5ovoxzyc0twz0300d   31.0       30-34   \n",
              "9              9  zxc3d314cn1c2ovmzxc34ha7nkw1na3j    NaN         55+   \n",
              "10            10  zwy34gktg0tfjq2ttjvazwy34gg3g49i   25.0       25-29   \n",
              "...          ...                               ...    ...         ...   \n",
              "4248        4248  070o4zayoboztox764qu070o4zafbqrd   27.0       25-29   \n",
              "4251        4251  068hhicrqggu068huq0l2ab3g7liagy8   34.0       30-34   \n",
              "4258        4258  03zjgijmnwv9qrlzbr03zjgij1eae1hw   25.0       25-29   \n",
              "4259        4259  03n2lq8st9zobnowu3w03n2lqi0flz2w   28.0       25-29   \n",
              "4267        4267  01dyfxam4u4bi29fem01dyfxaq9akvqp   30.0       30-34   \n",
              "\n",
              "        GENERO COR/RACA/ETNIA  PCD  \\\n",
              "4     Feminino         Branca  Não   \n",
              "5     Feminino          Parda  Não   \n",
              "7     Feminino         Branca  Não   \n",
              "9     Feminino          Parda  Não   \n",
              "10    Feminino          Parda  Não   \n",
              "...        ...            ...  ...   \n",
              "4248  Feminino         Branca  Não   \n",
              "4251  Feminino          Preta  Não   \n",
              "4258  Feminino         Branca  Não   \n",
              "4259  Feminino         Branca  Não   \n",
              "4267  Feminino         Branca  Não   \n",
              "\n",
              "                   EXPERIENCIA_PROFISSIONAL_PREJUDICADA  \\\n",
              "4     Não acredito que minha experiência profissiona...   \n",
              "5     Não acredito que minha experiência profissiona...   \n",
              "7     Não acredito que minha experiência profissiona...   \n",
              "9     Não acredito que minha experiência profissiona...   \n",
              "10    Não acredito que minha experiência profissiona...   \n",
              "...                                                 ...   \n",
              "4248  Não acredito que minha experiência profissiona...   \n",
              "4251  Não acredito que minha experiência profissiona...   \n",
              "4258  Sim, acredito que a minha a experiência profis...   \n",
              "4259  Sim, acredito que a minha a experiência profis...   \n",
              "4267  Não acredito que minha experiência profissiona...   \n",
              "\n",
              "                                  ASPECTOS_PREJUDICADOS  VIVE_NO_BRASIL  ...  \\\n",
              "4                                                   NaN            True  ...   \n",
              "5                                                   NaN            True  ...   \n",
              "7                                                   NaN            True  ...   \n",
              "9                                                   NaN            True  ...   \n",
              "10                                                  NaN            True  ...   \n",
              "...                                                 ...             ...  ...   \n",
              "4248                                                NaN            True  ...   \n",
              "4251                                                NaN            True  ...   \n",
              "4258  Senioridade das vagas recebidas em relação à s...            True  ...   \n",
              "4259  Relação com outros membros da empresa, em mome...            True  ...   \n",
              "4267                                                NaN            True  ...   \n",
              "\n",
              "                               SETOR NUMERO DE FUNCIONARIOS GESTOR?  \\\n",
              "4                      Setor Público           de 101 a 500     0.0   \n",
              "5                           Educação         Acima de 3.000     0.0   \n",
              "7     Tecnologia/Fábrica de Software              de 6 a 10     0.0   \n",
              "9                           Educação         Acima de 3.000     0.0   \n",
              "10                            Varejo           de 101 a 500     0.0   \n",
              "...                              ...                    ...     ...   \n",
              "4248              Finanças ou Bancos           de 101 a 500     0.0   \n",
              "4251              Finanças ou Bancos       de 1.001 a 3.000     0.0   \n",
              "4258                             NaN                    NaN     NaN   \n",
              "4259              Finanças ou Bancos         Acima de 3.000     1.0   \n",
              "4267             Área de Consultoria            de 51 a 100     0.0   \n",
              "\n",
              "           CARGO COMO GESTOR  \\\n",
              "4                        NaN   \n",
              "5                        NaN   \n",
              "7                        NaN   \n",
              "9                        NaN   \n",
              "10                       NaN   \n",
              "...                      ...   \n",
              "4248                     NaN   \n",
              "4251                     NaN   \n",
              "4258                     NaN   \n",
              "4259  Supervisor/Coordenador   \n",
              "4267                     NaN   \n",
              "\n",
              "                                            CARGO ATUAL   NIVEL  \\\n",
              "4     Desenvolvedor/ Engenheiro de Software/ Analist...   Pleno   \n",
              "5                                             Professor   Pleno   \n",
              "7     Desenvolvedor/ Engenheiro de Software/ Analist...  Júnior   \n",
              "9                                             Professor   Pleno   \n",
              "10                            Analista de BI/BI Analyst  Júnior   \n",
              "...                                                 ...     ...   \n",
              "4248                  Cientista de Dados/Data Scientist   Pleno   \n",
              "4251  Engenheiro de Dados/Arquiteto de Dados/Data En...   Pleno   \n",
              "4258                                                NaN     NaN   \n",
              "4259                                                NaN     NaN   \n",
              "4267  Engenheiro de Dados/Arquiteto de Dados/Data En...   Pleno   \n",
              "\n",
              "                        FAIXA SALARIAL  \\\n",
              "4       de R$ 6.001/mês a R$ 8.000/mês   \n",
              "5       de R$ 2.001/mês a R$ 3.000/mês   \n",
              "7       de R$ 2.001/mês a R$ 3.000/mês   \n",
              "9      de R$ 8.001/mês a R$ 12.000/mês   \n",
              "10      de R$ 3.001/mês a R$ 4.000/mês   \n",
              "...                                ...   \n",
              "4248    de R$ 4.001/mês a R$ 6.000/mês   \n",
              "4251    de R$ 4.001/mês a R$ 6.000/mês   \n",
              "4258                               NaN   \n",
              "4259  de R$ 20.001/mês a R$ 25.000/mês   \n",
              "4267    de R$ 3.001/mês a R$ 4.000/mês   \n",
              "\n",
              "     QUANTO TEMPO DE EXPERIÊNCIA NA ÁREA DE DADOS VOCÊ TEM?  \\\n",
              "4                Não tenho experiência na área de dados       \n",
              "5                Não tenho experiência na área de dados       \n",
              "7                                        Menos de 1 ano       \n",
              "9                                       Mais de 10 anos       \n",
              "10                                       Menos de 1 ano       \n",
              "...                                                 ...       \n",
              "4248                                      de 1 a 2 anos       \n",
              "4251                                     Menos de 1 ano       \n",
              "4258                                                NaN       \n",
              "4259                                      de 4 a 6 anos       \n",
              "4267                                      de 1 a 2 anos       \n",
              "\n",
              "     QUANTO TEMPO DE EXPERIÊNCIA NA ÁREA DE TI/ENGENHARIA DE SOFTWARE VOCÊ TEVE ANTES DE COMEÇAR A TRABALHAR NA ÁREA DE DADOS?  \\\n",
              "4                                       Mais de 10 anos                                                                          \n",
              "5     Não tive experiência na área de TI/Engenharia ...                                                                          \n",
              "7                                        Menos de 1 ano                                                                          \n",
              "9     Não tive experiência na área de TI/Engenharia ...                                                                          \n",
              "10    Não tive experiência na área de TI/Engenharia ...                                                                          \n",
              "...                                                 ...                                                                          \n",
              "4248  Não tive experiência na área de TI/Engenharia ...                                                                          \n",
              "4251                                     Menos de 1 ano                                                                          \n",
              "4258                                                NaN                                                                          \n",
              "4259  Não tive experiência na área de TI/Engenharia ...                                                                          \n",
              "4267  Não tive experiência na área de TI/Engenharia ...                                                                          \n",
              "\n",
              "      SALARIO  \n",
              "4      7733.0  \n",
              "5      2336.0  \n",
              "7      2704.0  \n",
              "9     10822.0  \n",
              "10     3450.0  \n",
              "...       ...  \n",
              "4248   4781.0  \n",
              "4251   5673.0  \n",
              "4258      NaN  \n",
              "4259  24963.0  \n",
              "4267   3758.0  \n",
              "\n",
              "[1077 rows x 28 columns]"
            ]
          },
          "execution_count": 15,
          "metadata": {},
          "output_type": "execute_result"
        }
      ],
      "source": [
        "dados[dados['GENERO']!='Masculino']"
      ]
    },
    {
      "cell_type": "code",
      "execution_count": 16,
      "metadata": {
        "colab": {
          "base_uri": "https://localhost:8080/",
          "height": 1000
        },
        "id": "s2kb_9R-w0En",
        "outputId": "189146ff-84ab-4c0a-ea64-5275b19acbd7"
      },
      "outputs": [
        {
          "data": {
            "text/html": [
              "<div>\n",
              "<style scoped>\n",
              "    .dataframe tbody tr th:only-of-type {\n",
              "        vertical-align: middle;\n",
              "    }\n",
              "\n",
              "    .dataframe tbody tr th {\n",
              "        vertical-align: top;\n",
              "    }\n",
              "\n",
              "    .dataframe thead th {\n",
              "        text-align: right;\n",
              "    }\n",
              "</style>\n",
              "<table border=\"1\" class=\"dataframe\">\n",
              "  <thead>\n",
              "    <tr style=\"text-align: right;\">\n",
              "      <th></th>\n",
              "      <th>Unnamed: 0</th>\n",
              "      <th>ID</th>\n",
              "      <th>IDADE</th>\n",
              "      <th>FAIXA IDADE</th>\n",
              "      <th>GENERO</th>\n",
              "      <th>COR/RACA/ETNIA</th>\n",
              "      <th>PCD</th>\n",
              "      <th>EXPERIENCIA_PROFISSIONAL_PREJUDICADA</th>\n",
              "      <th>ASPECTOS_PREJUDICADOS</th>\n",
              "      <th>VIVE_NO_BRASIL</th>\n",
              "      <th>...</th>\n",
              "      <th>SETOR</th>\n",
              "      <th>NUMERO DE FUNCIONARIOS</th>\n",
              "      <th>GESTOR?</th>\n",
              "      <th>CARGO COMO GESTOR</th>\n",
              "      <th>CARGO ATUAL</th>\n",
              "      <th>NIVEL</th>\n",
              "      <th>FAIXA SALARIAL</th>\n",
              "      <th>QUANTO TEMPO DE EXPERIÊNCIA NA ÁREA DE DADOS VOCÊ TEM?</th>\n",
              "      <th>QUANTO TEMPO DE EXPERIÊNCIA NA ÁREA DE TI/ENGENHARIA DE SOFTWARE VOCÊ TEVE ANTES DE COMEÇAR A TRABALHAR NA ÁREA DE DADOS?</th>\n",
              "      <th>SALARIO</th>\n",
              "    </tr>\n",
              "  </thead>\n",
              "  <tbody>\n",
              "    <tr>\n",
              "      <th>562</th>\n",
              "      <td>562</td>\n",
              "      <td>vhuw8xnpbmj6oh20xovhuwcbdl4a12ni</td>\n",
              "      <td>29.0</td>\n",
              "      <td>25-29</td>\n",
              "      <td>Prefiro não informar</td>\n",
              "      <td>Parda</td>\n",
              "      <td>Não</td>\n",
              "      <td>Sim, acredito que a minha a experiência profis...</td>\n",
              "      <td>Atenção dada pelas pessoas diante das minhas o...</td>\n",
              "      <td>True</td>\n",
              "      <td>...</td>\n",
              "      <td>NaN</td>\n",
              "      <td>NaN</td>\n",
              "      <td>NaN</td>\n",
              "      <td>NaN</td>\n",
              "      <td>NaN</td>\n",
              "      <td>NaN</td>\n",
              "      <td>NaN</td>\n",
              "      <td>NaN</td>\n",
              "      <td>NaN</td>\n",
              "      <td>NaN</td>\n",
              "    </tr>\n",
              "    <tr>\n",
              "      <th>1528</th>\n",
              "      <td>1528</td>\n",
              "      <td>n2ktdn33istvlu1ha4v3kn2ktdn1rsp1</td>\n",
              "      <td>NaN</td>\n",
              "      <td>55+</td>\n",
              "      <td>Prefiro não informar</td>\n",
              "      <td>Indígena</td>\n",
              "      <td>Prefiro não informar</td>\n",
              "      <td>Não acredito que minha experiência profissiona...</td>\n",
              "      <td>NaN</td>\n",
              "      <td>True</td>\n",
              "      <td>...</td>\n",
              "      <td>Setor Público</td>\n",
              "      <td>de 51 a 100</td>\n",
              "      <td>0.0</td>\n",
              "      <td>NaN</td>\n",
              "      <td>Analista de Suporte/Analista Técnico</td>\n",
              "      <td>Júnior</td>\n",
              "      <td>Menos de R$ 1.000/mês</td>\n",
              "      <td>Menos de 1 ano</td>\n",
              "      <td>Menos de 1 ano</td>\n",
              "      <td>826.0</td>\n",
              "    </tr>\n",
              "    <tr>\n",
              "      <th>1913</th>\n",
              "      <td>1913</td>\n",
              "      <td>k3as6jdh3w4jf4ztsw4kpkk3as6jdy19</td>\n",
              "      <td>30.0</td>\n",
              "      <td>30-34</td>\n",
              "      <td>Prefiro não informar</td>\n",
              "      <td>Prefiro não informar</td>\n",
              "      <td>Não</td>\n",
              "      <td>Não acredito que minha experiência profissiona...</td>\n",
              "      <td>NaN</td>\n",
              "      <td>True</td>\n",
              "      <td>...</td>\n",
              "      <td>Outra Opção</td>\n",
              "      <td>de 101 a 500</td>\n",
              "      <td>0.0</td>\n",
              "      <td>NaN</td>\n",
              "      <td>Analista de Dados/Data Analyst</td>\n",
              "      <td>Pleno</td>\n",
              "      <td>de R$ 8.001/mês a R$ 12.000/mês</td>\n",
              "      <td>Mais de 10 anos</td>\n",
              "      <td>de 3 a 4 anos</td>\n",
              "      <td>11476.0</td>\n",
              "    </tr>\n",
              "    <tr>\n",
              "      <th>1925</th>\n",
              "      <td>1925</td>\n",
              "      <td>jzppdwep2kpisqjjzppdh304v83cj7eu</td>\n",
              "      <td>NaN</td>\n",
              "      <td>17-21</td>\n",
              "      <td>Prefiro não informar</td>\n",
              "      <td>Prefiro não informar</td>\n",
              "      <td>Prefiro não informar</td>\n",
              "      <td>Sim, acredito que minha experiência profission...</td>\n",
              "      <td>Quantidade de oportunidades de emprego/vagas r...</td>\n",
              "      <td>False</td>\n",
              "      <td>...</td>\n",
              "      <td>Setor Farmaceutico</td>\n",
              "      <td>de 1 a 5</td>\n",
              "      <td>0.0</td>\n",
              "      <td>NaN</td>\n",
              "      <td>Outra Opção</td>\n",
              "      <td>Júnior</td>\n",
              "      <td>de R$ 2.001/mês a R$ 3.000/mês</td>\n",
              "      <td>de 1 a 2 anos</td>\n",
              "      <td>Menos de 1 ano</td>\n",
              "      <td>2294.0</td>\n",
              "    </tr>\n",
              "    <tr>\n",
              "      <th>2554</th>\n",
              "      <td>2554</td>\n",
              "      <td>f5l206z0hr9uh3nz2iiff5l206c0g10o</td>\n",
              "      <td>20.0</td>\n",
              "      <td>17-21</td>\n",
              "      <td>Prefiro não informar</td>\n",
              "      <td>Prefiro não informar</td>\n",
              "      <td>Não</td>\n",
              "      <td>Não acredito que minha experiência profissiona...</td>\n",
              "      <td>NaN</td>\n",
              "      <td>True</td>\n",
              "      <td>...</td>\n",
              "      <td>Setor Público</td>\n",
              "      <td>Acima de 3.000</td>\n",
              "      <td>0.0</td>\n",
              "      <td>NaN</td>\n",
              "      <td>Cientista de Dados/Data Scientist</td>\n",
              "      <td>Júnior</td>\n",
              "      <td>de R$ 1.001/mês a R$ 2.000/mês</td>\n",
              "      <td>de 1 a 2 anos</td>\n",
              "      <td>de 1 a 2 anos</td>\n",
              "      <td>1339.0</td>\n",
              "    </tr>\n",
              "    <tr>\n",
              "      <th>3090</th>\n",
              "      <td>3090</td>\n",
              "      <td>a6ugmsw7s8hu5aa6uglio5apj74fam9o</td>\n",
              "      <td>26.0</td>\n",
              "      <td>25-29</td>\n",
              "      <td>Prefiro não informar</td>\n",
              "      <td>Parda</td>\n",
              "      <td>Não</td>\n",
              "      <td>Não acredito que minha experiência profissiona...</td>\n",
              "      <td>NaN</td>\n",
              "      <td>True</td>\n",
              "      <td>...</td>\n",
              "      <td>Educação</td>\n",
              "      <td>de 101 a 500</td>\n",
              "      <td>1.0</td>\n",
              "      <td>Team Leader/Tech Leader</td>\n",
              "      <td>NaN</td>\n",
              "      <td>NaN</td>\n",
              "      <td>de R$ 8.001/mês a R$ 12.000/mês</td>\n",
              "      <td>de 1 a 2 anos</td>\n",
              "      <td>Não tive experiência na área de TI/Engenharia ...</td>\n",
              "      <td>11545.0</td>\n",
              "    </tr>\n",
              "    <tr>\n",
              "      <th>3357</th>\n",
              "      <td>3357</td>\n",
              "      <td>7q0icczxn0l3a894cbx7q0icczjyud0n</td>\n",
              "      <td>29.0</td>\n",
              "      <td>25-29</td>\n",
              "      <td>Prefiro não informar</td>\n",
              "      <td>Preta</td>\n",
              "      <td>Não</td>\n",
              "      <td>Não acredito que minha experiência profissiona...</td>\n",
              "      <td>NaN</td>\n",
              "      <td>True</td>\n",
              "      <td>...</td>\n",
              "      <td>Tecnologia/Fábrica de Software</td>\n",
              "      <td>de 1.001 a 3.000</td>\n",
              "      <td>0.0</td>\n",
              "      <td>NaN</td>\n",
              "      <td>Engenheiro de Dados/Arquiteto de Dados/Data En...</td>\n",
              "      <td>Júnior</td>\n",
              "      <td>de R$ 6.001/mês a R$ 8.000/mês</td>\n",
              "      <td>Menos de 1 ano</td>\n",
              "      <td>Não tive experiência na área de TI/Engenharia ...</td>\n",
              "      <td>6345.0</td>\n",
              "    </tr>\n",
              "    <tr>\n",
              "      <th>3493</th>\n",
              "      <td>3493</td>\n",
              "      <td>6m8haop6lxnaizpwij6m8haopiax98jg</td>\n",
              "      <td>25.0</td>\n",
              "      <td>25-29</td>\n",
              "      <td>Prefiro não informar</td>\n",
              "      <td>Branca</td>\n",
              "      <td>Não</td>\n",
              "      <td>Sim, acredito que a minha a experiência profis...</td>\n",
              "      <td>Quantidade de oportunidades de emprego/vagas r...</td>\n",
              "      <td>True</td>\n",
              "      <td>...</td>\n",
              "      <td>Finanças ou Bancos</td>\n",
              "      <td>Acima de 3.000</td>\n",
              "      <td>0.0</td>\n",
              "      <td>NaN</td>\n",
              "      <td>Analista de Dados/Data Analyst</td>\n",
              "      <td>Pleno</td>\n",
              "      <td>de R$ 3.001/mês a R$ 4.000/mês</td>\n",
              "      <td>de 3 a 4 anos</td>\n",
              "      <td>Menos de 1 ano</td>\n",
              "      <td>3900.0</td>\n",
              "    </tr>\n",
              "    <tr>\n",
              "      <th>3610</th>\n",
              "      <td>3610</td>\n",
              "      <td>5mloglozmr0r715mntaxbt6xy8b5olmb</td>\n",
              "      <td>30.0</td>\n",
              "      <td>30-34</td>\n",
              "      <td>Prefiro não informar</td>\n",
              "      <td>Branca</td>\n",
              "      <td>Não</td>\n",
              "      <td>Sim, acredito que a minha a experiência profis...</td>\n",
              "      <td>Velocidade de progressão de carreira</td>\n",
              "      <td>True</td>\n",
              "      <td>...</td>\n",
              "      <td>Tecnologia/Fábrica de Software</td>\n",
              "      <td>de 101 a 500</td>\n",
              "      <td>0.0</td>\n",
              "      <td>NaN</td>\n",
              "      <td>Engenheiro de Dados/Arquiteto de Dados/Data En...</td>\n",
              "      <td>Sênior</td>\n",
              "      <td>de R$ 8.001/mês a R$ 12.000/mês</td>\n",
              "      <td>de 3 a 4 anos</td>\n",
              "      <td>Não tive experiência na área de TI/Engenharia ...</td>\n",
              "      <td>10174.0</td>\n",
              "    </tr>\n",
              "    <tr>\n",
              "      <th>4171</th>\n",
              "      <td>4171</td>\n",
              "      <td>0rksyxnqhn13nwytwi6y0rkssx6jmodf</td>\n",
              "      <td>26.0</td>\n",
              "      <td>25-29</td>\n",
              "      <td>Prefiro não informar</td>\n",
              "      <td>Branca</td>\n",
              "      <td>Não</td>\n",
              "      <td>Não acredito que minha experiência profissiona...</td>\n",
              "      <td>NaN</td>\n",
              "      <td>True</td>\n",
              "      <td>...</td>\n",
              "      <td>Outra Opção</td>\n",
              "      <td>de 1.001 a 3.000</td>\n",
              "      <td>0.0</td>\n",
              "      <td>NaN</td>\n",
              "      <td>Analista de Dados/Data Analyst</td>\n",
              "      <td>Pleno</td>\n",
              "      <td>de R$ 8.001/mês a R$ 12.000/mês</td>\n",
              "      <td>de 1 a 2 anos</td>\n",
              "      <td>Menos de 1 ano</td>\n",
              "      <td>10517.0</td>\n",
              "    </tr>\n",
              "    <tr>\n",
              "      <th>4200</th>\n",
              "      <td>4200</td>\n",
              "      <td>0liu228yff8fnm3zeuahsx0liu228y07</td>\n",
              "      <td>28.0</td>\n",
              "      <td>25-29</td>\n",
              "      <td>Prefiro não informar</td>\n",
              "      <td>Outra</td>\n",
              "      <td>Não</td>\n",
              "      <td>Não acredito que minha experiência profissiona...</td>\n",
              "      <td>NaN</td>\n",
              "      <td>True</td>\n",
              "      <td>...</td>\n",
              "      <td>Setor Imobiliário/ Construção Civil</td>\n",
              "      <td>de 501 a 1.000</td>\n",
              "      <td>1.0</td>\n",
              "      <td>Team Leader/Tech Leader</td>\n",
              "      <td>NaN</td>\n",
              "      <td>NaN</td>\n",
              "      <td>de R$ 16.001/mês a R$ 20.000/mês</td>\n",
              "      <td>Mais de 10 anos</td>\n",
              "      <td>de 7 a 10 anos</td>\n",
              "      <td>18282.0</td>\n",
              "    </tr>\n",
              "    <tr>\n",
              "      <th>4227</th>\n",
              "      <td>4227</td>\n",
              "      <td>0eqzo5w2l5wizswvwywt8h0eqzo5yucv</td>\n",
              "      <td>28.0</td>\n",
              "      <td>25-29</td>\n",
              "      <td>Prefiro não informar</td>\n",
              "      <td>Preta</td>\n",
              "      <td>Não</td>\n",
              "      <td>Sim, acredito que a minha a experiência profis...</td>\n",
              "      <td>Atenção dada pelas pessoas diante das minhas o...</td>\n",
              "      <td>True</td>\n",
              "      <td>...</td>\n",
              "      <td>Outra Opção</td>\n",
              "      <td>Acima de 3.000</td>\n",
              "      <td>0.0</td>\n",
              "      <td>NaN</td>\n",
              "      <td>Product Manager/ Product Owner (PM/APM/DPM/GPM...</td>\n",
              "      <td>Pleno</td>\n",
              "      <td>de R$ 6.001/mês a R$ 8.000/mês</td>\n",
              "      <td>Menos de 1 ano</td>\n",
              "      <td>Não tive experiência na área de TI/Engenharia ...</td>\n",
              "      <td>7942.0</td>\n",
              "    </tr>\n",
              "  </tbody>\n",
              "</table>\n",
              "<p>12 rows × 28 columns</p>\n",
              "</div>"
            ],
            "text/plain": [
              "      Unnamed: 0                                ID  IDADE FAIXA IDADE  \\\n",
              "562          562  vhuw8xnpbmj6oh20xovhuwcbdl4a12ni   29.0       25-29   \n",
              "1528        1528  n2ktdn33istvlu1ha4v3kn2ktdn1rsp1    NaN         55+   \n",
              "1913        1913  k3as6jdh3w4jf4ztsw4kpkk3as6jdy19   30.0       30-34   \n",
              "1925        1925  jzppdwep2kpisqjjzppdh304v83cj7eu    NaN       17-21   \n",
              "2554        2554  f5l206z0hr9uh3nz2iiff5l206c0g10o   20.0       17-21   \n",
              "3090        3090  a6ugmsw7s8hu5aa6uglio5apj74fam9o   26.0       25-29   \n",
              "3357        3357  7q0icczxn0l3a894cbx7q0icczjyud0n   29.0       25-29   \n",
              "3493        3493  6m8haop6lxnaizpwij6m8haopiax98jg   25.0       25-29   \n",
              "3610        3610  5mloglozmr0r715mntaxbt6xy8b5olmb   30.0       30-34   \n",
              "4171        4171  0rksyxnqhn13nwytwi6y0rkssx6jmodf   26.0       25-29   \n",
              "4200        4200  0liu228yff8fnm3zeuahsx0liu228y07   28.0       25-29   \n",
              "4227        4227  0eqzo5w2l5wizswvwywt8h0eqzo5yucv   28.0       25-29   \n",
              "\n",
              "                    GENERO        COR/RACA/ETNIA                   PCD  \\\n",
              "562   Prefiro não informar                 Parda                   Não   \n",
              "1528  Prefiro não informar              Indígena  Prefiro não informar   \n",
              "1913  Prefiro não informar  Prefiro não informar                   Não   \n",
              "1925  Prefiro não informar  Prefiro não informar  Prefiro não informar   \n",
              "2554  Prefiro não informar  Prefiro não informar                   Não   \n",
              "3090  Prefiro não informar                 Parda                   Não   \n",
              "3357  Prefiro não informar                 Preta                   Não   \n",
              "3493  Prefiro não informar                Branca                   Não   \n",
              "3610  Prefiro não informar                Branca                   Não   \n",
              "4171  Prefiro não informar                Branca                   Não   \n",
              "4200  Prefiro não informar                 Outra                   Não   \n",
              "4227  Prefiro não informar                 Preta                   Não   \n",
              "\n",
              "                   EXPERIENCIA_PROFISSIONAL_PREJUDICADA  \\\n",
              "562   Sim, acredito que a minha a experiência profis...   \n",
              "1528  Não acredito que minha experiência profissiona...   \n",
              "1913  Não acredito que minha experiência profissiona...   \n",
              "1925  Sim, acredito que minha experiência profission...   \n",
              "2554  Não acredito que minha experiência profissiona...   \n",
              "3090  Não acredito que minha experiência profissiona...   \n",
              "3357  Não acredito que minha experiência profissiona...   \n",
              "3493  Sim, acredito que a minha a experiência profis...   \n",
              "3610  Sim, acredito que a minha a experiência profis...   \n",
              "4171  Não acredito que minha experiência profissiona...   \n",
              "4200  Não acredito que minha experiência profissiona...   \n",
              "4227  Sim, acredito que a minha a experiência profis...   \n",
              "\n",
              "                                  ASPECTOS_PREJUDICADOS  VIVE_NO_BRASIL  ...  \\\n",
              "562   Atenção dada pelas pessoas diante das minhas o...            True  ...   \n",
              "1528                                                NaN            True  ...   \n",
              "1913                                                NaN            True  ...   \n",
              "1925  Quantidade de oportunidades de emprego/vagas r...           False  ...   \n",
              "2554                                                NaN            True  ...   \n",
              "3090                                                NaN            True  ...   \n",
              "3357                                                NaN            True  ...   \n",
              "3493  Quantidade de oportunidades de emprego/vagas r...            True  ...   \n",
              "3610               Velocidade de progressão de carreira            True  ...   \n",
              "4171                                                NaN            True  ...   \n",
              "4200                                                NaN            True  ...   \n",
              "4227  Atenção dada pelas pessoas diante das minhas o...            True  ...   \n",
              "\n",
              "                                    SETOR NUMERO DE FUNCIONARIOS GESTOR?  \\\n",
              "562                                   NaN                    NaN     NaN   \n",
              "1528                        Setor Público            de 51 a 100     0.0   \n",
              "1913                          Outra Opção           de 101 a 500     0.0   \n",
              "1925                   Setor Farmaceutico               de 1 a 5     0.0   \n",
              "2554                        Setor Público         Acima de 3.000     0.0   \n",
              "3090                             Educação           de 101 a 500     1.0   \n",
              "3357       Tecnologia/Fábrica de Software       de 1.001 a 3.000     0.0   \n",
              "3493                   Finanças ou Bancos         Acima de 3.000     0.0   \n",
              "3610       Tecnologia/Fábrica de Software           de 101 a 500     0.0   \n",
              "4171                          Outra Opção       de 1.001 a 3.000     0.0   \n",
              "4200  Setor Imobiliário/ Construção Civil         de 501 a 1.000     1.0   \n",
              "4227                          Outra Opção         Acima de 3.000     0.0   \n",
              "\n",
              "            CARGO COMO GESTOR  \\\n",
              "562                       NaN   \n",
              "1528                      NaN   \n",
              "1913                      NaN   \n",
              "1925                      NaN   \n",
              "2554                      NaN   \n",
              "3090  Team Leader/Tech Leader   \n",
              "3357                      NaN   \n",
              "3493                      NaN   \n",
              "3610                      NaN   \n",
              "4171                      NaN   \n",
              "4200  Team Leader/Tech Leader   \n",
              "4227                      NaN   \n",
              "\n",
              "                                            CARGO ATUAL   NIVEL  \\\n",
              "562                                                 NaN     NaN   \n",
              "1528               Analista de Suporte/Analista Técnico  Júnior   \n",
              "1913                     Analista de Dados/Data Analyst   Pleno   \n",
              "1925                                        Outra Opção  Júnior   \n",
              "2554                  Cientista de Dados/Data Scientist  Júnior   \n",
              "3090                                                NaN     NaN   \n",
              "3357  Engenheiro de Dados/Arquiteto de Dados/Data En...  Júnior   \n",
              "3493                     Analista de Dados/Data Analyst   Pleno   \n",
              "3610  Engenheiro de Dados/Arquiteto de Dados/Data En...  Sênior   \n",
              "4171                     Analista de Dados/Data Analyst   Pleno   \n",
              "4200                                                NaN     NaN   \n",
              "4227  Product Manager/ Product Owner (PM/APM/DPM/GPM...   Pleno   \n",
              "\n",
              "                        FAIXA SALARIAL  \\\n",
              "562                                NaN   \n",
              "1528             Menos de R$ 1.000/mês   \n",
              "1913   de R$ 8.001/mês a R$ 12.000/mês   \n",
              "1925    de R$ 2.001/mês a R$ 3.000/mês   \n",
              "2554    de R$ 1.001/mês a R$ 2.000/mês   \n",
              "3090   de R$ 8.001/mês a R$ 12.000/mês   \n",
              "3357    de R$ 6.001/mês a R$ 8.000/mês   \n",
              "3493    de R$ 3.001/mês a R$ 4.000/mês   \n",
              "3610   de R$ 8.001/mês a R$ 12.000/mês   \n",
              "4171   de R$ 8.001/mês a R$ 12.000/mês   \n",
              "4200  de R$ 16.001/mês a R$ 20.000/mês   \n",
              "4227    de R$ 6.001/mês a R$ 8.000/mês   \n",
              "\n",
              "     QUANTO TEMPO DE EXPERIÊNCIA NA ÁREA DE DADOS VOCÊ TEM?  \\\n",
              "562                                                 NaN       \n",
              "1528                                     Menos de 1 ano       \n",
              "1913                                    Mais de 10 anos       \n",
              "1925                                      de 1 a 2 anos       \n",
              "2554                                      de 1 a 2 anos       \n",
              "3090                                      de 1 a 2 anos       \n",
              "3357                                     Menos de 1 ano       \n",
              "3493                                      de 3 a 4 anos       \n",
              "3610                                      de 3 a 4 anos       \n",
              "4171                                      de 1 a 2 anos       \n",
              "4200                                    Mais de 10 anos       \n",
              "4227                                     Menos de 1 ano       \n",
              "\n",
              "     QUANTO TEMPO DE EXPERIÊNCIA NA ÁREA DE TI/ENGENHARIA DE SOFTWARE VOCÊ TEVE ANTES DE COMEÇAR A TRABALHAR NA ÁREA DE DADOS?  \\\n",
              "562                                                 NaN                                                                          \n",
              "1528                                     Menos de 1 ano                                                                          \n",
              "1913                                      de 3 a 4 anos                                                                          \n",
              "1925                                     Menos de 1 ano                                                                          \n",
              "2554                                      de 1 a 2 anos                                                                          \n",
              "3090  Não tive experiência na área de TI/Engenharia ...                                                                          \n",
              "3357  Não tive experiência na área de TI/Engenharia ...                                                                          \n",
              "3493                                     Menos de 1 ano                                                                          \n",
              "3610  Não tive experiência na área de TI/Engenharia ...                                                                          \n",
              "4171                                     Menos de 1 ano                                                                          \n",
              "4200                                     de 7 a 10 anos                                                                          \n",
              "4227  Não tive experiência na área de TI/Engenharia ...                                                                          \n",
              "\n",
              "      SALARIO  \n",
              "562       NaN  \n",
              "1528    826.0  \n",
              "1913  11476.0  \n",
              "1925   2294.0  \n",
              "2554   1339.0  \n",
              "3090  11545.0  \n",
              "3357   6345.0  \n",
              "3493   3900.0  \n",
              "3610  10174.0  \n",
              "4171  10517.0  \n",
              "4200  18282.0  \n",
              "4227   7942.0  \n",
              "\n",
              "[12 rows x 28 columns]"
            ]
          },
          "execution_count": 16,
          "metadata": {},
          "output_type": "execute_result"
        }
      ],
      "source": [
        "dados[dados['GENERO'].str.contains('não', na=False)]"
      ]
    },
    {
      "cell_type": "code",
      "execution_count": 17,
      "metadata": {
        "colab": {
          "base_uri": "https://localhost:8080/",
          "height": 1000
        },
        "id": "-JxjPu_4xTY-",
        "outputId": "30e24fe9-a8e9-457b-c4d0-60efecaf5449"
      },
      "outputs": [
        {
          "data": {
            "text/html": [
              "<div>\n",
              "<style scoped>\n",
              "    .dataframe tbody tr th:only-of-type {\n",
              "        vertical-align: middle;\n",
              "    }\n",
              "\n",
              "    .dataframe tbody tr th {\n",
              "        vertical-align: top;\n",
              "    }\n",
              "\n",
              "    .dataframe thead th {\n",
              "        text-align: right;\n",
              "    }\n",
              "</style>\n",
              "<table border=\"1\" class=\"dataframe\">\n",
              "  <thead>\n",
              "    <tr style=\"text-align: right;\">\n",
              "      <th></th>\n",
              "      <th>Unnamed: 0</th>\n",
              "      <th>ID</th>\n",
              "      <th>IDADE</th>\n",
              "      <th>FAIXA IDADE</th>\n",
              "      <th>GENERO</th>\n",
              "      <th>COR/RACA/ETNIA</th>\n",
              "      <th>PCD</th>\n",
              "      <th>EXPERIENCIA_PROFISSIONAL_PREJUDICADA</th>\n",
              "      <th>ASPECTOS_PREJUDICADOS</th>\n",
              "      <th>VIVE_NO_BRASIL</th>\n",
              "      <th>...</th>\n",
              "      <th>SETOR</th>\n",
              "      <th>NUMERO DE FUNCIONARIOS</th>\n",
              "      <th>GESTOR?</th>\n",
              "      <th>CARGO COMO GESTOR</th>\n",
              "      <th>CARGO ATUAL</th>\n",
              "      <th>NIVEL</th>\n",
              "      <th>FAIXA SALARIAL</th>\n",
              "      <th>QUANTO TEMPO DE EXPERIÊNCIA NA ÁREA DE DADOS VOCÊ TEM?</th>\n",
              "      <th>QUANTO TEMPO DE EXPERIÊNCIA NA ÁREA DE TI/ENGENHARIA DE SOFTWARE VOCÊ TEVE ANTES DE COMEÇAR A TRABALHAR NA ÁREA DE DADOS?</th>\n",
              "      <th>SALARIO</th>\n",
              "    </tr>\n",
              "  </thead>\n",
              "  <tbody>\n",
              "    <tr>\n",
              "      <th>0</th>\n",
              "      <td>0</td>\n",
              "      <td>zzqzz3l9ily8nuo2m7wyzzqzz3w48o96</td>\n",
              "      <td>39.0</td>\n",
              "      <td>35-39</td>\n",
              "      <td>Masculino</td>\n",
              "      <td>Parda</td>\n",
              "      <td>Não</td>\n",
              "      <td>Não acredito que minha experiência profissiona...</td>\n",
              "      <td>NaN</td>\n",
              "      <td>True</td>\n",
              "      <td>...</td>\n",
              "      <td>Setor Público</td>\n",
              "      <td>Acima de 3.000</td>\n",
              "      <td>0.0</td>\n",
              "      <td>NaN</td>\n",
              "      <td>DBA/Administrador de Banco de Dados</td>\n",
              "      <td>Júnior</td>\n",
              "      <td>de R$ 8.001/mês a R$ 12.000/mês</td>\n",
              "      <td>de 1 a 2 anos</td>\n",
              "      <td>de 7 a 10 anos</td>\n",
              "      <td>11194.0</td>\n",
              "    </tr>\n",
              "    <tr>\n",
              "      <th>1</th>\n",
              "      <td>1</td>\n",
              "      <td>zzls2oftfn9law393oezzls2ofhvfpzd</td>\n",
              "      <td>32.0</td>\n",
              "      <td>30-34</td>\n",
              "      <td>Masculino</td>\n",
              "      <td>Parda</td>\n",
              "      <td>Não</td>\n",
              "      <td>Sim, acredito que a minha a experiência profis...</td>\n",
              "      <td>Aprovação em processos seletivos/entrevistas</td>\n",
              "      <td>True</td>\n",
              "      <td>...</td>\n",
              "      <td>Outra Opção</td>\n",
              "      <td>Acima de 3.000</td>\n",
              "      <td>1.0</td>\n",
              "      <td>Supervisor/Coordenador</td>\n",
              "      <td>NaN</td>\n",
              "      <td>NaN</td>\n",
              "      <td>de R$ 4.001/mês a R$ 6.000/mês</td>\n",
              "      <td>de 3 a 4 anos</td>\n",
              "      <td>Menos de 1 ano</td>\n",
              "      <td>4695.0</td>\n",
              "    </tr>\n",
              "    <tr>\n",
              "      <th>2</th>\n",
              "      <td>2</td>\n",
              "      <td>zzdwqzfqqp1ypc7ps6m0hzzdwqz292yi</td>\n",
              "      <td>53.0</td>\n",
              "      <td>50-54</td>\n",
              "      <td>Masculino</td>\n",
              "      <td>Branca</td>\n",
              "      <td>Não</td>\n",
              "      <td>NaN</td>\n",
              "      <td>NaN</td>\n",
              "      <td>True</td>\n",
              "      <td>...</td>\n",
              "      <td>Finanças ou Bancos</td>\n",
              "      <td>Acima de 3.000</td>\n",
              "      <td>0.0</td>\n",
              "      <td>NaN</td>\n",
              "      <td>Desenvolvedor/ Engenheiro de Software/ Analist...</td>\n",
              "      <td>Pleno</td>\n",
              "      <td>de R$ 12.001/mês a R$ 16.000/mês</td>\n",
              "      <td>de 3 a 4 anos</td>\n",
              "      <td>Mais de 10 anos</td>\n",
              "      <td>14202.0</td>\n",
              "    </tr>\n",
              "    <tr>\n",
              "      <th>4</th>\n",
              "      <td>4</td>\n",
              "      <td>zzaf1m95yan929rb94wzzaf1mekhvhpg</td>\n",
              "      <td>46.0</td>\n",
              "      <td>45-49</td>\n",
              "      <td>Feminino</td>\n",
              "      <td>Branca</td>\n",
              "      <td>Não</td>\n",
              "      <td>Não acredito que minha experiência profissiona...</td>\n",
              "      <td>NaN</td>\n",
              "      <td>True</td>\n",
              "      <td>...</td>\n",
              "      <td>Setor Público</td>\n",
              "      <td>de 101 a 500</td>\n",
              "      <td>0.0</td>\n",
              "      <td>NaN</td>\n",
              "      <td>Desenvolvedor/ Engenheiro de Software/ Analist...</td>\n",
              "      <td>Pleno</td>\n",
              "      <td>de R$ 6.001/mês a R$ 8.000/mês</td>\n",
              "      <td>Não tenho experiência na área de dados</td>\n",
              "      <td>Mais de 10 anos</td>\n",
              "      <td>7733.0</td>\n",
              "    </tr>\n",
              "    <tr>\n",
              "      <th>5</th>\n",
              "      <td>5</td>\n",
              "      <td>zz0nlhbd8oxyiyxzz0nlh7g4xkiaza5v</td>\n",
              "      <td>32.0</td>\n",
              "      <td>30-34</td>\n",
              "      <td>Feminino</td>\n",
              "      <td>Parda</td>\n",
              "      <td>Não</td>\n",
              "      <td>Não acredito que minha experiência profissiona...</td>\n",
              "      <td>NaN</td>\n",
              "      <td>True</td>\n",
              "      <td>...</td>\n",
              "      <td>Educação</td>\n",
              "      <td>Acima de 3.000</td>\n",
              "      <td>0.0</td>\n",
              "      <td>NaN</td>\n",
              "      <td>Professor</td>\n",
              "      <td>Pleno</td>\n",
              "      <td>de R$ 2.001/mês a R$ 3.000/mês</td>\n",
              "      <td>Não tenho experiência na área de dados</td>\n",
              "      <td>Não tive experiência na área de TI/Engenharia ...</td>\n",
              "      <td>2336.0</td>\n",
              "    </tr>\n",
              "    <tr>\n",
              "      <th>...</th>\n",
              "      <td>...</td>\n",
              "      <td>...</td>\n",
              "      <td>...</td>\n",
              "      <td>...</td>\n",
              "      <td>...</td>\n",
              "      <td>...</td>\n",
              "      <td>...</td>\n",
              "      <td>...</td>\n",
              "      <td>...</td>\n",
              "      <td>...</td>\n",
              "      <td>...</td>\n",
              "      <td>...</td>\n",
              "      <td>...</td>\n",
              "      <td>...</td>\n",
              "      <td>...</td>\n",
              "      <td>...</td>\n",
              "      <td>...</td>\n",
              "      <td>...</td>\n",
              "      <td>...</td>\n",
              "      <td>...</td>\n",
              "      <td>...</td>\n",
              "    </tr>\n",
              "    <tr>\n",
              "      <th>4257</th>\n",
              "      <td>4257</td>\n",
              "      <td>043snvbsxn3fuyfe043j5comuyu8g6ba</td>\n",
              "      <td>46.0</td>\n",
              "      <td>45-49</td>\n",
              "      <td>Masculino</td>\n",
              "      <td>Amarela</td>\n",
              "      <td>Não</td>\n",
              "      <td>Não acredito que minha experiência profissiona...</td>\n",
              "      <td>NaN</td>\n",
              "      <td>True</td>\n",
              "      <td>...</td>\n",
              "      <td>Finanças ou Bancos</td>\n",
              "      <td>Acima de 3.000</td>\n",
              "      <td>1.0</td>\n",
              "      <td>Gerente/Head</td>\n",
              "      <td>NaN</td>\n",
              "      <td>NaN</td>\n",
              "      <td>Acima de R$ 40.001/mês</td>\n",
              "      <td>Mais de 10 anos</td>\n",
              "      <td>Não tive experiência na área de TI/Engenharia ...</td>\n",
              "      <td>62001.0</td>\n",
              "    </tr>\n",
              "    <tr>\n",
              "      <th>4260</th>\n",
              "      <td>4260</td>\n",
              "      <td>03atvow8404tatt2iixjds03atvownkz</td>\n",
              "      <td>36.0</td>\n",
              "      <td>35-39</td>\n",
              "      <td>Masculino</td>\n",
              "      <td>Parda</td>\n",
              "      <td>Não</td>\n",
              "      <td>Não acredito que minha experiência profissiona...</td>\n",
              "      <td>NaN</td>\n",
              "      <td>True</td>\n",
              "      <td>...</td>\n",
              "      <td>NaN</td>\n",
              "      <td>NaN</td>\n",
              "      <td>NaN</td>\n",
              "      <td>NaN</td>\n",
              "      <td>NaN</td>\n",
              "      <td>NaN</td>\n",
              "      <td>NaN</td>\n",
              "      <td>NaN</td>\n",
              "      <td>NaN</td>\n",
              "      <td>NaN</td>\n",
              "    </tr>\n",
              "    <tr>\n",
              "      <th>4261</th>\n",
              "      <td>4261</td>\n",
              "      <td>02xomoejng6c9152kde02xomww412qpg</td>\n",
              "      <td>33.0</td>\n",
              "      <td>30-34</td>\n",
              "      <td>Masculino</td>\n",
              "      <td>Branca</td>\n",
              "      <td>Não</td>\n",
              "      <td>NaN</td>\n",
              "      <td>NaN</td>\n",
              "      <td>True</td>\n",
              "      <td>...</td>\n",
              "      <td>NaN</td>\n",
              "      <td>NaN</td>\n",
              "      <td>NaN</td>\n",
              "      <td>NaN</td>\n",
              "      <td>NaN</td>\n",
              "      <td>NaN</td>\n",
              "      <td>NaN</td>\n",
              "      <td>NaN</td>\n",
              "      <td>NaN</td>\n",
              "      <td>NaN</td>\n",
              "    </tr>\n",
              "    <tr>\n",
              "      <th>4262</th>\n",
              "      <td>4262</td>\n",
              "      <td>02vlm03c29g3fcys8tj06102vlm0983h</td>\n",
              "      <td>31.0</td>\n",
              "      <td>30-34</td>\n",
              "      <td>Masculino</td>\n",
              "      <td>Amarela</td>\n",
              "      <td>Não</td>\n",
              "      <td>Não acredito que minha experiência profissiona...</td>\n",
              "      <td>NaN</td>\n",
              "      <td>True</td>\n",
              "      <td>...</td>\n",
              "      <td>Tecnologia/Fábrica de Software</td>\n",
              "      <td>de 501 a 1.000</td>\n",
              "      <td>1.0</td>\n",
              "      <td>Team Leader/Tech Leader</td>\n",
              "      <td>NaN</td>\n",
              "      <td>NaN</td>\n",
              "      <td>de R$ 16.001/mês a R$ 20.000/mês</td>\n",
              "      <td>de 3 a 4 anos</td>\n",
              "      <td>de 3 a 4 anos</td>\n",
              "      <td>18402.0</td>\n",
              "    </tr>\n",
              "    <tr>\n",
              "      <th>4264</th>\n",
              "      <td>4264</td>\n",
              "      <td>028mfisr3mqazkn5n6swe028mt55nqzq</td>\n",
              "      <td>37.0</td>\n",
              "      <td>35-39</td>\n",
              "      <td>Masculino</td>\n",
              "      <td>Branca</td>\n",
              "      <td>Não</td>\n",
              "      <td>NaN</td>\n",
              "      <td>NaN</td>\n",
              "      <td>True</td>\n",
              "      <td>...</td>\n",
              "      <td>Tecnologia/Fábrica de Software</td>\n",
              "      <td>de 51 a 100</td>\n",
              "      <td>1.0</td>\n",
              "      <td>Gerente/Head</td>\n",
              "      <td>NaN</td>\n",
              "      <td>NaN</td>\n",
              "      <td>de R$ 20.001/mês a R$ 25.000/mês</td>\n",
              "      <td>de 3 a 4 anos</td>\n",
              "      <td>Mais de 10 anos</td>\n",
              "      <td>24543.0</td>\n",
              "    </tr>\n",
              "  </tbody>\n",
              "</table>\n",
              "<p>1956 rows × 28 columns</p>\n",
              "</div>"
            ],
            "text/plain": [
              "      Unnamed: 0                                ID  IDADE FAIXA IDADE  \\\n",
              "0              0  zzqzz3l9ily8nuo2m7wyzzqzz3w48o96   39.0       35-39   \n",
              "1              1  zzls2oftfn9law393oezzls2ofhvfpzd   32.0       30-34   \n",
              "2              2  zzdwqzfqqp1ypc7ps6m0hzzdwqz292yi   53.0       50-54   \n",
              "4              4  zzaf1m95yan929rb94wzzaf1mekhvhpg   46.0       45-49   \n",
              "5              5  zz0nlhbd8oxyiyxzz0nlh7g4xkiaza5v   32.0       30-34   \n",
              "...          ...                               ...    ...         ...   \n",
              "4257        4257  043snvbsxn3fuyfe043j5comuyu8g6ba   46.0       45-49   \n",
              "4260        4260  03atvow8404tatt2iixjds03atvownkz   36.0       35-39   \n",
              "4261        4261  02xomoejng6c9152kde02xomww412qpg   33.0       30-34   \n",
              "4262        4262  02vlm03c29g3fcys8tj06102vlm0983h   31.0       30-34   \n",
              "4264        4264  028mfisr3mqazkn5n6swe028mt55nqzq   37.0       35-39   \n",
              "\n",
              "         GENERO COR/RACA/ETNIA  PCD  \\\n",
              "0     Masculino          Parda  Não   \n",
              "1     Masculino          Parda  Não   \n",
              "2     Masculino         Branca  Não   \n",
              "4      Feminino         Branca  Não   \n",
              "5      Feminino          Parda  Não   \n",
              "...         ...            ...  ...   \n",
              "4257  Masculino        Amarela  Não   \n",
              "4260  Masculino          Parda  Não   \n",
              "4261  Masculino         Branca  Não   \n",
              "4262  Masculino        Amarela  Não   \n",
              "4264  Masculino         Branca  Não   \n",
              "\n",
              "                   EXPERIENCIA_PROFISSIONAL_PREJUDICADA  \\\n",
              "0     Não acredito que minha experiência profissiona...   \n",
              "1     Sim, acredito que a minha a experiência profis...   \n",
              "2                                                   NaN   \n",
              "4     Não acredito que minha experiência profissiona...   \n",
              "5     Não acredito que minha experiência profissiona...   \n",
              "...                                                 ...   \n",
              "4257  Não acredito que minha experiência profissiona...   \n",
              "4260  Não acredito que minha experiência profissiona...   \n",
              "4261                                                NaN   \n",
              "4262  Não acredito que minha experiência profissiona...   \n",
              "4264                                                NaN   \n",
              "\n",
              "                             ASPECTOS_PREJUDICADOS  VIVE_NO_BRASIL  ...  \\\n",
              "0                                              NaN            True  ...   \n",
              "1     Aprovação em processos seletivos/entrevistas            True  ...   \n",
              "2                                              NaN            True  ...   \n",
              "4                                              NaN            True  ...   \n",
              "5                                              NaN            True  ...   \n",
              "...                                            ...             ...  ...   \n",
              "4257                                           NaN            True  ...   \n",
              "4260                                           NaN            True  ...   \n",
              "4261                                           NaN            True  ...   \n",
              "4262                                           NaN            True  ...   \n",
              "4264                                           NaN            True  ...   \n",
              "\n",
              "                               SETOR NUMERO DE FUNCIONARIOS GESTOR?  \\\n",
              "0                      Setor Público         Acima de 3.000     0.0   \n",
              "1                        Outra Opção         Acima de 3.000     1.0   \n",
              "2                 Finanças ou Bancos         Acima de 3.000     0.0   \n",
              "4                      Setor Público           de 101 a 500     0.0   \n",
              "5                           Educação         Acima de 3.000     0.0   \n",
              "...                              ...                    ...     ...   \n",
              "4257              Finanças ou Bancos         Acima de 3.000     1.0   \n",
              "4260                             NaN                    NaN     NaN   \n",
              "4261                             NaN                    NaN     NaN   \n",
              "4262  Tecnologia/Fábrica de Software         de 501 a 1.000     1.0   \n",
              "4264  Tecnologia/Fábrica de Software            de 51 a 100     1.0   \n",
              "\n",
              "            CARGO COMO GESTOR  \\\n",
              "0                         NaN   \n",
              "1      Supervisor/Coordenador   \n",
              "2                         NaN   \n",
              "4                         NaN   \n",
              "5                         NaN   \n",
              "...                       ...   \n",
              "4257             Gerente/Head   \n",
              "4260                      NaN   \n",
              "4261                      NaN   \n",
              "4262  Team Leader/Tech Leader   \n",
              "4264             Gerente/Head   \n",
              "\n",
              "                                            CARGO ATUAL   NIVEL  \\\n",
              "0                   DBA/Administrador de Banco de Dados  Júnior   \n",
              "1                                                   NaN     NaN   \n",
              "2     Desenvolvedor/ Engenheiro de Software/ Analist...   Pleno   \n",
              "4     Desenvolvedor/ Engenheiro de Software/ Analist...   Pleno   \n",
              "5                                             Professor   Pleno   \n",
              "...                                                 ...     ...   \n",
              "4257                                                NaN     NaN   \n",
              "4260                                                NaN     NaN   \n",
              "4261                                                NaN     NaN   \n",
              "4262                                                NaN     NaN   \n",
              "4264                                                NaN     NaN   \n",
              "\n",
              "                        FAIXA SALARIAL  \\\n",
              "0      de R$ 8.001/mês a R$ 12.000/mês   \n",
              "1       de R$ 4.001/mês a R$ 6.000/mês   \n",
              "2     de R$ 12.001/mês a R$ 16.000/mês   \n",
              "4       de R$ 6.001/mês a R$ 8.000/mês   \n",
              "5       de R$ 2.001/mês a R$ 3.000/mês   \n",
              "...                                ...   \n",
              "4257            Acima de R$ 40.001/mês   \n",
              "4260                               NaN   \n",
              "4261                               NaN   \n",
              "4262  de R$ 16.001/mês a R$ 20.000/mês   \n",
              "4264  de R$ 20.001/mês a R$ 25.000/mês   \n",
              "\n",
              "     QUANTO TEMPO DE EXPERIÊNCIA NA ÁREA DE DADOS VOCÊ TEM?  \\\n",
              "0                                         de 1 a 2 anos       \n",
              "1                                         de 3 a 4 anos       \n",
              "2                                         de 3 a 4 anos       \n",
              "4                Não tenho experiência na área de dados       \n",
              "5                Não tenho experiência na área de dados       \n",
              "...                                                 ...       \n",
              "4257                                    Mais de 10 anos       \n",
              "4260                                                NaN       \n",
              "4261                                                NaN       \n",
              "4262                                      de 3 a 4 anos       \n",
              "4264                                      de 3 a 4 anos       \n",
              "\n",
              "     QUANTO TEMPO DE EXPERIÊNCIA NA ÁREA DE TI/ENGENHARIA DE SOFTWARE VOCÊ TEVE ANTES DE COMEÇAR A TRABALHAR NA ÁREA DE DADOS?  \\\n",
              "0                                        de 7 a 10 anos                                                                          \n",
              "1                                        Menos de 1 ano                                                                          \n",
              "2                                       Mais de 10 anos                                                                          \n",
              "4                                       Mais de 10 anos                                                                          \n",
              "5     Não tive experiência na área de TI/Engenharia ...                                                                          \n",
              "...                                                 ...                                                                          \n",
              "4257  Não tive experiência na área de TI/Engenharia ...                                                                          \n",
              "4260                                                NaN                                                                          \n",
              "4261                                                NaN                                                                          \n",
              "4262                                      de 3 a 4 anos                                                                          \n",
              "4264                                    Mais de 10 anos                                                                          \n",
              "\n",
              "      SALARIO  \n",
              "0     11194.0  \n",
              "1      4695.0  \n",
              "2     14202.0  \n",
              "4      7733.0  \n",
              "5      2336.0  \n",
              "...       ...  \n",
              "4257  62001.0  \n",
              "4260      NaN  \n",
              "4261      NaN  \n",
              "4262  18402.0  \n",
              "4264  24543.0  \n",
              "\n",
              "[1956 rows x 28 columns]"
            ]
          },
          "execution_count": 17,
          "metadata": {},
          "output_type": "execute_result"
        }
      ],
      "source": [
        "dados[dados['IDADE']>30]"
      ]
    },
    {
      "cell_type": "code",
      "execution_count": 18,
      "metadata": {
        "colab": {
          "base_uri": "https://localhost:8080/",
          "height": 1000
        },
        "id": "sO7tgGH5xpVz",
        "outputId": "c495465e-7a7d-4122-d7c1-b0126c3e017b"
      },
      "outputs": [
        {
          "data": {
            "text/html": [
              "<div>\n",
              "<style scoped>\n",
              "    .dataframe tbody tr th:only-of-type {\n",
              "        vertical-align: middle;\n",
              "    }\n",
              "\n",
              "    .dataframe tbody tr th {\n",
              "        vertical-align: top;\n",
              "    }\n",
              "\n",
              "    .dataframe thead th {\n",
              "        text-align: right;\n",
              "    }\n",
              "</style>\n",
              "<table border=\"1\" class=\"dataframe\">\n",
              "  <thead>\n",
              "    <tr style=\"text-align: right;\">\n",
              "      <th></th>\n",
              "      <th>Unnamed: 0</th>\n",
              "      <th>ID</th>\n",
              "      <th>IDADE</th>\n",
              "      <th>FAIXA IDADE</th>\n",
              "      <th>GENERO</th>\n",
              "      <th>COR/RACA/ETNIA</th>\n",
              "      <th>PCD</th>\n",
              "      <th>EXPERIENCIA_PROFISSIONAL_PREJUDICADA</th>\n",
              "      <th>ASPECTOS_PREJUDICADOS</th>\n",
              "      <th>VIVE_NO_BRASIL</th>\n",
              "      <th>...</th>\n",
              "      <th>SETOR</th>\n",
              "      <th>NUMERO DE FUNCIONARIOS</th>\n",
              "      <th>GESTOR?</th>\n",
              "      <th>CARGO COMO GESTOR</th>\n",
              "      <th>CARGO ATUAL</th>\n",
              "      <th>NIVEL</th>\n",
              "      <th>FAIXA SALARIAL</th>\n",
              "      <th>QUANTO TEMPO DE EXPERIÊNCIA NA ÁREA DE DADOS VOCÊ TEM?</th>\n",
              "      <th>QUANTO TEMPO DE EXPERIÊNCIA NA ÁREA DE TI/ENGENHARIA DE SOFTWARE VOCÊ TEVE ANTES DE COMEÇAR A TRABALHAR NA ÁREA DE DADOS?</th>\n",
              "      <th>SALARIO</th>\n",
              "    </tr>\n",
              "  </thead>\n",
              "  <tbody>\n",
              "    <tr>\n",
              "      <th>4</th>\n",
              "      <td>4</td>\n",
              "      <td>zzaf1m95yan929rb94wzzaf1mekhvhpg</td>\n",
              "      <td>46.0</td>\n",
              "      <td>45-49</td>\n",
              "      <td>Feminino</td>\n",
              "      <td>Branca</td>\n",
              "      <td>Não</td>\n",
              "      <td>Não acredito que minha experiência profissiona...</td>\n",
              "      <td>NaN</td>\n",
              "      <td>True</td>\n",
              "      <td>...</td>\n",
              "      <td>Setor Público</td>\n",
              "      <td>de 101 a 500</td>\n",
              "      <td>0.0</td>\n",
              "      <td>NaN</td>\n",
              "      <td>Desenvolvedor/ Engenheiro de Software/ Analist...</td>\n",
              "      <td>Pleno</td>\n",
              "      <td>de R$ 6.001/mês a R$ 8.000/mês</td>\n",
              "      <td>Não tenho experiência na área de dados</td>\n",
              "      <td>Mais de 10 anos</td>\n",
              "      <td>7733.0</td>\n",
              "    </tr>\n",
              "    <tr>\n",
              "      <th>5</th>\n",
              "      <td>5</td>\n",
              "      <td>zz0nlhbd8oxyiyxzz0nlh7g4xkiaza5v</td>\n",
              "      <td>32.0</td>\n",
              "      <td>30-34</td>\n",
              "      <td>Feminino</td>\n",
              "      <td>Parda</td>\n",
              "      <td>Não</td>\n",
              "      <td>Não acredito que minha experiência profissiona...</td>\n",
              "      <td>NaN</td>\n",
              "      <td>True</td>\n",
              "      <td>...</td>\n",
              "      <td>Educação</td>\n",
              "      <td>Acima de 3.000</td>\n",
              "      <td>0.0</td>\n",
              "      <td>NaN</td>\n",
              "      <td>Professor</td>\n",
              "      <td>Pleno</td>\n",
              "      <td>de R$ 2.001/mês a R$ 3.000/mês</td>\n",
              "      <td>Não tenho experiência na área de dados</td>\n",
              "      <td>Não tive experiência na área de TI/Engenharia ...</td>\n",
              "      <td>2336.0</td>\n",
              "    </tr>\n",
              "    <tr>\n",
              "      <th>7</th>\n",
              "      <td>7</td>\n",
              "      <td>zyc0twzno2sm5or5ovoxzyc0twz0300d</td>\n",
              "      <td>31.0</td>\n",
              "      <td>30-34</td>\n",
              "      <td>Feminino</td>\n",
              "      <td>Branca</td>\n",
              "      <td>Não</td>\n",
              "      <td>Não acredito que minha experiência profissiona...</td>\n",
              "      <td>NaN</td>\n",
              "      <td>True</td>\n",
              "      <td>...</td>\n",
              "      <td>Tecnologia/Fábrica de Software</td>\n",
              "      <td>de 6 a 10</td>\n",
              "      <td>0.0</td>\n",
              "      <td>NaN</td>\n",
              "      <td>Desenvolvedor/ Engenheiro de Software/ Analist...</td>\n",
              "      <td>Júnior</td>\n",
              "      <td>de R$ 2.001/mês a R$ 3.000/mês</td>\n",
              "      <td>Menos de 1 ano</td>\n",
              "      <td>Menos de 1 ano</td>\n",
              "      <td>2704.0</td>\n",
              "    </tr>\n",
              "    <tr>\n",
              "      <th>14</th>\n",
              "      <td>14</td>\n",
              "      <td>zwez49k0jhdvfkfst4zwef137uuf4ivy</td>\n",
              "      <td>35.0</td>\n",
              "      <td>35-39</td>\n",
              "      <td>Feminino</td>\n",
              "      <td>Parda</td>\n",
              "      <td>Não</td>\n",
              "      <td>Sim, acredito que a minha a experiência profis...</td>\n",
              "      <td>Atenção dada pelas pessoas diante das minhas o...</td>\n",
              "      <td>True</td>\n",
              "      <td>...</td>\n",
              "      <td>Varejo</td>\n",
              "      <td>Acima de 3.000</td>\n",
              "      <td>0.0</td>\n",
              "      <td>NaN</td>\n",
              "      <td>Analista de Negócios/Business Analyst</td>\n",
              "      <td>Pleno</td>\n",
              "      <td>de R$ 6.001/mês a R$ 8.000/mês</td>\n",
              "      <td>de 1 a 2 anos</td>\n",
              "      <td>Não tive experiência na área de TI/Engenharia ...</td>\n",
              "      <td>7416.0</td>\n",
              "    </tr>\n",
              "    <tr>\n",
              "      <th>23</th>\n",
              "      <td>23</td>\n",
              "      <td>zuqfcwtl9unfc5ezuqfcwm8coytsp5ap</td>\n",
              "      <td>46.0</td>\n",
              "      <td>45-49</td>\n",
              "      <td>Feminino</td>\n",
              "      <td>Branca</td>\n",
              "      <td>Não</td>\n",
              "      <td>Não acredito que minha experiência profissiona...</td>\n",
              "      <td>NaN</td>\n",
              "      <td>True</td>\n",
              "      <td>...</td>\n",
              "      <td>Tecnologia/Fábrica de Software</td>\n",
              "      <td>de 501 a 1.000</td>\n",
              "      <td>0.0</td>\n",
              "      <td>NaN</td>\n",
              "      <td>Engenheiro de Dados/Arquiteto de Dados/Data En...</td>\n",
              "      <td>Sênior</td>\n",
              "      <td>de R$ 12.001/mês a R$ 16.000/mês</td>\n",
              "      <td>Mais de 10 anos</td>\n",
              "      <td>de 5 a 6 anos</td>\n",
              "      <td>13418.0</td>\n",
              "    </tr>\n",
              "    <tr>\n",
              "      <th>...</th>\n",
              "      <td>...</td>\n",
              "      <td>...</td>\n",
              "      <td>...</td>\n",
              "      <td>...</td>\n",
              "      <td>...</td>\n",
              "      <td>...</td>\n",
              "      <td>...</td>\n",
              "      <td>...</td>\n",
              "      <td>...</td>\n",
              "      <td>...</td>\n",
              "      <td>...</td>\n",
              "      <td>...</td>\n",
              "      <td>...</td>\n",
              "      <td>...</td>\n",
              "      <td>...</td>\n",
              "      <td>...</td>\n",
              "      <td>...</td>\n",
              "      <td>...</td>\n",
              "      <td>...</td>\n",
              "      <td>...</td>\n",
              "      <td>...</td>\n",
              "    </tr>\n",
              "    <tr>\n",
              "      <th>4214</th>\n",
              "      <td>4214</td>\n",
              "      <td>0gprow0ownrbfneftxf0gprow4kyrqdy</td>\n",
              "      <td>41.0</td>\n",
              "      <td>40-44</td>\n",
              "      <td>Feminino</td>\n",
              "      <td>Branca</td>\n",
              "      <td>Prefiro não informar</td>\n",
              "      <td>Sim, acredito que a minha a experiência profis...</td>\n",
              "      <td>Oportunidades de progressão de carreira, Veloc...</td>\n",
              "      <td>True</td>\n",
              "      <td>...</td>\n",
              "      <td>Seguros ou Previdência</td>\n",
              "      <td>Acima de 3.000</td>\n",
              "      <td>1.0</td>\n",
              "      <td>Supervisor/Coordenador</td>\n",
              "      <td>NaN</td>\n",
              "      <td>NaN</td>\n",
              "      <td>de R$ 8.001/mês a R$ 12.000/mês</td>\n",
              "      <td>de 4 a 6 anos</td>\n",
              "      <td>Não tive experiência na área de TI/Engenharia ...</td>\n",
              "      <td>11452.0</td>\n",
              "    </tr>\n",
              "    <tr>\n",
              "      <th>4221</th>\n",
              "      <td>4221</td>\n",
              "      <td>0fgi5bnb0u9b0fgc0jmqlbnvtu12b76d</td>\n",
              "      <td>34.0</td>\n",
              "      <td>30-34</td>\n",
              "      <td>Feminino</td>\n",
              "      <td>Outra</td>\n",
              "      <td>Não</td>\n",
              "      <td>Não acredito que minha experiência profissiona...</td>\n",
              "      <td>NaN</td>\n",
              "      <td>True</td>\n",
              "      <td>...</td>\n",
              "      <td>Área de Consultoria</td>\n",
              "      <td>de 51 a 100</td>\n",
              "      <td>0.0</td>\n",
              "      <td>NaN</td>\n",
              "      <td>Outra Opção</td>\n",
              "      <td>Júnior</td>\n",
              "      <td>de R$ 4.001/mês a R$ 6.000/mês</td>\n",
              "      <td>Menos de 1 ano</td>\n",
              "      <td>Menos de 1 ano</td>\n",
              "      <td>5687.0</td>\n",
              "    </tr>\n",
              "    <tr>\n",
              "      <th>4240</th>\n",
              "      <td>4240</td>\n",
              "      <td>0a5xgxb1ljmuqn0un8a10a5xg4eufs2l</td>\n",
              "      <td>37.0</td>\n",
              "      <td>35-39</td>\n",
              "      <td>Feminino</td>\n",
              "      <td>Branca</td>\n",
              "      <td>Não</td>\n",
              "      <td>Sim, acredito que a minha a experiência profis...</td>\n",
              "      <td>Quantidade de oportunidades de emprego/vagas r...</td>\n",
              "      <td>True</td>\n",
              "      <td>...</td>\n",
              "      <td>Finanças ou Bancos</td>\n",
              "      <td>de 51 a 100</td>\n",
              "      <td>0.0</td>\n",
              "      <td>NaN</td>\n",
              "      <td>Analista de BI/BI Analyst</td>\n",
              "      <td>Júnior</td>\n",
              "      <td>de R$ 1.001/mês a R$ 2.000/mês</td>\n",
              "      <td>de 1 a 2 anos</td>\n",
              "      <td>Menos de 1 ano</td>\n",
              "      <td>1182.0</td>\n",
              "    </tr>\n",
              "    <tr>\n",
              "      <th>4247</th>\n",
              "      <td>4247</td>\n",
              "      <td>07qzabp4ujpe4oz81udmb07qzabp4h0t</td>\n",
              "      <td>34.0</td>\n",
              "      <td>30-34</td>\n",
              "      <td>Feminino</td>\n",
              "      <td>Branca</td>\n",
              "      <td>Não</td>\n",
              "      <td>Não acredito que minha experiência profissiona...</td>\n",
              "      <td>NaN</td>\n",
              "      <td>True</td>\n",
              "      <td>...</td>\n",
              "      <td>Setor de Energia</td>\n",
              "      <td>de 11 a 50</td>\n",
              "      <td>0.0</td>\n",
              "      <td>NaN</td>\n",
              "      <td>Cientista de Dados/Data Scientist</td>\n",
              "      <td>Júnior</td>\n",
              "      <td>de R$ 4.001/mês a R$ 6.000/mês</td>\n",
              "      <td>Mais de 10 anos</td>\n",
              "      <td>Não tive experiência na área de TI/Engenharia ...</td>\n",
              "      <td>5925.0</td>\n",
              "    </tr>\n",
              "    <tr>\n",
              "      <th>4251</th>\n",
              "      <td>4251</td>\n",
              "      <td>068hhicrqggu068huq0l2ab3g7liagy8</td>\n",
              "      <td>34.0</td>\n",
              "      <td>30-34</td>\n",
              "      <td>Feminino</td>\n",
              "      <td>Preta</td>\n",
              "      <td>Não</td>\n",
              "      <td>Não acredito que minha experiência profissiona...</td>\n",
              "      <td>NaN</td>\n",
              "      <td>True</td>\n",
              "      <td>...</td>\n",
              "      <td>Finanças ou Bancos</td>\n",
              "      <td>de 1.001 a 3.000</td>\n",
              "      <td>0.0</td>\n",
              "      <td>NaN</td>\n",
              "      <td>Engenheiro de Dados/Arquiteto de Dados/Data En...</td>\n",
              "      <td>Pleno</td>\n",
              "      <td>de R$ 4.001/mês a R$ 6.000/mês</td>\n",
              "      <td>Menos de 1 ano</td>\n",
              "      <td>Menos de 1 ano</td>\n",
              "      <td>5673.0</td>\n",
              "    </tr>\n",
              "  </tbody>\n",
              "</table>\n",
              "<p>503 rows × 28 columns</p>\n",
              "</div>"
            ],
            "text/plain": [
              "      Unnamed: 0                                ID  IDADE FAIXA IDADE  \\\n",
              "4              4  zzaf1m95yan929rb94wzzaf1mekhvhpg   46.0       45-49   \n",
              "5              5  zz0nlhbd8oxyiyxzz0nlh7g4xkiaza5v   32.0       30-34   \n",
              "7              7  zyc0twzno2sm5or5ovoxzyc0twz0300d   31.0       30-34   \n",
              "14            14  zwez49k0jhdvfkfst4zwef137uuf4ivy   35.0       35-39   \n",
              "23            23  zuqfcwtl9unfc5ezuqfcwm8coytsp5ap   46.0       45-49   \n",
              "...          ...                               ...    ...         ...   \n",
              "4214        4214  0gprow0ownrbfneftxf0gprow4kyrqdy   41.0       40-44   \n",
              "4221        4221  0fgi5bnb0u9b0fgc0jmqlbnvtu12b76d   34.0       30-34   \n",
              "4240        4240  0a5xgxb1ljmuqn0un8a10a5xg4eufs2l   37.0       35-39   \n",
              "4247        4247  07qzabp4ujpe4oz81udmb07qzabp4h0t   34.0       30-34   \n",
              "4251        4251  068hhicrqggu068huq0l2ab3g7liagy8   34.0       30-34   \n",
              "\n",
              "        GENERO COR/RACA/ETNIA                   PCD  \\\n",
              "4     Feminino         Branca                   Não   \n",
              "5     Feminino          Parda                   Não   \n",
              "7     Feminino         Branca                   Não   \n",
              "14    Feminino          Parda                   Não   \n",
              "23    Feminino         Branca                   Não   \n",
              "...        ...            ...                   ...   \n",
              "4214  Feminino         Branca  Prefiro não informar   \n",
              "4221  Feminino          Outra                   Não   \n",
              "4240  Feminino         Branca                   Não   \n",
              "4247  Feminino         Branca                   Não   \n",
              "4251  Feminino          Preta                   Não   \n",
              "\n",
              "                   EXPERIENCIA_PROFISSIONAL_PREJUDICADA  \\\n",
              "4     Não acredito que minha experiência profissiona...   \n",
              "5     Não acredito que minha experiência profissiona...   \n",
              "7     Não acredito que minha experiência profissiona...   \n",
              "14    Sim, acredito que a minha a experiência profis...   \n",
              "23    Não acredito que minha experiência profissiona...   \n",
              "...                                                 ...   \n",
              "4214  Sim, acredito que a minha a experiência profis...   \n",
              "4221  Não acredito que minha experiência profissiona...   \n",
              "4240  Sim, acredito que a minha a experiência profis...   \n",
              "4247  Não acredito que minha experiência profissiona...   \n",
              "4251  Não acredito que minha experiência profissiona...   \n",
              "\n",
              "                                  ASPECTOS_PREJUDICADOS  VIVE_NO_BRASIL  ...  \\\n",
              "4                                                   NaN            True  ...   \n",
              "5                                                   NaN            True  ...   \n",
              "7                                                   NaN            True  ...   \n",
              "14    Atenção dada pelas pessoas diante das minhas o...            True  ...   \n",
              "23                                                  NaN            True  ...   \n",
              "...                                                 ...             ...  ...   \n",
              "4214  Oportunidades de progressão de carreira, Veloc...            True  ...   \n",
              "4221                                                NaN            True  ...   \n",
              "4240  Quantidade de oportunidades de emprego/vagas r...            True  ...   \n",
              "4247                                                NaN            True  ...   \n",
              "4251                                                NaN            True  ...   \n",
              "\n",
              "                               SETOR NUMERO DE FUNCIONARIOS GESTOR?  \\\n",
              "4                      Setor Público           de 101 a 500     0.0   \n",
              "5                           Educação         Acima de 3.000     0.0   \n",
              "7     Tecnologia/Fábrica de Software              de 6 a 10     0.0   \n",
              "14                            Varejo         Acima de 3.000     0.0   \n",
              "23    Tecnologia/Fábrica de Software         de 501 a 1.000     0.0   \n",
              "...                              ...                    ...     ...   \n",
              "4214          Seguros ou Previdência         Acima de 3.000     1.0   \n",
              "4221             Área de Consultoria            de 51 a 100     0.0   \n",
              "4240              Finanças ou Bancos            de 51 a 100     0.0   \n",
              "4247                Setor de Energia             de 11 a 50     0.0   \n",
              "4251              Finanças ou Bancos       de 1.001 a 3.000     0.0   \n",
              "\n",
              "           CARGO COMO GESTOR  \\\n",
              "4                        NaN   \n",
              "5                        NaN   \n",
              "7                        NaN   \n",
              "14                       NaN   \n",
              "23                       NaN   \n",
              "...                      ...   \n",
              "4214  Supervisor/Coordenador   \n",
              "4221                     NaN   \n",
              "4240                     NaN   \n",
              "4247                     NaN   \n",
              "4251                     NaN   \n",
              "\n",
              "                                            CARGO ATUAL   NIVEL  \\\n",
              "4     Desenvolvedor/ Engenheiro de Software/ Analist...   Pleno   \n",
              "5                                             Professor   Pleno   \n",
              "7     Desenvolvedor/ Engenheiro de Software/ Analist...  Júnior   \n",
              "14                Analista de Negócios/Business Analyst   Pleno   \n",
              "23    Engenheiro de Dados/Arquiteto de Dados/Data En...  Sênior   \n",
              "...                                                 ...     ...   \n",
              "4214                                                NaN     NaN   \n",
              "4221                                        Outra Opção  Júnior   \n",
              "4240                          Analista de BI/BI Analyst  Júnior   \n",
              "4247                  Cientista de Dados/Data Scientist  Júnior   \n",
              "4251  Engenheiro de Dados/Arquiteto de Dados/Data En...   Pleno   \n",
              "\n",
              "                        FAIXA SALARIAL  \\\n",
              "4       de R$ 6.001/mês a R$ 8.000/mês   \n",
              "5       de R$ 2.001/mês a R$ 3.000/mês   \n",
              "7       de R$ 2.001/mês a R$ 3.000/mês   \n",
              "14      de R$ 6.001/mês a R$ 8.000/mês   \n",
              "23    de R$ 12.001/mês a R$ 16.000/mês   \n",
              "...                                ...   \n",
              "4214   de R$ 8.001/mês a R$ 12.000/mês   \n",
              "4221    de R$ 4.001/mês a R$ 6.000/mês   \n",
              "4240    de R$ 1.001/mês a R$ 2.000/mês   \n",
              "4247    de R$ 4.001/mês a R$ 6.000/mês   \n",
              "4251    de R$ 4.001/mês a R$ 6.000/mês   \n",
              "\n",
              "     QUANTO TEMPO DE EXPERIÊNCIA NA ÁREA DE DADOS VOCÊ TEM?  \\\n",
              "4                Não tenho experiência na área de dados       \n",
              "5                Não tenho experiência na área de dados       \n",
              "7                                        Menos de 1 ano       \n",
              "14                                        de 1 a 2 anos       \n",
              "23                                      Mais de 10 anos       \n",
              "...                                                 ...       \n",
              "4214                                      de 4 a 6 anos       \n",
              "4221                                     Menos de 1 ano       \n",
              "4240                                      de 1 a 2 anos       \n",
              "4247                                    Mais de 10 anos       \n",
              "4251                                     Menos de 1 ano       \n",
              "\n",
              "     QUANTO TEMPO DE EXPERIÊNCIA NA ÁREA DE TI/ENGENHARIA DE SOFTWARE VOCÊ TEVE ANTES DE COMEÇAR A TRABALHAR NA ÁREA DE DADOS?  \\\n",
              "4                                       Mais de 10 anos                                                                          \n",
              "5     Não tive experiência na área de TI/Engenharia ...                                                                          \n",
              "7                                        Menos de 1 ano                                                                          \n",
              "14    Não tive experiência na área de TI/Engenharia ...                                                                          \n",
              "23                                        de 5 a 6 anos                                                                          \n",
              "...                                                 ...                                                                          \n",
              "4214  Não tive experiência na área de TI/Engenharia ...                                                                          \n",
              "4221                                     Menos de 1 ano                                                                          \n",
              "4240                                     Menos de 1 ano                                                                          \n",
              "4247  Não tive experiência na área de TI/Engenharia ...                                                                          \n",
              "4251                                     Menos de 1 ano                                                                          \n",
              "\n",
              "      SALARIO  \n",
              "4      7733.0  \n",
              "5      2336.0  \n",
              "7      2704.0  \n",
              "14     7416.0  \n",
              "23    13418.0  \n",
              "...       ...  \n",
              "4214  11452.0  \n",
              "4221   5687.0  \n",
              "4240   1182.0  \n",
              "4247   5925.0  \n",
              "4251   5673.0  \n",
              "\n",
              "[503 rows x 28 columns]"
            ]
          },
          "execution_count": 18,
          "metadata": {},
          "output_type": "execute_result"
        }
      ],
      "source": [
        "dados[(dados['IDADE']>30) & (dados['GENERO']=='Feminino')]"
      ]
    },
    {
      "cell_type": "code",
      "execution_count": 19,
      "metadata": {
        "colab": {
          "base_uri": "https://localhost:8080/",
          "height": 458
        },
        "id": "G8STI3ioyLMK",
        "outputId": "d6acafbd-4411-4a90-faed-54d7ba9a4c92"
      },
      "outputs": [
        {
          "data": {
            "text/plain": [
              "0        Parda\n",
              "1        Parda\n",
              "2       Branca\n",
              "3       Branca\n",
              "4       Branca\n",
              "         ...  \n",
              "4266    Branca\n",
              "4267    Branca\n",
              "4268    Branca\n",
              "4269    Branca\n",
              "4270    Branca\n",
              "Name: COR/RACA/ETNIA, Length: 4271, dtype: object"
            ]
          },
          "execution_count": 19,
          "metadata": {},
          "output_type": "execute_result"
        }
      ],
      "source": [
        "dados['COR/RACA/ETNIA']"
      ]
    },
    {
      "cell_type": "code",
      "execution_count": 20,
      "metadata": {
        "colab": {
          "base_uri": "https://localhost:8080/",
          "height": 1000
        },
        "id": "Zgvkt-lcy3M9",
        "outputId": "14f800c4-e5f3-4b13-e22a-e4846c31ffbc"
      },
      "outputs": [
        {
          "data": {
            "text/html": [
              "<div>\n",
              "<style scoped>\n",
              "    .dataframe tbody tr th:only-of-type {\n",
              "        vertical-align: middle;\n",
              "    }\n",
              "\n",
              "    .dataframe tbody tr th {\n",
              "        vertical-align: top;\n",
              "    }\n",
              "\n",
              "    .dataframe thead th {\n",
              "        text-align: right;\n",
              "    }\n",
              "</style>\n",
              "<table border=\"1\" class=\"dataframe\">\n",
              "  <thead>\n",
              "    <tr style=\"text-align: right;\">\n",
              "      <th></th>\n",
              "      <th>Unnamed: 0</th>\n",
              "      <th>ID</th>\n",
              "      <th>IDADE</th>\n",
              "      <th>FAIXA IDADE</th>\n",
              "      <th>GENERO</th>\n",
              "      <th>COR/RACA/ETNIA</th>\n",
              "      <th>PCD</th>\n",
              "      <th>EXPERIENCIA_PROFISSIONAL_PREJUDICADA</th>\n",
              "      <th>ASPECTOS_PREJUDICADOS</th>\n",
              "      <th>VIVE_NO_BRASIL</th>\n",
              "      <th>...</th>\n",
              "      <th>SETOR</th>\n",
              "      <th>NUMERO DE FUNCIONARIOS</th>\n",
              "      <th>GESTOR?</th>\n",
              "      <th>CARGO COMO GESTOR</th>\n",
              "      <th>CARGO ATUAL</th>\n",
              "      <th>NIVEL</th>\n",
              "      <th>FAIXA SALARIAL</th>\n",
              "      <th>QUANTO TEMPO DE EXPERIÊNCIA NA ÁREA DE DADOS VOCÊ TEM?</th>\n",
              "      <th>QUANTO TEMPO DE EXPERIÊNCIA NA ÁREA DE TI/ENGENHARIA DE SOFTWARE VOCÊ TEVE ANTES DE COMEÇAR A TRABALHAR NA ÁREA DE DADOS?</th>\n",
              "      <th>SALARIO</th>\n",
              "    </tr>\n",
              "  </thead>\n",
              "  <tbody>\n",
              "    <tr>\n",
              "      <th>13</th>\n",
              "      <td>13</td>\n",
              "      <td>zwh83jpy6x40b95xigsr2zwh83jpflu3</td>\n",
              "      <td>24.0</td>\n",
              "      <td>22-24</td>\n",
              "      <td>Masculino</td>\n",
              "      <td>Amarela</td>\n",
              "      <td>Não</td>\n",
              "      <td>Não acredito que minha experiência profissiona...</td>\n",
              "      <td>NaN</td>\n",
              "      <td>True</td>\n",
              "      <td>...</td>\n",
              "      <td>Finanças ou Bancos</td>\n",
              "      <td>Acima de 3.000</td>\n",
              "      <td>0.0</td>\n",
              "      <td>NaN</td>\n",
              "      <td>Analista de Negócios/Business Analyst</td>\n",
              "      <td>Júnior</td>\n",
              "      <td>de R$ 4.001/mês a R$ 6.000/mês</td>\n",
              "      <td>de 1 a 2 anos</td>\n",
              "      <td>Menos de 1 ano</td>\n",
              "      <td>5296.0</td>\n",
              "    </tr>\n",
              "    <tr>\n",
              "      <th>85</th>\n",
              "      <td>85</td>\n",
              "      <td>zfeuk2m9jozahicujlla8zfeuk2g7apj</td>\n",
              "      <td>29.0</td>\n",
              "      <td>25-29</td>\n",
              "      <td>Feminino</td>\n",
              "      <td>Amarela</td>\n",
              "      <td>Não</td>\n",
              "      <td>Não acredito que minha experiência profissiona...</td>\n",
              "      <td>NaN</td>\n",
              "      <td>True</td>\n",
              "      <td>...</td>\n",
              "      <td>NaN</td>\n",
              "      <td>NaN</td>\n",
              "      <td>NaN</td>\n",
              "      <td>NaN</td>\n",
              "      <td>NaN</td>\n",
              "      <td>NaN</td>\n",
              "      <td>NaN</td>\n",
              "      <td>NaN</td>\n",
              "      <td>NaN</td>\n",
              "      <td>NaN</td>\n",
              "    </tr>\n",
              "    <tr>\n",
              "      <th>97</th>\n",
              "      <td>97</td>\n",
              "      <td>zbukfwxvpwlk6loglm0zbukfwx6bvyb6</td>\n",
              "      <td>40.0</td>\n",
              "      <td>40-44</td>\n",
              "      <td>Masculino</td>\n",
              "      <td>Amarela</td>\n",
              "      <td>Não</td>\n",
              "      <td>Não acredito que minha experiência profissiona...</td>\n",
              "      <td>NaN</td>\n",
              "      <td>True</td>\n",
              "      <td>...</td>\n",
              "      <td>Varejo</td>\n",
              "      <td>Acima de 3.000</td>\n",
              "      <td>0.0</td>\n",
              "      <td>NaN</td>\n",
              "      <td>Analista de BI/BI Analyst</td>\n",
              "      <td>Sênior</td>\n",
              "      <td>de R$ 8.001/mês a R$ 12.000/mês</td>\n",
              "      <td>de 4 a 6 anos</td>\n",
              "      <td>Mais de 10 anos</td>\n",
              "      <td>11388.0</td>\n",
              "    </tr>\n",
              "    <tr>\n",
              "      <th>107</th>\n",
              "      <td>107</td>\n",
              "      <td>z9toybzbja7n6xjjbz9f8hmofrry69tg</td>\n",
              "      <td>44.0</td>\n",
              "      <td>40-44</td>\n",
              "      <td>Masculino</td>\n",
              "      <td>Amarela</td>\n",
              "      <td>Não</td>\n",
              "      <td>Não acredito que minha experiência profissiona...</td>\n",
              "      <td>NaN</td>\n",
              "      <td>True</td>\n",
              "      <td>...</td>\n",
              "      <td>Indústria</td>\n",
              "      <td>Acima de 3.000</td>\n",
              "      <td>0.0</td>\n",
              "      <td>NaN</td>\n",
              "      <td>Engenheiro de Dados/Arquiteto de Dados/Data En...</td>\n",
              "      <td>Sênior</td>\n",
              "      <td>de R$ 12.001/mês a R$ 16.000/mês</td>\n",
              "      <td>Mais de 10 anos</td>\n",
              "      <td>Mais de 10 anos</td>\n",
              "      <td>14500.0</td>\n",
              "    </tr>\n",
              "    <tr>\n",
              "      <th>159</th>\n",
              "      <td>159</td>\n",
              "      <td>ytrnz3zyvn791t3dum1ytrnz3zp22tmk</td>\n",
              "      <td>37.0</td>\n",
              "      <td>35-39</td>\n",
              "      <td>Feminino</td>\n",
              "      <td>Amarela</td>\n",
              "      <td>Não</td>\n",
              "      <td>Sim, acredito que a minha a experiência profis...</td>\n",
              "      <td>Oportunidades de progressão de carreira, Aprov...</td>\n",
              "      <td>True</td>\n",
              "      <td>...</td>\n",
              "      <td>Tecnologia/Fábrica de Software</td>\n",
              "      <td>de 101 a 500</td>\n",
              "      <td>0.0</td>\n",
              "      <td>NaN</td>\n",
              "      <td>Engenheiro de Dados/Arquiteto de Dados/Data En...</td>\n",
              "      <td>Pleno</td>\n",
              "      <td>de R$ 8.001/mês a R$ 12.000/mês</td>\n",
              "      <td>de 1 a 2 anos</td>\n",
              "      <td>de 7 a 10 anos</td>\n",
              "      <td>10628.0</td>\n",
              "    </tr>\n",
              "    <tr>\n",
              "      <th>...</th>\n",
              "      <td>...</td>\n",
              "      <td>...</td>\n",
              "      <td>...</td>\n",
              "      <td>...</td>\n",
              "      <td>...</td>\n",
              "      <td>...</td>\n",
              "      <td>...</td>\n",
              "      <td>...</td>\n",
              "      <td>...</td>\n",
              "      <td>...</td>\n",
              "      <td>...</td>\n",
              "      <td>...</td>\n",
              "      <td>...</td>\n",
              "      <td>...</td>\n",
              "      <td>...</td>\n",
              "      <td>...</td>\n",
              "      <td>...</td>\n",
              "      <td>...</td>\n",
              "      <td>...</td>\n",
              "      <td>...</td>\n",
              "      <td>...</td>\n",
              "    </tr>\n",
              "    <tr>\n",
              "      <th>4176</th>\n",
              "      <td>4176</td>\n",
              "      <td>0qpa64gqpieg60xpygnajt70qpa64g1a</td>\n",
              "      <td>27.0</td>\n",
              "      <td>25-29</td>\n",
              "      <td>Feminino</td>\n",
              "      <td>Amarela</td>\n",
              "      <td>Não</td>\n",
              "      <td>Não acredito que minha experiência profissiona...</td>\n",
              "      <td>NaN</td>\n",
              "      <td>True</td>\n",
              "      <td>...</td>\n",
              "      <td>NaN</td>\n",
              "      <td>NaN</td>\n",
              "      <td>NaN</td>\n",
              "      <td>NaN</td>\n",
              "      <td>NaN</td>\n",
              "      <td>NaN</td>\n",
              "      <td>NaN</td>\n",
              "      <td>NaN</td>\n",
              "      <td>NaN</td>\n",
              "      <td>NaN</td>\n",
              "    </tr>\n",
              "    <tr>\n",
              "      <th>4207</th>\n",
              "      <td>4207</td>\n",
              "      <td>0ibb8fj9qrwpswfqiil0ibb89e3e4hz3</td>\n",
              "      <td>30.0</td>\n",
              "      <td>30-34</td>\n",
              "      <td>Feminino</td>\n",
              "      <td>Amarela</td>\n",
              "      <td>Não</td>\n",
              "      <td>Sim, acredito que a minha a experiência profis...</td>\n",
              "      <td>Oportunidades de progressão de carreira, Veloc...</td>\n",
              "      <td>True</td>\n",
              "      <td>...</td>\n",
              "      <td>Área de Consultoria</td>\n",
              "      <td>de 501 a 1.000</td>\n",
              "      <td>0.0</td>\n",
              "      <td>NaN</td>\n",
              "      <td>Cientista de Dados/Data Scientist</td>\n",
              "      <td>Sênior</td>\n",
              "      <td>de R$ 16.001/mês a R$ 20.000/mês</td>\n",
              "      <td>de 4 a 6 anos</td>\n",
              "      <td>de 5 a 6 anos</td>\n",
              "      <td>16298.0</td>\n",
              "    </tr>\n",
              "    <tr>\n",
              "      <th>4210</th>\n",
              "      <td>4210</td>\n",
              "      <td>0hbwm1d1wz739r40hbwm1df6ky5kn4ap</td>\n",
              "      <td>43.0</td>\n",
              "      <td>40-44</td>\n",
              "      <td>Feminino</td>\n",
              "      <td>Amarela</td>\n",
              "      <td>Não</td>\n",
              "      <td>Não acredito que minha experiência profissiona...</td>\n",
              "      <td>NaN</td>\n",
              "      <td>True</td>\n",
              "      <td>...</td>\n",
              "      <td>Setor Público</td>\n",
              "      <td>Acima de 3.000</td>\n",
              "      <td>0.0</td>\n",
              "      <td>NaN</td>\n",
              "      <td>Desenvolvedor/ Engenheiro de Software/ Analist...</td>\n",
              "      <td>Sênior</td>\n",
              "      <td>de R$ 6.001/mês a R$ 8.000/mês</td>\n",
              "      <td>de 1 a 2 anos</td>\n",
              "      <td>Mais de 10 anos</td>\n",
              "      <td>7131.0</td>\n",
              "    </tr>\n",
              "    <tr>\n",
              "      <th>4257</th>\n",
              "      <td>4257</td>\n",
              "      <td>043snvbsxn3fuyfe043j5comuyu8g6ba</td>\n",
              "      <td>46.0</td>\n",
              "      <td>45-49</td>\n",
              "      <td>Masculino</td>\n",
              "      <td>Amarela</td>\n",
              "      <td>Não</td>\n",
              "      <td>Não acredito que minha experiência profissiona...</td>\n",
              "      <td>NaN</td>\n",
              "      <td>True</td>\n",
              "      <td>...</td>\n",
              "      <td>Finanças ou Bancos</td>\n",
              "      <td>Acima de 3.000</td>\n",
              "      <td>1.0</td>\n",
              "      <td>Gerente/Head</td>\n",
              "      <td>NaN</td>\n",
              "      <td>NaN</td>\n",
              "      <td>Acima de R$ 40.001/mês</td>\n",
              "      <td>Mais de 10 anos</td>\n",
              "      <td>Não tive experiência na área de TI/Engenharia ...</td>\n",
              "      <td>62001.0</td>\n",
              "    </tr>\n",
              "    <tr>\n",
              "      <th>4262</th>\n",
              "      <td>4262</td>\n",
              "      <td>02vlm03c29g3fcys8tj06102vlm0983h</td>\n",
              "      <td>31.0</td>\n",
              "      <td>30-34</td>\n",
              "      <td>Masculino</td>\n",
              "      <td>Amarela</td>\n",
              "      <td>Não</td>\n",
              "      <td>Não acredito que minha experiência profissiona...</td>\n",
              "      <td>NaN</td>\n",
              "      <td>True</td>\n",
              "      <td>...</td>\n",
              "      <td>Tecnologia/Fábrica de Software</td>\n",
              "      <td>de 501 a 1.000</td>\n",
              "      <td>1.0</td>\n",
              "      <td>Team Leader/Tech Leader</td>\n",
              "      <td>NaN</td>\n",
              "      <td>NaN</td>\n",
              "      <td>de R$ 16.001/mês a R$ 20.000/mês</td>\n",
              "      <td>de 3 a 4 anos</td>\n",
              "      <td>de 3 a 4 anos</td>\n",
              "      <td>18402.0</td>\n",
              "    </tr>\n",
              "  </tbody>\n",
              "</table>\n",
              "<p>128 rows × 28 columns</p>\n",
              "</div>"
            ],
            "text/plain": [
              "      Unnamed: 0                                ID  IDADE FAIXA IDADE  \\\n",
              "13            13  zwh83jpy6x40b95xigsr2zwh83jpflu3   24.0       22-24   \n",
              "85            85  zfeuk2m9jozahicujlla8zfeuk2g7apj   29.0       25-29   \n",
              "97            97  zbukfwxvpwlk6loglm0zbukfwx6bvyb6   40.0       40-44   \n",
              "107          107  z9toybzbja7n6xjjbz9f8hmofrry69tg   44.0       40-44   \n",
              "159          159  ytrnz3zyvn791t3dum1ytrnz3zp22tmk   37.0       35-39   \n",
              "...          ...                               ...    ...         ...   \n",
              "4176        4176  0qpa64gqpieg60xpygnajt70qpa64g1a   27.0       25-29   \n",
              "4207        4207  0ibb8fj9qrwpswfqiil0ibb89e3e4hz3   30.0       30-34   \n",
              "4210        4210  0hbwm1d1wz739r40hbwm1df6ky5kn4ap   43.0       40-44   \n",
              "4257        4257  043snvbsxn3fuyfe043j5comuyu8g6ba   46.0       45-49   \n",
              "4262        4262  02vlm03c29g3fcys8tj06102vlm0983h   31.0       30-34   \n",
              "\n",
              "         GENERO COR/RACA/ETNIA  PCD  \\\n",
              "13    Masculino        Amarela  Não   \n",
              "85     Feminino        Amarela  Não   \n",
              "97    Masculino        Amarela  Não   \n",
              "107   Masculino        Amarela  Não   \n",
              "159    Feminino        Amarela  Não   \n",
              "...         ...            ...  ...   \n",
              "4176   Feminino        Amarela  Não   \n",
              "4207   Feminino        Amarela  Não   \n",
              "4210   Feminino        Amarela  Não   \n",
              "4257  Masculino        Amarela  Não   \n",
              "4262  Masculino        Amarela  Não   \n",
              "\n",
              "                   EXPERIENCIA_PROFISSIONAL_PREJUDICADA  \\\n",
              "13    Não acredito que minha experiência profissiona...   \n",
              "85    Não acredito que minha experiência profissiona...   \n",
              "97    Não acredito que minha experiência profissiona...   \n",
              "107   Não acredito que minha experiência profissiona...   \n",
              "159   Sim, acredito que a minha a experiência profis...   \n",
              "...                                                 ...   \n",
              "4176  Não acredito que minha experiência profissiona...   \n",
              "4207  Sim, acredito que a minha a experiência profis...   \n",
              "4210  Não acredito que minha experiência profissiona...   \n",
              "4257  Não acredito que minha experiência profissiona...   \n",
              "4262  Não acredito que minha experiência profissiona...   \n",
              "\n",
              "                                  ASPECTOS_PREJUDICADOS  VIVE_NO_BRASIL  ...  \\\n",
              "13                                                  NaN            True  ...   \n",
              "85                                                  NaN            True  ...   \n",
              "97                                                  NaN            True  ...   \n",
              "107                                                 NaN            True  ...   \n",
              "159   Oportunidades de progressão de carreira, Aprov...            True  ...   \n",
              "...                                                 ...             ...  ...   \n",
              "4176                                                NaN            True  ...   \n",
              "4207  Oportunidades de progressão de carreira, Veloc...            True  ...   \n",
              "4210                                                NaN            True  ...   \n",
              "4257                                                NaN            True  ...   \n",
              "4262                                                NaN            True  ...   \n",
              "\n",
              "                               SETOR NUMERO DE FUNCIONARIOS GESTOR?  \\\n",
              "13                Finanças ou Bancos         Acima de 3.000     0.0   \n",
              "85                               NaN                    NaN     NaN   \n",
              "97                            Varejo         Acima de 3.000     0.0   \n",
              "107                        Indústria         Acima de 3.000     0.0   \n",
              "159   Tecnologia/Fábrica de Software           de 101 a 500     0.0   \n",
              "...                              ...                    ...     ...   \n",
              "4176                             NaN                    NaN     NaN   \n",
              "4207             Área de Consultoria         de 501 a 1.000     0.0   \n",
              "4210                   Setor Público         Acima de 3.000     0.0   \n",
              "4257              Finanças ou Bancos         Acima de 3.000     1.0   \n",
              "4262  Tecnologia/Fábrica de Software         de 501 a 1.000     1.0   \n",
              "\n",
              "            CARGO COMO GESTOR  \\\n",
              "13                        NaN   \n",
              "85                        NaN   \n",
              "97                        NaN   \n",
              "107                       NaN   \n",
              "159                       NaN   \n",
              "...                       ...   \n",
              "4176                      NaN   \n",
              "4207                      NaN   \n",
              "4210                      NaN   \n",
              "4257             Gerente/Head   \n",
              "4262  Team Leader/Tech Leader   \n",
              "\n",
              "                                            CARGO ATUAL   NIVEL  \\\n",
              "13                Analista de Negócios/Business Analyst  Júnior   \n",
              "85                                                  NaN     NaN   \n",
              "97                            Analista de BI/BI Analyst  Sênior   \n",
              "107   Engenheiro de Dados/Arquiteto de Dados/Data En...  Sênior   \n",
              "159   Engenheiro de Dados/Arquiteto de Dados/Data En...   Pleno   \n",
              "...                                                 ...     ...   \n",
              "4176                                                NaN     NaN   \n",
              "4207                  Cientista de Dados/Data Scientist  Sênior   \n",
              "4210  Desenvolvedor/ Engenheiro de Software/ Analist...  Sênior   \n",
              "4257                                                NaN     NaN   \n",
              "4262                                                NaN     NaN   \n",
              "\n",
              "                        FAIXA SALARIAL  \\\n",
              "13      de R$ 4.001/mês a R$ 6.000/mês   \n",
              "85                                 NaN   \n",
              "97     de R$ 8.001/mês a R$ 12.000/mês   \n",
              "107   de R$ 12.001/mês a R$ 16.000/mês   \n",
              "159    de R$ 8.001/mês a R$ 12.000/mês   \n",
              "...                                ...   \n",
              "4176                               NaN   \n",
              "4207  de R$ 16.001/mês a R$ 20.000/mês   \n",
              "4210    de R$ 6.001/mês a R$ 8.000/mês   \n",
              "4257            Acima de R$ 40.001/mês   \n",
              "4262  de R$ 16.001/mês a R$ 20.000/mês   \n",
              "\n",
              "     QUANTO TEMPO DE EXPERIÊNCIA NA ÁREA DE DADOS VOCÊ TEM?  \\\n",
              "13                                        de 1 a 2 anos       \n",
              "85                                                  NaN       \n",
              "97                                        de 4 a 6 anos       \n",
              "107                                     Mais de 10 anos       \n",
              "159                                       de 1 a 2 anos       \n",
              "...                                                 ...       \n",
              "4176                                                NaN       \n",
              "4207                                      de 4 a 6 anos       \n",
              "4210                                      de 1 a 2 anos       \n",
              "4257                                    Mais de 10 anos       \n",
              "4262                                      de 3 a 4 anos       \n",
              "\n",
              "     QUANTO TEMPO DE EXPERIÊNCIA NA ÁREA DE TI/ENGENHARIA DE SOFTWARE VOCÊ TEVE ANTES DE COMEÇAR A TRABALHAR NA ÁREA DE DADOS?  \\\n",
              "13                                       Menos de 1 ano                                                                          \n",
              "85                                                  NaN                                                                          \n",
              "97                                      Mais de 10 anos                                                                          \n",
              "107                                     Mais de 10 anos                                                                          \n",
              "159                                      de 7 a 10 anos                                                                          \n",
              "...                                                 ...                                                                          \n",
              "4176                                                NaN                                                                          \n",
              "4207                                      de 5 a 6 anos                                                                          \n",
              "4210                                    Mais de 10 anos                                                                          \n",
              "4257  Não tive experiência na área de TI/Engenharia ...                                                                          \n",
              "4262                                      de 3 a 4 anos                                                                          \n",
              "\n",
              "      SALARIO  \n",
              "13     5296.0  \n",
              "85        NaN  \n",
              "97    11388.0  \n",
              "107   14500.0  \n",
              "159   10628.0  \n",
              "...       ...  \n",
              "4176      NaN  \n",
              "4207  16298.0  \n",
              "4210   7131.0  \n",
              "4257  62001.0  \n",
              "4262  18402.0  \n",
              "\n",
              "[128 rows x 28 columns]"
            ]
          },
          "execution_count": 20,
          "metadata": {},
          "output_type": "execute_result"
        }
      ],
      "source": [
        "dados[dados['COR/RACA/ETNIA']=='Amarela']"
      ]
    },
    {
      "cell_type": "code",
      "execution_count": 21,
      "metadata": {
        "colab": {
          "base_uri": "https://localhost:8080/",
          "height": 1000
        },
        "id": "p66Itdgiy8c5",
        "outputId": "d7f46c02-18f2-4363-c7c6-d91deca4fc03"
      },
      "outputs": [
        {
          "data": {
            "text/html": [
              "<div>\n",
              "<style scoped>\n",
              "    .dataframe tbody tr th:only-of-type {\n",
              "        vertical-align: middle;\n",
              "    }\n",
              "\n",
              "    .dataframe tbody tr th {\n",
              "        vertical-align: top;\n",
              "    }\n",
              "\n",
              "    .dataframe thead th {\n",
              "        text-align: right;\n",
              "    }\n",
              "</style>\n",
              "<table border=\"1\" class=\"dataframe\">\n",
              "  <thead>\n",
              "    <tr style=\"text-align: right;\">\n",
              "      <th></th>\n",
              "      <th>Unnamed: 0</th>\n",
              "      <th>ID</th>\n",
              "      <th>IDADE</th>\n",
              "      <th>FAIXA IDADE</th>\n",
              "      <th>GENERO</th>\n",
              "      <th>COR/RACA/ETNIA</th>\n",
              "      <th>PCD</th>\n",
              "      <th>EXPERIENCIA_PROFISSIONAL_PREJUDICADA</th>\n",
              "      <th>ASPECTOS_PREJUDICADOS</th>\n",
              "      <th>VIVE_NO_BRASIL</th>\n",
              "      <th>...</th>\n",
              "      <th>SETOR</th>\n",
              "      <th>NUMERO DE FUNCIONARIOS</th>\n",
              "      <th>GESTOR?</th>\n",
              "      <th>CARGO COMO GESTOR</th>\n",
              "      <th>CARGO ATUAL</th>\n",
              "      <th>NIVEL</th>\n",
              "      <th>FAIXA SALARIAL</th>\n",
              "      <th>QUANTO TEMPO DE EXPERIÊNCIA NA ÁREA DE DADOS VOCÊ TEM?</th>\n",
              "      <th>QUANTO TEMPO DE EXPERIÊNCIA NA ÁREA DE TI/ENGENHARIA DE SOFTWARE VOCÊ TEVE ANTES DE COMEÇAR A TRABALHAR NA ÁREA DE DADOS?</th>\n",
              "      <th>SALARIO</th>\n",
              "    </tr>\n",
              "  </thead>\n",
              "  <tbody>\n",
              "    <tr>\n",
              "      <th>0</th>\n",
              "      <td>0</td>\n",
              "      <td>zzqzz3l9ily8nuo2m7wyzzqzz3w48o96</td>\n",
              "      <td>39.0</td>\n",
              "      <td>35-39</td>\n",
              "      <td>Masculino</td>\n",
              "      <td>Parda</td>\n",
              "      <td>Não</td>\n",
              "      <td>Não acredito que minha experiência profissiona...</td>\n",
              "      <td>NaN</td>\n",
              "      <td>True</td>\n",
              "      <td>...</td>\n",
              "      <td>Setor Público</td>\n",
              "      <td>Acima de 3.000</td>\n",
              "      <td>0.0</td>\n",
              "      <td>NaN</td>\n",
              "      <td>DBA/Administrador de Banco de Dados</td>\n",
              "      <td>Júnior</td>\n",
              "      <td>de R$ 8.001/mês a R$ 12.000/mês</td>\n",
              "      <td>de 1 a 2 anos</td>\n",
              "      <td>de 7 a 10 anos</td>\n",
              "      <td>11194.0</td>\n",
              "    </tr>\n",
              "    <tr>\n",
              "      <th>1</th>\n",
              "      <td>1</td>\n",
              "      <td>zzls2oftfn9law393oezzls2ofhvfpzd</td>\n",
              "      <td>32.0</td>\n",
              "      <td>30-34</td>\n",
              "      <td>Masculino</td>\n",
              "      <td>Parda</td>\n",
              "      <td>Não</td>\n",
              "      <td>Sim, acredito que a minha a experiência profis...</td>\n",
              "      <td>Aprovação em processos seletivos/entrevistas</td>\n",
              "      <td>True</td>\n",
              "      <td>...</td>\n",
              "      <td>Outra Opção</td>\n",
              "      <td>Acima de 3.000</td>\n",
              "      <td>1.0</td>\n",
              "      <td>Supervisor/Coordenador</td>\n",
              "      <td>NaN</td>\n",
              "      <td>NaN</td>\n",
              "      <td>de R$ 4.001/mês a R$ 6.000/mês</td>\n",
              "      <td>de 3 a 4 anos</td>\n",
              "      <td>Menos de 1 ano</td>\n",
              "      <td>4695.0</td>\n",
              "    </tr>\n",
              "    <tr>\n",
              "      <th>3</th>\n",
              "      <td>3</td>\n",
              "      <td>zzbqh3uy7yk7k9qmkzzbqtb4s9faqspl</td>\n",
              "      <td>27.0</td>\n",
              "      <td>25-29</td>\n",
              "      <td>Masculino</td>\n",
              "      <td>Branca</td>\n",
              "      <td>Não</td>\n",
              "      <td>NaN</td>\n",
              "      <td>NaN</td>\n",
              "      <td>True</td>\n",
              "      <td>...</td>\n",
              "      <td>Setor Automotivo</td>\n",
              "      <td>Acima de 3.000</td>\n",
              "      <td>0.0</td>\n",
              "      <td>NaN</td>\n",
              "      <td>Cientista de Dados/Data Scientist</td>\n",
              "      <td>Sênior</td>\n",
              "      <td>de R$ 12.001/mês a R$ 16.000/mês</td>\n",
              "      <td>de 4 a 6 anos</td>\n",
              "      <td>Não tive experiência na área de TI/Engenharia ...</td>\n",
              "      <td>15463.0</td>\n",
              "    </tr>\n",
              "    <tr>\n",
              "      <th>5</th>\n",
              "      <td>5</td>\n",
              "      <td>zz0nlhbd8oxyiyxzz0nlh7g4xkiaza5v</td>\n",
              "      <td>32.0</td>\n",
              "      <td>30-34</td>\n",
              "      <td>Feminino</td>\n",
              "      <td>Parda</td>\n",
              "      <td>Não</td>\n",
              "      <td>Não acredito que minha experiência profissiona...</td>\n",
              "      <td>NaN</td>\n",
              "      <td>True</td>\n",
              "      <td>...</td>\n",
              "      <td>Educação</td>\n",
              "      <td>Acima de 3.000</td>\n",
              "      <td>0.0</td>\n",
              "      <td>NaN</td>\n",
              "      <td>Professor</td>\n",
              "      <td>Pleno</td>\n",
              "      <td>de R$ 2.001/mês a R$ 3.000/mês</td>\n",
              "      <td>Não tenho experiência na área de dados</td>\n",
              "      <td>Não tive experiência na área de TI/Engenharia ...</td>\n",
              "      <td>2336.0</td>\n",
              "    </tr>\n",
              "    <tr>\n",
              "      <th>6</th>\n",
              "      <td>6</td>\n",
              "      <td>zytlxsdgalh22cgrijvzytlxa49i8yzx</td>\n",
              "      <td>21.0</td>\n",
              "      <td>17-21</td>\n",
              "      <td>Masculino</td>\n",
              "      <td>Parda</td>\n",
              "      <td>Não</td>\n",
              "      <td>Não acredito que minha experiência profissiona...</td>\n",
              "      <td>NaN</td>\n",
              "      <td>True</td>\n",
              "      <td>...</td>\n",
              "      <td>Finanças ou Bancos</td>\n",
              "      <td>Acima de 3.000</td>\n",
              "      <td>0.0</td>\n",
              "      <td>NaN</td>\n",
              "      <td>Analista de BI/BI Analyst</td>\n",
              "      <td>Júnior</td>\n",
              "      <td>de R$ 4.001/mês a R$ 6.000/mês</td>\n",
              "      <td>de 1 a 2 anos</td>\n",
              "      <td>Menos de 1 ano</td>\n",
              "      <td>4491.0</td>\n",
              "    </tr>\n",
              "    <tr>\n",
              "      <th>...</th>\n",
              "      <td>...</td>\n",
              "      <td>...</td>\n",
              "      <td>...</td>\n",
              "      <td>...</td>\n",
              "      <td>...</td>\n",
              "      <td>...</td>\n",
              "      <td>...</td>\n",
              "      <td>...</td>\n",
              "      <td>...</td>\n",
              "      <td>...</td>\n",
              "      <td>...</td>\n",
              "      <td>...</td>\n",
              "      <td>...</td>\n",
              "      <td>...</td>\n",
              "      <td>...</td>\n",
              "      <td>...</td>\n",
              "      <td>...</td>\n",
              "      <td>...</td>\n",
              "      <td>...</td>\n",
              "      <td>...</td>\n",
              "      <td>...</td>\n",
              "    </tr>\n",
              "    <tr>\n",
              "      <th>4265</th>\n",
              "      <td>4265</td>\n",
              "      <td>01nmlhyw8w2b4stchg01nmlvlcqp0iis</td>\n",
              "      <td>28.0</td>\n",
              "      <td>25-29</td>\n",
              "      <td>Masculino</td>\n",
              "      <td>Branca</td>\n",
              "      <td>Não</td>\n",
              "      <td>NaN</td>\n",
              "      <td>NaN</td>\n",
              "      <td>True</td>\n",
              "      <td>...</td>\n",
              "      <td>Marketing</td>\n",
              "      <td>de 1 a 5</td>\n",
              "      <td>0.0</td>\n",
              "      <td>NaN</td>\n",
              "      <td>Analista de Marketing</td>\n",
              "      <td>Pleno</td>\n",
              "      <td>de R$ 2.001/mês a R$ 3.000/mês</td>\n",
              "      <td>de 3 a 4 anos</td>\n",
              "      <td>de 1 a 2 anos</td>\n",
              "      <td>2348.0</td>\n",
              "    </tr>\n",
              "    <tr>\n",
              "      <th>4266</th>\n",
              "      <td>4266</td>\n",
              "      <td>01jnrn9f6va0menfhk2ztm01jnrn96bp</td>\n",
              "      <td>26.0</td>\n",
              "      <td>25-29</td>\n",
              "      <td>Masculino</td>\n",
              "      <td>Branca</td>\n",
              "      <td>Não</td>\n",
              "      <td>NaN</td>\n",
              "      <td>NaN</td>\n",
              "      <td>True</td>\n",
              "      <td>...</td>\n",
              "      <td>Tecnologia/Fábrica de Software</td>\n",
              "      <td>Acima de 3.000</td>\n",
              "      <td>0.0</td>\n",
              "      <td>NaN</td>\n",
              "      <td>Analista de Dados/Data Analyst</td>\n",
              "      <td>Pleno</td>\n",
              "      <td>de R$ 4.001/mês a R$ 6.000/mês</td>\n",
              "      <td>de 3 a 4 anos</td>\n",
              "      <td>de 7 a 10 anos</td>\n",
              "      <td>4329.0</td>\n",
              "    </tr>\n",
              "    <tr>\n",
              "      <th>4267</th>\n",
              "      <td>4267</td>\n",
              "      <td>01dyfxam4u4bi29fem01dyfxaq9akvqp</td>\n",
              "      <td>30.0</td>\n",
              "      <td>30-34</td>\n",
              "      <td>Feminino</td>\n",
              "      <td>Branca</td>\n",
              "      <td>Não</td>\n",
              "      <td>Não acredito que minha experiência profissiona...</td>\n",
              "      <td>NaN</td>\n",
              "      <td>True</td>\n",
              "      <td>...</td>\n",
              "      <td>Área de Consultoria</td>\n",
              "      <td>de 51 a 100</td>\n",
              "      <td>0.0</td>\n",
              "      <td>NaN</td>\n",
              "      <td>Engenheiro de Dados/Arquiteto de Dados/Data En...</td>\n",
              "      <td>Pleno</td>\n",
              "      <td>de R$ 3.001/mês a R$ 4.000/mês</td>\n",
              "      <td>de 1 a 2 anos</td>\n",
              "      <td>Não tive experiência na área de TI/Engenharia ...</td>\n",
              "      <td>3758.0</td>\n",
              "    </tr>\n",
              "    <tr>\n",
              "      <th>4268</th>\n",
              "      <td>4268</td>\n",
              "      <td>00zw9ks9d40z4u00zz3d20iix65qpli3</td>\n",
              "      <td>29.0</td>\n",
              "      <td>25-29</td>\n",
              "      <td>Masculino</td>\n",
              "      <td>Branca</td>\n",
              "      <td>Não</td>\n",
              "      <td>NaN</td>\n",
              "      <td>NaN</td>\n",
              "      <td>True</td>\n",
              "      <td>...</td>\n",
              "      <td>Setor Imobiliário/ Construção Civil</td>\n",
              "      <td>de 101 a 500</td>\n",
              "      <td>1.0</td>\n",
              "      <td>Gerente/Head</td>\n",
              "      <td>NaN</td>\n",
              "      <td>NaN</td>\n",
              "      <td>de R$ 16.001/mês a R$ 20.000/mês</td>\n",
              "      <td>de 4 a 6 anos</td>\n",
              "      <td>Não tive experiência na área de TI/Engenharia ...</td>\n",
              "      <td>19607.0</td>\n",
              "    </tr>\n",
              "    <tr>\n",
              "      <th>4270</th>\n",
              "      <td>4270</td>\n",
              "      <td>00lb35llmdsidpa00lb35qcdysnzvhv7</td>\n",
              "      <td>24.0</td>\n",
              "      <td>22-24</td>\n",
              "      <td>Masculino</td>\n",
              "      <td>Branca</td>\n",
              "      <td>Não</td>\n",
              "      <td>NaN</td>\n",
              "      <td>NaN</td>\n",
              "      <td>True</td>\n",
              "      <td>...</td>\n",
              "      <td>Agronegócios</td>\n",
              "      <td>de 501 a 1.000</td>\n",
              "      <td>0.0</td>\n",
              "      <td>NaN</td>\n",
              "      <td>Analista de Dados/Data Analyst</td>\n",
              "      <td>Júnior</td>\n",
              "      <td>de R$ 3.001/mês a R$ 4.000/mês</td>\n",
              "      <td>de 1 a 2 anos</td>\n",
              "      <td>Não tive experiência na área de TI/Engenharia ...</td>\n",
              "      <td>3079.0</td>\n",
              "    </tr>\n",
              "  </tbody>\n",
              "</table>\n",
              "<p>3686 rows × 28 columns</p>\n",
              "</div>"
            ],
            "text/plain": [
              "      Unnamed: 0                                ID  IDADE FAIXA IDADE  \\\n",
              "0              0  zzqzz3l9ily8nuo2m7wyzzqzz3w48o96   39.0       35-39   \n",
              "1              1  zzls2oftfn9law393oezzls2ofhvfpzd   32.0       30-34   \n",
              "3              3  zzbqh3uy7yk7k9qmkzzbqtb4s9faqspl   27.0       25-29   \n",
              "5              5  zz0nlhbd8oxyiyxzz0nlh7g4xkiaza5v   32.0       30-34   \n",
              "6              6  zytlxsdgalh22cgrijvzytlxa49i8yzx   21.0       17-21   \n",
              "...          ...                               ...    ...         ...   \n",
              "4265        4265  01nmlhyw8w2b4stchg01nmlvlcqp0iis   28.0       25-29   \n",
              "4266        4266  01jnrn9f6va0menfhk2ztm01jnrn96bp   26.0       25-29   \n",
              "4267        4267  01dyfxam4u4bi29fem01dyfxaq9akvqp   30.0       30-34   \n",
              "4268        4268  00zw9ks9d40z4u00zz3d20iix65qpli3   29.0       25-29   \n",
              "4270        4270  00lb35llmdsidpa00lb35qcdysnzvhv7   24.0       22-24   \n",
              "\n",
              "         GENERO COR/RACA/ETNIA  PCD  \\\n",
              "0     Masculino          Parda  Não   \n",
              "1     Masculino          Parda  Não   \n",
              "3     Masculino         Branca  Não   \n",
              "5      Feminino          Parda  Não   \n",
              "6     Masculino          Parda  Não   \n",
              "...         ...            ...  ...   \n",
              "4265  Masculino         Branca  Não   \n",
              "4266  Masculino         Branca  Não   \n",
              "4267   Feminino         Branca  Não   \n",
              "4268  Masculino         Branca  Não   \n",
              "4270  Masculino         Branca  Não   \n",
              "\n",
              "                   EXPERIENCIA_PROFISSIONAL_PREJUDICADA  \\\n",
              "0     Não acredito que minha experiência profissiona...   \n",
              "1     Sim, acredito que a minha a experiência profis...   \n",
              "3                                                   NaN   \n",
              "5     Não acredito que minha experiência profissiona...   \n",
              "6     Não acredito que minha experiência profissiona...   \n",
              "...                                                 ...   \n",
              "4265                                                NaN   \n",
              "4266                                                NaN   \n",
              "4267  Não acredito que minha experiência profissiona...   \n",
              "4268                                                NaN   \n",
              "4270                                                NaN   \n",
              "\n",
              "                             ASPECTOS_PREJUDICADOS  VIVE_NO_BRASIL  ...  \\\n",
              "0                                              NaN            True  ...   \n",
              "1     Aprovação em processos seletivos/entrevistas            True  ...   \n",
              "3                                              NaN            True  ...   \n",
              "5                                              NaN            True  ...   \n",
              "6                                              NaN            True  ...   \n",
              "...                                            ...             ...  ...   \n",
              "4265                                           NaN            True  ...   \n",
              "4266                                           NaN            True  ...   \n",
              "4267                                           NaN            True  ...   \n",
              "4268                                           NaN            True  ...   \n",
              "4270                                           NaN            True  ...   \n",
              "\n",
              "                                    SETOR NUMERO DE FUNCIONARIOS GESTOR?  \\\n",
              "0                           Setor Público         Acima de 3.000     0.0   \n",
              "1                             Outra Opção         Acima de 3.000     1.0   \n",
              "3                        Setor Automotivo         Acima de 3.000     0.0   \n",
              "5                                Educação         Acima de 3.000     0.0   \n",
              "6                      Finanças ou Bancos         Acima de 3.000     0.0   \n",
              "...                                   ...                    ...     ...   \n",
              "4265                            Marketing               de 1 a 5     0.0   \n",
              "4266       Tecnologia/Fábrica de Software         Acima de 3.000     0.0   \n",
              "4267                  Área de Consultoria            de 51 a 100     0.0   \n",
              "4268  Setor Imobiliário/ Construção Civil           de 101 a 500     1.0   \n",
              "4270                         Agronegócios         de 501 a 1.000     0.0   \n",
              "\n",
              "           CARGO COMO GESTOR  \\\n",
              "0                        NaN   \n",
              "1     Supervisor/Coordenador   \n",
              "3                        NaN   \n",
              "5                        NaN   \n",
              "6                        NaN   \n",
              "...                      ...   \n",
              "4265                     NaN   \n",
              "4266                     NaN   \n",
              "4267                     NaN   \n",
              "4268            Gerente/Head   \n",
              "4270                     NaN   \n",
              "\n",
              "                                            CARGO ATUAL   NIVEL  \\\n",
              "0                   DBA/Administrador de Banco de Dados  Júnior   \n",
              "1                                                   NaN     NaN   \n",
              "3                     Cientista de Dados/Data Scientist  Sênior   \n",
              "5                                             Professor   Pleno   \n",
              "6                             Analista de BI/BI Analyst  Júnior   \n",
              "...                                                 ...     ...   \n",
              "4265                              Analista de Marketing   Pleno   \n",
              "4266                     Analista de Dados/Data Analyst   Pleno   \n",
              "4267  Engenheiro de Dados/Arquiteto de Dados/Data En...   Pleno   \n",
              "4268                                                NaN     NaN   \n",
              "4270                     Analista de Dados/Data Analyst  Júnior   \n",
              "\n",
              "                        FAIXA SALARIAL  \\\n",
              "0      de R$ 8.001/mês a R$ 12.000/mês   \n",
              "1       de R$ 4.001/mês a R$ 6.000/mês   \n",
              "3     de R$ 12.001/mês a R$ 16.000/mês   \n",
              "5       de R$ 2.001/mês a R$ 3.000/mês   \n",
              "6       de R$ 4.001/mês a R$ 6.000/mês   \n",
              "...                                ...   \n",
              "4265    de R$ 2.001/mês a R$ 3.000/mês   \n",
              "4266    de R$ 4.001/mês a R$ 6.000/mês   \n",
              "4267    de R$ 3.001/mês a R$ 4.000/mês   \n",
              "4268  de R$ 16.001/mês a R$ 20.000/mês   \n",
              "4270    de R$ 3.001/mês a R$ 4.000/mês   \n",
              "\n",
              "     QUANTO TEMPO DE EXPERIÊNCIA NA ÁREA DE DADOS VOCÊ TEM?  \\\n",
              "0                                         de 1 a 2 anos       \n",
              "1                                         de 3 a 4 anos       \n",
              "3                                         de 4 a 6 anos       \n",
              "5                Não tenho experiência na área de dados       \n",
              "6                                         de 1 a 2 anos       \n",
              "...                                                 ...       \n",
              "4265                                      de 3 a 4 anos       \n",
              "4266                                      de 3 a 4 anos       \n",
              "4267                                      de 1 a 2 anos       \n",
              "4268                                      de 4 a 6 anos       \n",
              "4270                                      de 1 a 2 anos       \n",
              "\n",
              "     QUANTO TEMPO DE EXPERIÊNCIA NA ÁREA DE TI/ENGENHARIA DE SOFTWARE VOCÊ TEVE ANTES DE COMEÇAR A TRABALHAR NA ÁREA DE DADOS?  \\\n",
              "0                                        de 7 a 10 anos                                                                          \n",
              "1                                        Menos de 1 ano                                                                          \n",
              "3     Não tive experiência na área de TI/Engenharia ...                                                                          \n",
              "5     Não tive experiência na área de TI/Engenharia ...                                                                          \n",
              "6                                        Menos de 1 ano                                                                          \n",
              "...                                                 ...                                                                          \n",
              "4265                                      de 1 a 2 anos                                                                          \n",
              "4266                                     de 7 a 10 anos                                                                          \n",
              "4267  Não tive experiência na área de TI/Engenharia ...                                                                          \n",
              "4268  Não tive experiência na área de TI/Engenharia ...                                                                          \n",
              "4270  Não tive experiência na área de TI/Engenharia ...                                                                          \n",
              "\n",
              "      SALARIO  \n",
              "0     11194.0  \n",
              "1      4695.0  \n",
              "3     15463.0  \n",
              "5      2336.0  \n",
              "6      4491.0  \n",
              "...       ...  \n",
              "4265   2348.0  \n",
              "4266   4329.0  \n",
              "4267   3758.0  \n",
              "4268  19607.0  \n",
              "4270   3079.0  \n",
              "\n",
              "[3686 rows x 28 columns]"
            ]
          },
          "execution_count": 21,
          "metadata": {},
          "output_type": "execute_result"
        }
      ],
      "source": [
        "dados[dados['IDADE']<40]"
      ]
    },
    {
      "cell_type": "code",
      "execution_count": 22,
      "metadata": {
        "colab": {
          "base_uri": "https://localhost:8080/",
          "height": 1000
        },
        "id": "DS93uFrDzNmk",
        "outputId": "119cc406-b3de-442a-cc48-b30816227b41"
      },
      "outputs": [
        {
          "data": {
            "text/html": [
              "<div>\n",
              "<style scoped>\n",
              "    .dataframe tbody tr th:only-of-type {\n",
              "        vertical-align: middle;\n",
              "    }\n",
              "\n",
              "    .dataframe tbody tr th {\n",
              "        vertical-align: top;\n",
              "    }\n",
              "\n",
              "    .dataframe thead th {\n",
              "        text-align: right;\n",
              "    }\n",
              "</style>\n",
              "<table border=\"1\" class=\"dataframe\">\n",
              "  <thead>\n",
              "    <tr style=\"text-align: right;\">\n",
              "      <th></th>\n",
              "      <th>Unnamed: 0</th>\n",
              "      <th>ID</th>\n",
              "      <th>IDADE</th>\n",
              "      <th>FAIXA IDADE</th>\n",
              "      <th>GENERO</th>\n",
              "      <th>COR/RACA/ETNIA</th>\n",
              "      <th>PCD</th>\n",
              "      <th>EXPERIENCIA_PROFISSIONAL_PREJUDICADA</th>\n",
              "      <th>ASPECTOS_PREJUDICADOS</th>\n",
              "      <th>VIVE_NO_BRASIL</th>\n",
              "      <th>...</th>\n",
              "      <th>SETOR</th>\n",
              "      <th>NUMERO DE FUNCIONARIOS</th>\n",
              "      <th>GESTOR?</th>\n",
              "      <th>CARGO COMO GESTOR</th>\n",
              "      <th>CARGO ATUAL</th>\n",
              "      <th>NIVEL</th>\n",
              "      <th>FAIXA SALARIAL</th>\n",
              "      <th>QUANTO TEMPO DE EXPERIÊNCIA NA ÁREA DE DADOS VOCÊ TEM?</th>\n",
              "      <th>QUANTO TEMPO DE EXPERIÊNCIA NA ÁREA DE TI/ENGENHARIA DE SOFTWARE VOCÊ TEVE ANTES DE COMEÇAR A TRABALHAR NA ÁREA DE DADOS?</th>\n",
              "      <th>SALARIO</th>\n",
              "    </tr>\n",
              "  </thead>\n",
              "  <tbody>\n",
              "    <tr>\n",
              "      <th>13</th>\n",
              "      <td>13</td>\n",
              "      <td>zwh83jpy6x40b95xigsr2zwh83jpflu3</td>\n",
              "      <td>24.0</td>\n",
              "      <td>22-24</td>\n",
              "      <td>Masculino</td>\n",
              "      <td>Amarela</td>\n",
              "      <td>Não</td>\n",
              "      <td>Não acredito que minha experiência profissiona...</td>\n",
              "      <td>NaN</td>\n",
              "      <td>True</td>\n",
              "      <td>...</td>\n",
              "      <td>Finanças ou Bancos</td>\n",
              "      <td>Acima de 3.000</td>\n",
              "      <td>0.0</td>\n",
              "      <td>NaN</td>\n",
              "      <td>Analista de Negócios/Business Analyst</td>\n",
              "      <td>Júnior</td>\n",
              "      <td>de R$ 4.001/mês a R$ 6.000/mês</td>\n",
              "      <td>de 1 a 2 anos</td>\n",
              "      <td>Menos de 1 ano</td>\n",
              "      <td>5296.0</td>\n",
              "    </tr>\n",
              "    <tr>\n",
              "      <th>85</th>\n",
              "      <td>85</td>\n",
              "      <td>zfeuk2m9jozahicujlla8zfeuk2g7apj</td>\n",
              "      <td>29.0</td>\n",
              "      <td>25-29</td>\n",
              "      <td>Feminino</td>\n",
              "      <td>Amarela</td>\n",
              "      <td>Não</td>\n",
              "      <td>Não acredito que minha experiência profissiona...</td>\n",
              "      <td>NaN</td>\n",
              "      <td>True</td>\n",
              "      <td>...</td>\n",
              "      <td>NaN</td>\n",
              "      <td>NaN</td>\n",
              "      <td>NaN</td>\n",
              "      <td>NaN</td>\n",
              "      <td>NaN</td>\n",
              "      <td>NaN</td>\n",
              "      <td>NaN</td>\n",
              "      <td>NaN</td>\n",
              "      <td>NaN</td>\n",
              "      <td>NaN</td>\n",
              "    </tr>\n",
              "    <tr>\n",
              "      <th>159</th>\n",
              "      <td>159</td>\n",
              "      <td>ytrnz3zyvn791t3dum1ytrnz3zp22tmk</td>\n",
              "      <td>37.0</td>\n",
              "      <td>35-39</td>\n",
              "      <td>Feminino</td>\n",
              "      <td>Amarela</td>\n",
              "      <td>Não</td>\n",
              "      <td>Sim, acredito que a minha a experiência profis...</td>\n",
              "      <td>Oportunidades de progressão de carreira, Aprov...</td>\n",
              "      <td>True</td>\n",
              "      <td>...</td>\n",
              "      <td>Tecnologia/Fábrica de Software</td>\n",
              "      <td>de 101 a 500</td>\n",
              "      <td>0.0</td>\n",
              "      <td>NaN</td>\n",
              "      <td>Engenheiro de Dados/Arquiteto de Dados/Data En...</td>\n",
              "      <td>Pleno</td>\n",
              "      <td>de R$ 8.001/mês a R$ 12.000/mês</td>\n",
              "      <td>de 1 a 2 anos</td>\n",
              "      <td>de 7 a 10 anos</td>\n",
              "      <td>10628.0</td>\n",
              "    </tr>\n",
              "    <tr>\n",
              "      <th>170</th>\n",
              "      <td>170</td>\n",
              "      <td>yri3z491ejizlpj9ylu2k3jyri3z4915</td>\n",
              "      <td>34.0</td>\n",
              "      <td>30-34</td>\n",
              "      <td>Masculino</td>\n",
              "      <td>Amarela</td>\n",
              "      <td>Não</td>\n",
              "      <td>Não acredito que minha experiência profissiona...</td>\n",
              "      <td>NaN</td>\n",
              "      <td>True</td>\n",
              "      <td>...</td>\n",
              "      <td>Varejo</td>\n",
              "      <td>Acima de 3.000</td>\n",
              "      <td>1.0</td>\n",
              "      <td>Gerente/Head</td>\n",
              "      <td>NaN</td>\n",
              "      <td>NaN</td>\n",
              "      <td>de R$ 16.001/mês a R$ 20.000/mês</td>\n",
              "      <td>de 3 a 4 anos</td>\n",
              "      <td>Não tive experiência na área de TI/Engenharia ...</td>\n",
              "      <td>16650.0</td>\n",
              "    </tr>\n",
              "    <tr>\n",
              "      <th>195</th>\n",
              "      <td>195</td>\n",
              "      <td>yjbpxmkqz5yidh5oszyjbpxmkgcb1zd9</td>\n",
              "      <td>32.0</td>\n",
              "      <td>30-34</td>\n",
              "      <td>Masculino</td>\n",
              "      <td>Amarela</td>\n",
              "      <td>Não</td>\n",
              "      <td>Não acredito que minha experiência profissiona...</td>\n",
              "      <td>NaN</td>\n",
              "      <td>True</td>\n",
              "      <td>...</td>\n",
              "      <td>NaN</td>\n",
              "      <td>NaN</td>\n",
              "      <td>NaN</td>\n",
              "      <td>NaN</td>\n",
              "      <td>NaN</td>\n",
              "      <td>NaN</td>\n",
              "      <td>NaN</td>\n",
              "      <td>NaN</td>\n",
              "      <td>NaN</td>\n",
              "      <td>NaN</td>\n",
              "    </tr>\n",
              "    <tr>\n",
              "      <th>...</th>\n",
              "      <td>...</td>\n",
              "      <td>...</td>\n",
              "      <td>...</td>\n",
              "      <td>...</td>\n",
              "      <td>...</td>\n",
              "      <td>...</td>\n",
              "      <td>...</td>\n",
              "      <td>...</td>\n",
              "      <td>...</td>\n",
              "      <td>...</td>\n",
              "      <td>...</td>\n",
              "      <td>...</td>\n",
              "      <td>...</td>\n",
              "      <td>...</td>\n",
              "      <td>...</td>\n",
              "      <td>...</td>\n",
              "      <td>...</td>\n",
              "      <td>...</td>\n",
              "      <td>...</td>\n",
              "      <td>...</td>\n",
              "      <td>...</td>\n",
              "    </tr>\n",
              "    <tr>\n",
              "      <th>3947</th>\n",
              "      <td>3947</td>\n",
              "      <td>2tnsh0gxdu3aq4z2d2tnsh0hk15brx7q</td>\n",
              "      <td>31.0</td>\n",
              "      <td>30-34</td>\n",
              "      <td>Feminino</td>\n",
              "      <td>Amarela</td>\n",
              "      <td>Não</td>\n",
              "      <td>Sim, acredito que a minha a experiência profis...</td>\n",
              "      <td>Quantidade de oportunidades de emprego/vagas r...</td>\n",
              "      <td>False</td>\n",
              "      <td>...</td>\n",
              "      <td>Tecnologia/Fábrica de Software</td>\n",
              "      <td>Acima de 3.000</td>\n",
              "      <td>1.0</td>\n",
              "      <td>Supervisor/Coordenador</td>\n",
              "      <td>NaN</td>\n",
              "      <td>NaN</td>\n",
              "      <td>de R$ 25.001/mês a R$ 30.000/mês</td>\n",
              "      <td>de 1 a 2 anos</td>\n",
              "      <td>Não tive experiência na área de TI/Engenharia ...</td>\n",
              "      <td>29408.0</td>\n",
              "    </tr>\n",
              "    <tr>\n",
              "      <th>4058</th>\n",
              "      <td>4058</td>\n",
              "      <td>1t3ndwx8j50k0bz1t3ndwxdpwyg17c2k</td>\n",
              "      <td>27.0</td>\n",
              "      <td>25-29</td>\n",
              "      <td>Feminino</td>\n",
              "      <td>Amarela</td>\n",
              "      <td>Não</td>\n",
              "      <td>Sim, acredito que a minha a experiência profis...</td>\n",
              "      <td>Nível de cobrança no trabalho / Stress no trab...</td>\n",
              "      <td>True</td>\n",
              "      <td>...</td>\n",
              "      <td>Tecnologia/Fábrica de Software</td>\n",
              "      <td>Acima de 3.000</td>\n",
              "      <td>0.0</td>\n",
              "      <td>NaN</td>\n",
              "      <td>Cientista de Dados/Data Scientist</td>\n",
              "      <td>Sênior</td>\n",
              "      <td>de R$ 12.001/mês a R$ 16.000/mês</td>\n",
              "      <td>de 4 a 6 anos</td>\n",
              "      <td>Não tive experiência na área de TI/Engenharia ...</td>\n",
              "      <td>14175.0</td>\n",
              "    </tr>\n",
              "    <tr>\n",
              "      <th>4176</th>\n",
              "      <td>4176</td>\n",
              "      <td>0qpa64gqpieg60xpygnajt70qpa64g1a</td>\n",
              "      <td>27.0</td>\n",
              "      <td>25-29</td>\n",
              "      <td>Feminino</td>\n",
              "      <td>Amarela</td>\n",
              "      <td>Não</td>\n",
              "      <td>Não acredito que minha experiência profissiona...</td>\n",
              "      <td>NaN</td>\n",
              "      <td>True</td>\n",
              "      <td>...</td>\n",
              "      <td>NaN</td>\n",
              "      <td>NaN</td>\n",
              "      <td>NaN</td>\n",
              "      <td>NaN</td>\n",
              "      <td>NaN</td>\n",
              "      <td>NaN</td>\n",
              "      <td>NaN</td>\n",
              "      <td>NaN</td>\n",
              "      <td>NaN</td>\n",
              "      <td>NaN</td>\n",
              "    </tr>\n",
              "    <tr>\n",
              "      <th>4207</th>\n",
              "      <td>4207</td>\n",
              "      <td>0ibb8fj9qrwpswfqiil0ibb89e3e4hz3</td>\n",
              "      <td>30.0</td>\n",
              "      <td>30-34</td>\n",
              "      <td>Feminino</td>\n",
              "      <td>Amarela</td>\n",
              "      <td>Não</td>\n",
              "      <td>Sim, acredito que a minha a experiência profis...</td>\n",
              "      <td>Oportunidades de progressão de carreira, Veloc...</td>\n",
              "      <td>True</td>\n",
              "      <td>...</td>\n",
              "      <td>Área de Consultoria</td>\n",
              "      <td>de 501 a 1.000</td>\n",
              "      <td>0.0</td>\n",
              "      <td>NaN</td>\n",
              "      <td>Cientista de Dados/Data Scientist</td>\n",
              "      <td>Sênior</td>\n",
              "      <td>de R$ 16.001/mês a R$ 20.000/mês</td>\n",
              "      <td>de 4 a 6 anos</td>\n",
              "      <td>de 5 a 6 anos</td>\n",
              "      <td>16298.0</td>\n",
              "    </tr>\n",
              "    <tr>\n",
              "      <th>4262</th>\n",
              "      <td>4262</td>\n",
              "      <td>02vlm03c29g3fcys8tj06102vlm0983h</td>\n",
              "      <td>31.0</td>\n",
              "      <td>30-34</td>\n",
              "      <td>Masculino</td>\n",
              "      <td>Amarela</td>\n",
              "      <td>Não</td>\n",
              "      <td>Não acredito que minha experiência profissiona...</td>\n",
              "      <td>NaN</td>\n",
              "      <td>True</td>\n",
              "      <td>...</td>\n",
              "      <td>Tecnologia/Fábrica de Software</td>\n",
              "      <td>de 501 a 1.000</td>\n",
              "      <td>1.0</td>\n",
              "      <td>Team Leader/Tech Leader</td>\n",
              "      <td>NaN</td>\n",
              "      <td>NaN</td>\n",
              "      <td>de R$ 16.001/mês a R$ 20.000/mês</td>\n",
              "      <td>de 3 a 4 anos</td>\n",
              "      <td>de 3 a 4 anos</td>\n",
              "      <td>18402.0</td>\n",
              "    </tr>\n",
              "  </tbody>\n",
              "</table>\n",
              "<p>101 rows × 28 columns</p>\n",
              "</div>"
            ],
            "text/plain": [
              "      Unnamed: 0                                ID  IDADE FAIXA IDADE  \\\n",
              "13            13  zwh83jpy6x40b95xigsr2zwh83jpflu3   24.0       22-24   \n",
              "85            85  zfeuk2m9jozahicujlla8zfeuk2g7apj   29.0       25-29   \n",
              "159          159  ytrnz3zyvn791t3dum1ytrnz3zp22tmk   37.0       35-39   \n",
              "170          170  yri3z491ejizlpj9ylu2k3jyri3z4915   34.0       30-34   \n",
              "195          195  yjbpxmkqz5yidh5oszyjbpxmkgcb1zd9   32.0       30-34   \n",
              "...          ...                               ...    ...         ...   \n",
              "3947        3947  2tnsh0gxdu3aq4z2d2tnsh0hk15brx7q   31.0       30-34   \n",
              "4058        4058  1t3ndwx8j50k0bz1t3ndwxdpwyg17c2k   27.0       25-29   \n",
              "4176        4176  0qpa64gqpieg60xpygnajt70qpa64g1a   27.0       25-29   \n",
              "4207        4207  0ibb8fj9qrwpswfqiil0ibb89e3e4hz3   30.0       30-34   \n",
              "4262        4262  02vlm03c29g3fcys8tj06102vlm0983h   31.0       30-34   \n",
              "\n",
              "         GENERO COR/RACA/ETNIA  PCD  \\\n",
              "13    Masculino        Amarela  Não   \n",
              "85     Feminino        Amarela  Não   \n",
              "159    Feminino        Amarela  Não   \n",
              "170   Masculino        Amarela  Não   \n",
              "195   Masculino        Amarela  Não   \n",
              "...         ...            ...  ...   \n",
              "3947   Feminino        Amarela  Não   \n",
              "4058   Feminino        Amarela  Não   \n",
              "4176   Feminino        Amarela  Não   \n",
              "4207   Feminino        Amarela  Não   \n",
              "4262  Masculino        Amarela  Não   \n",
              "\n",
              "                   EXPERIENCIA_PROFISSIONAL_PREJUDICADA  \\\n",
              "13    Não acredito que minha experiência profissiona...   \n",
              "85    Não acredito que minha experiência profissiona...   \n",
              "159   Sim, acredito que a minha a experiência profis...   \n",
              "170   Não acredito que minha experiência profissiona...   \n",
              "195   Não acredito que minha experiência profissiona...   \n",
              "...                                                 ...   \n",
              "3947  Sim, acredito que a minha a experiência profis...   \n",
              "4058  Sim, acredito que a minha a experiência profis...   \n",
              "4176  Não acredito que minha experiência profissiona...   \n",
              "4207  Sim, acredito que a minha a experiência profis...   \n",
              "4262  Não acredito que minha experiência profissiona...   \n",
              "\n",
              "                                  ASPECTOS_PREJUDICADOS  VIVE_NO_BRASIL  ...  \\\n",
              "13                                                  NaN            True  ...   \n",
              "85                                                  NaN            True  ...   \n",
              "159   Oportunidades de progressão de carreira, Aprov...            True  ...   \n",
              "170                                                 NaN            True  ...   \n",
              "195                                                 NaN            True  ...   \n",
              "...                                                 ...             ...  ...   \n",
              "3947  Quantidade de oportunidades de emprego/vagas r...           False  ...   \n",
              "4058  Nível de cobrança no trabalho / Stress no trab...            True  ...   \n",
              "4176                                                NaN            True  ...   \n",
              "4207  Oportunidades de progressão de carreira, Veloc...            True  ...   \n",
              "4262                                                NaN            True  ...   \n",
              "\n",
              "                               SETOR NUMERO DE FUNCIONARIOS GESTOR?  \\\n",
              "13                Finanças ou Bancos         Acima de 3.000     0.0   \n",
              "85                               NaN                    NaN     NaN   \n",
              "159   Tecnologia/Fábrica de Software           de 101 a 500     0.0   \n",
              "170                           Varejo         Acima de 3.000     1.0   \n",
              "195                              NaN                    NaN     NaN   \n",
              "...                              ...                    ...     ...   \n",
              "3947  Tecnologia/Fábrica de Software         Acima de 3.000     1.0   \n",
              "4058  Tecnologia/Fábrica de Software         Acima de 3.000     0.0   \n",
              "4176                             NaN                    NaN     NaN   \n",
              "4207             Área de Consultoria         de 501 a 1.000     0.0   \n",
              "4262  Tecnologia/Fábrica de Software         de 501 a 1.000     1.0   \n",
              "\n",
              "            CARGO COMO GESTOR  \\\n",
              "13                        NaN   \n",
              "85                        NaN   \n",
              "159                       NaN   \n",
              "170              Gerente/Head   \n",
              "195                       NaN   \n",
              "...                       ...   \n",
              "3947   Supervisor/Coordenador   \n",
              "4058                      NaN   \n",
              "4176                      NaN   \n",
              "4207                      NaN   \n",
              "4262  Team Leader/Tech Leader   \n",
              "\n",
              "                                            CARGO ATUAL   NIVEL  \\\n",
              "13                Analista de Negócios/Business Analyst  Júnior   \n",
              "85                                                  NaN     NaN   \n",
              "159   Engenheiro de Dados/Arquiteto de Dados/Data En...   Pleno   \n",
              "170                                                 NaN     NaN   \n",
              "195                                                 NaN     NaN   \n",
              "...                                                 ...     ...   \n",
              "3947                                                NaN     NaN   \n",
              "4058                  Cientista de Dados/Data Scientist  Sênior   \n",
              "4176                                                NaN     NaN   \n",
              "4207                  Cientista de Dados/Data Scientist  Sênior   \n",
              "4262                                                NaN     NaN   \n",
              "\n",
              "                        FAIXA SALARIAL  \\\n",
              "13      de R$ 4.001/mês a R$ 6.000/mês   \n",
              "85                                 NaN   \n",
              "159    de R$ 8.001/mês a R$ 12.000/mês   \n",
              "170   de R$ 16.001/mês a R$ 20.000/mês   \n",
              "195                                NaN   \n",
              "...                                ...   \n",
              "3947  de R$ 25.001/mês a R$ 30.000/mês   \n",
              "4058  de R$ 12.001/mês a R$ 16.000/mês   \n",
              "4176                               NaN   \n",
              "4207  de R$ 16.001/mês a R$ 20.000/mês   \n",
              "4262  de R$ 16.001/mês a R$ 20.000/mês   \n",
              "\n",
              "     QUANTO TEMPO DE EXPERIÊNCIA NA ÁREA DE DADOS VOCÊ TEM?  \\\n",
              "13                                        de 1 a 2 anos       \n",
              "85                                                  NaN       \n",
              "159                                       de 1 a 2 anos       \n",
              "170                                       de 3 a 4 anos       \n",
              "195                                                 NaN       \n",
              "...                                                 ...       \n",
              "3947                                      de 1 a 2 anos       \n",
              "4058                                      de 4 a 6 anos       \n",
              "4176                                                NaN       \n",
              "4207                                      de 4 a 6 anos       \n",
              "4262                                      de 3 a 4 anos       \n",
              "\n",
              "     QUANTO TEMPO DE EXPERIÊNCIA NA ÁREA DE TI/ENGENHARIA DE SOFTWARE VOCÊ TEVE ANTES DE COMEÇAR A TRABALHAR NA ÁREA DE DADOS?  \\\n",
              "13                                       Menos de 1 ano                                                                          \n",
              "85                                                  NaN                                                                          \n",
              "159                                      de 7 a 10 anos                                                                          \n",
              "170   Não tive experiência na área de TI/Engenharia ...                                                                          \n",
              "195                                                 NaN                                                                          \n",
              "...                                                 ...                                                                          \n",
              "3947  Não tive experiência na área de TI/Engenharia ...                                                                          \n",
              "4058  Não tive experiência na área de TI/Engenharia ...                                                                          \n",
              "4176                                                NaN                                                                          \n",
              "4207                                      de 5 a 6 anos                                                                          \n",
              "4262                                      de 3 a 4 anos                                                                          \n",
              "\n",
              "      SALARIO  \n",
              "13     5296.0  \n",
              "85        NaN  \n",
              "159   10628.0  \n",
              "170   16650.0  \n",
              "195       NaN  \n",
              "...       ...  \n",
              "3947  29408.0  \n",
              "4058  14175.0  \n",
              "4176      NaN  \n",
              "4207  16298.0  \n",
              "4262  18402.0  \n",
              "\n",
              "[101 rows x 28 columns]"
            ]
          },
          "execution_count": 22,
          "metadata": {},
          "output_type": "execute_result"
        }
      ],
      "source": [
        "dados[(dados['COR/RACA/ETNIA']=='Amarela') & (dados['IDADE']<40)]"
      ]
    },
    {
      "cell_type": "code",
      "execution_count": 23,
      "metadata": {
        "colab": {
          "base_uri": "https://localhost:8080/",
          "height": 209
        },
        "id": "cwVk0UJfzlEr",
        "outputId": "77d64c19-032e-4c82-bc6f-5f7a417ea5cf"
      },
      "outputs": [
        {
          "data": {
            "text/plain": [
              "GENERO\n",
              "Feminino                1055\n",
              "Masculino               3194\n",
              "Prefiro não informar      12\n",
              "Name: ID, dtype: int64"
            ]
          },
          "execution_count": 23,
          "metadata": {},
          "output_type": "execute_result"
        }
      ],
      "source": [
        "dados.groupby('GENERO')['ID'].nunique()"
      ]
    },
    {
      "cell_type": "code",
      "execution_count": 24,
      "metadata": {
        "colab": {
          "base_uri": "https://localhost:8080/",
          "height": 241
        },
        "id": "2ecTtJQu3iBM",
        "outputId": "0595914e-3bf6-48af-e7c2-457c8b6412c7"
      },
      "outputs": [
        {
          "data": {
            "text/plain": [
              "GENERO\n",
              "Feminino                1055\n",
              "Masculino               3194\n",
              "Prefiro não informar      12\n",
              "NaN                        9\n",
              "Name: ID, dtype: int64"
            ]
          },
          "execution_count": 24,
          "metadata": {},
          "output_type": "execute_result"
        }
      ],
      "source": [
        "dados.groupby('GENERO', dropna=False)['ID'].nunique()"
      ]
    },
    {
      "cell_type": "code",
      "execution_count": 25,
      "metadata": {
        "colab": {
          "base_uri": "https://localhost:8080/",
          "height": 241
        },
        "id": "TTVnmV0f3y_r",
        "outputId": "698cae11-ac02-43b9-f18e-5febcb9338be"
      },
      "outputs": [
        {
          "data": {
            "text/plain": [
              "GENERO\n",
              "Masculino               3194\n",
              "Feminino                1056\n",
              "Prefiro não informar      12\n",
              "NaN                        9\n",
              "Name: count, dtype: int64"
            ]
          },
          "execution_count": 25,
          "metadata": {},
          "output_type": "execute_result"
        }
      ],
      "source": [
        "dados['GENERO'].value_counts(dropna=False)"
      ]
    },
    {
      "cell_type": "code",
      "execution_count": 26,
      "metadata": {
        "colab": {
          "base_uri": "https://localhost:8080/",
          "height": 209
        },
        "id": "e_Kbz59t4V8J",
        "outputId": "f82ba6f6-e974-4699-d505-8ec9d8844867"
      },
      "outputs": [
        {
          "data": {
            "text/plain": [
              "NIVEL\n",
              "Sênior    525\n",
              "Pleno     408\n",
              "Júnior    274\n",
              "Name: count, dtype: int64"
            ]
          },
          "execution_count": 26,
          "metadata": {},
          "output_type": "execute_result"
        }
      ],
      "source": [
        "dados[dados['IDADE']>30]['NIVEL'].value_counts()"
      ]
    },
    {
      "cell_type": "code",
      "execution_count": 27,
      "metadata": {
        "colab": {
          "base_uri": "https://localhost:8080/",
          "height": 209
        },
        "id": "7TCpnXKC40Be",
        "outputId": "9caa59c9-f26f-4368-834c-c17e5596c537"
      },
      "outputs": [
        {
          "data": {
            "text/plain": [
              "NIVEL\n",
              "Pleno     117\n",
              "Sênior    114\n",
              "Júnior     96\n",
              "Name: count, dtype: int64"
            ]
          },
          "execution_count": 27,
          "metadata": {},
          "output_type": "execute_result"
        }
      ],
      "source": [
        "dados[(dados['IDADE']>30) & (dados['GENERO']=='Feminino')]['NIVEL'].value_counts()"
      ]
    },
    {
      "cell_type": "code",
      "execution_count": 28,
      "metadata": {
        "colab": {
          "base_uri": "https://localhost:8080/",
          "height": 206
        },
        "id": "UlRrCPtz5HkM",
        "outputId": "8f434f76-bc33-433e-c5df-f9f8504a3e92"
      },
      "outputs": [
        {
          "data": {
            "text/html": [
              "<div>\n",
              "<style scoped>\n",
              "    .dataframe tbody tr th:only-of-type {\n",
              "        vertical-align: middle;\n",
              "    }\n",
              "\n",
              "    .dataframe tbody tr th {\n",
              "        vertical-align: top;\n",
              "    }\n",
              "\n",
              "    .dataframe thead tr th {\n",
              "        text-align: left;\n",
              "    }\n",
              "\n",
              "    .dataframe thead tr:last-of-type th {\n",
              "        text-align: right;\n",
              "    }\n",
              "</style>\n",
              "<table border=\"1\" class=\"dataframe\">\n",
              "  <thead>\n",
              "    <tr>\n",
              "      <th></th>\n",
              "      <th colspan=\"2\" halign=\"left\">ID</th>\n",
              "    </tr>\n",
              "    <tr>\n",
              "      <th>GESTOR?</th>\n",
              "      <th>0.0</th>\n",
              "      <th>1.0</th>\n",
              "    </tr>\n",
              "    <tr>\n",
              "      <th>GENERO</th>\n",
              "      <th></th>\n",
              "      <th></th>\n",
              "    </tr>\n",
              "  </thead>\n",
              "  <tbody>\n",
              "    <tr>\n",
              "      <th>Feminino</th>\n",
              "      <td>754</td>\n",
              "      <td>132</td>\n",
              "    </tr>\n",
              "    <tr>\n",
              "      <th>Masculino</th>\n",
              "      <td>2212</td>\n",
              "      <td>578</td>\n",
              "    </tr>\n",
              "    <tr>\n",
              "      <th>Prefiro não informar</th>\n",
              "      <td>9</td>\n",
              "      <td>2</td>\n",
              "    </tr>\n",
              "  </tbody>\n",
              "</table>\n",
              "</div>"
            ],
            "text/plain": [
              "                        ID     \n",
              "GESTOR?                0.0  1.0\n",
              "GENERO                         \n",
              "Feminino               754  132\n",
              "Masculino             2212  578\n",
              "Prefiro não informar     9    2"
            ]
          },
          "execution_count": 28,
          "metadata": {},
          "output_type": "execute_result"
        }
      ],
      "source": [
        "pd.pivot_table(dados, values=['ID'], index=['GENERO'], columns=['GESTOR?'], aggfunc='count')"
      ]
    },
    {
      "cell_type": "markdown",
      "metadata": {
        "id": "YB99ZJ7f7JG_"
      },
      "source": [
        "# Estatística Básica"
      ]
    },
    {
      "cell_type": "code",
      "execution_count": 29,
      "metadata": {
        "id": "RJELVncK7Svj"
      },
      "outputs": [],
      "source": [
        "lista_idades = [26,30,32,22,26,35,40,20,43,31,23]"
      ]
    },
    {
      "cell_type": "code",
      "execution_count": 30,
      "metadata": {
        "colab": {
          "base_uri": "https://localhost:8080/"
        },
        "id": "yfZZDVT6-la7",
        "outputId": "bebed6a1-36bc-4159-e4b6-c4022563bb66"
      },
      "outputs": [
        {
          "data": {
            "text/plain": [
              "328"
            ]
          },
          "execution_count": 30,
          "metadata": {},
          "output_type": "execute_result"
        }
      ],
      "source": [
        "np.sum(lista_idades)"
      ]
    },
    {
      "cell_type": "code",
      "execution_count": 31,
      "metadata": {
        "colab": {
          "base_uri": "https://localhost:8080/"
        },
        "id": "AltapfxQ-oSk",
        "outputId": "3da8c778-beca-42d0-f6d7-a21097e577e8"
      },
      "outputs": [
        {
          "data": {
            "text/plain": [
              "11"
            ]
          },
          "execution_count": 31,
          "metadata": {},
          "output_type": "execute_result"
        }
      ],
      "source": [
        "len(lista_idades)"
      ]
    },
    {
      "cell_type": "code",
      "execution_count": 32,
      "metadata": {
        "colab": {
          "base_uri": "https://localhost:8080/"
        },
        "id": "XVm6NeL8-uNn",
        "outputId": "efbf7f47-74a4-41eb-e24e-03f992439a1b"
      },
      "outputs": [
        {
          "data": {
            "text/plain": [
              "29.818181818181817"
            ]
          },
          "execution_count": 32,
          "metadata": {},
          "output_type": "execute_result"
        }
      ],
      "source": [
        "np.sum(lista_idades)/len(lista_idades)"
      ]
    },
    {
      "cell_type": "code",
      "execution_count": 33,
      "metadata": {
        "colab": {
          "base_uri": "https://localhost:8080/"
        },
        "id": "F9O0ff0--yYL",
        "outputId": "c29b02ce-03bc-420d-919c-dff8a01fdc2e"
      },
      "outputs": [
        {
          "name": "stdout",
          "output_type": "stream",
          "text": [
            "Média aritimetica:  29.818181818181817\n"
          ]
        }
      ],
      "source": [
        "media = np.mean(lista_idades)\n",
        "print(\"Média aritimetica: \", media)"
      ]
    },
    {
      "cell_type": "code",
      "execution_count": 34,
      "metadata": {
        "colab": {
          "base_uri": "https://localhost:8080/"
        },
        "id": "m5a1VIt--7E0",
        "outputId": "c33b2892-182d-4b31-f564-f9a2ee2b0bc7"
      },
      "outputs": [
        {
          "data": {
            "text/plain": [
              "[20, 22, 23, 26, 26, 30, 31, 32, 35, 40, 43]"
            ]
          },
          "execution_count": 34,
          "metadata": {},
          "output_type": "execute_result"
        }
      ],
      "source": [
        "lista_idades.sort()\n",
        "lista_idades"
      ]
    },
    {
      "cell_type": "code",
      "execution_count": 35,
      "metadata": {
        "id": "C9YF9AGf_qTm"
      },
      "outputs": [],
      "source": [
        "lista_idades = [26,30,32,22,26,35,40,20,43,31,23, 100]"
      ]
    },
    {
      "cell_type": "code",
      "execution_count": 36,
      "metadata": {
        "colab": {
          "base_uri": "https://localhost:8080/"
        },
        "id": "iHiEYchC_4WR",
        "outputId": "656b3323-d784-4a9a-a319-3a4121e47ae5"
      },
      "outputs": [
        {
          "data": {
            "text/plain": [
              "[20, 22, 23, 26, 26, 30, 31, 32, 35, 40, 43, 100]"
            ]
          },
          "execution_count": 36,
          "metadata": {},
          "output_type": "execute_result"
        }
      ],
      "source": [
        "lista_idades.sort()\n",
        "lista_idades"
      ]
    },
    {
      "cell_type": "code",
      "execution_count": 37,
      "metadata": {
        "colab": {
          "base_uri": "https://localhost:8080/"
        },
        "id": "s2HwpQMF_6S4",
        "outputId": "bd6f426b-265b-46d4-9a6e-67180692e6d6"
      },
      "outputs": [
        {
          "data": {
            "text/plain": [
              "30.5"
            ]
          },
          "execution_count": 37,
          "metadata": {},
          "output_type": "execute_result"
        }
      ],
      "source": [
        "mediana = np.median(lista_idades)\n",
        "mediana"
      ]
    },
    {
      "cell_type": "markdown",
      "metadata": {
        "id": "5r3Levbm95Ai"
      },
      "source": [
        "#### Voltando para tabela"
      ]
    },
    {
      "cell_type": "code",
      "execution_count": 38,
      "metadata": {
        "colab": {
          "base_uri": "https://localhost:8080/"
        },
        "id": "7q-nOKys99U3",
        "outputId": "1d096e3b-c48e-4688-ca64-4cedf9736afa"
      },
      "outputs": [
        {
          "data": {
            "text/plain": [
              "31.169168453657374"
            ]
          },
          "execution_count": 38,
          "metadata": {},
          "output_type": "execute_result"
        }
      ],
      "source": [
        "dados['IDADE'].mean()"
      ]
    },
    {
      "cell_type": "code",
      "execution_count": 39,
      "metadata": {
        "colab": {
          "base_uri": "https://localhost:8080/"
        },
        "id": "92D2V8P7-FdI",
        "outputId": "0e767200-8826-4f15-ac84-3b5c11295aa2"
      },
      "outputs": [
        {
          "data": {
            "text/plain": [
              "30.0"
            ]
          },
          "execution_count": 39,
          "metadata": {},
          "output_type": "execute_result"
        }
      ],
      "source": [
        "dados['IDADE'].median()"
      ]
    },
    {
      "cell_type": "code",
      "execution_count": 40,
      "metadata": {
        "colab": {
          "base_uri": "https://localhost:8080/",
          "height": 115
        },
        "id": "9PnBUkRt-Uvp",
        "outputId": "fd2c9478-4356-4252-fc0b-98cfb8427f1f"
      },
      "outputs": [
        {
          "data": {
            "text/plain": [
              "0    27.0\n",
              "Name: IDADE, dtype: float64"
            ]
          },
          "execution_count": 40,
          "metadata": {},
          "output_type": "execute_result"
        }
      ],
      "source": [
        "dados['IDADE'].mode()"
      ]
    },
    {
      "cell_type": "code",
      "execution_count": 41,
      "metadata": {
        "colab": {
          "base_uri": "https://localhost:8080/"
        },
        "id": "-ut9DaFH-cH4",
        "outputId": "ed0c4708-6941-497a-886e-fa616d93d84e"
      },
      "outputs": [
        {
          "data": {
            "text/plain": [
              "6.902802832143141"
            ]
          },
          "execution_count": 41,
          "metadata": {},
          "output_type": "execute_result"
        }
      ],
      "source": [
        "dados['IDADE'].std()"
      ]
    },
    {
      "cell_type": "code",
      "execution_count": 42,
      "metadata": {
        "colab": {
          "base_uri": "https://localhost:8080/"
        },
        "id": "zJX97BPT-xat",
        "outputId": "a910ce1a-3e74-45c8-c242-b4ee953f8cee"
      },
      "outputs": [
        {
          "data": {
            "text/plain": [
              "18.0"
            ]
          },
          "execution_count": 42,
          "metadata": {},
          "output_type": "execute_result"
        }
      ],
      "source": [
        "dados['IDADE'].min()"
      ]
    },
    {
      "cell_type": "code",
      "execution_count": 43,
      "metadata": {
        "colab": {
          "base_uri": "https://localhost:8080/"
        },
        "id": "y6l7mwJA-7fZ",
        "outputId": "6721d6cc-25e8-4f8f-f73a-81b1e7e43533"
      },
      "outputs": [
        {
          "data": {
            "text/plain": [
              "54.0"
            ]
          },
          "execution_count": 43,
          "metadata": {},
          "output_type": "execute_result"
        }
      ],
      "source": [
        "dados['IDADE'].max()"
      ]
    },
    {
      "cell_type": "code",
      "execution_count": 44,
      "metadata": {
        "colab": {
          "base_uri": "https://localhost:8080/"
        },
        "id": "0q02iAnF-_xH",
        "outputId": "1c6064f3-4777-426d-efef-c73cd30ca9f3"
      },
      "outputs": [
        {
          "data": {
            "text/plain": [
              "31.318051575931232"
            ]
          },
          "execution_count": 44,
          "metadata": {},
          "output_type": "execute_result"
        }
      ],
      "source": [
        "dados[dados['GENERO']=='Feminino']['IDADE'].mean()"
      ]
    },
    {
      "cell_type": "code",
      "execution_count": 45,
      "metadata": {
        "colab": {
          "base_uri": "https://localhost:8080/"
        },
        "id": "IDVh9AeY_hRw",
        "outputId": "45968987-02aa-4aa1-d59f-34a4cd55f753"
      },
      "outputs": [
        {
          "data": {
            "text/plain": [
              "31.147876077930373"
            ]
          },
          "execution_count": 45,
          "metadata": {},
          "output_type": "execute_result"
        }
      ],
      "source": [
        "dados[dados['GENERO']=='Masculino']['IDADE'].mean()"
      ]
    },
    {
      "cell_type": "code",
      "execution_count": 46,
      "metadata": {
        "colab": {
          "base_uri": "https://localhost:8080/"
        },
        "id": "znFBiKxR_o5R",
        "outputId": "fca29a12-9e60-4f17-ce0f-fc01d9cf1bc4"
      },
      "outputs": [
        {
          "data": {
            "text/plain": [
              "8673.22460496614"
            ]
          },
          "execution_count": 46,
          "metadata": {},
          "output_type": "execute_result"
        }
      ],
      "source": [
        "dados[dados['GENERO']=='Feminino']['SALARIO'].mean()"
      ]
    },
    {
      "cell_type": "code",
      "execution_count": 47,
      "metadata": {
        "colab": {
          "base_uri": "https://localhost:8080/"
        },
        "id": "hlCIjyJU_4Iv",
        "outputId": "a74f8108-9111-46f5-c0ac-0cca535c408e"
      },
      "outputs": [
        {
          "data": {
            "text/plain": [
              "11724.552688172043"
            ]
          },
          "execution_count": 47,
          "metadata": {},
          "output_type": "execute_result"
        }
      ],
      "source": [
        "dados[dados['GENERO']=='Masculino']['SALARIO'].mean()"
      ]
    },
    {
      "cell_type": "markdown",
      "metadata": {
        "id": "jY00cJO5AXua"
      },
      "source": [
        "# Valores faltantes"
      ]
    },
    {
      "cell_type": "code",
      "execution_count": 48,
      "metadata": {
        "colab": {
          "base_uri": "https://localhost:8080/"
        },
        "id": "pvFggOBUAd6h",
        "outputId": "27e3b1b6-0005-4db5-94ec-3460e7aa616d"
      },
      "outputs": [
        {
          "name": "stdout",
          "output_type": "stream",
          "text": [
            "<class 'pandas.core.frame.DataFrame'>\n",
            "RangeIndex: 4271 entries, 0 to 4270\n",
            "Data columns (total 28 columns):\n",
            " #   Column                                                                                                                     Non-Null Count  Dtype  \n",
            "---  ------                                                                                                                     --------------  -----  \n",
            " 0   Unnamed: 0                                                                                                                 4271 non-null   int64  \n",
            " 1   ID                                                                                                                         4271 non-null   object \n",
            " 2   IDADE                                                                                                                      4197 non-null   float64\n",
            " 3   FAIXA IDADE                                                                                                                4271 non-null   object \n",
            " 4   GENERO                                                                                                                     4262 non-null   object \n",
            " 5   COR/RACA/ETNIA                                                                                                             4271 non-null   object \n",
            " 6   PCD                                                                                                                        4271 non-null   object \n",
            " 7   EXPERIENCIA_PROFISSIONAL_PREJUDICADA                                                                                       2190 non-null   object \n",
            " 8   ASPECTOS_PREJUDICADOS                                                                                                      837 non-null    object \n",
            " 9   VIVE_NO_BRASIL                                                                                                             4271 non-null   bool   \n",
            " 10  ESTADO ONDE MORA                                                                                                           4156 non-null   object \n",
            " 11  UF ONDE MORA                                                                                                               4156 non-null   object \n",
            " 12  REGIAO ONDE MORA                                                                                                           4171 non-null   object \n",
            " 13  MUDOU DE ESTADO?                                                                                                           4171 non-null   float64\n",
            " 14  REGIAO DE ORIGEM                                                                                                           772 non-null    object \n",
            " 15  NIVEL DE ENSINO                                                                                                            4271 non-null   object \n",
            " 16  ÁREA DE FORMAÇÃO                                                                                                           4149 non-null   object \n",
            " 17  QUAL SUA SITUAÇÃO ATUAL DE TRABALHO?                                                                                       4271 non-null   object \n",
            " 18  SETOR                                                                                                                      3694 non-null   object \n",
            " 19  NUMERO DE FUNCIONARIOS                                                                                                     3694 non-null   object \n",
            " 20  GESTOR?                                                                                                                    3694 non-null   float64\n",
            " 21  CARGO COMO GESTOR                                                                                                          713 non-null    object \n",
            " 22  CARGO ATUAL                                                                                                                2981 non-null   object \n",
            " 23  NIVEL                                                                                                                      2981 non-null   object \n",
            " 24  FAIXA SALARIAL                                                                                                             3694 non-null   object \n",
            " 25  QUANTO TEMPO DE EXPERIÊNCIA NA ÁREA DE DADOS VOCÊ TEM?                                                                     3694 non-null   object \n",
            " 26  QUANTO TEMPO DE EXPERIÊNCIA NA ÁREA DE TI/ENGENHARIA DE SOFTWARE VOCÊ TEVE ANTES DE COMEÇAR A TRABALHAR NA ÁREA DE DADOS?  3694 non-null   object \n",
            " 27  SALARIO                                                                                                                    3694 non-null   float64\n",
            "dtypes: bool(1), float64(4), int64(1), object(22)\n",
            "memory usage: 905.2+ KB\n"
          ]
        }
      ],
      "source": [
        "dados.info()"
      ]
    },
    {
      "cell_type": "markdown",
      "metadata": {
        "id": "JP-MMIo3Bw1t"
      },
      "source": [
        "### Trabalhando coluna de gênero"
      ]
    },
    {
      "cell_type": "code",
      "execution_count": null,
      "metadata": {
        "id": "8sIrMu07CWg9"
      },
      "outputs": [],
      "source": []
    },
    {
      "cell_type": "code",
      "execution_count": 49,
      "metadata": {
        "colab": {
          "base_uri": "https://localhost:8080/",
          "height": 241
        },
        "id": "OSzB6RfSByw0",
        "outputId": "570348ed-ce9d-4943-cbea-ca820f4176b2"
      },
      "outputs": [
        {
          "data": {
            "text/plain": [
              "GENERO\n",
              "Feminino                1055\n",
              "Masculino               3194\n",
              "Prefiro não informar      12\n",
              "NaN                        9\n",
              "Name: ID, dtype: int64"
            ]
          },
          "execution_count": 49,
          "metadata": {},
          "output_type": "execute_result"
        }
      ],
      "source": [
        "dados.groupby('GENERO', dropna=False)['ID'].nunique()"
      ]
    },
    {
      "cell_type": "code",
      "execution_count": 50,
      "metadata": {
        "id": "7KOUdIjaCYKh"
      },
      "outputs": [],
      "source": [
        "dados['GENERO'] = dados['GENERO'].fillna('Prefiro não informar')"
      ]
    },
    {
      "cell_type": "code",
      "execution_count": 51,
      "metadata": {
        "colab": {
          "base_uri": "https://localhost:8080/",
          "height": 209
        },
        "id": "lrLvZnvKCsB_",
        "outputId": "329a367a-8265-4077-ed76-ec5b22350f2e"
      },
      "outputs": [
        {
          "data": {
            "text/plain": [
              "GENERO\n",
              "Feminino                1055\n",
              "Masculino               3194\n",
              "Prefiro não informar      21\n",
              "Name: ID, dtype: int64"
            ]
          },
          "execution_count": 51,
          "metadata": {},
          "output_type": "execute_result"
        }
      ],
      "source": [
        "dados.groupby('GENERO', dropna=False)['ID'].nunique()"
      ]
    },
    {
      "cell_type": "code",
      "execution_count": null,
      "metadata": {
        "id": "EMXldYn4CyhB"
      },
      "outputs": [],
      "source": []
    },
    {
      "cell_type": "markdown",
      "metadata": {
        "id": "k7EGZ3FXC_Ff"
      },
      "source": [
        "### Trabalhando coluna de idade"
      ]
    },
    {
      "cell_type": "code",
      "execution_count": 52,
      "metadata": {
        "colab": {
          "base_uri": "https://localhost:8080/",
          "height": 178
        },
        "id": "mNUsgWH4DCBv",
        "outputId": "e1a631a2-487f-40a8-9eb0-5ba9890d320b"
      },
      "outputs": [
        {
          "data": {
            "text/plain": [
              "IDADE\n",
              "False    4197\n",
              "True       74\n",
              "Name: count, dtype: int64"
            ]
          },
          "execution_count": 52,
          "metadata": {},
          "output_type": "execute_result"
        }
      ],
      "source": [
        "dados['IDADE'].isnull().value_counts()"
      ]
    },
    {
      "cell_type": "code",
      "execution_count": 53,
      "metadata": {
        "colab": {
          "base_uri": "https://localhost:8080/"
        },
        "id": "KSEcCSfNDKlx",
        "outputId": "2c586d88-e394-4454-e840-29df61545529"
      },
      "outputs": [
        {
          "data": {
            "text/plain": [
              "Index(['Unnamed: 0', 'ID', 'IDADE', 'FAIXA IDADE', 'GENERO', 'COR/RACA/ETNIA',\n",
              "       'PCD', 'EXPERIENCIA_PROFISSIONAL_PREJUDICADA', 'ASPECTOS_PREJUDICADOS',\n",
              "       'VIVE_NO_BRASIL', 'ESTADO ONDE MORA', 'UF ONDE MORA',\n",
              "       'REGIAO ONDE MORA', 'MUDOU DE ESTADO?', 'REGIAO DE ORIGEM',\n",
              "       'NIVEL DE ENSINO', 'ÁREA DE FORMAÇÃO',\n",
              "       'QUAL SUA SITUAÇÃO ATUAL DE TRABALHO?', 'SETOR',\n",
              "       'NUMERO DE FUNCIONARIOS', 'GESTOR?', 'CARGO COMO GESTOR', 'CARGO ATUAL',\n",
              "       'NIVEL', 'FAIXA SALARIAL',\n",
              "       'QUANTO TEMPO DE EXPERIÊNCIA NA ÁREA DE DADOS VOCÊ TEM?',\n",
              "       'QUANTO TEMPO DE EXPERIÊNCIA NA ÁREA DE TI/ENGENHARIA DE SOFTWARE VOCÊ TEVE ANTES DE COMEÇAR A TRABALHAR NA ÁREA DE DADOS?',\n",
              "       'SALARIO'],\n",
              "      dtype='object')"
            ]
          },
          "execution_count": 53,
          "metadata": {},
          "output_type": "execute_result"
        }
      ],
      "source": [
        "dados.columns"
      ]
    },
    {
      "cell_type": "code",
      "execution_count": 54,
      "metadata": {
        "colab": {
          "base_uri": "https://localhost:8080/",
          "height": 178
        },
        "id": "YXTujU8KDdDt",
        "outputId": "2c886b92-ee96-4766-84b5-8a8da6aaba08"
      },
      "outputs": [
        {
          "data": {
            "text/plain": [
              "FAIXA IDADE\n",
              "55+      68\n",
              "17-21     6\n",
              "Name: count, dtype: int64"
            ]
          },
          "execution_count": 54,
          "metadata": {},
          "output_type": "execute_result"
        }
      ],
      "source": [
        "dados[dados['IDADE'].isnull()]['FAIXA IDADE'].value_counts()"
      ]
    },
    {
      "cell_type": "code",
      "execution_count": 55,
      "metadata": {
        "id": "XlRZH73uDrAD"
      },
      "outputs": [],
      "source": [
        "media_17_21 = dados[dados['FAIXA IDADE']=='17-21']['IDADE'].mean()"
      ]
    },
    {
      "cell_type": "code",
      "execution_count": 56,
      "metadata": {
        "id": "J1UYed4dEAf3"
      },
      "outputs": [],
      "source": [
        "dados.loc[(dados['FAIXA IDADE']=='17-21') & (dados['IDADE'].isnull()), 'IDADE'] = media_17_21"
      ]
    },
    {
      "cell_type": "code",
      "execution_count": 57,
      "metadata": {
        "colab": {
          "base_uri": "https://localhost:8080/",
          "height": 147
        },
        "id": "3WrA18TsEdur",
        "outputId": "63bee0c2-b105-4a5c-ab84-fed07e32c130"
      },
      "outputs": [
        {
          "data": {
            "text/plain": [
              "FAIXA IDADE\n",
              "55+    68\n",
              "Name: count, dtype: int64"
            ]
          },
          "execution_count": 57,
          "metadata": {},
          "output_type": "execute_result"
        }
      ],
      "source": [
        "dados[dados['IDADE'].isnull()]['FAIXA IDADE'].value_counts()"
      ]
    },
    {
      "cell_type": "code",
      "execution_count": 58,
      "metadata": {
        "colab": {
          "base_uri": "https://localhost:8080/",
          "height": 458
        },
        "id": "bnoTAm0mEqJf",
        "outputId": "ed741c6a-0235-48a1-9ff8-3fe697adf85a"
      },
      "outputs": [
        {
          "data": {
            "text/plain": [
              "9      NaN\n",
              "66     NaN\n",
              "96     NaN\n",
              "121    NaN\n",
              "156    NaN\n",
              "        ..\n",
              "4001   NaN\n",
              "4043   NaN\n",
              "4048   NaN\n",
              "4061   NaN\n",
              "4215   NaN\n",
              "Name: IDADE, Length: 68, dtype: float64"
            ]
          },
          "execution_count": 58,
          "metadata": {},
          "output_type": "execute_result"
        }
      ],
      "source": [
        "dados[dados['FAIXA IDADE']=='55+']['IDADE']"
      ]
    },
    {
      "cell_type": "code",
      "execution_count": 59,
      "metadata": {
        "colab": {
          "base_uri": "https://localhost:8080/",
          "height": 458
        },
        "id": "2HQVzvbuE08Z",
        "outputId": "52d5fe72-5c8a-43c4-8c77-3fb7a5663d1c"
      },
      "outputs": [
        {
          "data": {
            "text/plain": [
              "9        Pleno\n",
              "66      Júnior\n",
              "96       Pleno\n",
              "121      Pleno\n",
              "156     Júnior\n",
              "         ...  \n",
              "4001       NaN\n",
              "4043       NaN\n",
              "4048       NaN\n",
              "4061       NaN\n",
              "4215    Sênior\n",
              "Name: NIVEL, Length: 68, dtype: object"
            ]
          },
          "execution_count": 59,
          "metadata": {},
          "output_type": "execute_result"
        }
      ],
      "source": [
        "dados[dados['FAIXA IDADE']=='55+']['NIVEL']"
      ]
    },
    {
      "cell_type": "code",
      "execution_count": 60,
      "metadata": {
        "colab": {
          "base_uri": "https://localhost:8080/"
        },
        "id": "ciNj28eVFGGj",
        "outputId": "0f0ea534-8e93-429b-aac7-ff4bfd32a082"
      },
      "outputs": [
        {
          "data": {
            "text/plain": [
              "31.153517220250375"
            ]
          },
          "execution_count": 60,
          "metadata": {},
          "output_type": "execute_result"
        }
      ],
      "source": [
        "media_geral = dados['IDADE'].mean()\n",
        "media_geral"
      ]
    },
    {
      "cell_type": "code",
      "execution_count": 61,
      "metadata": {
        "id": "P5KaiZH4FZ3D"
      },
      "outputs": [],
      "source": [
        "dados.loc[(dados['FAIXA IDADE']=='55+') & (dados['IDADE'].isnull()), 'IDADE'] = media_geral"
      ]
    },
    {
      "cell_type": "code",
      "execution_count": 62,
      "metadata": {
        "colab": {
          "base_uri": "https://localhost:8080/",
          "height": 115
        },
        "id": "FC4kwTYDFssi",
        "outputId": "a99e9f25-208c-410e-f015-e1a7089f65ec"
      },
      "outputs": [
        {
          "data": {
            "text/plain": [
              "Series([], Name: count, dtype: int64)"
            ]
          },
          "execution_count": 62,
          "metadata": {},
          "output_type": "execute_result"
        }
      ],
      "source": [
        "dados[dados['IDADE'].isnull()]['FAIXA IDADE'].value_counts()"
      ]
    },
    {
      "cell_type": "markdown",
      "metadata": {
        "id": "ALBpzBVfGg2b"
      },
      "source": [
        "### Tratando coluna salário"
      ]
    },
    {
      "cell_type": "code",
      "execution_count": 63,
      "metadata": {
        "colab": {
          "base_uri": "https://localhost:8080/",
          "height": 773
        },
        "id": "20gYkEngGipH",
        "outputId": "abaac228-635e-477e-ebd4-811a148171c4"
      },
      "outputs": [
        {
          "data": {
            "text/html": [
              "<div>\n",
              "<style scoped>\n",
              "    .dataframe tbody tr th:only-of-type {\n",
              "        vertical-align: middle;\n",
              "    }\n",
              "\n",
              "    .dataframe tbody tr th {\n",
              "        vertical-align: top;\n",
              "    }\n",
              "\n",
              "    .dataframe thead th {\n",
              "        text-align: right;\n",
              "    }\n",
              "</style>\n",
              "<table border=\"1\" class=\"dataframe\">\n",
              "  <thead>\n",
              "    <tr style=\"text-align: right;\">\n",
              "      <th></th>\n",
              "      <th>Unnamed: 0</th>\n",
              "      <th>ID</th>\n",
              "      <th>IDADE</th>\n",
              "      <th>FAIXA IDADE</th>\n",
              "      <th>GENERO</th>\n",
              "      <th>COR/RACA/ETNIA</th>\n",
              "      <th>PCD</th>\n",
              "      <th>EXPERIENCIA_PROFISSIONAL_PREJUDICADA</th>\n",
              "      <th>ASPECTOS_PREJUDICADOS</th>\n",
              "      <th>VIVE_NO_BRASIL</th>\n",
              "      <th>...</th>\n",
              "      <th>SETOR</th>\n",
              "      <th>NUMERO DE FUNCIONARIOS</th>\n",
              "      <th>GESTOR?</th>\n",
              "      <th>CARGO COMO GESTOR</th>\n",
              "      <th>CARGO ATUAL</th>\n",
              "      <th>NIVEL</th>\n",
              "      <th>FAIXA SALARIAL</th>\n",
              "      <th>QUANTO TEMPO DE EXPERIÊNCIA NA ÁREA DE DADOS VOCÊ TEM?</th>\n",
              "      <th>QUANTO TEMPO DE EXPERIÊNCIA NA ÁREA DE TI/ENGENHARIA DE SOFTWARE VOCÊ TEVE ANTES DE COMEÇAR A TRABALHAR NA ÁREA DE DADOS?</th>\n",
              "      <th>SALARIO</th>\n",
              "    </tr>\n",
              "  </thead>\n",
              "  <tbody>\n",
              "    <tr>\n",
              "      <th>12</th>\n",
              "      <td>12</td>\n",
              "      <td>zwr9hqcpg513kaopenzwr9hibaqmldto</td>\n",
              "      <td>31.0</td>\n",
              "      <td>30-34</td>\n",
              "      <td>Masculino</td>\n",
              "      <td>Branca</td>\n",
              "      <td>Não</td>\n",
              "      <td>NaN</td>\n",
              "      <td>NaN</td>\n",
              "      <td>True</td>\n",
              "      <td>...</td>\n",
              "      <td>NaN</td>\n",
              "      <td>NaN</td>\n",
              "      <td>NaN</td>\n",
              "      <td>NaN</td>\n",
              "      <td>NaN</td>\n",
              "      <td>NaN</td>\n",
              "      <td>NaN</td>\n",
              "      <td>NaN</td>\n",
              "      <td>NaN</td>\n",
              "      <td>NaN</td>\n",
              "    </tr>\n",
              "    <tr>\n",
              "      <th>28</th>\n",
              "      <td>28</td>\n",
              "      <td>ztgepgj82o9oix0nztgepq2trcay6gpv</td>\n",
              "      <td>24.0</td>\n",
              "      <td>22-24</td>\n",
              "      <td>Feminino</td>\n",
              "      <td>Parda</td>\n",
              "      <td>Não</td>\n",
              "      <td>Sim, acredito que a minha a experiência profis...</td>\n",
              "      <td>Aprovação em processos seletivos/entrevistas</td>\n",
              "      <td>True</td>\n",
              "      <td>...</td>\n",
              "      <td>NaN</td>\n",
              "      <td>NaN</td>\n",
              "      <td>NaN</td>\n",
              "      <td>NaN</td>\n",
              "      <td>NaN</td>\n",
              "      <td>NaN</td>\n",
              "      <td>NaN</td>\n",
              "      <td>NaN</td>\n",
              "      <td>NaN</td>\n",
              "      <td>NaN</td>\n",
              "    </tr>\n",
              "    <tr>\n",
              "      <th>34</th>\n",
              "      <td>34</td>\n",
              "      <td>zsa9i6njd3e594mw0tvlk4zsa9iw86i9</td>\n",
              "      <td>24.0</td>\n",
              "      <td>22-24</td>\n",
              "      <td>Feminino</td>\n",
              "      <td>Branca</td>\n",
              "      <td>Não</td>\n",
              "      <td>Sim, acredito que a minha a experiência profis...</td>\n",
              "      <td>Quantidade de oportunidades de emprego/vagas r...</td>\n",
              "      <td>True</td>\n",
              "      <td>...</td>\n",
              "      <td>NaN</td>\n",
              "      <td>NaN</td>\n",
              "      <td>NaN</td>\n",
              "      <td>NaN</td>\n",
              "      <td>NaN</td>\n",
              "      <td>NaN</td>\n",
              "      <td>NaN</td>\n",
              "      <td>NaN</td>\n",
              "      <td>NaN</td>\n",
              "      <td>NaN</td>\n",
              "    </tr>\n",
              "    <tr>\n",
              "      <th>39</th>\n",
              "      <td>39</td>\n",
              "      <td>zr4b2vm7dapp3linwqwn7zr4b2vmagqx</td>\n",
              "      <td>32.0</td>\n",
              "      <td>30-34</td>\n",
              "      <td>Masculino</td>\n",
              "      <td>Parda</td>\n",
              "      <td>Não</td>\n",
              "      <td>Não acredito que minha experiência profissiona...</td>\n",
              "      <td>NaN</td>\n",
              "      <td>True</td>\n",
              "      <td>...</td>\n",
              "      <td>NaN</td>\n",
              "      <td>NaN</td>\n",
              "      <td>NaN</td>\n",
              "      <td>NaN</td>\n",
              "      <td>NaN</td>\n",
              "      <td>NaN</td>\n",
              "      <td>NaN</td>\n",
              "      <td>NaN</td>\n",
              "      <td>NaN</td>\n",
              "      <td>NaN</td>\n",
              "    </tr>\n",
              "    <tr>\n",
              "      <th>63</th>\n",
              "      <td>63</td>\n",
              "      <td>zm7o5yquakof0j6zm7vh3o0letznhdvh</td>\n",
              "      <td>26.0</td>\n",
              "      <td>25-29</td>\n",
              "      <td>Masculino</td>\n",
              "      <td>Branca</td>\n",
              "      <td>Não</td>\n",
              "      <td>NaN</td>\n",
              "      <td>NaN</td>\n",
              "      <td>True</td>\n",
              "      <td>...</td>\n",
              "      <td>NaN</td>\n",
              "      <td>NaN</td>\n",
              "      <td>NaN</td>\n",
              "      <td>NaN</td>\n",
              "      <td>NaN</td>\n",
              "      <td>NaN</td>\n",
              "      <td>NaN</td>\n",
              "      <td>NaN</td>\n",
              "      <td>NaN</td>\n",
              "      <td>NaN</td>\n",
              "    </tr>\n",
              "    <tr>\n",
              "      <th>...</th>\n",
              "      <td>...</td>\n",
              "      <td>...</td>\n",
              "      <td>...</td>\n",
              "      <td>...</td>\n",
              "      <td>...</td>\n",
              "      <td>...</td>\n",
              "      <td>...</td>\n",
              "      <td>...</td>\n",
              "      <td>...</td>\n",
              "      <td>...</td>\n",
              "      <td>...</td>\n",
              "      <td>...</td>\n",
              "      <td>...</td>\n",
              "      <td>...</td>\n",
              "      <td>...</td>\n",
              "      <td>...</td>\n",
              "      <td>...</td>\n",
              "      <td>...</td>\n",
              "      <td>...</td>\n",
              "      <td>...</td>\n",
              "      <td>...</td>\n",
              "    </tr>\n",
              "    <tr>\n",
              "      <th>4242</th>\n",
              "      <td>4242</td>\n",
              "      <td>09oxwp6lsdwhw09ox1uobuxa8cq2pzma</td>\n",
              "      <td>26.0</td>\n",
              "      <td>25-29</td>\n",
              "      <td>Masculino</td>\n",
              "      <td>Branca</td>\n",
              "      <td>Não</td>\n",
              "      <td>NaN</td>\n",
              "      <td>NaN</td>\n",
              "      <td>True</td>\n",
              "      <td>...</td>\n",
              "      <td>NaN</td>\n",
              "      <td>NaN</td>\n",
              "      <td>NaN</td>\n",
              "      <td>NaN</td>\n",
              "      <td>NaN</td>\n",
              "      <td>NaN</td>\n",
              "      <td>NaN</td>\n",
              "      <td>NaN</td>\n",
              "      <td>NaN</td>\n",
              "      <td>NaN</td>\n",
              "    </tr>\n",
              "    <tr>\n",
              "      <th>4252</th>\n",
              "      <td>4252</td>\n",
              "      <td>064pe9b1htw7mflhif064pe95dotv6yf</td>\n",
              "      <td>39.0</td>\n",
              "      <td>35-39</td>\n",
              "      <td>Masculino</td>\n",
              "      <td>Parda</td>\n",
              "      <td>Não</td>\n",
              "      <td>Não acredito que minha experiência profissiona...</td>\n",
              "      <td>NaN</td>\n",
              "      <td>True</td>\n",
              "      <td>...</td>\n",
              "      <td>NaN</td>\n",
              "      <td>NaN</td>\n",
              "      <td>NaN</td>\n",
              "      <td>NaN</td>\n",
              "      <td>NaN</td>\n",
              "      <td>NaN</td>\n",
              "      <td>NaN</td>\n",
              "      <td>NaN</td>\n",
              "      <td>NaN</td>\n",
              "      <td>NaN</td>\n",
              "    </tr>\n",
              "    <tr>\n",
              "      <th>4258</th>\n",
              "      <td>4258</td>\n",
              "      <td>03zjgijmnwv9qrlzbr03zjgij1eae1hw</td>\n",
              "      <td>25.0</td>\n",
              "      <td>25-29</td>\n",
              "      <td>Feminino</td>\n",
              "      <td>Branca</td>\n",
              "      <td>Não</td>\n",
              "      <td>Sim, acredito que a minha a experiência profis...</td>\n",
              "      <td>Senioridade das vagas recebidas em relação à s...</td>\n",
              "      <td>True</td>\n",
              "      <td>...</td>\n",
              "      <td>NaN</td>\n",
              "      <td>NaN</td>\n",
              "      <td>NaN</td>\n",
              "      <td>NaN</td>\n",
              "      <td>NaN</td>\n",
              "      <td>NaN</td>\n",
              "      <td>NaN</td>\n",
              "      <td>NaN</td>\n",
              "      <td>NaN</td>\n",
              "      <td>NaN</td>\n",
              "    </tr>\n",
              "    <tr>\n",
              "      <th>4260</th>\n",
              "      <td>4260</td>\n",
              "      <td>03atvow8404tatt2iixjds03atvownkz</td>\n",
              "      <td>36.0</td>\n",
              "      <td>35-39</td>\n",
              "      <td>Masculino</td>\n",
              "      <td>Parda</td>\n",
              "      <td>Não</td>\n",
              "      <td>Não acredito que minha experiência profissiona...</td>\n",
              "      <td>NaN</td>\n",
              "      <td>True</td>\n",
              "      <td>...</td>\n",
              "      <td>NaN</td>\n",
              "      <td>NaN</td>\n",
              "      <td>NaN</td>\n",
              "      <td>NaN</td>\n",
              "      <td>NaN</td>\n",
              "      <td>NaN</td>\n",
              "      <td>NaN</td>\n",
              "      <td>NaN</td>\n",
              "      <td>NaN</td>\n",
              "      <td>NaN</td>\n",
              "    </tr>\n",
              "    <tr>\n",
              "      <th>4261</th>\n",
              "      <td>4261</td>\n",
              "      <td>02xomoejng6c9152kde02xomww412qpg</td>\n",
              "      <td>33.0</td>\n",
              "      <td>30-34</td>\n",
              "      <td>Masculino</td>\n",
              "      <td>Branca</td>\n",
              "      <td>Não</td>\n",
              "      <td>NaN</td>\n",
              "      <td>NaN</td>\n",
              "      <td>True</td>\n",
              "      <td>...</td>\n",
              "      <td>NaN</td>\n",
              "      <td>NaN</td>\n",
              "      <td>NaN</td>\n",
              "      <td>NaN</td>\n",
              "      <td>NaN</td>\n",
              "      <td>NaN</td>\n",
              "      <td>NaN</td>\n",
              "      <td>NaN</td>\n",
              "      <td>NaN</td>\n",
              "      <td>NaN</td>\n",
              "    </tr>\n",
              "  </tbody>\n",
              "</table>\n",
              "<p>577 rows × 28 columns</p>\n",
              "</div>"
            ],
            "text/plain": [
              "      Unnamed: 0                                ID  IDADE FAIXA IDADE  \\\n",
              "12            12  zwr9hqcpg513kaopenzwr9hibaqmldto   31.0       30-34   \n",
              "28            28  ztgepgj82o9oix0nztgepq2trcay6gpv   24.0       22-24   \n",
              "34            34  zsa9i6njd3e594mw0tvlk4zsa9iw86i9   24.0       22-24   \n",
              "39            39  zr4b2vm7dapp3linwqwn7zr4b2vmagqx   32.0       30-34   \n",
              "63            63  zm7o5yquakof0j6zm7vh3o0letznhdvh   26.0       25-29   \n",
              "...          ...                               ...    ...         ...   \n",
              "4242        4242  09oxwp6lsdwhw09ox1uobuxa8cq2pzma   26.0       25-29   \n",
              "4252        4252  064pe9b1htw7mflhif064pe95dotv6yf   39.0       35-39   \n",
              "4258        4258  03zjgijmnwv9qrlzbr03zjgij1eae1hw   25.0       25-29   \n",
              "4260        4260  03atvow8404tatt2iixjds03atvownkz   36.0       35-39   \n",
              "4261        4261  02xomoejng6c9152kde02xomww412qpg   33.0       30-34   \n",
              "\n",
              "         GENERO COR/RACA/ETNIA  PCD  \\\n",
              "12    Masculino         Branca  Não   \n",
              "28     Feminino          Parda  Não   \n",
              "34     Feminino         Branca  Não   \n",
              "39    Masculino          Parda  Não   \n",
              "63    Masculino         Branca  Não   \n",
              "...         ...            ...  ...   \n",
              "4242  Masculino         Branca  Não   \n",
              "4252  Masculino          Parda  Não   \n",
              "4258   Feminino         Branca  Não   \n",
              "4260  Masculino          Parda  Não   \n",
              "4261  Masculino         Branca  Não   \n",
              "\n",
              "                   EXPERIENCIA_PROFISSIONAL_PREJUDICADA  \\\n",
              "12                                                  NaN   \n",
              "28    Sim, acredito que a minha a experiência profis...   \n",
              "34    Sim, acredito que a minha a experiência profis...   \n",
              "39    Não acredito que minha experiência profissiona...   \n",
              "63                                                  NaN   \n",
              "...                                                 ...   \n",
              "4242                                                NaN   \n",
              "4252  Não acredito que minha experiência profissiona...   \n",
              "4258  Sim, acredito que a minha a experiência profis...   \n",
              "4260  Não acredito que minha experiência profissiona...   \n",
              "4261                                                NaN   \n",
              "\n",
              "                                  ASPECTOS_PREJUDICADOS  VIVE_NO_BRASIL  ...  \\\n",
              "12                                                  NaN            True  ...   \n",
              "28         Aprovação em processos seletivos/entrevistas            True  ...   \n",
              "34    Quantidade de oportunidades de emprego/vagas r...            True  ...   \n",
              "39                                                  NaN            True  ...   \n",
              "63                                                  NaN            True  ...   \n",
              "...                                                 ...             ...  ...   \n",
              "4242                                                NaN            True  ...   \n",
              "4252                                                NaN            True  ...   \n",
              "4258  Senioridade das vagas recebidas em relação à s...            True  ...   \n",
              "4260                                                NaN            True  ...   \n",
              "4261                                                NaN            True  ...   \n",
              "\n",
              "     SETOR NUMERO DE FUNCIONARIOS GESTOR?  CARGO COMO GESTOR CARGO ATUAL  \\\n",
              "12     NaN                    NaN     NaN                NaN         NaN   \n",
              "28     NaN                    NaN     NaN                NaN         NaN   \n",
              "34     NaN                    NaN     NaN                NaN         NaN   \n",
              "39     NaN                    NaN     NaN                NaN         NaN   \n",
              "63     NaN                    NaN     NaN                NaN         NaN   \n",
              "...    ...                    ...     ...                ...         ...   \n",
              "4242   NaN                    NaN     NaN                NaN         NaN   \n",
              "4252   NaN                    NaN     NaN                NaN         NaN   \n",
              "4258   NaN                    NaN     NaN                NaN         NaN   \n",
              "4260   NaN                    NaN     NaN                NaN         NaN   \n",
              "4261   NaN                    NaN     NaN                NaN         NaN   \n",
              "\n",
              "     NIVEL FAIXA SALARIAL  \\\n",
              "12     NaN            NaN   \n",
              "28     NaN            NaN   \n",
              "34     NaN            NaN   \n",
              "39     NaN            NaN   \n",
              "63     NaN            NaN   \n",
              "...    ...            ...   \n",
              "4242   NaN            NaN   \n",
              "4252   NaN            NaN   \n",
              "4258   NaN            NaN   \n",
              "4260   NaN            NaN   \n",
              "4261   NaN            NaN   \n",
              "\n",
              "     QUANTO TEMPO DE EXPERIÊNCIA NA ÁREA DE DADOS VOCÊ TEM?  \\\n",
              "12                                                  NaN       \n",
              "28                                                  NaN       \n",
              "34                                                  NaN       \n",
              "39                                                  NaN       \n",
              "63                                                  NaN       \n",
              "...                                                 ...       \n",
              "4242                                                NaN       \n",
              "4252                                                NaN       \n",
              "4258                                                NaN       \n",
              "4260                                                NaN       \n",
              "4261                                                NaN       \n",
              "\n",
              "     QUANTO TEMPO DE EXPERIÊNCIA NA ÁREA DE TI/ENGENHARIA DE SOFTWARE VOCÊ TEVE ANTES DE COMEÇAR A TRABALHAR NA ÁREA DE DADOS?  \\\n",
              "12                                                  NaN                                                                          \n",
              "28                                                  NaN                                                                          \n",
              "34                                                  NaN                                                                          \n",
              "39                                                  NaN                                                                          \n",
              "63                                                  NaN                                                                          \n",
              "...                                                 ...                                                                          \n",
              "4242                                                NaN                                                                          \n",
              "4252                                                NaN                                                                          \n",
              "4258                                                NaN                                                                          \n",
              "4260                                                NaN                                                                          \n",
              "4261                                                NaN                                                                          \n",
              "\n",
              "     SALARIO  \n",
              "12       NaN  \n",
              "28       NaN  \n",
              "34       NaN  \n",
              "39       NaN  \n",
              "63       NaN  \n",
              "...      ...  \n",
              "4242     NaN  \n",
              "4252     NaN  \n",
              "4258     NaN  \n",
              "4260     NaN  \n",
              "4261     NaN  \n",
              "\n",
              "[577 rows x 28 columns]"
            ]
          },
          "execution_count": 63,
          "metadata": {},
          "output_type": "execute_result"
        }
      ],
      "source": [
        "dados[dados['SALARIO'].isnull()]"
      ]
    },
    {
      "cell_type": "code",
      "execution_count": 64,
      "metadata": {
        "colab": {
          "base_uri": "https://localhost:8080/",
          "height": 115
        },
        "id": "dBpik-bWGuYh",
        "outputId": "683cdca2-0e09-4cf5-8b41-7edb61147dbb"
      },
      "outputs": [
        {
          "data": {
            "text/plain": [
              "Series([], Name: count, dtype: int64)"
            ]
          },
          "execution_count": 64,
          "metadata": {},
          "output_type": "execute_result"
        }
      ],
      "source": [
        "dados[dados['SALARIO'].isnull()]['FAIXA SALARIAL'].value_counts()"
      ]
    },
    {
      "cell_type": "code",
      "execution_count": 65,
      "metadata": {
        "id": "CSY7ALB3G_1A"
      },
      "outputs": [],
      "source": [
        "mediana_salario = dados['SALARIO'].median()"
      ]
    },
    {
      "cell_type": "code",
      "execution_count": 66,
      "metadata": {
        "id": "Wv7QSkUFHLWF"
      },
      "outputs": [],
      "source": [
        "dados.loc[dados['SALARIO'].isnull(), 'SALARIO'] = mediana_salario"
      ]
    },
    {
      "cell_type": "markdown",
      "metadata": {
        "id": "_WmRTfvuKpon"
      },
      "source": [
        "### Valores discrepantes (outliers)"
      ]
    },
    {
      "cell_type": "code",
      "execution_count": 67,
      "metadata": {
        "id": "Smd8i4oRKs9q"
      },
      "outputs": [],
      "source": [
        "lista_idades = [26,30,32,22,26,35,400,20,43,31,23]"
      ]
    },
    {
      "cell_type": "code",
      "execution_count": 68,
      "metadata": {
        "colab": {
          "base_uri": "https://localhost:8080/"
        },
        "id": "pzEtbYGYK2Y-",
        "outputId": "7d283b9f-b5ac-49c2-bbdd-896fd8203bdd"
      },
      "outputs": [
        {
          "data": {
            "text/plain": [
              "62.54545454545455"
            ]
          },
          "execution_count": 68,
          "metadata": {},
          "output_type": "execute_result"
        }
      ],
      "source": [
        "media = np.mean(lista_idades)\n",
        "media"
      ]
    },
    {
      "cell_type": "code",
      "execution_count": 69,
      "metadata": {
        "colab": {
          "base_uri": "https://localhost:8080/"
        },
        "id": "2__s_VCXK5cY",
        "outputId": "753a5439-fd3e-4ef8-947c-0962de58cca9"
      },
      "outputs": [
        {
          "data": {
            "text/plain": [
              "106.89532997398872"
            ]
          },
          "execution_count": 69,
          "metadata": {},
          "output_type": "execute_result"
        }
      ],
      "source": [
        "# regra do desvio padrao: quando mais próximo de 0, nossos dados estao mais homogeneos\n",
        "desvio = np.std(lista_idades)\n",
        "desvio"
      ]
    },
    {
      "cell_type": "code",
      "execution_count": 70,
      "metadata": {
        "colab": {
          "base_uri": "https://localhost:8080/"
        },
        "id": "B7ALKV6tLPWL",
        "outputId": "7c37f2b2-2c4c-48bd-afdd-0401284bae65"
      },
      "outputs": [
        {
          "data": {
            "text/plain": [
              "383.2314444674207"
            ]
          },
          "execution_count": 70,
          "metadata": {},
          "output_type": "execute_result"
        }
      ],
      "source": [
        "# limite superior\n",
        "media + 3*desvio"
      ]
    },
    {
      "cell_type": "code",
      "execution_count": 71,
      "metadata": {
        "colab": {
          "base_uri": "https://localhost:8080/"
        },
        "id": "LccvHuYRLZ0Z",
        "outputId": "65a8676a-bf31-4a88-d0e1-6c822cece57a"
      },
      "outputs": [
        {
          "data": {
            "text/plain": [
              "-258.1405353765116"
            ]
          },
          "execution_count": 71,
          "metadata": {},
          "output_type": "execute_result"
        }
      ],
      "source": [
        "# limite inferior\n",
        "media - 3*desvio"
      ]
    },
    {
      "cell_type": "code",
      "execution_count": 72,
      "metadata": {
        "colab": {
          "base_uri": "https://localhost:8080/",
          "height": 578
        },
        "id": "kQhNziL0M_JR",
        "outputId": "4cc57707-6606-4cb7-8a15-23b2ee7cf501"
      },
      "outputs": [
        {
          "data": {
            "text/plain": [
              "{'whiskers': [<matplotlib.lines.Line2D at 0x18be4e10560>,\n",
              "  <matplotlib.lines.Line2D at 0x18be4e10860>],\n",
              " 'caps': [<matplotlib.lines.Line2D at 0x18be4e10b00>,\n",
              "  <matplotlib.lines.Line2D at 0x18be4e10dd0>],\n",
              " 'boxes': [<matplotlib.lines.Line2D at 0x18be4a7c4a0>],\n",
              " 'medians': [<matplotlib.lines.Line2D at 0x18be4e11070>],\n",
              " 'fliers': [<matplotlib.lines.Line2D at 0x18be4e11340>],\n",
              " 'means': []}"
            ]
          },
          "execution_count": 72,
          "metadata": {},
          "output_type": "execute_result"
        },
        {
          "data": {
            "image/png": "[encoded data removed]",
            "text/plain": [
              "<Figure size 640x480 with 1 Axes>"
            ]
          },
          "metadata": {},
          "output_type": "display_data"
        }
      ],
      "source": [
        "plt.boxplot(lista_idades)"
      ]
    },
    {
      "cell_type": "code",
      "execution_count": 73,
      "metadata": {
        "colab": {
          "base_uri": "https://localhost:8080/",
          "height": 578
        },
        "id": "tUbFctYrNGa-",
        "outputId": "5a8425ab-c9ec-4a23-af32-24dfb54e3698"
      },
      "outputs": [
        {
          "data": {
            "text/plain": [
              "{'whiskers': [<matplotlib.lines.Line2D at 0x18be4e91d30>,\n",
              "  <matplotlib.lines.Line2D at 0x18be4e91fd0>],\n",
              " 'caps': [<matplotlib.lines.Line2D at 0x18be4e92210>,\n",
              "  <matplotlib.lines.Line2D at 0x18be4e92450>],\n",
              " 'boxes': [<matplotlib.lines.Line2D at 0x18be4e91a90>],\n",
              " 'medians': [<matplotlib.lines.Line2D at 0x18be4e914f0>],\n",
              " 'fliers': [<matplotlib.lines.Line2D at 0x18be4e92960>],\n",
              " 'means': []}"
            ]
          },
          "execution_count": 73,
          "metadata": {},
          "output_type": "execute_result"
        },
        {
          "data": {
            "image/png": "[encoded data removed]",
            "text/plain": [
              "<Figure size 640x480 with 1 Axes>"
            ]
          },
          "metadata": {},
          "output_type": "display_data"
        }
      ],
      "source": [
        "plt.boxplot(dados['SALARIO'])"
      ]
    },
    {
      "cell_type": "code",
      "execution_count": 74,
      "metadata": {
        "colab": {
          "base_uri": "https://localhost:8080/"
        },
        "id": "LydgfF73NYlI",
        "outputId": "7988c8cd-9152-4adf-cd87-d24ff8095bdb"
      },
      "outputs": [
        {
          "data": {
            "text/plain": [
              "4751.5"
            ]
          },
          "execution_count": 74,
          "metadata": {},
          "output_type": "execute_result"
        }
      ],
      "source": [
        "Q1 = dados['SALARIO'].quantile(0.25)\n",
        "Q1"
      ]
    },
    {
      "cell_type": "code",
      "execution_count": 75,
      "metadata": {
        "colab": {
          "base_uri": "https://localhost:8080/"
        },
        "id": "6HobxbOBN2qC",
        "outputId": "2db8f241-1591-490e-d569-b48ecef17d53"
      },
      "outputs": [
        {
          "data": {
            "text/plain": [
              "11794.5"
            ]
          },
          "execution_count": 75,
          "metadata": {},
          "output_type": "execute_result"
        }
      ],
      "source": [
        "Q3 = dados['SALARIO'].quantile(0.75)\n",
        "Q3"
      ]
    },
    {
      "cell_type": "code",
      "execution_count": 76,
      "metadata": {
        "colab": {
          "base_uri": "https://localhost:8080/"
        },
        "id": "tqUnPYaMN_6T",
        "outputId": "0da265c8-6d23-411f-f7db-77c310de1016"
      },
      "outputs": [
        {
          "data": {
            "text/plain": [
              "7043.0"
            ]
          },
          "execution_count": 76,
          "metadata": {},
          "output_type": "execute_result"
        }
      ],
      "source": [
        "IQR = Q3 - Q1\n",
        "IQR"
      ]
    },
    {
      "cell_type": "code",
      "execution_count": 77,
      "metadata": {
        "colab": {
          "base_uri": "https://localhost:8080/"
        },
        "id": "wwJgx3yHOH7w",
        "outputId": "cb05e78e-fc94-4229-82e8-2ef3c96263de"
      },
      "outputs": [
        {
          "data": {
            "text/plain": [
              "22359.0"
            ]
          },
          "execution_count": 77,
          "metadata": {},
          "output_type": "execute_result"
        }
      ],
      "source": [
        "#limite superior\n",
        "lim_superior = Q3 + (1.5*IQR)\n",
        "lim_superior"
      ]
    },
    {
      "cell_type": "code",
      "execution_count": 78,
      "metadata": {
        "colab": {
          "base_uri": "https://localhost:8080/"
        },
        "id": "RvAkUOL8OV11",
        "outputId": "e5762631-6f3d-49b3-bb11-ad92e252faac"
      },
      "outputs": [
        {
          "data": {
            "text/plain": [
              "-5813.0"
            ]
          },
          "execution_count": 78,
          "metadata": {},
          "output_type": "execute_result"
        }
      ],
      "source": [
        "#limite inferior\n",
        "lim_inferior = Q1 - (1.5*IQR)\n",
        "lim_inferior"
      ]
    },
    {
      "cell_type": "code",
      "execution_count": 79,
      "metadata": {
        "colab": {
          "base_uri": "https://localhost:8080/",
          "height": 523
        },
        "id": "EFg_R6YUOuC8",
        "outputId": "ce15f7fc-06e6-4648-a015-914fab402d67"
      },
      "outputs": [
        {
          "data": {
            "text/plain": [
              "FAIXA SALARIAL\n",
              "de R$ 8.001/mês a R$ 12.000/mês     752\n",
              "de R$ 4.001/mês a R$ 6.000/mês      584\n",
              "de R$ 6.001/mês a R$ 8.000/mês      527\n",
              "de R$ 12.001/mês a R$ 16.000/mês    437\n",
              "de R$ 3.001/mês a R$ 4.000/mês      303\n",
              "de R$ 2.001/mês a R$ 3.000/mês      285\n",
              "de R$ 16.001/mês a R$ 20.000/mês    229\n",
              "de R$ 1.001/mês a R$ 2.000/mês      216\n",
              "de R$ 20.001/mês a R$ 25.000/mês    134\n",
              "de R$ 25.001/mês a R$ 30.000/mês     77\n",
              "de R$ 30.001/mês a R$ 40.000/mês     70\n",
              "Acima de R$ 40.001/mês               45\n",
              "Menos de R$ 1.000/mês                35\n",
              "Name: count, dtype: int64"
            ]
          },
          "execution_count": 79,
          "metadata": {},
          "output_type": "execute_result"
        }
      ],
      "source": [
        "dados['FAIXA SALARIAL'].value_counts()"
      ]
    },
    {
      "cell_type": "code",
      "execution_count": 80,
      "metadata": {
        "colab": {
          "base_uri": "https://localhost:8080/"
        },
        "id": "uUQ3sGjAPA6m",
        "outputId": "49e3fe87-1f6c-4eb0-b538-97b29804f355"
      },
      "outputs": [
        {
          "data": {
            "text/plain": [
              "10517.53348162023"
            ]
          },
          "execution_count": 80,
          "metadata": {},
          "output_type": "execute_result"
        }
      ],
      "source": [
        "media_salario = dados['SALARIO'].mean()\n",
        "media_salario"
      ]
    },
    {
      "cell_type": "code",
      "execution_count": 81,
      "metadata": {
        "colab": {
          "base_uri": "https://localhost:8080/"
        },
        "id": "kAJZXkzPPZHK",
        "outputId": "fe1b3154-6bd1-4a92-913a-d3e7db13cff6"
      },
      "outputs": [
        {
          "data": {
            "text/plain": [
              "18096.210989118474"
            ]
          },
          "execution_count": 81,
          "metadata": {},
          "output_type": "execute_result"
        }
      ],
      "source": [
        "desvio_salario = dados['SALARIO'].std()\n",
        "desvio_salario"
      ]
    },
    {
      "cell_type": "code",
      "execution_count": 82,
      "metadata": {
        "colab": {
          "base_uri": "https://localhost:8080/"
        },
        "id": "zqSJx9qlPuYl",
        "outputId": "f75cb7cd-d77e-4e06-8b62-e0f834879794"
      },
      "outputs": [
        {
          "data": {
            "text/plain": [
              "64806.16644897565"
            ]
          },
          "execution_count": 82,
          "metadata": {},
          "output_type": "execute_result"
        }
      ],
      "source": [
        "limite_superior = media_salario + (3*desvio_salario)\n",
        "limite_superior"
      ]
    },
    {
      "cell_type": "code",
      "execution_count": 83,
      "metadata": {
        "colab": {
          "base_uri": "https://localhost:8080/"
        },
        "id": "ducIlB3nQA9k",
        "outputId": "ba759bcf-5856-4f19-aeae-08c2f5f70e0f"
      },
      "outputs": [
        {
          "data": {
            "text/plain": [
              "-43771.09948573519"
            ]
          },
          "execution_count": 83,
          "metadata": {},
          "output_type": "execute_result"
        }
      ],
      "source": [
        "limite_inferior = media_salario - (3*desvio_salario)\n",
        "limite_inferior"
      ]
    },
    {
      "cell_type": "code",
      "execution_count": 84,
      "metadata": {
        "colab": {
          "base_uri": "https://localhost:8080/",
          "height": 178
        },
        "id": "plyJceIsQIeU",
        "outputId": "c6385fee-3dc8-4886-fa94-d7ef241cdf77"
      },
      "outputs": [
        {
          "data": {
            "text/plain": [
              "FAIXA SALARIAL\n",
              "Acima de R$ 40.001/mês              19\n",
              "de R$ 30.001/mês a R$ 40.000/mês     3\n",
              "Name: count, dtype: int64"
            ]
          },
          "execution_count": 84,
          "metadata": {},
          "output_type": "execute_result"
        }
      ],
      "source": [
        "dados[dados['SALARIO']>limite_superior]['FAIXA SALARIAL'].value_counts()"
      ]
    },
    {
      "cell_type": "code",
      "execution_count": 85,
      "metadata": {
        "colab": {
          "base_uri": "https://localhost:8080/"
        },
        "id": "FdJMKfPuQn_Q",
        "outputId": "cfda7fe2-b02d-45e9-b7ea-f829d2def072"
      },
      "outputs": [
        {
          "data": {
            "text/plain": [
              "39002.19402985075"
            ]
          },
          "execution_count": 85,
          "metadata": {},
          "output_type": "execute_result"
        }
      ],
      "source": [
        "media_30_40 = dados[(dados['FAIXA SALARIAL']=='de R$ 30.001/mês a R$ 40.000/mês') & (dados['SALARIO']<limite_superior)]['SALARIO'].mean()\n",
        "media_30_40"
      ]
    },
    {
      "cell_type": "code",
      "execution_count": 86,
      "metadata": {
        "id": "QoPsjHvFRLAo"
      },
      "outputs": [],
      "source": [
        "dados.loc[(dados['FAIXA SALARIAL']=='de R$ 30.001/mês a R$ 40.000/mês') & (dados['SALARIO']>limite_superior), 'SALARIO'] = media_30_40"
      ]
    },
    {
      "cell_type": "code",
      "execution_count": 87,
      "metadata": {
        "colab": {
          "base_uri": "https://localhost:8080/",
          "height": 147
        },
        "id": "tizJvpwrSBZt",
        "outputId": "cab76a15-7b82-4cf2-9a0a-71fce02201f8"
      },
      "outputs": [
        {
          "data": {
            "text/plain": [
              "FAIXA SALARIAL\n",
              "Acima de R$ 40.001/mês    19\n",
              "Name: count, dtype: int64"
            ]
          },
          "execution_count": 87,
          "metadata": {},
          "output_type": "execute_result"
        }
      ],
      "source": [
        "dados[dados['SALARIO']>limite_superior]['FAIXA SALARIAL'].value_counts()"
      ]
    },
    {
      "cell_type": "code",
      "execution_count": 88,
      "metadata": {
        "colab": {
          "base_uri": "https://localhost:8080/"
        },
        "id": "shdqi1CqSTnM",
        "outputId": "d8a6dda1-e9c8-463c-992d-25add34cad52"
      },
      "outputs": [
        {
          "data": {
            "text/plain": [
              "53127.846153846156"
            ]
          },
          "execution_count": 88,
          "metadata": {},
          "output_type": "execute_result"
        }
      ],
      "source": [
        "media_40 = dados[(dados['FAIXA SALARIAL']=='Acima de R$ 40.001/mês') & (dados['SALARIO']<limite_superior)]['SALARIO'].mean()\n",
        "media_40\n"
      ]
    },
    {
      "cell_type": "code",
      "execution_count": 89,
      "metadata": {
        "id": "R4VSyQZcSil7"
      },
      "outputs": [],
      "source": [
        "dados.loc[(dados['FAIXA SALARIAL']=='Acima de R$ 40.001/mês') & (dados['SALARIO']>limite_superior), 'SALARIO'] = media_40"
      ]
    },
    {
      "cell_type": "code",
      "execution_count": 90,
      "metadata": {
        "colab": {
          "base_uri": "https://localhost:8080/",
          "height": 115
        },
        "id": "ffSv6CBaSywN",
        "outputId": "3124bb4a-3987-41af-f186-748c9f775943"
      },
      "outputs": [
        {
          "data": {
            "text/plain": [
              "Series([], Name: count, dtype: int64)"
            ]
          },
          "execution_count": 90,
          "metadata": {},
          "output_type": "execute_result"
        }
      ],
      "source": [
        "dados[dados['SALARIO']>limite_superior]['FAIXA SALARIAL'].value_counts()"
      ]
    },
    {
      "cell_type": "code",
      "execution_count": 91,
      "metadata": {
        "colab": {
          "base_uri": "https://localhost:8080/",
          "height": 578
        },
        "id": "qk-Q8gm-S0zn",
        "outputId": "19bf62c8-4cba-42a8-f53d-d4d9dcb3b0b6"
      },
      "outputs": [
        {
          "data": {
            "text/plain": [
              "{'whiskers': [<matplotlib.lines.Line2D at 0x18be4ec3ef0>,\n",
              "  <matplotlib.lines.Line2D at 0x18be4ec0aa0>],\n",
              " 'caps': [<matplotlib.lines.Line2D at 0x18be4ec3590>,\n",
              "  <matplotlib.lines.Line2D at 0x18be4ec0680>],\n",
              " 'boxes': [<matplotlib.lines.Line2D at 0x18be4e8f920>],\n",
              " 'medians': [<matplotlib.lines.Line2D at 0x18be4ec3ce0>],\n",
              " 'fliers': [<matplotlib.lines.Line2D at 0x18be4ec1580>],\n",
              " 'means': []}"
            ]
          },
          "execution_count": 91,
          "metadata": {},
          "output_type": "execute_result"
        },
        {
          "data": {
            "image/png": "[encoded data removed]",
            "text/plain": [
              "<Figure size 640x480 with 1 Axes>"
            ]
          },
          "metadata": {},
          "output_type": "display_data"
        }
      ],
      "source": [
        "plt.boxplot(dados['SALARIO'])"
      ]
    },
    {
      "cell_type": "markdown",
      "metadata": {
        "id": "A62aTUaiUw2u"
      },
      "source": [
        "# Distribuição amostral e intervalo de confiança"
      ]
    },
    {
      "cell_type": "code",
      "execution_count": 92,
      "metadata": {
        "colab": {
          "base_uri": "https://localhost:8080/",
          "height": 458
        },
        "id": "NRtGsL_jU1Pv",
        "outputId": "9bccafa5-f0e0-4fdb-84dd-a5e58f556a79"
      },
      "outputs": [
        {
          "data": {
            "text/plain": [
              "0       11194.0\n",
              "1        4695.0\n",
              "2       14202.0\n",
              "3       15463.0\n",
              "4        7733.0\n",
              "         ...   \n",
              "4266     4329.0\n",
              "4267     3758.0\n",
              "4268    19607.0\n",
              "4269      989.0\n",
              "4270     3079.0\n",
              "Name: SALARIO, Length: 4271, dtype: float64"
            ]
          },
          "execution_count": 92,
          "metadata": {},
          "output_type": "execute_result"
        }
      ],
      "source": [
        "salarios = dados['SALARIO']\n",
        "salarios"
      ]
    },
    {
      "cell_type": "code",
      "execution_count": 93,
      "metadata": {
        "colab": {
          "base_uri": "https://localhost:8080/"
        },
        "id": "tjA9dEMGU5FX",
        "outputId": "29260017-e21a-4932-e041-691528de30b0"
      },
      "outputs": [
        {
          "data": {
            "text/plain": [
              "9904.390109813306"
            ]
          },
          "execution_count": 93,
          "metadata": {},
          "output_type": "execute_result"
        }
      ],
      "source": [
        "media_amostral = np.mean(salarios)\n",
        "media_amostral"
      ]
    },
    {
      "cell_type": "code",
      "execution_count": 94,
      "metadata": {
        "colab": {
          "base_uri": "https://localhost:8080/"
        },
        "id": "Tb6L05dFVEqt",
        "outputId": "4e7dccc8-6020-43d0-8343-7d3b44086003"
      },
      "outputs": [
        {
          "data": {
            "text/plain": [
              "8306.104872579343"
            ]
          },
          "execution_count": 94,
          "metadata": {},
          "output_type": "execute_result"
        }
      ],
      "source": [
        "desvio_amostral = np.std(salarios)\n",
        "desvio_amostral"
      ]
    },
    {
      "cell_type": "code",
      "execution_count": 95,
      "metadata": {
        "id": "u1X1X5QFVKud"
      },
      "outputs": [],
      "source": [
        "nivel_confianca = 0.95"
      ]
    },
    {
      "cell_type": "code",
      "execution_count": 96,
      "metadata": {
        "colab": {
          "base_uri": "https://localhost:8080/"
        },
        "id": "67yFpkcGVfeg",
        "outputId": "c4e05c60-073a-4198-9b57-b0e7bffef2bf"
      },
      "outputs": [
        {
          "data": {
            "text/plain": [
              "4271"
            ]
          },
          "execution_count": 96,
          "metadata": {},
          "output_type": "execute_result"
        }
      ],
      "source": [
        "tamanho_amostra = len(salarios)\n",
        "tamanho_amostra"
      ]
    },
    {
      "cell_type": "code",
      "execution_count": 97,
      "metadata": {
        "id": "RE_kuiJRVmCX"
      },
      "outputs": [],
      "source": [
        "from scipy import stats"
      ]
    },
    {
      "cell_type": "code",
      "execution_count": 98,
      "metadata": {
        "colab": {
          "base_uri": "https://localhost:8080/"
        },
        "id": "pUrKaxQaVzTN",
        "outputId": "2004f396-1b49-4da0-ad30-4bddb2a6fce1"
      },
      "outputs": [
        {
          "data": {
            "text/plain": [
              "127.11109872023638"
            ]
          },
          "execution_count": 98,
          "metadata": {},
          "output_type": "execute_result"
        }
      ],
      "source": [
        "erro_padrao = stats.sem(salarios)\n",
        "erro_padrao"
      ]
    },
    {
      "cell_type": "code",
      "execution_count": 99,
      "metadata": {
        "colab": {
          "base_uri": "https://localhost:8080/"
        },
        "id": "TTh8LRKeV-Um",
        "outputId": "4d32e361-5c18-489e-e886-23ca629c0e83"
      },
      "outputs": [
        {
          "data": {
            "text/plain": [
              "(9655.186295869078, 10153.593923757535)"
            ]
          },
          "execution_count": 99,
          "metadata": {},
          "output_type": "execute_result"
        }
      ],
      "source": [
        "intervalo_confianca = stats.t.interval(nivel_confianca, tamanho_amostra-1, loc=media_amostral, scale=erro_padrao)\n",
        "intervalo_confianca"
      ]
    },
    {
      "cell_type": "markdown",
      "metadata": {
        "id": "QgQfsKz-XTi9"
      },
      "source": [
        "# Feature Engineering"
      ]
    },
    {
      "cell_type": "code",
      "execution_count": 100,
      "metadata": {
        "id": "lE0HOhhBXXTZ"
      },
      "outputs": [],
      "source": [
        "def preencher_nivel(gestor, nivel):\n",
        "  if gestor == 1:\n",
        "    return \"Pessoa Gestora\"\n",
        "  else:\n",
        "    return nivel"
      ]
    },
    {
      "cell_type": "code",
      "execution_count": 101,
      "metadata": {
        "id": "AHrOTxENZUhv"
      },
      "outputs": [],
      "source": [
        "dados['NOVO NIVEL'] = dados.apply(lambda x: preencher_nivel(x['GESTOR?'], x['NIVEL']), axis=1)"
      ]
    },
    {
      "cell_type": "code",
      "execution_count": 102,
      "metadata": {
        "colab": {
          "base_uri": "https://localhost:8080/",
          "height": 241
        },
        "id": "eecCxyJMaSDs",
        "outputId": "b89f552e-93c2-4bb9-9224-44cd2dc961b3"
      },
      "outputs": [
        {
          "data": {
            "text/plain": [
              "NOVO NIVEL\n",
              "Pleno             1060\n",
              "Júnior            1023\n",
              "Sênior             898\n",
              "Pessoa Gestora     713\n",
              "Name: count, dtype: int64"
            ]
          },
          "execution_count": 102,
          "metadata": {},
          "output_type": "execute_result"
        }
      ],
      "source": [
        "dados['NOVO NIVEL'].value_counts()"
      ]
    },
    {
      "cell_type": "code",
      "execution_count": 103,
      "metadata": {
        "colab": {
          "base_uri": "https://localhost:8080/",
          "height": 458
        },
        "id": "siz7I_G6ak6L",
        "outputId": "7699a1af-e637-4667-c64d-06813e926491"
      },
      "outputs": [
        {
          "data": {
            "text/plain": [
              "0       Júnior\n",
              "1          NaN\n",
              "2        Pleno\n",
              "3       Sênior\n",
              "4        Pleno\n",
              "         ...  \n",
              "4266     Pleno\n",
              "4267     Pleno\n",
              "4268       NaN\n",
              "4269    Júnior\n",
              "4270    Júnior\n",
              "Name: NIVEL, Length: 4271, dtype: object"
            ]
          },
          "execution_count": 103,
          "metadata": {},
          "output_type": "execute_result"
        }
      ],
      "source": [
        "dados['NIVEL']"
      ]
    },
    {
      "cell_type": "code",
      "execution_count": 104,
      "metadata": {
        "id": "gTDcAMf2ardY"
      },
      "outputs": [],
      "source": [
        "dados = pd.get_dummies(dados, columns=['NIVEL'])"
      ]
    },
    {
      "cell_type": "code",
      "execution_count": 105,
      "metadata": {
        "colab": {
          "base_uri": "https://localhost:8080/"
        },
        "id": "u_MhRsHFa8TE",
        "outputId": "61a0d75f-d2c0-46fa-9bf3-c00ec652cb38"
      },
      "outputs": [
        {
          "data": {
            "text/plain": [
              "Index(['Unnamed: 0', 'ID', 'IDADE', 'FAIXA IDADE', 'GENERO', 'COR/RACA/ETNIA',\n",
              "       'PCD', 'EXPERIENCIA_PROFISSIONAL_PREJUDICADA', 'ASPECTOS_PREJUDICADOS',\n",
              "       'VIVE_NO_BRASIL', 'ESTADO ONDE MORA', 'UF ONDE MORA',\n",
              "       'REGIAO ONDE MORA', 'MUDOU DE ESTADO?', 'REGIAO DE ORIGEM',\n",
              "       'NIVEL DE ENSINO', 'ÁREA DE FORMAÇÃO',\n",
              "       'QUAL SUA SITUAÇÃO ATUAL DE TRABALHO?', 'SETOR',\n",
              "       'NUMERO DE FUNCIONARIOS', 'GESTOR?', 'CARGO COMO GESTOR', 'CARGO ATUAL',\n",
              "       'FAIXA SALARIAL',\n",
              "       'QUANTO TEMPO DE EXPERIÊNCIA NA ÁREA DE DADOS VOCÊ TEM?',\n",
              "       'QUANTO TEMPO DE EXPERIÊNCIA NA ÁREA DE TI/ENGENHARIA DE SOFTWARE VOCÊ TEVE ANTES DE COMEÇAR A TRABALHAR NA ÁREA DE DADOS?',\n",
              "       'SALARIO', 'NOVO NIVEL', 'NIVEL_Júnior', 'NIVEL_Pleno', 'NIVEL_Sênior'],\n",
              "      dtype='object')"
            ]
          },
          "execution_count": 105,
          "metadata": {},
          "output_type": "execute_result"
        }
      ],
      "source": [
        "dados.columns"
      ]
    },
    {
      "cell_type": "code",
      "execution_count": 106,
      "metadata": {
        "id": "_XRTpef6bMTK"
      },
      "outputs": [],
      "source": [
        "def determinar_geracao(idade):\n",
        "  if 39<idade<=58:\n",
        "    return 'Geração X'\n",
        "  elif 29<idade<=39:\n",
        "    return 'Millenium'\n",
        "  elif 13<idade<=29:\n",
        "    return 'Geração Z'\n",
        "  else:\n",
        "    return 'Outra geração'"
      ]
    },
    {
      "cell_type": "code",
      "execution_count": 107,
      "metadata": {
        "id": "Bc-VlKUJcLtO"
      },
      "outputs": [],
      "source": [
        "dados['GERACAO'] = dados['IDADE'].apply(determinar_geracao)"
      ]
    },
    {
      "cell_type": "code",
      "execution_count": 108,
      "metadata": {
        "colab": {
          "base_uri": "https://localhost:8080/",
          "height": 209
        },
        "id": "uoYLtAg9cfJc",
        "outputId": "3008b88e-82fe-4ff6-e355-5d98113d3f35"
      },
      "outputs": [
        {
          "data": {
            "text/plain": [
              "GERACAO\n",
              "Geração Z    1999\n",
              "Millenium    1761\n",
              "Geração X     511\n",
              "Name: count, dtype: int64"
            ]
          },
          "execution_count": 108,
          "metadata": {},
          "output_type": "execute_result"
        }
      ],
      "source": [
        "dados['GERACAO'].value_counts()"
      ]
    },
    {
      "cell_type": "code",
      "execution_count": 109,
      "metadata": {
        "colab": {
          "base_uri": "https://localhost:8080/",
          "height": 781
        },
        "id": "zJV_UBqGdtxv",
        "outputId": "f4ceafc1-cd40-44b1-f16c-910a4427c091"
      },
      "outputs": [
        {
          "data": {
            "text/html": [
              "<div>\n",
              "<style scoped>\n",
              "    .dataframe tbody tr th:only-of-type {\n",
              "        vertical-align: middle;\n",
              "    }\n",
              "\n",
              "    .dataframe tbody tr th {\n",
              "        vertical-align: top;\n",
              "    }\n",
              "\n",
              "    .dataframe thead th {\n",
              "        text-align: right;\n",
              "    }\n",
              "</style>\n",
              "<table border=\"1\" class=\"dataframe\">\n",
              "  <thead>\n",
              "    <tr style=\"text-align: right;\">\n",
              "      <th></th>\n",
              "      <th>ID</th>\n",
              "      <th>Quanto tempo de experiência na área de dados você tem?</th>\n",
              "      <th>Quanto tempo de experiência na área de TI/Engenharia de Software você teve antes de começar a trabalhar na área de dados?</th>\n",
              "      <th>Você está satisfeito na sua empresa atual?</th>\n",
              "      <th>Qual o principal motivo da sua insatisfação com a empresa atual?</th>\n",
              "      <th>Você participou de entrevistas de emprego nos últimos 6 meses?</th>\n",
              "      <th>Você pretende mudar de emprego nos próximos 6 meses?</th>\n",
              "      <th>Quais os principais critérios que você leva em consideração no momento de decidir onde trabalhar?</th>\n",
              "      <th>Atualmente qual a sua forma de trabalho?</th>\n",
              "      <th>Qual a forma de trabalho ideal para você?</th>\n",
              "      <th>Caso sua empresa decida pelo modelo 100% presencial qual será sua atitude?</th>\n",
              "      <th>Sua empresa passu por Layoff em 2022?</th>\n",
              "      <th>Atuacao</th>\n",
              "      <th>Quais das linguagens listadas abaixo você utiliza no trabalho?</th>\n",
              "    </tr>\n",
              "  </thead>\n",
              "  <tbody>\n",
              "    <tr>\n",
              "      <th>0</th>\n",
              "      <td>zzqzz3l9ily8nuo2m7wyzzqzz3w48o96</td>\n",
              "      <td>de 1 a 2 anos</td>\n",
              "      <td>de 7 a 10 anos</td>\n",
              "      <td>True</td>\n",
              "      <td>NaN</td>\n",
              "      <td>Não participei de entrevistas de emprego/proce...</td>\n",
              "      <td>Não estou buscando e não pretendo mudar de emp...</td>\n",
              "      <td>Benefícios</td>\n",
              "      <td>Modelo 100% presencial</td>\n",
              "      <td>Modelo híbrido com dias fixos de trabalho pres...</td>\n",
              "      <td>Vou aceitar e retornar ao modelo 100% presencial</td>\n",
              "      <td>Não ocorreram layoffs/demissões em massa na em...</td>\n",
              "      <td>Engenharia de Dados</td>\n",
              "      <td>SQL</td>\n",
              "    </tr>\n",
              "    <tr>\n",
              "      <th>1</th>\n",
              "      <td>zzls2oftfn9law393oezzls2ofhvfpzd</td>\n",
              "      <td>de 3 a 4 anos</td>\n",
              "      <td>Menos de 1 ano</td>\n",
              "      <td>False</td>\n",
              "      <td>Falta de oportunidade de crescimento no empreg...</td>\n",
              "      <td>Sim, fiz entrevistas mas não fui aprovado</td>\n",
              "      <td>Estou em busca de oportunidades dentro ou fora...</td>\n",
              "      <td>Remuneração/Salário, Plano de carreira e oport...</td>\n",
              "      <td>Modelo 100% presencial</td>\n",
              "      <td>Modelo híbrido flexível (o funcionário tem lib...</td>\n",
              "      <td>Vou aceitar e retornar ao modelo 100% presencial</td>\n",
              "      <td>Não ocorreram layoffs/demissões em massa na em...</td>\n",
              "      <td>Gestor</td>\n",
              "      <td>NaN</td>\n",
              "    </tr>\n",
              "    <tr>\n",
              "      <th>2</th>\n",
              "      <td>zzdwqzfqqp1ypc7ps6m0hzzdwqz292yi</td>\n",
              "      <td>de 3 a 4 anos</td>\n",
              "      <td>Mais de 10 anos</td>\n",
              "      <td>False</td>\n",
              "      <td>Falta de oportunidade de crescimento no empreg...</td>\n",
              "      <td>Não participei de entrevistas de emprego/proce...</td>\n",
              "      <td>Não estou buscando, mas me considero aberto a ...</td>\n",
              "      <td>Remuneração/Salário, Flexibilidade de trabalho...</td>\n",
              "      <td>Modelo híbrido com dias fixos de trabalho pres...</td>\n",
              "      <td>Modelo híbrido flexível (o funcionário tem lib...</td>\n",
              "      <td>Vou procurar outra oportunidade no modelo híbr...</td>\n",
              "      <td>Não ocorreram layoffs/demissões em massa na em...</td>\n",
              "      <td>desenvolve modelos preditivos e algoritmos de...</td>\n",
              "      <td>1</td>\n",
              "    </tr>\n",
              "    <tr>\n",
              "      <th>3</th>\n",
              "      <td>zzbqh3uy7yk7k9qmkzzbqtb4s9faqspl</td>\n",
              "      <td>de 4 a 6 anos</td>\n",
              "      <td>Não tive experiência na área de TI/Engenharia ...</td>\n",
              "      <td>True</td>\n",
              "      <td>NaN</td>\n",
              "      <td>Sim, fui aprovado e mudei de emprego</td>\n",
              "      <td>Não estou buscando, mas me considero aberto a ...</td>\n",
              "      <td>Remuneração/Salário, Flexibilidade de trabalho...</td>\n",
              "      <td>Modelo híbrido flexível (o funcionário tem lib...</td>\n",
              "      <td>Modelo híbrido flexível (o funcionário tem lib...</td>\n",
              "      <td>Vou procurar outra oportunidade no modelo híbr...</td>\n",
              "      <td>Não ocorreram layoffs/demissões em massa na em...</td>\n",
              "      <td>desenvolve modelos preditivos e algoritmos de...</td>\n",
              "      <td>0</td>\n",
              "    </tr>\n",
              "    <tr>\n",
              "      <th>4</th>\n",
              "      <td>zzaf1m95yan929rb94wzzaf1mekhvhpg</td>\n",
              "      <td>Não tenho experiência na área de dados</td>\n",
              "      <td>Mais de 10 anos</td>\n",
              "      <td>False</td>\n",
              "      <td>Falta de oportunidade de crescimento no empreg...</td>\n",
              "      <td>Não participei de entrevistas de emprego/proce...</td>\n",
              "      <td>Não estou buscando, mas me considero aberto a ...</td>\n",
              "      <td>Remuneração/Salário, Oportunidade de aprendiza...</td>\n",
              "      <td>Modelo 100% presencial</td>\n",
              "      <td>Modelo 100% presencial</td>\n",
              "      <td>Vou aceitar e retornar ao modelo 100% presencial</td>\n",
              "      <td>Não ocorreram layoffs/demissões em massa na em...</td>\n",
              "      <td>Outra atuação</td>\n",
              "      <td>SQL</td>\n",
              "    </tr>\n",
              "  </tbody>\n",
              "</table>\n",
              "</div>"
            ],
            "text/plain": [
              "                                 ID  \\\n",
              "0  zzqzz3l9ily8nuo2m7wyzzqzz3w48o96   \n",
              "1  zzls2oftfn9law393oezzls2ofhvfpzd   \n",
              "2  zzdwqzfqqp1ypc7ps6m0hzzdwqz292yi   \n",
              "3  zzbqh3uy7yk7k9qmkzzbqtb4s9faqspl   \n",
              "4  zzaf1m95yan929rb94wzzaf1mekhvhpg   \n",
              "\n",
              "  Quanto tempo de experiência na área de dados você tem?  \\\n",
              "0                                      de 1 a 2 anos       \n",
              "1                                      de 3 a 4 anos       \n",
              "2                                      de 3 a 4 anos       \n",
              "3                                      de 4 a 6 anos       \n",
              "4             Não tenho experiência na área de dados       \n",
              "\n",
              "  Quanto tempo de experiência na área de TI/Engenharia de Software você teve antes de começar a trabalhar na área de dados?  \\\n",
              "0                                     de 7 a 10 anos                                                                          \n",
              "1                                     Menos de 1 ano                                                                          \n",
              "2                                    Mais de 10 anos                                                                          \n",
              "3  Não tive experiência na área de TI/Engenharia ...                                                                          \n",
              "4                                    Mais de 10 anos                                                                          \n",
              "\n",
              "  Você está satisfeito na sua empresa atual?  \\\n",
              "0                                       True   \n",
              "1                                      False   \n",
              "2                                      False   \n",
              "3                                       True   \n",
              "4                                      False   \n",
              "\n",
              "  Qual o principal motivo da sua insatisfação com a empresa atual?  \\\n",
              "0                                                NaN                 \n",
              "1  Falta de oportunidade de crescimento no empreg...                 \n",
              "2  Falta de oportunidade de crescimento no empreg...                 \n",
              "3                                                NaN                 \n",
              "4  Falta de oportunidade de crescimento no empreg...                 \n",
              "\n",
              "  Você participou de entrevistas de emprego nos últimos 6 meses?  \\\n",
              "0  Não participei de entrevistas de emprego/proce...               \n",
              "1          Sim, fiz entrevistas mas não fui aprovado               \n",
              "2  Não participei de entrevistas de emprego/proce...               \n",
              "3               Sim, fui aprovado e mudei de emprego               \n",
              "4  Não participei de entrevistas de emprego/proce...               \n",
              "\n",
              "  Você pretende mudar de emprego nos próximos 6 meses?  \\\n",
              "0  Não estou buscando e não pretendo mudar de emp...     \n",
              "1  Estou em busca de oportunidades dentro ou fora...     \n",
              "2  Não estou buscando, mas me considero aberto a ...     \n",
              "3  Não estou buscando, mas me considero aberto a ...     \n",
              "4  Não estou buscando, mas me considero aberto a ...     \n",
              "\n",
              "  Quais os principais critérios que você leva em consideração no momento de decidir onde trabalhar?  \\\n",
              "0                                         Benefícios                                                  \n",
              "1  Remuneração/Salário, Plano de carreira e oport...                                                  \n",
              "2  Remuneração/Salário, Flexibilidade de trabalho...                                                  \n",
              "3  Remuneração/Salário, Flexibilidade de trabalho...                                                  \n",
              "4  Remuneração/Salário, Oportunidade de aprendiza...                                                  \n",
              "\n",
              "            Atualmente qual a sua forma de trabalho?  \\\n",
              "0                             Modelo 100% presencial   \n",
              "1                             Modelo 100% presencial   \n",
              "2  Modelo híbrido com dias fixos de trabalho pres...   \n",
              "3  Modelo híbrido flexível (o funcionário tem lib...   \n",
              "4                             Modelo 100% presencial   \n",
              "\n",
              "           Qual a forma de trabalho ideal para você?  \\\n",
              "0  Modelo híbrido com dias fixos de trabalho pres...   \n",
              "1  Modelo híbrido flexível (o funcionário tem lib...   \n",
              "2  Modelo híbrido flexível (o funcionário tem lib...   \n",
              "3  Modelo híbrido flexível (o funcionário tem lib...   \n",
              "4                             Modelo 100% presencial   \n",
              "\n",
              "  Caso sua empresa decida pelo modelo 100% presencial qual será sua atitude?  \\\n",
              "0   Vou aceitar e retornar ao modelo 100% presencial                           \n",
              "1   Vou aceitar e retornar ao modelo 100% presencial                           \n",
              "2  Vou procurar outra oportunidade no modelo híbr...                           \n",
              "3  Vou procurar outra oportunidade no modelo híbr...                           \n",
              "4   Vou aceitar e retornar ao modelo 100% presencial                           \n",
              "\n",
              "               Sua empresa passu por Layoff em 2022?  \\\n",
              "0  Não ocorreram layoffs/demissões em massa na em...   \n",
              "1  Não ocorreram layoffs/demissões em massa na em...   \n",
              "2  Não ocorreram layoffs/demissões em massa na em...   \n",
              "3  Não ocorreram layoffs/demissões em massa na em...   \n",
              "4  Não ocorreram layoffs/demissões em massa na em...   \n",
              "\n",
              "                                             Atuacao  \\\n",
              "0                                Engenharia de Dados   \n",
              "1                                             Gestor   \n",
              "2   desenvolve modelos preditivos e algoritmos de...   \n",
              "3   desenvolve modelos preditivos e algoritmos de...   \n",
              "4                                      Outra atuação   \n",
              "\n",
              "  Quais das linguagens listadas abaixo você utiliza no trabalho?  \n",
              "0                                                SQL              \n",
              "1                                                NaN              \n",
              "2                                                  1              \n",
              "3                                                  0              \n",
              "4                                                SQL              "
            ]
          },
          "execution_count": 109,
          "metadata": {},
          "output_type": "execute_result"
        }
      ],
      "source": [
        "dados2.head()"
      ]
    },
    {
      "cell_type": "code",
      "execution_count": 110,
      "metadata": {
        "id": "HQCxfrqUdxj4"
      },
      "outputs": [],
      "source": [
        "dados = dados.merge(dados2, on='ID', how='left')\n"
      ]
    },
    {
      "cell_type": "code",
      "execution_count": 111,
      "metadata": {
        "colab": {
          "base_uri": "https://localhost:8080/"
        },
        "id": "6FdAkorNeMsi",
        "outputId": "a23e0ab4-6564-41a8-980d-bfd680d4c6b1"
      },
      "outputs": [
        {
          "data": {
            "text/plain": [
              "Index(['Unnamed: 0', 'ID', 'IDADE', 'FAIXA IDADE', 'GENERO', 'COR/RACA/ETNIA',\n",
              "       'PCD', 'EXPERIENCIA_PROFISSIONAL_PREJUDICADA', 'ASPECTOS_PREJUDICADOS',\n",
              "       'VIVE_NO_BRASIL', 'ESTADO ONDE MORA', 'UF ONDE MORA',\n",
              "       'REGIAO ONDE MORA', 'MUDOU DE ESTADO?', 'REGIAO DE ORIGEM',\n",
              "       'NIVEL DE ENSINO', 'ÁREA DE FORMAÇÃO',\n",
              "       'QUAL SUA SITUAÇÃO ATUAL DE TRABALHO?', 'SETOR',\n",
              "       'NUMERO DE FUNCIONARIOS', 'GESTOR?', 'CARGO COMO GESTOR', 'CARGO ATUAL',\n",
              "       'FAIXA SALARIAL',\n",
              "       'QUANTO TEMPO DE EXPERIÊNCIA NA ÁREA DE DADOS VOCÊ TEM?',\n",
              "       'QUANTO TEMPO DE EXPERIÊNCIA NA ÁREA DE TI/ENGENHARIA DE SOFTWARE VOCÊ TEVE ANTES DE COMEÇAR A TRABALHAR NA ÁREA DE DADOS?',\n",
              "       'SALARIO', 'NOVO NIVEL', 'NIVEL_Júnior', 'NIVEL_Pleno', 'NIVEL_Sênior',\n",
              "       'GERACAO', 'Quanto tempo de experiência na área de dados você tem?',\n",
              "       'Quanto tempo de experiência na área de TI/Engenharia de Software você teve antes de começar a trabalhar na área de dados?',\n",
              "       'Você está satisfeito na sua empresa atual?',\n",
              "       'Qual o principal motivo da sua insatisfação com a empresa atual?',\n",
              "       'Você participou de entrevistas de emprego nos últimos 6 meses?',\n",
              "       'Você pretende mudar de emprego nos próximos 6 meses?',\n",
              "       'Quais os principais critérios que você leva em consideração no momento de decidir onde trabalhar?',\n",
              "       'Atualmente qual a sua forma de trabalho?',\n",
              "       'Qual a forma de trabalho ideal para você?',\n",
              "       'Caso sua empresa decida pelo modelo 100% presencial qual será sua atitude?',\n",
              "       'Sua empresa passu por Layoff em 2022?', 'Atuacao',\n",
              "       'Quais das linguagens listadas abaixo você utiliza no trabalho?'],\n",
              "      dtype='object')"
            ]
          },
          "execution_count": 111,
          "metadata": {},
          "output_type": "execute_result"
        }
      ],
      "source": [
        "dados.columns"
      ]
    },
    {
      "cell_type": "code",
      "execution_count": 112,
      "metadata": {
        "colab": {
          "base_uri": "https://localhost:8080/",
          "height": 241
        },
        "id": "mnYSKyl8ecMj",
        "outputId": "9fff42fe-9f57-4c45-a63d-1a2071ba9982"
      },
      "outputs": [
        {
          "data": {
            "text/plain": [
              "Você pretende mudar de emprego nos próximos 6 meses?\n",
              "Não estou buscando, mas me considero aberto a outras oportunidades         1354\n",
              "Estou em busca de oportunidades dentro ou fora do Brasil                   1011\n",
              "Não estou buscando e não pretendo mudar de emprego nos próximos 6 meses     978\n",
              "Estou em busca de oportunidades, mas apenas fora do Brasil                  353\n",
              "Name: count, dtype: int64"
            ]
          },
          "execution_count": 112,
          "metadata": {},
          "output_type": "execute_result"
        }
      ],
      "source": [
        "dados['Você pretende mudar de emprego nos próximos 6 meses?'].value_counts()"
      ]
    },
    {
      "cell_type": "code",
      "execution_count": 113,
      "metadata": {
        "id": "Xeu5RbXwenoX"
      },
      "outputs": [],
      "source": [
        "dados['EM_BUSCA'] = dados['Você pretende mudar de emprego nos próximos 6 meses?'].str.contains('em busca', case=False)"
      ]
    },
    {
      "cell_type": "code",
      "execution_count": 114,
      "metadata": {
        "colab": {
          "base_uri": "https://localhost:8080/",
          "height": 178
        },
        "id": "MildEMMIfNNN",
        "outputId": "7fb2e0eb-c395-4db6-80c5-5228eeb6746b"
      },
      "outputs": [
        {
          "data": {
            "text/plain": [
              "EM_BUSCA\n",
              "False    2332\n",
              "True     1364\n",
              "Name: count, dtype: int64"
            ]
          },
          "execution_count": 114,
          "metadata": {},
          "output_type": "execute_result"
        }
      ],
      "source": [
        "dados['EM_BUSCA'].value_counts()"
      ]
    },
    {
      "cell_type": "code",
      "execution_count": 115,
      "metadata": {
        "id": "9EPCnP3QfRha"
      },
      "outputs": [],
      "source": [
        "dados['ABERTO_OPORTUNIDADES'] = dados['Você pretende mudar de emprego nos próximos 6 meses?'].str.contains('aberto', case=False)"
      ]
    },
    {
      "cell_type": "code",
      "execution_count": 116,
      "metadata": {
        "colab": {
          "base_uri": "https://localhost:8080/",
          "height": 178
        },
        "id": "CzYDq_NafoLF",
        "outputId": "8941ef6a-f651-4efa-d3e5-ae5874657dbb"
      },
      "outputs": [
        {
          "data": {
            "text/plain": [
              "ABERTO_OPORTUNIDADES\n",
              "False    2342\n",
              "True     1354\n",
              "Name: count, dtype: int64"
            ]
          },
          "execution_count": 116,
          "metadata": {},
          "output_type": "execute_result"
        }
      ],
      "source": [
        "dados['ABERTO_OPORTUNIDADES'].value_counts()"
      ]
    },
    {
      "cell_type": "code",
      "execution_count": 117,
      "metadata": {
        "colab": {
          "base_uri": "https://localhost:8080/",
          "height": 335
        },
        "id": "RuHs2qIkfrnY",
        "outputId": "7331254a-9c57-415f-d0f9-1ff53fb2a467"
      },
      "outputs": [
        {
          "data": {
            "text/plain": [
              "COR/RACA/ETNIA\n",
              "Branca                  2746\n",
              "Parda                   1054\n",
              "Preta                    291\n",
              "Amarela                  128\n",
              "Prefiro não informar      26\n",
              "Outra                     17\n",
              "Indígena                  11\n",
              "Name: count, dtype: int64"
            ]
          },
          "execution_count": 117,
          "metadata": {},
          "output_type": "execute_result"
        }
      ],
      "source": [
        "dados['COR/RACA/ETNIA'].value_counts()"
      ]
    },
    {
      "cell_type": "markdown",
      "metadata": {
        "id": "q08Yw0jnhRWO"
      },
      "source": [
        "### Faça Você Mesme | Featuring engineerring"
      ]
    },
    {
      "cell_type": "code",
      "execution_count": 118,
      "metadata": {
        "id": "w1Sn18ashSRv"
      },
      "outputs": [],
      "source": [
        "def determinar_etnia(etnia):\n",
        "  if etnia == 'Branca':\n",
        "    return 'Branca'\n",
        "  elif etnia == 'Parda' or etnia == 'Preta' or etnia == 'Amarela' or etnia == 'Indígena':\n",
        "    return 'Não Branca'\n",
        "  elif etnia == 'Prefiro não informar':\n",
        "      return 'Prefiro não informar'\n",
        "  else:\n",
        "    return 'Outra etnia'"
      ]
    },
    {
      "cell_type": "code",
      "execution_count": 119,
      "metadata": {
        "id": "g_PH_5Vqh4to"
      },
      "outputs": [],
      "source": [
        "dados['ETNIA'] = dados['COR/RACA/ETNIA'].apply(determinar_etnia)"
      ]
    },
    {
      "cell_type": "code",
      "execution_count": 120,
      "metadata": {
        "colab": {
          "base_uri": "https://localhost:8080/",
          "height": 241
        },
        "id": "_O4l4uCKiIMp",
        "outputId": "28d70201-7795-4e5a-f062-33881778c2d1"
      },
      "outputs": [
        {
          "data": {
            "text/plain": [
              "ETNIA\n",
              "Branca                  2746\n",
              "Não Branca              1484\n",
              "Prefiro não informar      26\n",
              "Outra etnia               17\n",
              "Name: count, dtype: int64"
            ]
          },
          "execution_count": 120,
          "metadata": {},
          "output_type": "execute_result"
        }
      ],
      "source": [
        "dados['ETNIA'].value_counts()"
      ]
    },
    {
      "cell_type": "markdown",
      "metadata": {
        "id": "laxvkqzVizt0"
      },
      "source": [
        "# Correlação"
      ]
    },
    {
      "cell_type": "code",
      "execution_count": 121,
      "metadata": {
        "id": "WUc9cXnBk40z"
      },
      "outputs": [],
      "source": [
        "def cramer_coeficiente(coluna1, coluna2):\n",
        "  tabela_cruzada = np.array(pd.crosstab(coluna1, coluna2))\n",
        "  chi2 = chi2_contingency(tabela_cruzada)[0]\n",
        "  soma = np.sum(tabela_cruzada)\n",
        "  mini = min(tabela_cruzada.shape)-1\n",
        "  cramer = np.sqrt(chi2/(soma*mini))\n",
        "  return cramer"
      ]
    },
    {
      "cell_type": "code",
      "execution_count": 122,
      "metadata": {
        "colab": {
          "base_uri": "https://localhost:8080/"
        },
        "id": "pCPQnrr_oOY6",
        "outputId": "4b5586d9-d8c5-4cd4-9e4b-caccf5cfc2f3"
      },
      "outputs": [
        {
          "data": {
            "text/plain": [
              "0.04499106580480143"
            ]
          },
          "execution_count": 122,
          "metadata": {},
          "output_type": "execute_result"
        }
      ],
      "source": [
        "cramer_coeficiente(dados['COR/RACA/ETNIA'], dados['NIVEL DE ENSINO'])"
      ]
    },
    {
      "cell_type": "code",
      "execution_count": 123,
      "metadata": {
        "colab": {
          "base_uri": "https://localhost:8080/"
        },
        "id": "AukIlPrkjIan",
        "outputId": "d97af12d-b51d-4285-9790-5d3194732259"
      },
      "outputs": [
        {
          "data": {
            "text/plain": [
              "0.29024419686221"
            ]
          },
          "execution_count": 123,
          "metadata": {},
          "output_type": "execute_result"
        }
      ],
      "source": [
        "correlacao_continua = dados['IDADE'].corr(dados['SALARIO'])\n",
        "correlacao_continua"
      ]
    },
    {
      "cell_type": "code",
      "execution_count": 124,
      "metadata": {
        "colab": {
          "base_uri": "https://localhost:8080/"
        },
        "id": "YxCu5njlmNfK",
        "outputId": "77843187-da81-410a-ae88-a3dfb883d181"
      },
      "outputs": [
        {
          "data": {
            "text/plain": [
              "Index(['Unnamed: 0', 'ID', 'IDADE', 'FAIXA IDADE', 'GENERO', 'COR/RACA/ETNIA',\n",
              "       'PCD', 'EXPERIENCIA_PROFISSIONAL_PREJUDICADA', 'ASPECTOS_PREJUDICADOS',\n",
              "       'VIVE_NO_BRASIL', 'ESTADO ONDE MORA', 'UF ONDE MORA',\n",
              "       'REGIAO ONDE MORA', 'MUDOU DE ESTADO?', 'REGIAO DE ORIGEM',\n",
              "       'NIVEL DE ENSINO', 'ÁREA DE FORMAÇÃO',\n",
              "       'QUAL SUA SITUAÇÃO ATUAL DE TRABALHO?', 'SETOR',\n",
              "       'NUMERO DE FUNCIONARIOS', 'GESTOR?', 'CARGO COMO GESTOR', 'CARGO ATUAL',\n",
              "       'FAIXA SALARIAL',\n",
              "       'QUANTO TEMPO DE EXPERIÊNCIA NA ÁREA DE DADOS VOCÊ TEM?',\n",
              "       'QUANTO TEMPO DE EXPERIÊNCIA NA ÁREA DE TI/ENGENHARIA DE SOFTWARE VOCÊ TEVE ANTES DE COMEÇAR A TRABALHAR NA ÁREA DE DADOS?',\n",
              "       'SALARIO', 'NOVO NIVEL', 'NIVEL_Júnior', 'NIVEL_Pleno', 'NIVEL_Sênior',\n",
              "       'GERACAO', 'Quanto tempo de experiência na área de dados você tem?',\n",
              "       'Quanto tempo de experiência na área de TI/Engenharia de Software você teve antes de começar a trabalhar na área de dados?',\n",
              "       'Você está satisfeito na sua empresa atual?',\n",
              "       'Qual o principal motivo da sua insatisfação com a empresa atual?',\n",
              "       'Você participou de entrevistas de emprego nos últimos 6 meses?',\n",
              "       'Você pretende mudar de emprego nos próximos 6 meses?',\n",
              "       'Quais os principais critérios que você leva em consideração no momento de decidir onde trabalhar?',\n",
              "       'Atualmente qual a sua forma de trabalho?',\n",
              "       'Qual a forma de trabalho ideal para você?',\n",
              "       'Caso sua empresa decida pelo modelo 100% presencial qual será sua atitude?',\n",
              "       'Sua empresa passu por Layoff em 2022?', 'Atuacao',\n",
              "       'Quais das linguagens listadas abaixo você utiliza no trabalho?',\n",
              "       'EM_BUSCA', 'ABERTO_OPORTUNIDADES', 'ETNIA'],\n",
              "      dtype='object')"
            ]
          },
          "execution_count": 124,
          "metadata": {},
          "output_type": "execute_result"
        }
      ],
      "source": [
        "dados.columns"
      ]
    },
    {
      "cell_type": "code",
      "execution_count": 125,
      "metadata": {
        "colab": {
          "base_uri": "https://localhost:8080/",
          "height": 372
        },
        "id": "pTggipOcmOqA",
        "outputId": "de98c48f-85f4-47bf-99e8-1279cb678ba6"
      },
      "outputs": [
        {
          "data": {
            "text/html": [
              "<div>\n",
              "<style scoped>\n",
              "    .dataframe tbody tr th:only-of-type {\n",
              "        vertical-align: middle;\n",
              "    }\n",
              "\n",
              "    .dataframe tbody tr th {\n",
              "        vertical-align: top;\n",
              "    }\n",
              "\n",
              "    .dataframe thead th {\n",
              "        text-align: right;\n",
              "    }\n",
              "</style>\n",
              "<table border=\"1\" class=\"dataframe\">\n",
              "  <thead>\n",
              "    <tr style=\"text-align: right;\">\n",
              "      <th>NIVEL DE ENSINO</th>\n",
              "      <th>Doutorado ou Phd</th>\n",
              "      <th>Estudante de Graduação</th>\n",
              "      <th>Graduação/Bacharelado</th>\n",
              "      <th>Mestrado</th>\n",
              "      <th>Não tenho graduação formal</th>\n",
              "      <th>Prefiro não informar</th>\n",
              "      <th>Pós-graduação</th>\n",
              "    </tr>\n",
              "    <tr>\n",
              "      <th>COR/RACA/ETNIA</th>\n",
              "      <th></th>\n",
              "      <th></th>\n",
              "      <th></th>\n",
              "      <th></th>\n",
              "      <th></th>\n",
              "      <th></th>\n",
              "      <th></th>\n",
              "    </tr>\n",
              "  </thead>\n",
              "  <tbody>\n",
              "    <tr>\n",
              "      <th>Amarela</th>\n",
              "      <td>7</td>\n",
              "      <td>15</td>\n",
              "      <td>50</td>\n",
              "      <td>14</td>\n",
              "      <td>2</td>\n",
              "      <td>0</td>\n",
              "      <td>40</td>\n",
              "    </tr>\n",
              "    <tr>\n",
              "      <th>Branca</th>\n",
              "      <td>127</td>\n",
              "      <td>365</td>\n",
              "      <td>999</td>\n",
              "      <td>355</td>\n",
              "      <td>65</td>\n",
              "      <td>8</td>\n",
              "      <td>827</td>\n",
              "    </tr>\n",
              "    <tr>\n",
              "      <th>Indígena</th>\n",
              "      <td>0</td>\n",
              "      <td>2</td>\n",
              "      <td>4</td>\n",
              "      <td>2</td>\n",
              "      <td>0</td>\n",
              "      <td>0</td>\n",
              "      <td>3</td>\n",
              "    </tr>\n",
              "    <tr>\n",
              "      <th>Outra</th>\n",
              "      <td>0</td>\n",
              "      <td>0</td>\n",
              "      <td>6</td>\n",
              "      <td>3</td>\n",
              "      <td>1</td>\n",
              "      <td>0</td>\n",
              "      <td>7</td>\n",
              "    </tr>\n",
              "    <tr>\n",
              "      <th>Parda</th>\n",
              "      <td>50</td>\n",
              "      <td>178</td>\n",
              "      <td>333</td>\n",
              "      <td>113</td>\n",
              "      <td>33</td>\n",
              "      <td>3</td>\n",
              "      <td>344</td>\n",
              "    </tr>\n",
              "    <tr>\n",
              "      <th>Prefiro não informar</th>\n",
              "      <td>1</td>\n",
              "      <td>2</td>\n",
              "      <td>14</td>\n",
              "      <td>1</td>\n",
              "      <td>0</td>\n",
              "      <td>1</td>\n",
              "      <td>7</td>\n",
              "    </tr>\n",
              "    <tr>\n",
              "      <th>Preta</th>\n",
              "      <td>6</td>\n",
              "      <td>51</td>\n",
              "      <td>104</td>\n",
              "      <td>33</td>\n",
              "      <td>9</td>\n",
              "      <td>0</td>\n",
              "      <td>88</td>\n",
              "    </tr>\n",
              "  </tbody>\n",
              "</table>\n",
              "</div>"
            ],
            "text/plain": [
              "NIVEL DE ENSINO       Doutorado ou Phd  Estudante de Graduação  \\\n",
              "COR/RACA/ETNIA                                                   \n",
              "Amarela                              7                      15   \n",
              "Branca                             127                     365   \n",
              "Indígena                             0                       2   \n",
              "Outra                                0                       0   \n",
              "Parda                               50                     178   \n",
              "Prefiro não informar                 1                       2   \n",
              "Preta                                6                      51   \n",
              "\n",
              "NIVEL DE ENSINO       Graduação/Bacharelado  Mestrado  \\\n",
              "COR/RACA/ETNIA                                          \n",
              "Amarela                                  50        14   \n",
              "Branca                                  999       355   \n",
              "Indígena                                  4         2   \n",
              "Outra                                     6         3   \n",
              "Parda                                   333       113   \n",
              "Prefiro não informar                     14         1   \n",
              "Preta                                   104        33   \n",
              "\n",
              "NIVEL DE ENSINO       Não tenho graduação formal  Prefiro não informar  \\\n",
              "COR/RACA/ETNIA                                                           \n",
              "Amarela                                        2                     0   \n",
              "Branca                                        65                     8   \n",
              "Indígena                                       0                     0   \n",
              "Outra                                          1                     0   \n",
              "Parda                                         33                     3   \n",
              "Prefiro não informar                           0                     1   \n",
              "Preta                                          9                     0   \n",
              "\n",
              "NIVEL DE ENSINO       Pós-graduação  \n",
              "COR/RACA/ETNIA                       \n",
              "Amarela                          40  \n",
              "Branca                          827  \n",
              "Indígena                          3  \n",
              "Outra                             7  \n",
              "Parda                           344  \n",
              "Prefiro não informar              7  \n",
              "Preta                            88  "
            ]
          },
          "execution_count": 125,
          "metadata": {},
          "output_type": "execute_result"
        }
      ],
      "source": [
        "tabela_cruzada = pd.crosstab(dados['COR/RACA/ETNIA'], dados['NIVEL DE ENSINO'])\n",
        "tabela_cruzada"
      ]
    },
    {
      "cell_type": "code",
      "execution_count": 126,
      "metadata": {
        "colab": {
          "base_uri": "https://localhost:8080/"
        },
        "id": "LGx6Oc2CmZji",
        "outputId": "a4811b33-6d71-4e1a-c242-c43a4d961a2a"
      },
      "outputs": [
        {
          "data": {
            "text/plain": [
              "array([[  7,  15,  50,  14,   2,   0,  40],\n",
              "       [127, 365, 999, 355,  65,   8, 827],\n",
              "       [  0,   2,   4,   2,   0,   0,   3],\n",
              "       [  0,   0,   6,   3,   1,   0,   7],\n",
              "       [ 50, 178, 333, 113,  33,   3, 344],\n",
              "       [  1,   2,  14,   1,   0,   1,   7],\n",
              "       [  6,  51, 104,  33,   9,   0,  88]], dtype=int64)"
            ]
          },
          "execution_count": 126,
          "metadata": {},
          "output_type": "execute_result"
        }
      ],
      "source": [
        "np.array(tabela_cruzada)"
      ]
    },
    {
      "cell_type": "markdown",
      "metadata": {
        "id": "2df0TUoTo8Lu"
      },
      "source": [
        "### Faça Você Mesme | Correlação ✅"
      ]
    },
    {
      "cell_type": "code",
      "execution_count": 127,
      "metadata": {
        "colab": {
          "base_uri": "https://localhost:8080/"
        },
        "id": "f2OkjFujmkBH",
        "outputId": "79209245-d2ad-4723-dfec-1f27e327d13f"
      },
      "outputs": [
        {
          "data": {
            "text/plain": [
              "0.8619267966101987"
            ]
          },
          "execution_count": 127,
          "metadata": {},
          "output_type": "execute_result"
        }
      ],
      "source": [
        "cramer_coeficiente(dados['IDADE'], dados['SALARIO'])"
      ]
    },
    {
      "cell_type": "code",
      "execution_count": 128,
      "metadata": {
        "colab": {
          "base_uri": "https://localhost:8080/"
        },
        "id": "Q5CXWrR0o4An",
        "outputId": "ed65f180-d336-4e82-b376-cceda3d44f75"
      },
      "outputs": [
        {
          "data": {
            "text/plain": [
              "0.076119232802818"
            ]
          },
          "execution_count": 128,
          "metadata": {},
          "output_type": "execute_result"
        }
      ],
      "source": [
        "cramer_coeficiente(dados['GENERO'], dados['NIVEL DE ENSINO'])"
      ]
    },
    {
      "cell_type": "markdown",
      "metadata": {},
      "source": [
        "#### Salvando base processada"
      ]
    },
    {
      "cell_type": "code",
      "execution_count": null,
      "metadata": {},
      "outputs": [],
      "source": [
        "# dados.to_csv('../data/processed/analise_dados.csv', index=False)"
      ]
    }
  ],
  "metadata": {
    "colab": {
      "collapsed_sections": [
        "6gja91DnqVM5",
        "bVQ0Ws-1vHwO",
        "jY00cJO5AXua",
        "A62aTUaiUw2u",
        "QgQfsKz-XTi9",
        "laxvkqzVizt0"
      ],
      "provenance": []
    },
    "kernelspec": {
      "display_name": "base",
      "language": "python",
      "name": "python3"
    },
    "language_info": {
      "codemirror_mode": {
        "name": "ipython",
        "version": 3
      },
      "file_extension": ".py",
      "mimetype": "text/x-python",
      "name": "python",
      "nbconvert_exporter": "python",
      "pygments_lexer": "ipython3",
      "version": "3.12.7"
    }
  },
  "nbformat": 4,
  "nbformat_minor": 0
}
