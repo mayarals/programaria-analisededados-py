{
 "cells": [
  {
   "cell_type": "code",
   "execution_count": 1,
   "id": "d2a99345",
   "metadata": {},
   "outputs": [],
   "source": [
    "import pandas as pd"
   ]
  },
  {
   "cell_type": "code",
   "execution_count": 3,
   "id": "60e822a0",
   "metadata": {},
   "outputs": [],
   "source": [
    "dados = pd.read_excel('../data/raw/analise_dados_mod7_(1).xlsx')"
   ]
  },
  {
   "cell_type": "code",
   "execution_count": 4,
   "id": "ed0d65ec",
   "metadata": {},
   "outputs": [
    {
     "data": {
      "text/plain": [
       "Index(['ID', 'IDADE', 'FAIXA IDADE', 'GENERO', 'COR/RACA/ETNIA', 'PCD',\n",
       "       'EXPERIENCIA_PROFISSIONAL_PREJUDICADA', 'ASPECTOS_PREJUDICADOS',\n",
       "       'VIVE_NO_BRASIL', 'ESTADO ONDE MORA', 'UF ONDE MORA',\n",
       "       'REGIAO ONDE MORA', 'MUDOU DE ESTADO?', 'REGIAO DE ORIGEM',\n",
       "       'NIVEL DE ENSINO', 'ÁREA DE FORMAÇÃO',\n",
       "       'QUAL SUA SITUAÇÃO ATUAL DE TRABALHO?', 'SETOR',\n",
       "       'NUMERO DE FUNCIONARIOS', 'GESTOR?', 'CARGO COMO GESTOR', 'CARGO ATUAL',\n",
       "       'FAIXA SALARIAL',\n",
       "       'QUANTO TEMPO DE EXPERIÊNCIA NA ÁREA DE DADOS VOCÊ TEM?',\n",
       "       'QUANTO TEMPO DE EXPERIÊNCIA NA ÁREA DE TI/ENGENHARIA DE SOFTWARE VOCÊ TEVE ANTES DE COMEÇAR A TRABALHAR NA ÁREA DE DADOS?',\n",
       "       'SALARIO', 'NOVO_NIVEL', 'NIVEL_Júnior', 'NIVEL_Pleno', 'NIVEL_Sênior',\n",
       "       'GEARACAO', 'Quanto tempo de experiência na área de dados você tem?',\n",
       "       'Quanto tempo de experiência na área de TI/Engenharia de Software você teve antes de começar a trabalhar na área de dados?',\n",
       "       'Você está satisfeito na sua empresa atual?',\n",
       "       'Qual o principal motivo da sua insatisfação com a empresa atual?',\n",
       "       'Você participou de entrevistas de emprego nos últimos 6 meses?',\n",
       "       'Você pretende mudar de emprego nos próximos 6 meses?',\n",
       "       'Quais os principais critérios que você leva em consideração no momento de decidir onde trabalhar?',\n",
       "       'Atualmente qual a sua forma de trabalho?',\n",
       "       'Qual a forma de trabalho ideal para você?',\n",
       "       'Caso sua empresa decida pelo modelo 100% presencial qual será sua atitude?',\n",
       "       'Sua empresa passu por Layoff em 2022?', 'Atuacao',\n",
       "       'Quais das linguagens listadas abaixo você utiliza no trabalho?',\n",
       "       'EM_BUSCA', 'ABERTO_OPORTUNIDADES'],\n",
       "      dtype='object')"
      ]
     },
     "execution_count": 4,
     "metadata": {},
     "output_type": "execute_result"
    }
   ],
   "source": [
    "dados.columns"
   ]
  },
  {
   "cell_type": "code",
   "execution_count": 6,
   "id": "dfd79e68",
   "metadata": {},
   "outputs": [
    {
     "data": {
      "text/plain": [
       "QUAL SUA SITUAÇÃO ATUAL DE TRABALHO?\n",
       "Empregado (CLT)                                                    2762\n",
       "Empreendedor ou Empregado (CNPJ)                                    410\n",
       "Desempregado, buscando recolocação                                  350\n",
       "Estagiário                                                          188\n",
       "Servidor Público                                                    156\n",
       "Trabalho na área Acadêmica/Pesquisador                               86\n",
       "Somente Estudante (graduação)                                        82\n",
       "Vivo no Brasil e trabalho remoto para empresa de fora do Brasil      69\n",
       "Vivo fora do Brasil e trabalho para empresa de fora do Brasil        46\n",
       "Somente Estudante (pós-graduação)                                    44\n",
       "Freelancer                                                           39\n",
       "Prefiro não informar                                                 24\n",
       "Desempregado e não estou buscando recolocação                        15\n",
       "Name: count, dtype: int64"
      ]
     },
     "execution_count": 6,
     "metadata": {},
     "output_type": "execute_result"
    }
   ],
   "source": [
    "dados['QUAL SUA SITUAÇÃO ATUAL DE TRABALHO?'].value_counts()"
   ]
  },
  {
   "cell_type": "code",
   "execution_count": 7,
   "id": "ea0efca3",
   "metadata": {},
   "outputs": [],
   "source": [
    "dados = dados[dados['QUAL SUA SITUAÇÃO ATUAL DE TRABALHO?']=='Empregado (CLT)']"
   ]
  },
  {
   "cell_type": "code",
   "execution_count": 9,
   "id": "729277bb",
   "metadata": {},
   "outputs": [
    {
     "data": {
      "text/plain": [
       "QUAL SUA SITUAÇÃO ATUAL DE TRABALHO?\n",
       "Empregado (CLT)    2762\n",
       "Name: count, dtype: int64"
      ]
     },
     "execution_count": 9,
     "metadata": {},
     "output_type": "execute_result"
    }
   ],
   "source": [
    "dados['QUAL SUA SITUAÇÃO ATUAL DE TRABALHO?'].value_counts()"
   ]
  },
  {
   "cell_type": "code",
   "execution_count": 10,
   "id": "5503b6e0",
   "metadata": {},
   "outputs": [
    {
     "data": {
      "text/plain": [
       "COR/RACA/ETNIA\n",
       "Branca                  1805\n",
       "Parda                    661\n",
       "Preta                    181\n",
       "Amarela                   85\n",
       "Prefiro não informar      16\n",
       "Outra                     10\n",
       "Indígena                   4\n",
       "Name: count, dtype: int64"
      ]
     },
     "execution_count": 10,
     "metadata": {},
     "output_type": "execute_result"
    }
   ],
   "source": [
    "dados['COR/RACA/ETNIA'].value_counts()"
   ]
  },
  {
   "cell_type": "code",
   "execution_count": 11,
   "id": "60a79870",
   "metadata": {},
   "outputs": [],
   "source": [
    "lista_retirar = ['Prefiro não informar', 'Outra', 'Indígena']"
   ]
  },
  {
   "cell_type": "code",
   "execution_count": 15,
   "id": "286f6082",
   "metadata": {},
   "outputs": [],
   "source": [
    "dados = dados[~dados['COR/RACA/ETNIA'].isin(lista_retirar)]"
   ]
  },
  {
   "cell_type": "code",
   "execution_count": 17,
   "id": "60130d44",
   "metadata": {},
   "outputs": [],
   "source": [
    "dados['NÃO BRANCA'] = dados['COR/RACA/ETNIA'].apply(lambda x: 1 if x!= 'Branca' else 0)"
   ]
  },
  {
   "cell_type": "code",
   "execution_count": 18,
   "id": "241675d8",
   "metadata": {},
   "outputs": [
    {
     "data": {
      "text/plain": [
       "QUANTO TEMPO DE EXPERIÊNCIA NA ÁREA DE DADOS VOCÊ TEM?\n",
       "de 1 a 2 anos                             743\n",
       "de 3 a 4 anos                             584\n",
       "de 4 a 6 anos                             416\n",
       "Menos de 1 ano                            353\n",
       "Mais de 10 anos                           277\n",
       "de 7 a 10 anos                            232\n",
       "Não tenho experiência na área de dados    127\n",
       "Name: count, dtype: int64"
      ]
     },
     "execution_count": 18,
     "metadata": {},
     "output_type": "execute_result"
    }
   ],
   "source": [
    "dados['QUANTO TEMPO DE EXPERIÊNCIA NA ÁREA DE DADOS VOCÊ TEM?'].value_counts()"
   ]
  },
  {
   "cell_type": "code",
   "execution_count": 20,
   "id": "b7c7ce56",
   "metadata": {},
   "outputs": [],
   "source": [
    "dados['TEMPO EXPERIENCIA'] = dados['QUANTO TEMPO DE EXPERIÊNCIA NA ÁREA DE DADOS VOCÊ TEM?'].str.extract(r'(\\d+)')"
   ]
  },
  {
   "cell_type": "code",
   "execution_count": 21,
   "id": "e2ea9bc2",
   "metadata": {},
   "outputs": [
    {
     "data": {
      "text/plain": [
       "TEMPO EXPERIENCIA\n",
       "1     1096\n",
       "3      584\n",
       "4      416\n",
       "10     277\n",
       "7      232\n",
       "Name: count, dtype: int64"
      ]
     },
     "execution_count": 21,
     "metadata": {},
     "output_type": "execute_result"
    }
   ],
   "source": [
    "dados['TEMPO EXPERIENCIA'].value_counts()"
   ]
  },
  {
   "cell_type": "code",
   "execution_count": 22,
   "id": "2e7340ef",
   "metadata": {},
   "outputs": [
    {
     "data": {
      "text/plain": [
       "NUMERO DE FUNCIONARIOS\n",
       "Acima de 3.000      1313\n",
       "de 101 a 500         503\n",
       "de 1.001 a 3.000     368\n",
       "de 501 a 1.000       248\n",
       "de 51 a 100          146\n",
       "de 11 a 50           112\n",
       "de 6 a 10             24\n",
       "de 1 a 5              18\n",
       "Name: count, dtype: int64"
      ]
     },
     "execution_count": 22,
     "metadata": {},
     "output_type": "execute_result"
    }
   ],
   "source": [
    "dados['NUMERO DE FUNCIONARIOS'].value_counts()"
   ]
  },
  {
   "cell_type": "code",
   "execution_count": 23,
   "id": "4a132e99",
   "metadata": {},
   "outputs": [],
   "source": [
    "dados['NUMERO DE FUNCIONARIOS'] = dados['NUMERO DE FUNCIONARIOS'].str.replace('.', '')"
   ]
  },
  {
   "cell_type": "code",
   "execution_count": 24,
   "id": "aebb2f34",
   "metadata": {},
   "outputs": [
    {
     "data": {
      "text/plain": [
       "NUMERO DE FUNCIONARIOS\n",
       "Acima de 3000     1313\n",
       "de 101 a 500       503\n",
       "de 1001 a 3000     368\n",
       "de 501 a 1000      248\n",
       "de 51 a 100        146\n",
       "de 11 a 50         112\n",
       "de 6 a 10           24\n",
       "de 1 a 5            18\n",
       "Name: count, dtype: int64"
      ]
     },
     "execution_count": 24,
     "metadata": {},
     "output_type": "execute_result"
    }
   ],
   "source": [
    "dados['NUMERO DE FUNCIONARIOS'].value_counts()"
   ]
  },
  {
   "cell_type": "code",
   "execution_count": 25,
   "id": "06a71ed3",
   "metadata": {},
   "outputs": [],
   "source": [
    "dados['NUMERO DE FUNCIONARIOS'] = dados['NUMERO DE FUNCIONARIOS'].str.extract(r'(\\d+)')"
   ]
  },
  {
   "cell_type": "code",
   "execution_count": 27,
   "id": "e6be0cc5",
   "metadata": {},
   "outputs": [
    {
     "data": {
      "text/plain": [
       "NUMERO DE FUNCIONARIOS\n",
       "3000    1313\n",
       "101      503\n",
       "1001     368\n",
       "501      248\n",
       "51       146\n",
       "11       112\n",
       "6         24\n",
       "1         18\n",
       "Name: count, dtype: int64"
      ]
     },
     "execution_count": 27,
     "metadata": {},
     "output_type": "execute_result"
    }
   ],
   "source": [
    "dados['NUMERO DE FUNCIONARIOS'].value_counts(dropna=False)"
   ]
  },
  {
   "cell_type": "code",
   "execution_count": 28,
   "id": "a289a9e4",
   "metadata": {},
   "outputs": [
    {
     "data": {
      "text/plain": [
       "TEMPO EXPERIENCIA\n",
       "1      1096\n",
       "3       584\n",
       "4       416\n",
       "10      277\n",
       "7       232\n",
       "NaN     127\n",
       "Name: count, dtype: int64"
      ]
     },
     "execution_count": 28,
     "metadata": {},
     "output_type": "execute_result"
    }
   ],
   "source": [
    "dados['TEMPO EXPERIENCIA'].value_counts(dropna=False)"
   ]
  },
  {
   "cell_type": "code",
   "execution_count": 29,
   "id": "880193c4",
   "metadata": {},
   "outputs": [],
   "source": [
    "dados['TEMPO EXPERIENCIA'] = dados['TEMPO EXPERIENCIA'].fillna(0)"
   ]
  },
  {
   "cell_type": "code",
   "execution_count": 30,
   "id": "e5460d83",
   "metadata": {},
   "outputs": [
    {
     "data": {
      "text/plain": [
       "TEMPO EXPERIENCIA\n",
       "1     1096\n",
       "3      584\n",
       "4      416\n",
       "10     277\n",
       "7      232\n",
       "0      127\n",
       "Name: count, dtype: int64"
      ]
     },
     "execution_count": 30,
     "metadata": {},
     "output_type": "execute_result"
    }
   ],
   "source": [
    "dados['TEMPO EXPERIENCIA'].value_counts()"
   ]
  },
  {
   "cell_type": "code",
   "execution_count": 32,
   "id": "8d2cd428",
   "metadata": {},
   "outputs": [
    {
     "data": {
      "text/plain": [
       "Qual o principal motivo da sua insatisfação com a empresa atual?\n",
       "Gostaria de trabalhar em em outra área de atuação                                                                                                           69\n",
       "Salário atual não corresponde ao mercado                                                                                                                    53\n",
       "Falta de oportunidade de crescimento no emprego atual                                                                                                       46\n",
       "Falta de maturidade analítica na empresa                                                                                                                    45\n",
       "Falta de oportunidade de crescimento no emprego atual, Salário atual não corresponde ao mercado, Falta de maturidade analítica na empresa                   26\n",
       "                                                                                                                                                            ..\n",
       "Trabalho explora pouco minhas habilidades e me dá poucas oportunidades de atuação distintas                                                                  1\n",
       "Quero trabalhar de casa                                                                                                                                      1\n",
       "Não tenho uma boa relação com meu líder/gestor, Gostaria de trabalhar em em outra área de atuação                                                            1\n",
       "Salário atual não corresponde ao mercado, Gostaria de trabalhar em em outra área de atuação, Carga horária de trabalho                                       1\n",
       "Não tenho uma boa relação com meu líder/gestor, Falta de oportunidade de crescimento no emprego atual, Gostaria de trabalhar em em outra área de atuação     1\n",
       "Name: count, Length: 174, dtype: int64"
      ]
     },
     "execution_count": 32,
     "metadata": {},
     "output_type": "execute_result"
    }
   ],
   "source": [
    "dados['Qual o principal motivo da sua insatisfação com a empresa atual?'].value_counts()"
   ]
  },
  {
   "cell_type": "code",
   "execution_count": 33,
   "id": "7465c643",
   "metadata": {},
   "outputs": [],
   "source": [
    "dados['INSATISFACAO'] = 0"
   ]
  },
  {
   "cell_type": "code",
   "execution_count": 35,
   "id": "9e627216",
   "metadata": {},
   "outputs": [
    {
     "data": {
      "text/plain": [
       "1       0\n",
       "2       0\n",
       "7       1\n",
       "10      0\n",
       "26      1\n",
       "       ..\n",
       "4227    0\n",
       "4234    1\n",
       "4238    0\n",
       "4240    1\n",
       "4270    1\n",
       "Name: Qual o principal motivo da sua insatisfação com a empresa atual?, Length: 661, dtype: int64"
      ]
     },
     "execution_count": 35,
     "metadata": {},
     "output_type": "execute_result"
    }
   ],
   "source": [
    "dados.loc[dados['Qual o principal motivo da sua insatisfação com a empresa atual?'].notnull(), 'Qual o principal motivo da sua insatisfação com a empresa atual?'].apply(lambda x: 1 if 'Salário' in x else 0)"
   ]
  },
  {
   "cell_type": "code",
   "execution_count": 36,
   "id": "d2667750",
   "metadata": {},
   "outputs": [],
   "source": [
    "dados.loc[dados['Qual o principal motivo da sua insatisfação com a empresa atual?'].notnull(), 'INSATISFACAO'] = dados.loc[dados['Qual o principal motivo da sua insatisfação com a empresa atual?'].notnull(), 'Qual o principal motivo da sua insatisfação com a empresa atual?'].apply(lambda x: 1 if 'Salário' in x else 0)"
   ]
  },
  {
   "cell_type": "code",
   "execution_count": 38,
   "id": "5948342a",
   "metadata": {},
   "outputs": [
    {
     "data": {
      "text/plain": [
       "INSATISFACAO\n",
       "0    2453\n",
       "1     279\n",
       "Name: count, dtype: int64"
      ]
     },
     "execution_count": 38,
     "metadata": {},
     "output_type": "execute_result"
    }
   ],
   "source": [
    "dados['INSATISFACAO'].value_counts()"
   ]
  },
  {
   "cell_type": "code",
   "execution_count": 39,
   "id": "e1ad7286",
   "metadata": {},
   "outputs": [
    {
     "data": {
      "text/plain": [
       "NIVEL DE ENSINO\n",
       "Graduação/Bacharelado         1024\n",
       "Pós-graduação                  975\n",
       "Mestrado                       306\n",
       "Estudante de Graduação         271\n",
       "Doutorado ou Phd               100\n",
       "Não tenho graduação formal      52\n",
       "Prefiro não informar             4\n",
       "Name: count, dtype: int64"
      ]
     },
     "execution_count": 39,
     "metadata": {},
     "output_type": "execute_result"
    }
   ],
   "source": [
    "dados['NIVEL DE ENSINO'].value_counts()"
   ]
  },
  {
   "cell_type": "code",
   "execution_count": 45,
   "id": "cb9adcae",
   "metadata": {},
   "outputs": [],
   "source": [
    "dados['NIVEL DE ENSINO'] = dados['NIVEL DE ENSINO'].apply(lambda x: 0 if x== 'Não tenho graduação formal' else \n",
    "                               1 if x== 'Estudante de Graduação' else\n",
    "                               2 if x== 'Graduação/Bacharelado' else\n",
    "                               3 if x== 'Pós-graduação'else\n",
    "                               4 if x== 'Mestrado' else\n",
    "                               5 if x== 'Doutorado ou Phd' else -1)\n"
   ]
  },
  {
   "cell_type": "code",
   "execution_count": null,
   "id": "2729b31c",
   "metadata": {},
   "outputs": [],
   "source": []
  }
 ],
 "metadata": {
  "kernelspec": {
   "display_name": "base",
   "language": "python",
   "name": "python3"
  },
  "language_info": {
   "codemirror_mode": {
    "name": "ipython",
    "version": 3
   },
   "file_extension": ".py",
   "mimetype": "text/x-python",
   "name": "python",
   "nbconvert_exporter": "python",
   "pygments_lexer": "ipython3",
   "version": "3.12.7"
  }
 },
 "nbformat": 4,
 "nbformat_minor": 5
}
