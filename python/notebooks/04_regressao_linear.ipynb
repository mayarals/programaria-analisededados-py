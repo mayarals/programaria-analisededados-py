{
 "cells": [
  {
   "cell_type": "code",
   "execution_count": 1,
   "id": "d2a99345",
   "metadata": {},
   "outputs": [],
   "source": [
    "import pandas as pd\n",
    "from sklearn.model_selection import train_test_split\n",
    "from sklearn.preprocessing import StandardScaler\n",
    "from sklearn.linear_model import LinearRegression\n",
    "from sklearn.metrics import mean_squared_error, r2_score, mean_absolute_error\n",
    "import matplotlib.pyplot as plt"
   ]
  },
  {
   "cell_type": "code",
   "execution_count": 2,
   "id": "60e822a0",
   "metadata": {},
   "outputs": [],
   "source": [
    "dados = pd.read_excel('../data/raw/analise_dados_mod7_(1).xlsx')"
   ]
  },
  {
   "cell_type": "code",
   "execution_count": 3,
   "id": "ed0d65ec",
   "metadata": {},
   "outputs": [
    {
     "data": {
      "text/plain": [
       "Index(['ID', 'IDADE', 'FAIXA IDADE', 'GENERO', 'COR/RACA/ETNIA', 'PCD',\n",
       "       'EXPERIENCIA_PROFISSIONAL_PREJUDICADA', 'ASPECTOS_PREJUDICADOS',\n",
       "       'VIVE_NO_BRASIL', 'ESTADO ONDE MORA', 'UF ONDE MORA',\n",
       "       'REGIAO ONDE MORA', 'MUDOU DE ESTADO?', 'REGIAO DE ORIGEM',\n",
       "       'NIVEL DE ENSINO', 'ÁREA DE FORMAÇÃO',\n",
       "       'QUAL SUA SITUAÇÃO ATUAL DE TRABALHO?', 'SETOR',\n",
       "       'NUMERO DE FUNCIONARIOS', 'GESTOR?', 'CARGO COMO GESTOR', 'CARGO ATUAL',\n",
       "       'FAIXA SALARIAL',\n",
       "       'QUANTO TEMPO DE EXPERIÊNCIA NA ÁREA DE DADOS VOCÊ TEM?',\n",
       "       'QUANTO TEMPO DE EXPERIÊNCIA NA ÁREA DE TI/ENGENHARIA DE SOFTWARE VOCÊ TEVE ANTES DE COMEÇAR A TRABALHAR NA ÁREA DE DADOS?',\n",
       "       'SALARIO', 'NOVO_NIVEL', 'NIVEL_Júnior', 'NIVEL_Pleno', 'NIVEL_Sênior',\n",
       "       'GEARACAO', 'Quanto tempo de experiência na área de dados você tem?',\n",
       "       'Quanto tempo de experiência na área de TI/Engenharia de Software você teve antes de começar a trabalhar na área de dados?',\n",
       "       'Você está satisfeito na sua empresa atual?',\n",
       "       'Qual o principal motivo da sua insatisfação com a empresa atual?',\n",
       "       'Você participou de entrevistas de emprego nos últimos 6 meses?',\n",
       "       'Você pretende mudar de emprego nos próximos 6 meses?',\n",
       "       'Quais os principais critérios que você leva em consideração no momento de decidir onde trabalhar?',\n",
       "       'Atualmente qual a sua forma de trabalho?',\n",
       "       'Qual a forma de trabalho ideal para você?',\n",
       "       'Caso sua empresa decida pelo modelo 100% presencial qual será sua atitude?',\n",
       "       'Sua empresa passu por Layoff em 2022?', 'Atuacao',\n",
       "       'Quais das linguagens listadas abaixo você utiliza no trabalho?',\n",
       "       'EM_BUSCA', 'ABERTO_OPORTUNIDADES'],\n",
       "      dtype='object')"
      ]
     },
     "execution_count": 3,
     "metadata": {},
     "output_type": "execute_result"
    }
   ],
   "source": [
    "dados.columns"
   ]
  },
  {
   "cell_type": "code",
   "execution_count": 4,
   "id": "dfd79e68",
   "metadata": {},
   "outputs": [
    {
     "data": {
      "text/plain": [
       "QUAL SUA SITUAÇÃO ATUAL DE TRABALHO?\n",
       "Empregado (CLT)                                                    2762\n",
       "Empreendedor ou Empregado (CNPJ)                                    410\n",
       "Desempregado, buscando recolocação                                  350\n",
       "Estagiário                                                          188\n",
       "Servidor Público                                                    156\n",
       "Trabalho na área Acadêmica/Pesquisador                               86\n",
       "Somente Estudante (graduação)                                        82\n",
       "Vivo no Brasil e trabalho remoto para empresa de fora do Brasil      69\n",
       "Vivo fora do Brasil e trabalho para empresa de fora do Brasil        46\n",
       "Somente Estudante (pós-graduação)                                    44\n",
       "Freelancer                                                           39\n",
       "Prefiro não informar                                                 24\n",
       "Desempregado e não estou buscando recolocação                        15\n",
       "Name: count, dtype: int64"
      ]
     },
     "execution_count": 4,
     "metadata": {},
     "output_type": "execute_result"
    }
   ],
   "source": [
    "dados['QUAL SUA SITUAÇÃO ATUAL DE TRABALHO?'].value_counts()"
   ]
  },
  {
   "cell_type": "code",
   "execution_count": 5,
   "id": "ea0efca3",
   "metadata": {},
   "outputs": [],
   "source": [
    "dados = dados[dados['QUAL SUA SITUAÇÃO ATUAL DE TRABALHO?']=='Empregado (CLT)']"
   ]
  },
  {
   "cell_type": "code",
   "execution_count": 8,
   "id": "729277bb",
   "metadata": {},
   "outputs": [
    {
     "data": {
      "text/plain": [
       "QUAL SUA SITUAÇÃO ATUAL DE TRABALHO?\n",
       "Empregado (CLT)    2762\n",
       "Name: count, dtype: int64"
      ]
     },
     "execution_count": 8,
     "metadata": {},
     "output_type": "execute_result"
    }
   ],
   "source": [
    "dados['QUAL SUA SITUAÇÃO ATUAL DE TRABALHO?'].value_counts(dropna=False)"
   ]
  },
  {
   "cell_type": "code",
   "execution_count": 9,
   "id": "5503b6e0",
   "metadata": {},
   "outputs": [
    {
     "data": {
      "text/plain": [
       "COR/RACA/ETNIA\n",
       "Branca                  1805\n",
       "Parda                    661\n",
       "Preta                    181\n",
       "Amarela                   85\n",
       "Prefiro não informar      16\n",
       "Outra                     10\n",
       "Indígena                   4\n",
       "Name: count, dtype: int64"
      ]
     },
     "execution_count": 9,
     "metadata": {},
     "output_type": "execute_result"
    }
   ],
   "source": [
    "dados['COR/RACA/ETNIA'].value_counts()"
   ]
  },
  {
   "cell_type": "code",
   "execution_count": 10,
   "id": "60a79870",
   "metadata": {},
   "outputs": [],
   "source": [
    "lista_retirar = ['Prefiro não informar', 'Outra', 'Indígena']"
   ]
  },
  {
   "cell_type": "code",
   "execution_count": 11,
   "id": "286f6082",
   "metadata": {},
   "outputs": [],
   "source": [
    "dados = dados[~dados['COR/RACA/ETNIA'].isin(lista_retirar)]"
   ]
  },
  {
   "cell_type": "code",
   "execution_count": 12,
   "id": "60130d44",
   "metadata": {},
   "outputs": [],
   "source": [
    "dados['NAO BRANCA'] = dados['COR/RACA/ETNIA'].apply(lambda x: 1 if x!= 'Branca' else 0)"
   ]
  },
  {
   "cell_type": "code",
   "execution_count": 13,
   "id": "241675d8",
   "metadata": {},
   "outputs": [
    {
     "data": {
      "text/plain": [
       "QUANTO TEMPO DE EXPERIÊNCIA NA ÁREA DE DADOS VOCÊ TEM?\n",
       "de 1 a 2 anos                             743\n",
       "de 3 a 4 anos                             584\n",
       "de 4 a 6 anos                             416\n",
       "Menos de 1 ano                            353\n",
       "Mais de 10 anos                           277\n",
       "de 7 a 10 anos                            232\n",
       "Não tenho experiência na área de dados    127\n",
       "Name: count, dtype: int64"
      ]
     },
     "execution_count": 13,
     "metadata": {},
     "output_type": "execute_result"
    }
   ],
   "source": [
    "dados['QUANTO TEMPO DE EXPERIÊNCIA NA ÁREA DE DADOS VOCÊ TEM?'].value_counts()"
   ]
  },
  {
   "cell_type": "code",
   "execution_count": 14,
   "id": "b7c7ce56",
   "metadata": {},
   "outputs": [],
   "source": [
    "dados['TEMPO EXPERIENCIA'] = dados['QUANTO TEMPO DE EXPERIÊNCIA NA ÁREA DE DADOS VOCÊ TEM?'].str.extract(r'(\\d+)')"
   ]
  },
  {
   "cell_type": "code",
   "execution_count": 15,
   "id": "e2ea9bc2",
   "metadata": {},
   "outputs": [
    {
     "data": {
      "text/plain": [
       "TEMPO EXPERIENCIA\n",
       "1     1096\n",
       "3      584\n",
       "4      416\n",
       "10     277\n",
       "7      232\n",
       "Name: count, dtype: int64"
      ]
     },
     "execution_count": 15,
     "metadata": {},
     "output_type": "execute_result"
    }
   ],
   "source": [
    "dados['TEMPO EXPERIENCIA'].value_counts()"
   ]
  },
  {
   "cell_type": "code",
   "execution_count": 16,
   "id": "2e7340ef",
   "metadata": {},
   "outputs": [
    {
     "data": {
      "text/plain": [
       "NUMERO DE FUNCIONARIOS\n",
       "Acima de 3.000      1313\n",
       "de 101 a 500         503\n",
       "de 1.001 a 3.000     368\n",
       "de 501 a 1.000       248\n",
       "de 51 a 100          146\n",
       "de 11 a 50           112\n",
       "de 6 a 10             24\n",
       "de 1 a 5              18\n",
       "Name: count, dtype: int64"
      ]
     },
     "execution_count": 16,
     "metadata": {},
     "output_type": "execute_result"
    }
   ],
   "source": [
    "dados['NUMERO DE FUNCIONARIOS'].value_counts()"
   ]
  },
  {
   "cell_type": "code",
   "execution_count": 17,
   "id": "4a132e99",
   "metadata": {},
   "outputs": [],
   "source": [
    "dados['NUMERO DE FUNCIONARIOS'] = dados['NUMERO DE FUNCIONARIOS'].str.replace('.', '')"
   ]
  },
  {
   "cell_type": "code",
   "execution_count": 18,
   "id": "aebb2f34",
   "metadata": {},
   "outputs": [
    {
     "data": {
      "text/plain": [
       "NUMERO DE FUNCIONARIOS\n",
       "Acima de 3000     1313\n",
       "de 101 a 500       503\n",
       "de 1001 a 3000     368\n",
       "de 501 a 1000      248\n",
       "de 51 a 100        146\n",
       "de 11 a 50         112\n",
       "de 6 a 10           24\n",
       "de 1 a 5            18\n",
       "Name: count, dtype: int64"
      ]
     },
     "execution_count": 18,
     "metadata": {},
     "output_type": "execute_result"
    }
   ],
   "source": [
    "dados['NUMERO DE FUNCIONARIOS'].value_counts()"
   ]
  },
  {
   "cell_type": "code",
   "execution_count": 19,
   "id": "06a71ed3",
   "metadata": {},
   "outputs": [],
   "source": [
    "dados['NUMERO DE FUNCIONARIOS'] = dados['NUMERO DE FUNCIONARIOS'].str.extract(r'(\\d+)')"
   ]
  },
  {
   "cell_type": "code",
   "execution_count": 20,
   "id": "e6be0cc5",
   "metadata": {},
   "outputs": [
    {
     "data": {
      "text/plain": [
       "NUMERO DE FUNCIONARIOS\n",
       "3000    1313\n",
       "101      503\n",
       "1001     368\n",
       "501      248\n",
       "51       146\n",
       "11       112\n",
       "6         24\n",
       "1         18\n",
       "Name: count, dtype: int64"
      ]
     },
     "execution_count": 20,
     "metadata": {},
     "output_type": "execute_result"
    }
   ],
   "source": [
    "dados['NUMERO DE FUNCIONARIOS'].value_counts(dropna=False)"
   ]
  },
  {
   "cell_type": "code",
   "execution_count": 21,
   "id": "a289a9e4",
   "metadata": {},
   "outputs": [
    {
     "data": {
      "text/plain": [
       "TEMPO EXPERIENCIA\n",
       "1      1096\n",
       "3       584\n",
       "4       416\n",
       "10      277\n",
       "7       232\n",
       "NaN     127\n",
       "Name: count, dtype: int64"
      ]
     },
     "execution_count": 21,
     "metadata": {},
     "output_type": "execute_result"
    }
   ],
   "source": [
    "dados['TEMPO EXPERIENCIA'].value_counts(dropna=False)"
   ]
  },
  {
   "cell_type": "code",
   "execution_count": 22,
   "id": "880193c4",
   "metadata": {},
   "outputs": [],
   "source": [
    "dados['TEMPO EXPERIENCIA'] = dados['TEMPO EXPERIENCIA'].fillna(0)"
   ]
  },
  {
   "cell_type": "code",
   "execution_count": 23,
   "id": "e5460d83",
   "metadata": {},
   "outputs": [
    {
     "data": {
      "text/plain": [
       "TEMPO EXPERIENCIA\n",
       "1     1096\n",
       "3      584\n",
       "4      416\n",
       "10     277\n",
       "7      232\n",
       "0      127\n",
       "Name: count, dtype: int64"
      ]
     },
     "execution_count": 23,
     "metadata": {},
     "output_type": "execute_result"
    }
   ],
   "source": [
    "dados['TEMPO EXPERIENCIA'].value_counts()"
   ]
  },
  {
   "cell_type": "code",
   "execution_count": 24,
   "id": "a5944c27",
   "metadata": {},
   "outputs": [],
   "source": [
    "dados['INSATISFACAO'] = 0"
   ]
  },
  {
   "cell_type": "code",
   "execution_count": 27,
   "id": "8d2cd428",
   "metadata": {},
   "outputs": [
    {
     "data": {
      "text/plain": [
       "Qual o principal motivo da sua insatisfação com a empresa atual?\n",
       "NaN                                                                                                                                                         2071\n",
       "Gostaria de trabalhar em em outra área de atuação                                                                                                             69\n",
       "Salário atual não corresponde ao mercado                                                                                                                      53\n",
       "Falta de oportunidade de crescimento no emprego atual                                                                                                         46\n",
       "Falta de maturidade analítica na empresa                                                                                                                      45\n",
       "                                                                                                                                                            ... \n",
       "Trabalho explora pouco minhas habilidades e me dá poucas oportunidades de atuação distintas                                                                    1\n",
       "Não tenho uma boa relação com meu líder/gestor, Gostaria de receber mais benefícios, Salário atual não corresponde ao mercado                                  1\n",
       "Não tenho uma boa relação com meu líder/gestor, Gostaria de trabalhar em em outra área de atuação                                                              1\n",
       "Salário atual não corresponde ao mercado, Gostaria de trabalhar em em outra área de atuação, Carga horária de trabalho                                         1\n",
       "Não tenho uma boa relação com meu líder/gestor, Falta de oportunidade de crescimento no emprego atual, Gostaria de trabalhar em em outra área de atuação       1\n",
       "Name: count, Length: 175, dtype: int64"
      ]
     },
     "execution_count": 27,
     "metadata": {},
     "output_type": "execute_result"
    }
   ],
   "source": [
    "dados['Qual o principal motivo da sua insatisfação com a empresa atual?'].value_counts(dropna=False)"
   ]
  },
  {
   "cell_type": "code",
   "execution_count": 28,
   "id": "9e627216",
   "metadata": {},
   "outputs": [
    {
     "data": {
      "text/plain": [
       "1       0\n",
       "2       0\n",
       "7       1\n",
       "10      0\n",
       "26      1\n",
       "       ..\n",
       "4227    0\n",
       "4234    1\n",
       "4238    0\n",
       "4240    1\n",
       "4270    1\n",
       "Name: Qual o principal motivo da sua insatisfação com a empresa atual?, Length: 661, dtype: int64"
      ]
     },
     "execution_count": 28,
     "metadata": {},
     "output_type": "execute_result"
    }
   ],
   "source": [
    "dados.loc[dados['Qual o principal motivo da sua insatisfação com a empresa atual?'].notnull(), \n",
    "'Qual o principal motivo da sua insatisfação com a empresa atual?'].apply(lambda x: 1 if 'Salário' in x else 0)"
   ]
  },
  {
   "cell_type": "code",
   "execution_count": 29,
   "id": "d2667750",
   "metadata": {},
   "outputs": [],
   "source": [
    "dados.loc[dados['Qual o principal motivo da sua insatisfação com a empresa atual?'].notnull(), 'INSATISFACAO'] = dados.loc[dados['Qual o principal motivo da sua insatisfação com a empresa atual?'].notnull(), \n",
    "'Qual o principal motivo da sua insatisfação com a empresa atual?'].apply(lambda x: 1 if 'Salário' in x else 0)"
   ]
  },
  {
   "cell_type": "code",
   "execution_count": 30,
   "id": "5948342a",
   "metadata": {},
   "outputs": [
    {
     "data": {
      "text/plain": [
       "INSATISFACAO\n",
       "0    2453\n",
       "1     279\n",
       "Name: count, dtype: int64"
      ]
     },
     "execution_count": 30,
     "metadata": {},
     "output_type": "execute_result"
    }
   ],
   "source": [
    "dados['INSATISFACAO'].value_counts(dropna=False)"
   ]
  },
  {
   "cell_type": "code",
   "execution_count": 31,
   "id": "e1ad7286",
   "metadata": {},
   "outputs": [
    {
     "data": {
      "text/plain": [
       "NIVEL DE ENSINO\n",
       "Graduação/Bacharelado         1024\n",
       "Pós-graduação                  975\n",
       "Mestrado                       306\n",
       "Estudante de Graduação         271\n",
       "Doutorado ou Phd               100\n",
       "Não tenho graduação formal      52\n",
       "Prefiro não informar             4\n",
       "Name: count, dtype: int64"
      ]
     },
     "execution_count": 31,
     "metadata": {},
     "output_type": "execute_result"
    }
   ],
   "source": [
    "dados['NIVEL DE ENSINO'].value_counts()"
   ]
  },
  {
   "cell_type": "code",
   "execution_count": 32,
   "id": "cb9adcae",
   "metadata": {},
   "outputs": [],
   "source": [
    "dados['NIVEL DE ENSINO'] = dados['NIVEL DE ENSINO'].apply(lambda x: 0 if x== 'Não tenho graduação formal' else \n",
    "                               1 if x== 'Estudante de Graduação' else\n",
    "                               2 if x== 'Graduação/Bacharelado' else\n",
    "                               3 if x== 'Pós-graduação'else\n",
    "                               4 if x== 'Mestrado' else\n",
    "                               5 if x== 'Doutorado ou Phd' else -1)\n"
   ]
  },
  {
   "cell_type": "code",
   "execution_count": 33,
   "id": "084ea25e",
   "metadata": {},
   "outputs": [
    {
     "data": {
      "text/plain": [
       "NIVEL DE ENSINO\n",
       " 2    1024\n",
       " 3     975\n",
       " 4     306\n",
       " 1     271\n",
       " 5     100\n",
       " 0      52\n",
       "-1       4\n",
       "Name: count, dtype: int64"
      ]
     },
     "execution_count": 33,
     "metadata": {},
     "output_type": "execute_result"
    }
   ],
   "source": [
    "dados['NIVEL DE ENSINO'].value_counts(dropna=False)"
   ]
  },
  {
   "cell_type": "code",
   "execution_count": 34,
   "id": "682fb7cc",
   "metadata": {},
   "outputs": [],
   "source": [
    "dados = dados[['IDADE', 'GENERO', 'NAO BRANCA', 'TEMPO EXPERIENCIA', 'INSATISFACAO', 'SETOR', 'REGIAO ONDE MORA', \n",
    "       'NIVEL DE ENSINO', 'NUMERO DE FUNCIONARIOS', 'SALARIO', 'NOVO_NIVEL']]"
   ]
  },
  {
   "cell_type": "code",
   "execution_count": 35,
   "id": "f30d7913",
   "metadata": {},
   "outputs": [
    {
     "data": {
      "text/plain": [
       "Index(['IDADE', 'GENERO', 'NAO BRANCA', 'TEMPO EXPERIENCIA', 'INSATISFACAO',\n",
       "       'SETOR', 'REGIAO ONDE MORA', 'NIVEL DE ENSINO',\n",
       "       'NUMERO DE FUNCIONARIOS', 'SALARIO', 'NOVO_NIVEL'],\n",
       "      dtype='object')"
      ]
     },
     "execution_count": 35,
     "metadata": {},
     "output_type": "execute_result"
    }
   ],
   "source": [
    "dados.columns"
   ]
  },
  {
   "cell_type": "code",
   "execution_count": 36,
   "id": "87a6a6ef",
   "metadata": {},
   "outputs": [],
   "source": [
    "dados = pd.get_dummies(dados, columns=['GENERO', 'SETOR', 'NOVO_NIVEL', 'REGIAO ONDE MORA'], drop_first=True)"
   ]
  },
  {
   "cell_type": "code",
   "execution_count": 37,
   "id": "9eb1bd29",
   "metadata": {},
   "outputs": [],
   "source": [
    "X = dados.drop('SALARIO', axis=1)\n",
    "y = dados['SALARIO']"
   ]
  },
  {
   "cell_type": "code",
   "execution_count": 38,
   "id": "586e6844",
   "metadata": {},
   "outputs": [],
   "source": [
    "X_train, X_test, y_train, y_test = train_test_split(X, y, test_size=0.2, random_state=42)"
   ]
  },
  {
   "cell_type": "code",
   "execution_count": 39,
   "id": "6f1d5841",
   "metadata": {},
   "outputs": [],
   "source": [
    "scaler = StandardScaler()\n",
    "\n",
    "X_train_scaled = scaler.fit_transform(X_train)\n",
    "X_test_scaled = scaler.fit_transform(X_test)"
   ]
  },
  {
   "cell_type": "code",
   "execution_count": 40,
   "id": "6e7927b2",
   "metadata": {},
   "outputs": [],
   "source": [
    "model = LinearRegression()"
   ]
  },
  {
   "cell_type": "code",
   "execution_count": 41,
   "id": "af1fefe3",
   "metadata": {},
   "outputs": [
    {
     "data": {
      "text/html": [
       "<style>#sk-container-id-1 {\n",
       "  /* Definition of color scheme common for light and dark mode */\n",
       "  --sklearn-color-text: black;\n",
       "  --sklearn-color-line: gray;\n",
       "  /* Definition of color scheme for unfitted estimators */\n",
       "  --sklearn-color-unfitted-level-0: #fff5e6;\n",
       "  --sklearn-color-unfitted-level-1: #f6e4d2;\n",
       "  --sklearn-color-unfitted-level-2: #ffe0b3;\n",
       "  --sklearn-color-unfitted-level-3: chocolate;\n",
       "  /* Definition of color scheme for fitted estimators */\n",
       "  --sklearn-color-fitted-level-0: #f0f8ff;\n",
       "  --sklearn-color-fitted-level-1: #d4ebff;\n",
       "  --sklearn-color-fitted-level-2: #b3dbfd;\n",
       "  --sklearn-color-fitted-level-3: cornflowerblue;\n",
       "\n",
       "  /* Specific color for light theme */\n",
       "  --sklearn-color-text-on-default-background: var(--sg-text-color, var(--theme-code-foreground, var(--jp-content-font-color1, black)));\n",
       "  --sklearn-color-background: var(--sg-background-color, var(--theme-background, var(--jp-layout-color0, white)));\n",
       "  --sklearn-color-border-box: var(--sg-text-color, var(--theme-code-foreground, var(--jp-content-font-color1, black)));\n",
       "  --sklearn-color-icon: #696969;\n",
       "\n",
       "  @media (prefers-color-scheme: dark) {\n",
       "    /* Redefinition of color scheme for dark theme */\n",
       "    --sklearn-color-text-on-default-background: var(--sg-text-color, var(--theme-code-foreground, var(--jp-content-font-color1, white)));\n",
       "    --sklearn-color-background: var(--sg-background-color, var(--theme-background, var(--jp-layout-color0, #111)));\n",
       "    --sklearn-color-border-box: var(--sg-text-color, var(--theme-code-foreground, var(--jp-content-font-color1, white)));\n",
       "    --sklearn-color-icon: #878787;\n",
       "  }\n",
       "}\n",
       "\n",
       "#sk-container-id-1 {\n",
       "  color: var(--sklearn-color-text);\n",
       "}\n",
       "\n",
       "#sk-container-id-1 pre {\n",
       "  padding: 0;\n",
       "}\n",
       "\n",
       "#sk-container-id-1 input.sk-hidden--visually {\n",
       "  border: 0;\n",
       "  clip: rect(1px 1px 1px 1px);\n",
       "  clip: rect(1px, 1px, 1px, 1px);\n",
       "  height: 1px;\n",
       "  margin: -1px;\n",
       "  overflow: hidden;\n",
       "  padding: 0;\n",
       "  position: absolute;\n",
       "  width: 1px;\n",
       "}\n",
       "\n",
       "#sk-container-id-1 div.sk-dashed-wrapped {\n",
       "  border: 1px dashed var(--sklearn-color-line);\n",
       "  margin: 0 0.4em 0.5em 0.4em;\n",
       "  box-sizing: border-box;\n",
       "  padding-bottom: 0.4em;\n",
       "  background-color: var(--sklearn-color-background);\n",
       "}\n",
       "\n",
       "#sk-container-id-1 div.sk-container {\n",
       "  /* jupyter's `normalize.less` sets `[hidden] { display: none; }`\n",
       "     but bootstrap.min.css set `[hidden] { display: none !important; }`\n",
       "     so we also need the `!important` here to be able to override the\n",
       "     default hidden behavior on the sphinx rendered scikit-learn.org.\n",
       "     See: https://github.com/scikit-learn/scikit-learn/issues/21755 */\n",
       "  display: inline-block !important;\n",
       "  position: relative;\n",
       "}\n",
       "\n",
       "#sk-container-id-1 div.sk-text-repr-fallback {\n",
       "  display: none;\n",
       "}\n",
       "\n",
       "div.sk-parallel-item,\n",
       "div.sk-serial,\n",
       "div.sk-item {\n",
       "  /* draw centered vertical line to link estimators */\n",
       "  background-image: linear-gradient(var(--sklearn-color-text-on-default-background), var(--sklearn-color-text-on-default-background));\n",
       "  background-size: 2px 100%;\n",
       "  background-repeat: no-repeat;\n",
       "  background-position: center center;\n",
       "}\n",
       "\n",
       "/* Parallel-specific style estimator block */\n",
       "\n",
       "#sk-container-id-1 div.sk-parallel-item::after {\n",
       "  content: \"\";\n",
       "  width: 100%;\n",
       "  border-bottom: 2px solid var(--sklearn-color-text-on-default-background);\n",
       "  flex-grow: 1;\n",
       "}\n",
       "\n",
       "#sk-container-id-1 div.sk-parallel {\n",
       "  display: flex;\n",
       "  align-items: stretch;\n",
       "  justify-content: center;\n",
       "  background-color: var(--sklearn-color-background);\n",
       "  position: relative;\n",
       "}\n",
       "\n",
       "#sk-container-id-1 div.sk-parallel-item {\n",
       "  display: flex;\n",
       "  flex-direction: column;\n",
       "}\n",
       "\n",
       "#sk-container-id-1 div.sk-parallel-item:first-child::after {\n",
       "  align-self: flex-end;\n",
       "  width: 50%;\n",
       "}\n",
       "\n",
       "#sk-container-id-1 div.sk-parallel-item:last-child::after {\n",
       "  align-self: flex-start;\n",
       "  width: 50%;\n",
       "}\n",
       "\n",
       "#sk-container-id-1 div.sk-parallel-item:only-child::after {\n",
       "  width: 0;\n",
       "}\n",
       "\n",
       "/* Serial-specific style estimator block */\n",
       "\n",
       "#sk-container-id-1 div.sk-serial {\n",
       "  display: flex;\n",
       "  flex-direction: column;\n",
       "  align-items: center;\n",
       "  background-color: var(--sklearn-color-background);\n",
       "  padding-right: 1em;\n",
       "  padding-left: 1em;\n",
       "}\n",
       "\n",
       "\n",
       "/* Toggleable style: style used for estimator/Pipeline/ColumnTransformer box that is\n",
       "clickable and can be expanded/collapsed.\n",
       "- Pipeline and ColumnTransformer use this feature and define the default style\n",
       "- Estimators will overwrite some part of the style using the `sk-estimator` class\n",
       "*/\n",
       "\n",
       "/* Pipeline and ColumnTransformer style (default) */\n",
       "\n",
       "#sk-container-id-1 div.sk-toggleable {\n",
       "  /* Default theme specific background. It is overwritten whether we have a\n",
       "  specific estimator or a Pipeline/ColumnTransformer */\n",
       "  background-color: var(--sklearn-color-background);\n",
       "}\n",
       "\n",
       "/* Toggleable label */\n",
       "#sk-container-id-1 label.sk-toggleable__label {\n",
       "  cursor: pointer;\n",
       "  display: block;\n",
       "  width: 100%;\n",
       "  margin-bottom: 0;\n",
       "  padding: 0.5em;\n",
       "  box-sizing: border-box;\n",
       "  text-align: center;\n",
       "}\n",
       "\n",
       "#sk-container-id-1 label.sk-toggleable__label-arrow:before {\n",
       "  /* Arrow on the left of the label */\n",
       "  content: \"▸\";\n",
       "  float: left;\n",
       "  margin-right: 0.25em;\n",
       "  color: var(--sklearn-color-icon);\n",
       "}\n",
       "\n",
       "#sk-container-id-1 label.sk-toggleable__label-arrow:hover:before {\n",
       "  color: var(--sklearn-color-text);\n",
       "}\n",
       "\n",
       "/* Toggleable content - dropdown */\n",
       "\n",
       "#sk-container-id-1 div.sk-toggleable__content {\n",
       "  max-height: 0;\n",
       "  max-width: 0;\n",
       "  overflow: hidden;\n",
       "  text-align: left;\n",
       "  /* unfitted */\n",
       "  background-color: var(--sklearn-color-unfitted-level-0);\n",
       "}\n",
       "\n",
       "#sk-container-id-1 div.sk-toggleable__content.fitted {\n",
       "  /* fitted */\n",
       "  background-color: var(--sklearn-color-fitted-level-0);\n",
       "}\n",
       "\n",
       "#sk-container-id-1 div.sk-toggleable__content pre {\n",
       "  margin: 0.2em;\n",
       "  border-radius: 0.25em;\n",
       "  color: var(--sklearn-color-text);\n",
       "  /* unfitted */\n",
       "  background-color: var(--sklearn-color-unfitted-level-0);\n",
       "}\n",
       "\n",
       "#sk-container-id-1 div.sk-toggleable__content.fitted pre {\n",
       "  /* unfitted */\n",
       "  background-color: var(--sklearn-color-fitted-level-0);\n",
       "}\n",
       "\n",
       "#sk-container-id-1 input.sk-toggleable__control:checked~div.sk-toggleable__content {\n",
       "  /* Expand drop-down */\n",
       "  max-height: 200px;\n",
       "  max-width: 100%;\n",
       "  overflow: auto;\n",
       "}\n",
       "\n",
       "#sk-container-id-1 input.sk-toggleable__control:checked~label.sk-toggleable__label-arrow:before {\n",
       "  content: \"▾\";\n",
       "}\n",
       "\n",
       "/* Pipeline/ColumnTransformer-specific style */\n",
       "\n",
       "#sk-container-id-1 div.sk-label input.sk-toggleable__control:checked~label.sk-toggleable__label {\n",
       "  color: var(--sklearn-color-text);\n",
       "  background-color: var(--sklearn-color-unfitted-level-2);\n",
       "}\n",
       "\n",
       "#sk-container-id-1 div.sk-label.fitted input.sk-toggleable__control:checked~label.sk-toggleable__label {\n",
       "  background-color: var(--sklearn-color-fitted-level-2);\n",
       "}\n",
       "\n",
       "/* Estimator-specific style */\n",
       "\n",
       "/* Colorize estimator box */\n",
       "#sk-container-id-1 div.sk-estimator input.sk-toggleable__control:checked~label.sk-toggleable__label {\n",
       "  /* unfitted */\n",
       "  background-color: var(--sklearn-color-unfitted-level-2);\n",
       "}\n",
       "\n",
       "#sk-container-id-1 div.sk-estimator.fitted input.sk-toggleable__control:checked~label.sk-toggleable__label {\n",
       "  /* fitted */\n",
       "  background-color: var(--sklearn-color-fitted-level-2);\n",
       "}\n",
       "\n",
       "#sk-container-id-1 div.sk-label label.sk-toggleable__label,\n",
       "#sk-container-id-1 div.sk-label label {\n",
       "  /* The background is the default theme color */\n",
       "  color: var(--sklearn-color-text-on-default-background);\n",
       "}\n",
       "\n",
       "/* On hover, darken the color of the background */\n",
       "#sk-container-id-1 div.sk-label:hover label.sk-toggleable__label {\n",
       "  color: var(--sklearn-color-text);\n",
       "  background-color: var(--sklearn-color-unfitted-level-2);\n",
       "}\n",
       "\n",
       "/* Label box, darken color on hover, fitted */\n",
       "#sk-container-id-1 div.sk-label.fitted:hover label.sk-toggleable__label.fitted {\n",
       "  color: var(--sklearn-color-text);\n",
       "  background-color: var(--sklearn-color-fitted-level-2);\n",
       "}\n",
       "\n",
       "/* Estimator label */\n",
       "\n",
       "#sk-container-id-1 div.sk-label label {\n",
       "  font-family: monospace;\n",
       "  font-weight: bold;\n",
       "  display: inline-block;\n",
       "  line-height: 1.2em;\n",
       "}\n",
       "\n",
       "#sk-container-id-1 div.sk-label-container {\n",
       "  text-align: center;\n",
       "}\n",
       "\n",
       "/* Estimator-specific */\n",
       "#sk-container-id-1 div.sk-estimator {\n",
       "  font-family: monospace;\n",
       "  border: 1px dotted var(--sklearn-color-border-box);\n",
       "  border-radius: 0.25em;\n",
       "  box-sizing: border-box;\n",
       "  margin-bottom: 0.5em;\n",
       "  /* unfitted */\n",
       "  background-color: var(--sklearn-color-unfitted-level-0);\n",
       "}\n",
       "\n",
       "#sk-container-id-1 div.sk-estimator.fitted {\n",
       "  /* fitted */\n",
       "  background-color: var(--sklearn-color-fitted-level-0);\n",
       "}\n",
       "\n",
       "/* on hover */\n",
       "#sk-container-id-1 div.sk-estimator:hover {\n",
       "  /* unfitted */\n",
       "  background-color: var(--sklearn-color-unfitted-level-2);\n",
       "}\n",
       "\n",
       "#sk-container-id-1 div.sk-estimator.fitted:hover {\n",
       "  /* fitted */\n",
       "  background-color: var(--sklearn-color-fitted-level-2);\n",
       "}\n",
       "\n",
       "/* Specification for estimator info (e.g. \"i\" and \"?\") */\n",
       "\n",
       "/* Common style for \"i\" and \"?\" */\n",
       "\n",
       ".sk-estimator-doc-link,\n",
       "a:link.sk-estimator-doc-link,\n",
       "a:visited.sk-estimator-doc-link {\n",
       "  float: right;\n",
       "  font-size: smaller;\n",
       "  line-height: 1em;\n",
       "  font-family: monospace;\n",
       "  background-color: var(--sklearn-color-background);\n",
       "  border-radius: 1em;\n",
       "  height: 1em;\n",
       "  width: 1em;\n",
       "  text-decoration: none !important;\n",
       "  margin-left: 1ex;\n",
       "  /* unfitted */\n",
       "  border: var(--sklearn-color-unfitted-level-1) 1pt solid;\n",
       "  color: var(--sklearn-color-unfitted-level-1);\n",
       "}\n",
       "\n",
       ".sk-estimator-doc-link.fitted,\n",
       "a:link.sk-estimator-doc-link.fitted,\n",
       "a:visited.sk-estimator-doc-link.fitted {\n",
       "  /* fitted */\n",
       "  border: var(--sklearn-color-fitted-level-1) 1pt solid;\n",
       "  color: var(--sklearn-color-fitted-level-1);\n",
       "}\n",
       "\n",
       "/* On hover */\n",
       "div.sk-estimator:hover .sk-estimator-doc-link:hover,\n",
       ".sk-estimator-doc-link:hover,\n",
       "div.sk-label-container:hover .sk-estimator-doc-link:hover,\n",
       ".sk-estimator-doc-link:hover {\n",
       "  /* unfitted */\n",
       "  background-color: var(--sklearn-color-unfitted-level-3);\n",
       "  color: var(--sklearn-color-background);\n",
       "  text-decoration: none;\n",
       "}\n",
       "\n",
       "div.sk-estimator.fitted:hover .sk-estimator-doc-link.fitted:hover,\n",
       ".sk-estimator-doc-link.fitted:hover,\n",
       "div.sk-label-container:hover .sk-estimator-doc-link.fitted:hover,\n",
       ".sk-estimator-doc-link.fitted:hover {\n",
       "  /* fitted */\n",
       "  background-color: var(--sklearn-color-fitted-level-3);\n",
       "  color: var(--sklearn-color-background);\n",
       "  text-decoration: none;\n",
       "}\n",
       "\n",
       "/* Span, style for the box shown on hovering the info icon */\n",
       ".sk-estimator-doc-link span {\n",
       "  display: none;\n",
       "  z-index: 9999;\n",
       "  position: relative;\n",
       "  font-weight: normal;\n",
       "  right: .2ex;\n",
       "  padding: .5ex;\n",
       "  margin: .5ex;\n",
       "  width: min-content;\n",
       "  min-width: 20ex;\n",
       "  max-width: 50ex;\n",
       "  color: var(--sklearn-color-text);\n",
       "  box-shadow: 2pt 2pt 4pt #999;\n",
       "  /* unfitted */\n",
       "  background: var(--sklearn-color-unfitted-level-0);\n",
       "  border: .5pt solid var(--sklearn-color-unfitted-level-3);\n",
       "}\n",
       "\n",
       ".sk-estimator-doc-link.fitted span {\n",
       "  /* fitted */\n",
       "  background: var(--sklearn-color-fitted-level-0);\n",
       "  border: var(--sklearn-color-fitted-level-3);\n",
       "}\n",
       "\n",
       ".sk-estimator-doc-link:hover span {\n",
       "  display: block;\n",
       "}\n",
       "\n",
       "/* \"?\"-specific style due to the `<a>` HTML tag */\n",
       "\n",
       "#sk-container-id-1 a.estimator_doc_link {\n",
       "  float: right;\n",
       "  font-size: 1rem;\n",
       "  line-height: 1em;\n",
       "  font-family: monospace;\n",
       "  background-color: var(--sklearn-color-background);\n",
       "  border-radius: 1rem;\n",
       "  height: 1rem;\n",
       "  width: 1rem;\n",
       "  text-decoration: none;\n",
       "  /* unfitted */\n",
       "  color: var(--sklearn-color-unfitted-level-1);\n",
       "  border: var(--sklearn-color-unfitted-level-1) 1pt solid;\n",
       "}\n",
       "\n",
       "#sk-container-id-1 a.estimator_doc_link.fitted {\n",
       "  /* fitted */\n",
       "  border: var(--sklearn-color-fitted-level-1) 1pt solid;\n",
       "  color: var(--sklearn-color-fitted-level-1);\n",
       "}\n",
       "\n",
       "/* On hover */\n",
       "#sk-container-id-1 a.estimator_doc_link:hover {\n",
       "  /* unfitted */\n",
       "  background-color: var(--sklearn-color-unfitted-level-3);\n",
       "  color: var(--sklearn-color-background);\n",
       "  text-decoration: none;\n",
       "}\n",
       "\n",
       "#sk-container-id-1 a.estimator_doc_link.fitted:hover {\n",
       "  /* fitted */\n",
       "  background-color: var(--sklearn-color-fitted-level-3);\n",
       "}\n",
       "</style><div id=\"sk-container-id-1\" class=\"sk-top-container\"><div class=\"sk-text-repr-fallback\"><pre>LinearRegression()</pre><b>In a Jupyter environment, please rerun this cell to show the HTML representation or trust the notebook. <br />On GitHub, the HTML representation is unable to render, please try loading this page with nbviewer.org.</b></div><div class=\"sk-container\" hidden><div class=\"sk-item\"><div class=\"sk-estimator fitted sk-toggleable\"><input class=\"sk-toggleable__control sk-hidden--visually\" id=\"sk-estimator-id-1\" type=\"checkbox\" checked><label for=\"sk-estimator-id-1\" class=\"sk-toggleable__label fitted sk-toggleable__label-arrow fitted\">&nbsp;&nbsp;LinearRegression<a class=\"sk-estimator-doc-link fitted\" rel=\"noreferrer\" target=\"_blank\" href=\"https://scikit-learn.org/1.5/modules/generated/sklearn.linear_model.LinearRegression.html\">?<span>Documentation for LinearRegression</span></a><span class=\"sk-estimator-doc-link fitted\">i<span>Fitted</span></span></label><div class=\"sk-toggleable__content fitted\"><pre>LinearRegression()</pre></div> </div></div></div></div>"
      ],
      "text/plain": [
       "LinearRegression()"
      ]
     },
     "execution_count": 41,
     "metadata": {},
     "output_type": "execute_result"
    }
   ],
   "source": [
    "model.fit(X_train_scaled, y_train)"
   ]
  },
  {
   "cell_type": "code",
   "execution_count": 43,
   "id": "45518799",
   "metadata": {},
   "outputs": [
    {
     "data": {
      "text/plain": [
       "array([21747.09955485, 16393.11133947,  3322.57047577,  4070.47453441,\n",
       "       17456.19496593,  6983.80212226,  2895.99031002, 13153.66461021,\n",
       "        2877.9092721 , 11369.42506472,  8810.37673337,  8889.0254039 ,\n",
       "        8208.14893701, 18222.19249943, 18043.82669965,  8547.27229238,\n",
       "       10852.30444684,  6617.36584584,  4625.9954692 , 13323.22681603,\n",
       "        7195.39308176, 11065.52644244, 18377.46883881,  9352.55542353,\n",
       "        9167.82728996, 22734.71129187,  9753.50647653, 11639.15276746,\n",
       "       10102.19278383, 19826.59479755, 13074.70339455, 12732.60397625,\n",
       "       18814.72054547,  5688.02809659,  5513.0550523 ,  3798.25066321,\n",
       "       16433.57854552,  9712.53760549, 11600.32636999,  3345.07582467,\n",
       "        7962.7143068 ,  8704.55524691,  5210.72145032,  6547.51938246,\n",
       "       13349.11767882, 11420.03453199, 14284.61387643,  1406.89023734,\n",
       "        5841.75882136, 23072.17785964,  8973.76843396, 10897.99012048,\n",
       "       19191.98953638,  8864.87517892, 18019.58277215, 13090.32115152,\n",
       "       19569.89234009, 11166.76463339,  6186.96681974, 19844.78857759,\n",
       "       18201.34087981, 16225.52190625,  8101.13038427, 21887.0488653 ,\n",
       "        2456.26972219, 10919.43512508, 11556.10835653,  4475.97622477,\n",
       "        9100.66419419, 12155.55035474,  3679.50935693,  6367.40321516,\n",
       "       23255.18350493,  6525.69025208,  7137.98836327,   195.26067756,\n",
       "       10691.83865696, 18757.84829415,  9072.73029662, 21557.45188024,\n",
       "       11545.87726938, 11957.40688246,  2498.63108384,  7708.15030702,\n",
       "        5182.84851122, 21217.03392669,  3646.45668452,  9077.02756322,\n",
       "       10582.55395341,  3711.85538235, 10150.51435314, 13091.60966717,\n",
       "        7784.41670126,  6695.92100213, 11023.03625579, 18920.57540616,\n",
       "       11963.50732333,  7549.09456104, 12331.85959725, 10316.2848999 ,\n",
       "        1355.10951297,  4589.94441741, 10827.30038101, 23635.70392587,\n",
       "        3533.18614483,  4895.34683321, 15095.33420485,  5670.96593609,\n",
       "       22142.38251709, 22106.24603371,  4897.24049657, 11361.82828215,\n",
       "        7282.94228727,  6382.81656865, 11075.35760033, 11254.34032639,\n",
       "       12303.80954874, 10316.89850582, 16407.7297014 ,  5618.69207709,\n",
       "        4800.78380439,  6124.52905243, 22807.03929837,  4422.57099014,\n",
       "       13585.22543424,  8706.84523198,  6778.58382536, 19460.10167964,\n",
       "        3345.07582467, 17979.39815859, 18194.70767065, 14240.97005511,\n",
       "        8318.97469435, 18873.18096122,  7584.60435666,  8634.55438822,\n",
       "       15754.59317228, 11600.32636999,  8235.28652324, 17729.95176732,\n",
       "       10675.37345328, 15286.77595395, 10016.95073232, 14904.34977424,\n",
       "        6307.8093792 ,  7859.78126971, 10035.075691  , 17925.55730029,\n",
       "        2731.80318271, 15563.50969948,  2389.06264579,  7204.70301892,\n",
       "       22751.62085529,  8787.87575093,  9151.7455307 ,  4047.17579291,\n",
       "       14120.14801066,  9999.40795727,  1938.7707337 ,  6527.09662587,\n",
       "        8126.10600739,  3984.2958934 ,  5508.89126843, 14015.91120608,\n",
       "       10186.94747682,  3008.57124308,  6900.62089149,  -519.46734587,\n",
       "        6362.19259772,  3764.72608388, 16887.57549307, 13638.43344008,\n",
       "       20905.06491218,  6720.60665707, 12732.60397625,  6896.2590049 ,\n",
       "       16917.97103246, 11191.0085609 , 18661.92871979,  8941.64375968,\n",
       "        6459.58514941,  8599.73661765, 15583.0890308 ,  5266.49824348,\n",
       "        6028.85933063,  6337.27910555, 13438.57008124, 18905.28358155,\n",
       "       12631.65192707, 10725.7457157 ,  5540.8435688 ,  5434.29810851,\n",
       "        7364.80052177, 14795.22423549,  5801.83625876,  4738.762743  ,\n",
       "        7510.29397684, 16325.81462131,  9053.19184996,  5740.97023714,\n",
       "       10266.57755357,  9049.76215655, 15213.01363347,  3431.7422962 ,\n",
       "       14019.43887862,  5371.99537693,  3657.46052308,  1484.4145483 ,\n",
       "        1524.37649198,  5035.85938282,  8212.46294834,  2858.46057507,\n",
       "       13151.47197531,  8545.35105616,  1679.77136582,  8941.64375968,\n",
       "         749.09934622, 13523.62180075, 20499.68768264,  6108.88445869,\n",
       "        4595.07116027, 11783.9895005 ,  8448.85564665,  6435.34122191,\n",
       "       14853.43003761,  9250.03891084,  5928.8901229 ,  4586.1747139 ,\n",
       "       10982.79095092, 17789.58063828, 19674.21236086,  7892.47855277,\n",
       "        7364.80052177, 19739.15155279,  3907.68378733,  8171.00029253,\n",
       "       19027.37129317, 11659.73656061,  3127.53109689,  5493.65332347,\n",
       "        4333.53447749,  7096.43801589,  9254.53035726, 19586.58748126,\n",
       "       13097.70854437, 10947.25704307,  6720.60665707,  8747.09018861,\n",
       "       10398.10314046,  6775.85118465,  8188.15765963, 10942.37131189,\n",
       "        9219.55721618,  7741.49768141,  5107.36317025, 11919.91469075,\n",
       "        3005.41581881,  9300.95864747,  9821.43086053,  7048.74222386,\n",
       "        9243.40570168, 10694.52155861,  6932.36099248, 21919.34963506,\n",
       "       20930.9137563 ,  4797.89535502,  2917.97257406,  2514.98491048,\n",
       "        4456.63154836,  9278.83564597, 16460.25435466,  9221.60752075,\n",
       "        8789.77197386, 10020.82479662, 10445.24252945, 19016.02472255,\n",
       "        6574.7598152 , 10378.16623418,  2705.404801  ,  5609.64184962,\n",
       "       13865.87901254,  5762.80369384,  8866.48009554,  4849.46191477,\n",
       "        3025.92374142, 17432.76998936,  3261.9576534 , 11582.78416567,\n",
       "        4827.79617684, 18042.12808051, 10429.38299734,  6670.429537  ,\n",
       "        3882.9779188 , 23582.37371844,  6637.55615801, 14471.91024496,\n",
       "       13151.47197531,  3651.45930843, 15371.69729432,  2952.20330278,\n",
       "       -1702.32610778,  3942.9896097 , 20213.13228202,  8812.78720417,\n",
       "        3541.56234494,  5136.811432  , 14771.68382392,  7095.87108748,\n",
       "       19569.89234009,  3331.69711558, 17213.89130936,  1591.32914104,\n",
       "       22443.22479894,  2676.61614425,  4859.14883002, 17170.05783576,\n",
       "       20644.36692516,  2322.84351672, 11258.63706386, 22397.83416311,\n",
       "       13282.55851225,  8226.33564672,  5807.43015112,  4273.67838217,\n",
       "        3247.65858832, 10299.31503644,  6466.35450367, 12035.40915216,\n",
       "        4047.16443089,  5180.28190119, 17003.27187607,  7195.39308176,\n",
       "       17563.87256646, 25033.5421025 , 18472.62112716, 13924.78300039,\n",
       "        7581.35874461, 11908.79003517,  6441.35511825,  2786.83997295,\n",
       "        3893.72818157,  1483.14239791,  7281.24366812,  7497.1611119 ,\n",
       "        4240.32478843, 18712.24020155,  4703.10947248, 10449.84935534,\n",
       "        4625.9954692 , 18745.30491636, 12038.67098747,  4979.37994935,\n",
       "        8281.05181612, 16219.52172266, 11928.77402398,  1054.72520392,\n",
       "       11679.9722453 ,  6374.1290369 , 18891.48912622, 12451.01905617,\n",
       "        8431.1732194 ,  7339.38605293,  8635.44707388,  4384.45172698,\n",
       "       16887.08653858,  9243.40570168,   902.04977933,  6518.64847967,\n",
       "        4900.4270074 ,  5858.76409503,  7523.83692104, 11379.51249706,\n",
       "        3898.2897047 , 17255.39212797, 22403.18492057, 20349.29071944,\n",
       "       13791.5487864 , 12512.24346553,  6466.21835857, 10169.84970638,\n",
       "        2037.27046832,  7767.69194804, 18984.08645848,  9067.34802309,\n",
       "       11553.45942282,  2754.57926207,  6391.83341183, 11179.60145828,\n",
       "       11542.18398518,  5597.16310697,  6069.97298096, 16982.10080709,\n",
       "        2910.72127993, 15828.28635626,  9841.62039556, 12702.10614559,\n",
       "        9272.49198161, 11526.3602947 ,  3345.07582467, 19869.03250509,\n",
       "       10878.22011764,  1262.83245293,  3915.71243523,  4414.20039463,\n",
       "       11582.78416567,  7124.93556526,  8944.26553668, 12540.14540146,\n",
       "        9639.32604369, 10701.74420679,  4274.57921062, 16957.16619055,\n",
       "       12378.27322984, 17107.61818435, 12065.09973948, 20416.54225545,\n",
       "       11464.83660533, 21218.16934565, 14265.71070348,  7318.58911834,\n",
       "        3274.14416978,  8277.47387574, 23091.79180434,  7911.79457017,\n",
       "        7729.16080683,  1345.38929006,  8638.89100286,  8642.50359468,\n",
       "       14497.71856669,  9022.28139905,  6939.22953508, 16487.20668026,\n",
       "       11382.31667233, 10338.31534517,  7261.71011288,  9795.93939541,\n",
       "        1608.13361887,  2610.25481039,  2701.09509817, 21009.88354144,\n",
       "       17655.44039524, 17706.36013188,  8613.46539669,  5291.36571849,\n",
       "       18464.06060409,  6971.68579373, 13412.49348297,  7428.30654744,\n",
       "       17568.40925117, 14059.09781847, 10733.33485874, 15042.04405675,\n",
       "        4646.09480305,  8402.37648427, 15011.95047743, 13897.14397286,\n",
       "        8517.76939509, 15966.54512175,  7447.12879936,  7078.36491527,\n",
       "        3203.00920726,  8447.39038201,  2447.89858256, 14190.725919  ,\n",
       "       13302.35294631,  8339.75083786, 16502.00459451,  9356.27721794,\n",
       "        4502.49508452,  9299.99035175, 12279.56562124, 13151.47197531,\n",
       "       20134.17106636, 15848.36649989,  6676.17449447,  7129.62296165,\n",
       "        9314.88301882,  6380.19634019, 16599.67462739,  5533.58606515,\n",
       "       11516.75571368, 21959.3768718 , 10373.53464051,  4737.42063733,\n",
       "       20322.06244283,  2160.52719205, 11237.83459037,  5212.7394254 ,\n",
       "        5681.0111311 , 24825.05565858,  8880.49293589,  8355.00284077,\n",
       "       15127.44448305,  5756.20278005, 19409.65560513, 14564.31825564,\n",
       "       15274.25965895,  8281.0363066 , 10429.38299734, 10037.34946871,\n",
       "        4893.30781057,  3224.20915983,  9149.41379711, 12866.61869154,\n",
       "        4979.85882651, 12517.45437921, 15055.23074524,  2689.64077187,\n",
       "        7904.61073831, 12123.78909553, 11054.42588542,  4865.07818981,\n",
       "        5699.3659676 ,  8827.2862968 , 23255.18350493, 18743.34920153,\n",
       "       10944.27962089,  7875.33925628, 10708.65000253, 10213.46518203,\n",
       "        8804.89685962, 12981.79594196,  5531.25492437,  5284.97669813,\n",
       "       10611.59336995,  1092.19277445,  6737.49860592,  4290.75392204,\n",
       "       17281.24097209, 16484.49828216, 10664.84656319,  4414.20039463,\n",
       "        9147.00332631,  4685.58086083, 13417.51136503,  6322.26394698,\n",
       "       10268.18247019,  7532.93559668, 12798.78420853,  8226.28922402,\n",
       "        5698.11515615,  7181.63746422, 16893.4965264 ,  9999.40795727,\n",
       "       11089.17765711, 17842.35656752,  4855.55679605])"
      ]
     },
     "execution_count": 43,
     "metadata": {},
     "output_type": "execute_result"
    }
   ],
   "source": [
    "model.predict(X_test_scaled)"
   ]
  },
  {
   "cell_type": "code",
   "execution_count": 44,
   "id": "3fb7e168",
   "metadata": {},
   "outputs": [],
   "source": [
    "y_pred = model.predict(X_test_scaled)"
   ]
  },
  {
   "cell_type": "markdown",
   "id": "3cb765c3",
   "metadata": {},
   "source": [
    "##### erro quadrodo medio"
   ]
  },
  {
   "cell_type": "code",
   "execution_count": 45,
   "id": "66e239a9",
   "metadata": {},
   "outputs": [
    {
     "data": {
      "text/plain": [
       "23048733.978297196"
      ]
     },
     "execution_count": 45,
     "metadata": {},
     "output_type": "execute_result"
    }
   ],
   "source": [
    "mse = mean_squared_error(y_test, y_pred)\n",
    "mse"
   ]
  },
  {
   "cell_type": "markdown",
   "id": "c31c4124",
   "metadata": {},
   "source": [
    "##### erro medio absoluto"
   ]
  },
  {
   "cell_type": "code",
   "execution_count": 46,
   "id": "2048c0ab",
   "metadata": {},
   "outputs": [
    {
     "data": {
      "text/plain": [
       "3298.964464206939"
      ]
     },
     "execution_count": 46,
     "metadata": {},
     "output_type": "execute_result"
    }
   ],
   "source": [
    "mae = mean_absolute_error(y_test, y_pred)\n",
    "mae"
   ]
  },
  {
   "cell_type": "markdown",
   "id": "354489d9",
   "metadata": {},
   "source": [
    "##### erro quadrado"
   ]
  },
  {
   "cell_type": "code",
   "execution_count": 47,
   "id": "918d740b",
   "metadata": {},
   "outputs": [
    {
     "data": {
      "text/plain": [
       "0.5297347873934934"
      ]
     },
     "execution_count": 47,
     "metadata": {},
     "output_type": "execute_result"
    }
   ],
   "source": [
    "r2 = r2_score(y_test, y_pred)\n",
    "r2"
   ]
  },
  {
   "cell_type": "code",
   "execution_count": 48,
   "id": "4d92c6d5",
   "metadata": {},
   "outputs": [
    {
     "data": {
      "image/png": "[encoded data removed]",
      "text/plain": [
       "<Figure size 1000x600 with 1 Axes>"
      ]
     },
     "metadata": {},
     "output_type": "display_data"
    }
   ],
   "source": [
    "plt.figure(figsize=(10,6))\n",
    "plt.scatter(y_test, y_pred, alpha=0.5)\n",
    "plt.xlabel('Valor real')\n",
    "plt.ylabel('Valor predito')\n",
    "plt.title('Dispersão dos dados')\n",
    "plt.plot([min(y_test), max(y_test)], [min(y_test), max(y_test)], color='red', linewidth=2)\n",
    "plt.show()"
   ]
  },
  {
   "cell_type": "code",
   "execution_count": 49,
   "id": "ae550863",
   "metadata": {},
   "outputs": [
    {
     "data": {
      "text/plain": [
       "Index(['IDADE', 'NAO BRANCA', 'TEMPO EXPERIENCIA', 'INSATISFACAO',\n",
       "       'NIVEL DE ENSINO', 'NUMERO DE FUNCIONARIOS', 'GENERO_Masculino',\n",
       "       'GENERO_Prefiro não informar', 'SETOR_Educação',\n",
       "       'SETOR_Entretenimento ou Esportes', 'SETOR_Filantropia/ONG's',\n",
       "       'SETOR_Finanças ou Bancos', 'SETOR_Indústria',\n",
       "       'SETOR_Internet/Ecommerce', 'SETOR_Marketing', 'SETOR_Outra Opção',\n",
       "       'SETOR_Seguros ou Previdência', 'SETOR_Setor Alimentício',\n",
       "       'SETOR_Setor Automotivo', 'SETOR_Setor Farmaceutico',\n",
       "       'SETOR_Setor Imobiliário/ Construção Civil', 'SETOR_Setor Público',\n",
       "       'SETOR_Setor de Energia', 'SETOR_Tecnologia/Fábrica de Software',\n",
       "       'SETOR_Telecomunicação', 'SETOR_Varejo', 'SETOR_Área da Saúde',\n",
       "       'SETOR_Área de Consultoria', 'NOVO_NIVEL_Pessoa Gestora',\n",
       "       'NOVO_NIVEL_Pleno', 'NOVO_NIVEL_Sênior', 'REGIAO ONDE MORA_Nordeste',\n",
       "       'REGIAO ONDE MORA_Norte', 'REGIAO ONDE MORA_Sudeste',\n",
       "       'REGIAO ONDE MORA_Sul'],\n",
       "      dtype='object')"
      ]
     },
     "execution_count": 49,
     "metadata": {},
     "output_type": "execute_result"
    }
   ],
   "source": [
    "nome_atributos = X_train.columns\n",
    "nome_atributos"
   ]
  },
  {
   "cell_type": "code",
   "execution_count": 50,
   "id": "5cdfff6a",
   "metadata": {},
   "outputs": [],
   "source": [
    "coefs = pd.DataFrame(model.coef_, columns=['coeficientes'], index=nome_atributos)"
   ]
  },
  {
   "cell_type": "code",
   "execution_count": 52,
   "id": "15342767",
   "metadata": {},
   "outputs": [],
   "source": [
    "coefs = coefs.sort_values(by='coeficientes', ascending=False)"
   ]
  },
  {
   "cell_type": "code",
   "execution_count": 53,
   "id": "d7e4f41f",
   "metadata": {},
   "outputs": [
    {
     "data": {
      "text/plain": [
       "<matplotlib.lines.Line2D at 0x2113a29f920>"
      ]
     },
     "execution_count": 53,
     "metadata": {},
     "output_type": "execute_result"
    },
    {
     "data": {
      "image/png": "[encoded data removed]",
      "text/plain": [
       "<Figure size 800x600 with 1 Axes>"
      ]
     },
     "metadata": {},
     "output_type": "display_data"
    }
   ],
   "source": [
    "coefs.plot.barh(figsize=(8, 6))\n",
    "plt.axvline(x=0, color='red')"
   ]
  },
  {
   "cell_type": "code",
   "execution_count": null,
   "id": "105f65c8",
   "metadata": {},
   "outputs": [],
   "source": []
  }
 ],
 "metadata": {
  "kernelspec": {
   "display_name": "base",
   "language": "python",
   "name": "python3"
  },
  "language_info": {
   "codemirror_mode": {
    "name": "ipython",
    "version": 3
   },
   "file_extension": ".py",
   "mimetype": "text/x-python",
   "name": "python",
   "nbconvert_exporter": "python",
   "pygments_lexer": "ipython3",
   "version": "3.12.7"
  }
 },
 "nbformat": 4,
 "nbformat_minor": 5
}
